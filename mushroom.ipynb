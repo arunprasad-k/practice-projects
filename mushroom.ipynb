{
 "cells": [
  {
   "cell_type": "markdown",
   "metadata": {},
   "source": [
    "# Project to predict whether the mushroom is poisonous or edible\n"
   ]
  },
  {
   "cell_type": "markdown",
   "metadata": {},
   "source": [
    "# DATASET INFORMATION\n",
    "\n",
    "This data set includes descriptions of hypothetical samples corresponding to 23 species of gilled mushrooms in the Agaricus and Lepiota Family (pp. 500-525). Each species is identified as definitely edible, definitely poisonous, or of unknown edibility and not recommended. This latter class was combined with the poisonous one. The Guide clearly states that there is no simple rule for determining the edibility of a mushroom; no rule like ``leaflets three, let it be'' for Poisonous Oak and Ivy.\n",
    "\n"
   ]
  },
  {
   "cell_type": "code",
   "execution_count": 128,
   "metadata": {},
   "outputs": [],
   "source": [
    "#importing libraries\n",
    "import pandas as pd\n",
    "import numpy as np\n",
    "import matplotlib.pyplot as plt\n",
    "import seaborn as sns\n",
    "import warnings\n",
    "warnings.filterwarnings(\"ignore\")"
   ]
  },
  {
   "cell_type": "code",
   "execution_count": 129,
   "metadata": {},
   "outputs": [
    {
     "data": {
      "text/html": [
       "<div>\n",
       "<style scoped>\n",
       "    .dataframe tbody tr th:only-of-type {\n",
       "        vertical-align: middle;\n",
       "    }\n",
       "\n",
       "    .dataframe tbody tr th {\n",
       "        vertical-align: top;\n",
       "    }\n",
       "\n",
       "    .dataframe thead th {\n",
       "        text-align: right;\n",
       "    }\n",
       "</style>\n",
       "<table border=\"1\" class=\"dataframe\">\n",
       "  <thead>\n",
       "    <tr style=\"text-align: right;\">\n",
       "      <th></th>\n",
       "      <th>classes</th>\n",
       "      <th>cap shape</th>\n",
       "      <th>cap surface</th>\n",
       "      <th>cap color</th>\n",
       "      <th>bruises</th>\n",
       "      <th>odor</th>\n",
       "      <th>gill attachment</th>\n",
       "      <th>gill spacing</th>\n",
       "      <th>gill size</th>\n",
       "      <th>gill color</th>\n",
       "      <th>...</th>\n",
       "      <th>stalk surface below ring</th>\n",
       "      <th>stalk color above ring</th>\n",
       "      <th>stalk color below ring</th>\n",
       "      <th>veil type</th>\n",
       "      <th>veil color</th>\n",
       "      <th>ring number</th>\n",
       "      <th>ring type</th>\n",
       "      <th>spore print color</th>\n",
       "      <th>population</th>\n",
       "      <th>habitat</th>\n",
       "    </tr>\n",
       "  </thead>\n",
       "  <tbody>\n",
       "    <tr>\n",
       "      <th>0</th>\n",
       "      <td>p</td>\n",
       "      <td>x</td>\n",
       "      <td>s</td>\n",
       "      <td>n</td>\n",
       "      <td>t</td>\n",
       "      <td>p</td>\n",
       "      <td>f</td>\n",
       "      <td>c</td>\n",
       "      <td>n</td>\n",
       "      <td>k</td>\n",
       "      <td>...</td>\n",
       "      <td>s</td>\n",
       "      <td>w</td>\n",
       "      <td>w</td>\n",
       "      <td>p</td>\n",
       "      <td>w</td>\n",
       "      <td>o</td>\n",
       "      <td>p</td>\n",
       "      <td>k</td>\n",
       "      <td>s</td>\n",
       "      <td>u</td>\n",
       "    </tr>\n",
       "    <tr>\n",
       "      <th>1</th>\n",
       "      <td>e</td>\n",
       "      <td>x</td>\n",
       "      <td>s</td>\n",
       "      <td>y</td>\n",
       "      <td>t</td>\n",
       "      <td>a</td>\n",
       "      <td>f</td>\n",
       "      <td>c</td>\n",
       "      <td>b</td>\n",
       "      <td>k</td>\n",
       "      <td>...</td>\n",
       "      <td>s</td>\n",
       "      <td>w</td>\n",
       "      <td>w</td>\n",
       "      <td>p</td>\n",
       "      <td>w</td>\n",
       "      <td>o</td>\n",
       "      <td>p</td>\n",
       "      <td>n</td>\n",
       "      <td>n</td>\n",
       "      <td>g</td>\n",
       "    </tr>\n",
       "    <tr>\n",
       "      <th>2</th>\n",
       "      <td>e</td>\n",
       "      <td>b</td>\n",
       "      <td>s</td>\n",
       "      <td>w</td>\n",
       "      <td>t</td>\n",
       "      <td>l</td>\n",
       "      <td>f</td>\n",
       "      <td>c</td>\n",
       "      <td>b</td>\n",
       "      <td>n</td>\n",
       "      <td>...</td>\n",
       "      <td>s</td>\n",
       "      <td>w</td>\n",
       "      <td>w</td>\n",
       "      <td>p</td>\n",
       "      <td>w</td>\n",
       "      <td>o</td>\n",
       "      <td>p</td>\n",
       "      <td>n</td>\n",
       "      <td>n</td>\n",
       "      <td>m</td>\n",
       "    </tr>\n",
       "    <tr>\n",
       "      <th>3</th>\n",
       "      <td>p</td>\n",
       "      <td>x</td>\n",
       "      <td>y</td>\n",
       "      <td>w</td>\n",
       "      <td>t</td>\n",
       "      <td>p</td>\n",
       "      <td>f</td>\n",
       "      <td>c</td>\n",
       "      <td>n</td>\n",
       "      <td>n</td>\n",
       "      <td>...</td>\n",
       "      <td>s</td>\n",
       "      <td>w</td>\n",
       "      <td>w</td>\n",
       "      <td>p</td>\n",
       "      <td>w</td>\n",
       "      <td>o</td>\n",
       "      <td>p</td>\n",
       "      <td>k</td>\n",
       "      <td>s</td>\n",
       "      <td>u</td>\n",
       "    </tr>\n",
       "    <tr>\n",
       "      <th>4</th>\n",
       "      <td>e</td>\n",
       "      <td>x</td>\n",
       "      <td>s</td>\n",
       "      <td>g</td>\n",
       "      <td>f</td>\n",
       "      <td>n</td>\n",
       "      <td>f</td>\n",
       "      <td>w</td>\n",
       "      <td>b</td>\n",
       "      <td>k</td>\n",
       "      <td>...</td>\n",
       "      <td>s</td>\n",
       "      <td>w</td>\n",
       "      <td>w</td>\n",
       "      <td>p</td>\n",
       "      <td>w</td>\n",
       "      <td>o</td>\n",
       "      <td>e</td>\n",
       "      <td>n</td>\n",
       "      <td>a</td>\n",
       "      <td>g</td>\n",
       "    </tr>\n",
       "    <tr>\n",
       "      <th>...</th>\n",
       "      <td>...</td>\n",
       "      <td>...</td>\n",
       "      <td>...</td>\n",
       "      <td>...</td>\n",
       "      <td>...</td>\n",
       "      <td>...</td>\n",
       "      <td>...</td>\n",
       "      <td>...</td>\n",
       "      <td>...</td>\n",
       "      <td>...</td>\n",
       "      <td>...</td>\n",
       "      <td>...</td>\n",
       "      <td>...</td>\n",
       "      <td>...</td>\n",
       "      <td>...</td>\n",
       "      <td>...</td>\n",
       "      <td>...</td>\n",
       "      <td>...</td>\n",
       "      <td>...</td>\n",
       "      <td>...</td>\n",
       "      <td>...</td>\n",
       "    </tr>\n",
       "    <tr>\n",
       "      <th>8119</th>\n",
       "      <td>e</td>\n",
       "      <td>k</td>\n",
       "      <td>s</td>\n",
       "      <td>n</td>\n",
       "      <td>f</td>\n",
       "      <td>n</td>\n",
       "      <td>a</td>\n",
       "      <td>c</td>\n",
       "      <td>b</td>\n",
       "      <td>y</td>\n",
       "      <td>...</td>\n",
       "      <td>s</td>\n",
       "      <td>o</td>\n",
       "      <td>o</td>\n",
       "      <td>p</td>\n",
       "      <td>o</td>\n",
       "      <td>o</td>\n",
       "      <td>p</td>\n",
       "      <td>b</td>\n",
       "      <td>c</td>\n",
       "      <td>l</td>\n",
       "    </tr>\n",
       "    <tr>\n",
       "      <th>8120</th>\n",
       "      <td>e</td>\n",
       "      <td>x</td>\n",
       "      <td>s</td>\n",
       "      <td>n</td>\n",
       "      <td>f</td>\n",
       "      <td>n</td>\n",
       "      <td>a</td>\n",
       "      <td>c</td>\n",
       "      <td>b</td>\n",
       "      <td>y</td>\n",
       "      <td>...</td>\n",
       "      <td>s</td>\n",
       "      <td>o</td>\n",
       "      <td>o</td>\n",
       "      <td>p</td>\n",
       "      <td>n</td>\n",
       "      <td>o</td>\n",
       "      <td>p</td>\n",
       "      <td>b</td>\n",
       "      <td>v</td>\n",
       "      <td>l</td>\n",
       "    </tr>\n",
       "    <tr>\n",
       "      <th>8121</th>\n",
       "      <td>e</td>\n",
       "      <td>f</td>\n",
       "      <td>s</td>\n",
       "      <td>n</td>\n",
       "      <td>f</td>\n",
       "      <td>n</td>\n",
       "      <td>a</td>\n",
       "      <td>c</td>\n",
       "      <td>b</td>\n",
       "      <td>n</td>\n",
       "      <td>...</td>\n",
       "      <td>s</td>\n",
       "      <td>o</td>\n",
       "      <td>o</td>\n",
       "      <td>p</td>\n",
       "      <td>o</td>\n",
       "      <td>o</td>\n",
       "      <td>p</td>\n",
       "      <td>b</td>\n",
       "      <td>c</td>\n",
       "      <td>l</td>\n",
       "    </tr>\n",
       "    <tr>\n",
       "      <th>8122</th>\n",
       "      <td>p</td>\n",
       "      <td>k</td>\n",
       "      <td>y</td>\n",
       "      <td>n</td>\n",
       "      <td>f</td>\n",
       "      <td>y</td>\n",
       "      <td>f</td>\n",
       "      <td>c</td>\n",
       "      <td>n</td>\n",
       "      <td>b</td>\n",
       "      <td>...</td>\n",
       "      <td>k</td>\n",
       "      <td>w</td>\n",
       "      <td>w</td>\n",
       "      <td>p</td>\n",
       "      <td>w</td>\n",
       "      <td>o</td>\n",
       "      <td>e</td>\n",
       "      <td>w</td>\n",
       "      <td>v</td>\n",
       "      <td>l</td>\n",
       "    </tr>\n",
       "    <tr>\n",
       "      <th>8123</th>\n",
       "      <td>e</td>\n",
       "      <td>x</td>\n",
       "      <td>s</td>\n",
       "      <td>n</td>\n",
       "      <td>f</td>\n",
       "      <td>n</td>\n",
       "      <td>a</td>\n",
       "      <td>c</td>\n",
       "      <td>b</td>\n",
       "      <td>y</td>\n",
       "      <td>...</td>\n",
       "      <td>s</td>\n",
       "      <td>o</td>\n",
       "      <td>o</td>\n",
       "      <td>p</td>\n",
       "      <td>o</td>\n",
       "      <td>o</td>\n",
       "      <td>p</td>\n",
       "      <td>o</td>\n",
       "      <td>c</td>\n",
       "      <td>l</td>\n",
       "    </tr>\n",
       "  </tbody>\n",
       "</table>\n",
       "<p>8124 rows × 23 columns</p>\n",
       "</div>"
      ],
      "text/plain": [
       "     classes cap shape cap surface cap color bruises odor gill attachment  \\\n",
       "0          p         x           s         n       t    p               f   \n",
       "1          e         x           s         y       t    a               f   \n",
       "2          e         b           s         w       t    l               f   \n",
       "3          p         x           y         w       t    p               f   \n",
       "4          e         x           s         g       f    n               f   \n",
       "...      ...       ...         ...       ...     ...  ...             ...   \n",
       "8119       e         k           s         n       f    n               a   \n",
       "8120       e         x           s         n       f    n               a   \n",
       "8121       e         f           s         n       f    n               a   \n",
       "8122       p         k           y         n       f    y               f   \n",
       "8123       e         x           s         n       f    n               a   \n",
       "\n",
       "     gill spacing gill size gill color  ... stalk surface below ring  \\\n",
       "0               c         n          k  ...                        s   \n",
       "1               c         b          k  ...                        s   \n",
       "2               c         b          n  ...                        s   \n",
       "3               c         n          n  ...                        s   \n",
       "4               w         b          k  ...                        s   \n",
       "...           ...       ...        ...  ...                      ...   \n",
       "8119            c         b          y  ...                        s   \n",
       "8120            c         b          y  ...                        s   \n",
       "8121            c         b          n  ...                        s   \n",
       "8122            c         n          b  ...                        k   \n",
       "8123            c         b          y  ...                        s   \n",
       "\n",
       "     stalk color above ring stalk color below ring veil type veil color  \\\n",
       "0                         w                      w         p          w   \n",
       "1                         w                      w         p          w   \n",
       "2                         w                      w         p          w   \n",
       "3                         w                      w         p          w   \n",
       "4                         w                      w         p          w   \n",
       "...                     ...                    ...       ...        ...   \n",
       "8119                      o                      o         p          o   \n",
       "8120                      o                      o         p          n   \n",
       "8121                      o                      o         p          o   \n",
       "8122                      w                      w         p          w   \n",
       "8123                      o                      o         p          o   \n",
       "\n",
       "     ring number ring type spore print color population habitat  \n",
       "0              o         p                 k          s       u  \n",
       "1              o         p                 n          n       g  \n",
       "2              o         p                 n          n       m  \n",
       "3              o         p                 k          s       u  \n",
       "4              o         e                 n          a       g  \n",
       "...          ...       ...               ...        ...     ...  \n",
       "8119           o         p                 b          c       l  \n",
       "8120           o         p                 b          v       l  \n",
       "8121           o         p                 b          c       l  \n",
       "8122           o         e                 w          v       l  \n",
       "8123           o         p                 o          c       l  \n",
       "\n",
       "[8124 rows x 23 columns]"
      ]
     },
     "execution_count": 129,
     "metadata": {},
     "output_type": "execute_result"
    }
   ],
   "source": [
    "#Loading dataset\n",
    "df=pd.read_csv(\"agaricus_lepiota _data.csv\",sep=\",\",na_values=\"?\")\n",
    "df"
   ]
  },
  {
   "cell_type": "code",
   "execution_count": 130,
   "metadata": {},
   "outputs": [
    {
     "name": "stdout",
     "output_type": "stream",
     "text": [
      "<class 'pandas.core.frame.DataFrame'>\n",
      "RangeIndex: 8124 entries, 0 to 8123\n",
      "Data columns (total 23 columns):\n",
      " #   Column                    Non-Null Count  Dtype \n",
      "---  ------                    --------------  ----- \n",
      " 0   classes                   8124 non-null   object\n",
      " 1   cap shape                 8124 non-null   object\n",
      " 2   cap surface               8124 non-null   object\n",
      " 3   cap color                 8124 non-null   object\n",
      " 4   bruises                   8124 non-null   object\n",
      " 5   odor                      8124 non-null   object\n",
      " 6   gill attachment           8124 non-null   object\n",
      " 7   gill spacing              8124 non-null   object\n",
      " 8   gill size                 8124 non-null   object\n",
      " 9   gill color                8124 non-null   object\n",
      " 10  stalk shape               8124 non-null   object\n",
      " 11  stalk root                5644 non-null   object\n",
      " 12  stalk surface above ring  8124 non-null   object\n",
      " 13  stalk surface below ring  8124 non-null   object\n",
      " 14  stalk color above ring    8124 non-null   object\n",
      " 15  stalk color below ring    8124 non-null   object\n",
      " 16  veil type                 8124 non-null   object\n",
      " 17  veil color                8124 non-null   object\n",
      " 18  ring number               8124 non-null   object\n",
      " 19  ring type                 8124 non-null   object\n",
      " 20  spore print color         8124 non-null   object\n",
      " 21  population                8124 non-null   object\n",
      " 22  habitat                   8124 non-null   object\n",
      "dtypes: object(23)\n",
      "memory usage: 1.4+ MB\n"
     ]
    }
   ],
   "source": [
    "df.info()"
   ]
  },
  {
   "cell_type": "markdown",
   "metadata": {},
   "source": [
    "UNDERSTANDING THE DATASET\n",
    "\n",
    "Total 23 columns in dataset\n",
    "\n",
    "LIST OF ATTRIBUTES AND ITS INFORMATION\n",
    "\n",
    "\n",
    "1.classes:edible=e, poisonous=p\n",
    "2. cap-shape: bell=b,conical=c,convex=x,flat=f, knobbed=k,sunken=s\n",
    "3. cap-surface: fibrous=f,grooves=g,scaly=y,smooth=s\n",
    "4. cap-color: brown=n,buff=b,cinnamon=c,gray=g,green=r, pink=p,purple=u,red=e,white=w,yellow=y\n",
    "5. bruises?: bruises=t,no=f\n",
    "6. odor: almond=a,anise=l,creosote=c,fishy=y,foul=f, musty=m,none=n,pungent=p,spicy=s\n",
    "7. gill-attachment: attached=a,descending=d,free=f,notched=n\n",
    "8. gill-spacing: close=c,crowded=w,distant=d\n",
    "9. gill-size: broad=b,narrow=n\n",
    "10. gill-color: black=k,brown=n,buff=b,chocolate=h,gray=g, green=r,orange=o,pink=p,purple=u,red=e, white=w,yellow=y\n",
    "11. stalk-shape: enlarging=e,tapering=t\n",
    "12. stalk-root: bulbous=b,club=c,cup=u,equal=e, rhizomorphs=z,rooted=r,missing=?\n",
    "13. stalk-surface-above-ring: fibrous=f,scaly=y,silky=k,smooth=s\n",
    "14. stalk-surface-below-ring: fibrous=f,scaly=y,silky=k,smooth=s\n",
    "15. stalk-color-above-ring: brown=n,buff=b,cinnamon=c,gray=g,orange=o, pink=p,red=e,white=w,yellow=y\n",
    "16. stalk-color-below-ring: brown=n,buff=b,cinnamon=c,gray=g,orange=o, pink=p,red=e,white=w,yellow=y\n",
    "17. veil-type: partial=p,universal=u\n",
    "18. veil-color: brown=n,orange=o,white=w,yellow=y\n",
    "19. ring-number: none=n,one=o,two=t\n",
    "20. ring-type: cobwebby=c,evanescent=e,flaring=f,large=l, none=n,pendant=p,sheathing=s,zone=z\n",
    "21. spore-print-color: black=k,brown=n,buff=b,chocolate=h,green=r, orange=o,purple=u,white=w,yellow=y\n",
    "22. population: abundant=a,clustered=c,numerous=n, scattered=s,several=v,solitary=y\n",
    "23. habitat: grasses=g,leaves=l,meadows=m,paths=p, urban=u,waste=w,woods=d\n",
    "\n",
    "\n",
    "\n"
   ]
  },
  {
   "cell_type": "code",
   "execution_count": 131,
   "metadata": {},
   "outputs": [
    {
     "data": {
      "text/plain": [
       "Index(['classes', 'cap shape', 'cap surface', 'cap color', 'bruises', 'odor',\n",
       "       'gill attachment', 'gill spacing', 'gill size', 'gill color',\n",
       "       'stalk shape', 'stalk root', 'stalk surface above ring',\n",
       "       'stalk surface below ring', 'stalk color above ring',\n",
       "       'stalk color below ring', 'veil type', 'veil color', 'ring number',\n",
       "       'ring type', 'spore print color', 'population', 'habitat'],\n",
       "      dtype='object')"
      ]
     },
     "execution_count": 131,
     "metadata": {},
     "output_type": "execute_result"
    }
   ],
   "source": [
    "#column names\n",
    "df.columns"
   ]
  },
  {
   "cell_type": "code",
   "execution_count": 132,
   "metadata": {},
   "outputs": [
    {
     "data": {
      "text/plain": [
       "classes                     object\n",
       "cap shape                   object\n",
       "cap surface                 object\n",
       "cap color                   object\n",
       "bruises                     object\n",
       "odor                        object\n",
       "gill attachment             object\n",
       "gill spacing                object\n",
       "gill size                   object\n",
       "gill color                  object\n",
       "stalk shape                 object\n",
       "stalk root                  object\n",
       "stalk surface above ring    object\n",
       "stalk surface below ring    object\n",
       "stalk color above ring      object\n",
       "stalk color below ring      object\n",
       "veil type                   object\n",
       "veil color                  object\n",
       "ring number                 object\n",
       "ring type                   object\n",
       "spore print color           object\n",
       "population                  object\n",
       "habitat                     object\n",
       "dtype: object"
      ]
     },
     "execution_count": 132,
     "metadata": {},
     "output_type": "execute_result"
    }
   ],
   "source": [
    "#data types\n",
    "df.dtypes"
   ]
  },
  {
   "cell_type": "markdown",
   "metadata": {},
   "source": [
    "we observe that all the attributes is of type=object. so we change the dtype=object to dtype=int "
   ]
  },
  {
   "cell_type": "code",
   "execution_count": 133,
   "metadata": {},
   "outputs": [
    {
     "data": {
      "text/plain": [
       "Index(['classes', 'cap shape', 'cap surface', 'cap color', 'bruises', 'odor',\n",
       "       'gill attachment', 'gill spacing', 'gill size', 'gill color',\n",
       "       'stalk shape', 'stalk root', 'stalk surface above ring',\n",
       "       'stalk surface below ring', 'stalk color above ring',\n",
       "       'stalk color below ring', 'veil type', 'veil color', 'ring number',\n",
       "       'ring type', 'spore print color', 'population', 'habitat'],\n",
       "      dtype='object')"
      ]
     },
     "execution_count": 133,
     "metadata": {},
     "output_type": "execute_result"
    }
   ],
   "source": [
    "df.columns"
   ]
  },
  {
   "cell_type": "code",
   "execution_count": 134,
   "metadata": {},
   "outputs": [
    {
     "data": {
      "text/plain": [
       "8124"
      ]
     },
     "execution_count": 134,
     "metadata": {},
     "output_type": "execute_result"
    }
   ],
   "source": [
    "df[\"veil type\"].value_counts().sum()"
   ]
  },
  {
   "cell_type": "code",
   "execution_count": null,
   "metadata": {},
   "outputs": [],
   "source": []
  },
  {
   "cell_type": "markdown",
   "metadata": {},
   "source": [
    "# convert attribute of dtype object to integer"
   ]
  },
  {
   "cell_type": "code",
   "execution_count": 135,
   "metadata": {},
   "outputs": [
    {
     "data": {
      "text/plain": [
       "array(['p', 'e'], dtype=object)"
      ]
     },
     "execution_count": 135,
     "metadata": {},
     "output_type": "execute_result"
    }
   ],
   "source": [
    "df[\"classes\"].unique()"
   ]
  },
  {
   "cell_type": "code",
   "execution_count": 136,
   "metadata": {},
   "outputs": [],
   "source": [
    "\n",
    "df[\"classes\"]=df[\"classes\"].map({'p': 0, 'e': 1}).astype(int)\n"
   ]
  },
  {
   "cell_type": "code",
   "execution_count": 137,
   "metadata": {},
   "outputs": [
    {
     "data": {
      "text/plain": [
       "array(['x', 'b', 's', 'f', 'k', 'c'], dtype=object)"
      ]
     },
     "execution_count": 137,
     "metadata": {},
     "output_type": "execute_result"
    }
   ],
   "source": [
    "df[\"cap shape\"].unique()"
   ]
  },
  {
   "cell_type": "code",
   "execution_count": 138,
   "metadata": {},
   "outputs": [],
   "source": [
    "df[\"cap shape\"]=df[\"cap shape\"].map({\"x\":0,\"b\":1,\"s\":2,\"f\":3,\"k\":4,\"c\":5})\n"
   ]
  },
  {
   "cell_type": "code",
   "execution_count": 139,
   "metadata": {},
   "outputs": [
    {
     "data": {
      "text/plain": [
       "array(['s', 'y', 'f', 'g'], dtype=object)"
      ]
     },
     "execution_count": 139,
     "metadata": {},
     "output_type": "execute_result"
    }
   ],
   "source": [
    "df[\"cap surface\"].unique()"
   ]
  },
  {
   "cell_type": "code",
   "execution_count": 140,
   "metadata": {},
   "outputs": [],
   "source": [
    "df[\"cap surface\"]=df[\"cap surface\"].map({\"s\":1,\"f\":2,\"y\":3,\"g\":0})\n"
   ]
  },
  {
   "cell_type": "code",
   "execution_count": 141,
   "metadata": {},
   "outputs": [
    {
     "data": {
      "text/plain": [
       "array(['n', 'y', 'w', 'g', 'e', 'p', 'b', 'u', 'c', 'r'], dtype=object)"
      ]
     },
     "execution_count": 141,
     "metadata": {},
     "output_type": "execute_result"
    }
   ],
   "source": [
    "df[\"cap color\"].unique()"
   ]
  },
  {
   "cell_type": "code",
   "execution_count": 142,
   "metadata": {},
   "outputs": [],
   "source": [
    "df[\"cap color\"]=df[\"cap color\"].map({\"n\":1,\"y\":2,\"w\":3,\"g\":4,\"e\":5,\"p\":6,\"b\":7,\"u\":8,\"c\":9,\"r\":0})\n"
   ]
  },
  {
   "cell_type": "code",
   "execution_count": 143,
   "metadata": {},
   "outputs": [
    {
     "data": {
      "text/plain": [
       "array(['t', 'f'], dtype=object)"
      ]
     },
     "execution_count": 143,
     "metadata": {},
     "output_type": "execute_result"
    }
   ],
   "source": [
    "df[\"bruises\"].unique()"
   ]
  },
  {
   "cell_type": "code",
   "execution_count": 144,
   "metadata": {},
   "outputs": [],
   "source": [
    "df[\"bruises\"]=df[\"bruises\"].map({\"t\":1,\"f\":0})\n"
   ]
  },
  {
   "cell_type": "code",
   "execution_count": 145,
   "metadata": {},
   "outputs": [
    {
     "data": {
      "text/plain": [
       "array(['p', 'a', 'l', 'n', 'f', 'c', 'y', 's', 'm'], dtype=object)"
      ]
     },
     "execution_count": 145,
     "metadata": {},
     "output_type": "execute_result"
    }
   ],
   "source": [
    "df[\"odor\"].unique()"
   ]
  },
  {
   "cell_type": "code",
   "execution_count": 146,
   "metadata": {},
   "outputs": [],
   "source": [
    "df[\"odor\"]=df[\"odor\"].map({\"p\":1,\"a\":2,\"l\":3,\"n\":4,\"f\":5,\"c\":6,\"y\":7,\"s\":8,\"m\":0})\n"
   ]
  },
  {
   "cell_type": "code",
   "execution_count": 147,
   "metadata": {},
   "outputs": [
    {
     "data": {
      "text/plain": [
       "array(['f', 'a'], dtype=object)"
      ]
     },
     "execution_count": 147,
     "metadata": {},
     "output_type": "execute_result"
    }
   ],
   "source": [
    "df[\"gill attachment\"].unique()"
   ]
  },
  {
   "cell_type": "code",
   "execution_count": 148,
   "metadata": {},
   "outputs": [],
   "source": [
    "df[\"gill attachment\"]=df[\"gill attachment\"].map({\"f\":1,\"a\":0})\n"
   ]
  },
  {
   "cell_type": "code",
   "execution_count": 149,
   "metadata": {},
   "outputs": [
    {
     "data": {
      "text/plain": [
       "array(['c', 'w'], dtype=object)"
      ]
     },
     "execution_count": 149,
     "metadata": {},
     "output_type": "execute_result"
    }
   ],
   "source": [
    "df[\"gill spacing\"].unique()"
   ]
  },
  {
   "cell_type": "code",
   "execution_count": 150,
   "metadata": {},
   "outputs": [],
   "source": [
    "df[\"gill spacing\"]=df[\"gill spacing\"].map({\"c\":1,\"w\":0})"
   ]
  },
  {
   "cell_type": "code",
   "execution_count": 151,
   "metadata": {},
   "outputs": [
    {
     "data": {
      "text/plain": [
       "array(['n', 'b'], dtype=object)"
      ]
     },
     "execution_count": 151,
     "metadata": {},
     "output_type": "execute_result"
    }
   ],
   "source": [
    "df[\"gill size\"].unique()"
   ]
  },
  {
   "cell_type": "code",
   "execution_count": 152,
   "metadata": {},
   "outputs": [],
   "source": [
    "df[\"gill size\"]=df[\"gill size\"].map({\"n\":1,\"b\":0})\n"
   ]
  },
  {
   "cell_type": "code",
   "execution_count": 153,
   "metadata": {},
   "outputs": [
    {
     "data": {
      "text/plain": [
       "array(['k', 'n', 'g', 'p', 'w', 'h', 'u', 'e', 'b', 'r', 'y', 'o'],\n",
       "      dtype=object)"
      ]
     },
     "execution_count": 153,
     "metadata": {},
     "output_type": "execute_result"
    }
   ],
   "source": [
    "df[\"gill color\"].unique()"
   ]
  },
  {
   "cell_type": "code",
   "execution_count": 154,
   "metadata": {},
   "outputs": [],
   "source": [
    "df[\"gill color\"]=df[\"gill color\"].map({\"k\":1,\"n\":2,\"g\":3,\"p\":4,\"w\":5,\"h\":6,\"u\":7,\"e\":8,\"b\":9,\"r\":10,\"y\":11,\"o\":0})"
   ]
  },
  {
   "cell_type": "code",
   "execution_count": 155,
   "metadata": {},
   "outputs": [
    {
     "data": {
      "text/plain": [
       "array(['e', 't'], dtype=object)"
      ]
     },
     "execution_count": 155,
     "metadata": {},
     "output_type": "execute_result"
    }
   ],
   "source": [
    "df[\"stalk shape\"].unique()"
   ]
  },
  {
   "cell_type": "code",
   "execution_count": 156,
   "metadata": {},
   "outputs": [],
   "source": [
    "df[\"stalk shape\"]=df[\"stalk shape\"].map({\"e\":1,\"t\":0})"
   ]
  },
  {
   "cell_type": "code",
   "execution_count": 157,
   "metadata": {},
   "outputs": [
    {
     "data": {
      "text/plain": [
       "array(['e', 'c', 'b', 'r', nan], dtype=object)"
      ]
     },
     "execution_count": 157,
     "metadata": {},
     "output_type": "execute_result"
    }
   ],
   "source": [
    "df[\"stalk root\"].unique()"
   ]
  },
  {
   "cell_type": "code",
   "execution_count": 158,
   "metadata": {},
   "outputs": [],
   "source": [
    "df[\"stalk root\"]=df[\"stalk root\"].map({\"e\":1,\"c\":2,\"b\":3,\"r\":0})"
   ]
  },
  {
   "cell_type": "code",
   "execution_count": 159,
   "metadata": {},
   "outputs": [
    {
     "data": {
      "text/plain": [
       "array(['s', 'f', 'k', 'y'], dtype=object)"
      ]
     },
     "execution_count": 159,
     "metadata": {},
     "output_type": "execute_result"
    }
   ],
   "source": [
    "df[\"stalk surface above ring\"].unique()"
   ]
  },
  {
   "cell_type": "code",
   "execution_count": 160,
   "metadata": {},
   "outputs": [],
   "source": [
    "df[\"stalk surface above ring\"]=df[\"stalk surface above ring\"].map({\"s\":1,\"f\":2,\"k\":3,\"y\":0})"
   ]
  },
  {
   "cell_type": "code",
   "execution_count": 161,
   "metadata": {},
   "outputs": [
    {
     "data": {
      "text/plain": [
       "array(['s', 'f', 'y', 'k'], dtype=object)"
      ]
     },
     "execution_count": 161,
     "metadata": {},
     "output_type": "execute_result"
    }
   ],
   "source": [
    "df[\"stalk surface below ring\"].unique()"
   ]
  },
  {
   "cell_type": "code",
   "execution_count": 162,
   "metadata": {},
   "outputs": [],
   "source": [
    "df[\"stalk surface below ring\"]=df[\"stalk surface below ring\"].map({\"s\":1,\"f\":2,\"y\":3,\"k\":0})\n"
   ]
  },
  {
   "cell_type": "code",
   "execution_count": 163,
   "metadata": {},
   "outputs": [
    {
     "data": {
      "text/plain": [
       "array(['w', 'g', 'p', 'n', 'b', 'e', 'o', 'c', 'y'], dtype=object)"
      ]
     },
     "execution_count": 163,
     "metadata": {},
     "output_type": "execute_result"
    }
   ],
   "source": [
    "df[\"stalk color above ring\"].unique()"
   ]
  },
  {
   "cell_type": "code",
   "execution_count": 164,
   "metadata": {},
   "outputs": [],
   "source": [
    "df[\"stalk color above ring\"]=df[\"stalk color above ring\"].map({\"w\":1,\"g\":2,\"p\":3,\"n\":4,\"b\":5,\"e\":6,\"o\":7,\"c\":8,\"y\":0})"
   ]
  },
  {
   "cell_type": "code",
   "execution_count": 165,
   "metadata": {},
   "outputs": [
    {
     "data": {
      "text/plain": [
       "array(['w', 'p', 'g', 'b', 'n', 'e', 'y', 'o', 'c'], dtype=object)"
      ]
     },
     "execution_count": 165,
     "metadata": {},
     "output_type": "execute_result"
    }
   ],
   "source": [
    "df[\"stalk color below ring\"].unique()"
   ]
  },
  {
   "cell_type": "code",
   "execution_count": 166,
   "metadata": {},
   "outputs": [],
   "source": [
    "df[\"stalk color below ring\"]=df[\"stalk color below ring\"].map({\"w\":1,\"g\":2,\"p\":3,\"n\":4,\"b\":5,\"e\":6,\"o\":7,\"c\":8,\"y\":0})"
   ]
  },
  {
   "cell_type": "code",
   "execution_count": 167,
   "metadata": {},
   "outputs": [
    {
     "data": {
      "text/plain": [
       "array(['p'], dtype=object)"
      ]
     },
     "execution_count": 167,
     "metadata": {},
     "output_type": "execute_result"
    }
   ],
   "source": [
    "df[\"veil type\"].unique()"
   ]
  },
  {
   "cell_type": "code",
   "execution_count": 168,
   "metadata": {},
   "outputs": [],
   "source": [
    "df[\"veil type\"]=df[\"veil type\"].map({\"p\":0})"
   ]
  },
  {
   "cell_type": "code",
   "execution_count": 169,
   "metadata": {},
   "outputs": [
    {
     "data": {
      "text/plain": [
       "array(['w', 'n', 'o', 'y'], dtype=object)"
      ]
     },
     "execution_count": 169,
     "metadata": {},
     "output_type": "execute_result"
    }
   ],
   "source": [
    "df[\"veil color\"].unique()"
   ]
  },
  {
   "cell_type": "code",
   "execution_count": 170,
   "metadata": {},
   "outputs": [],
   "source": [
    "df[\"veil color\"]=df[\"veil color\"].map({\"w\":1,\"n\":2,\"o\":3,\"y\":0})"
   ]
  },
  {
   "cell_type": "code",
   "execution_count": 171,
   "metadata": {},
   "outputs": [
    {
     "data": {
      "text/plain": [
       "array(['o', 't', 'n'], dtype=object)"
      ]
     },
     "execution_count": 171,
     "metadata": {},
     "output_type": "execute_result"
    }
   ],
   "source": [
    "df[\"ring number\"].unique()"
   ]
  },
  {
   "cell_type": "code",
   "execution_count": 172,
   "metadata": {},
   "outputs": [],
   "source": [
    "df[\"ring number\"]=df[\"ring number\"].map({\"o\":1,\"t\":2,\"n\":0})"
   ]
  },
  {
   "cell_type": "code",
   "execution_count": 173,
   "metadata": {},
   "outputs": [
    {
     "data": {
      "text/plain": [
       "array(['p', 'e', 'l', 'f', 'n'], dtype=object)"
      ]
     },
     "execution_count": 173,
     "metadata": {},
     "output_type": "execute_result"
    }
   ],
   "source": [
    "df[\"ring type\"].unique()"
   ]
  },
  {
   "cell_type": "code",
   "execution_count": 174,
   "metadata": {},
   "outputs": [],
   "source": [
    "df[\"ring type\"]=df[\"ring type\"].map({\"p\":1,\"e\":2,\"l\":3,\"f\":4,\"n\":0})"
   ]
  },
  {
   "cell_type": "code",
   "execution_count": 175,
   "metadata": {},
   "outputs": [
    {
     "data": {
      "text/plain": [
       "array(['s', 'n', 'a', 'v', 'y', 'c'], dtype=object)"
      ]
     },
     "execution_count": 175,
     "metadata": {},
     "output_type": "execute_result"
    }
   ],
   "source": [
    "df[\"population\"].unique()"
   ]
  },
  {
   "cell_type": "code",
   "execution_count": 176,
   "metadata": {},
   "outputs": [],
   "source": [
    "df[\"population\"]=df[\"population\"].map({\"s\":1,\"n\":2,\"a\":3,\"v\":4,\"y\":5,\"c\":0})"
   ]
  },
  {
   "cell_type": "code",
   "execution_count": 177,
   "metadata": {},
   "outputs": [
    {
     "data": {
      "text/plain": [
       "array(['k', 'n', 'u', 'h', 'w', 'r', 'o', 'y', 'b'], dtype=object)"
      ]
     },
     "execution_count": 177,
     "metadata": {},
     "output_type": "execute_result"
    }
   ],
   "source": [
    "df[\"spore print color\"].unique()"
   ]
  },
  {
   "cell_type": "code",
   "execution_count": 178,
   "metadata": {},
   "outputs": [],
   "source": [
    "df[\"spore print color\"]=df[\"spore print color\"].map({\"k\":1,\"n\":2,\"u\":3,\"h\":4,\"w\":5,\"r\":6,\"o\":7,\"y\":8,\"b\":0})"
   ]
  },
  {
   "cell_type": "code",
   "execution_count": 179,
   "metadata": {},
   "outputs": [
    {
     "data": {
      "text/plain": [
       "array(['u', 'g', 'm', 'd', 'p', 'w', 'l'], dtype=object)"
      ]
     },
     "execution_count": 179,
     "metadata": {},
     "output_type": "execute_result"
    }
   ],
   "source": [
    "df[\"habitat\"].unique()"
   ]
  },
  {
   "cell_type": "code",
   "execution_count": 180,
   "metadata": {},
   "outputs": [],
   "source": [
    "df[\"habitat\"]=df[\"habitat\"].map({\"u\":1,\"g\":2,\"m\":3,\"d\":4,\"p\":5,\"w\":6,\"l\":0})"
   ]
  },
  {
   "cell_type": "code",
   "execution_count": 181,
   "metadata": {},
   "outputs": [
    {
     "data": {
      "text/html": [
       "<div>\n",
       "<style scoped>\n",
       "    .dataframe tbody tr th:only-of-type {\n",
       "        vertical-align: middle;\n",
       "    }\n",
       "\n",
       "    .dataframe tbody tr th {\n",
       "        vertical-align: top;\n",
       "    }\n",
       "\n",
       "    .dataframe thead th {\n",
       "        text-align: right;\n",
       "    }\n",
       "</style>\n",
       "<table border=\"1\" class=\"dataframe\">\n",
       "  <thead>\n",
       "    <tr style=\"text-align: right;\">\n",
       "      <th></th>\n",
       "      <th>classes</th>\n",
       "      <th>cap shape</th>\n",
       "      <th>cap surface</th>\n",
       "      <th>cap color</th>\n",
       "      <th>bruises</th>\n",
       "      <th>odor</th>\n",
       "      <th>gill attachment</th>\n",
       "      <th>gill spacing</th>\n",
       "      <th>gill size</th>\n",
       "      <th>gill color</th>\n",
       "      <th>...</th>\n",
       "      <th>stalk surface below ring</th>\n",
       "      <th>stalk color above ring</th>\n",
       "      <th>stalk color below ring</th>\n",
       "      <th>veil type</th>\n",
       "      <th>veil color</th>\n",
       "      <th>ring number</th>\n",
       "      <th>ring type</th>\n",
       "      <th>spore print color</th>\n",
       "      <th>population</th>\n",
       "      <th>habitat</th>\n",
       "    </tr>\n",
       "  </thead>\n",
       "  <tbody>\n",
       "    <tr>\n",
       "      <th>0</th>\n",
       "      <td>0</td>\n",
       "      <td>0</td>\n",
       "      <td>1</td>\n",
       "      <td>1</td>\n",
       "      <td>1</td>\n",
       "      <td>1</td>\n",
       "      <td>1</td>\n",
       "      <td>1</td>\n",
       "      <td>1</td>\n",
       "      <td>1</td>\n",
       "      <td>...</td>\n",
       "      <td>1</td>\n",
       "      <td>1</td>\n",
       "      <td>1</td>\n",
       "      <td>0</td>\n",
       "      <td>1</td>\n",
       "      <td>1</td>\n",
       "      <td>1</td>\n",
       "      <td>1</td>\n",
       "      <td>1</td>\n",
       "      <td>1</td>\n",
       "    </tr>\n",
       "    <tr>\n",
       "      <th>1</th>\n",
       "      <td>1</td>\n",
       "      <td>0</td>\n",
       "      <td>1</td>\n",
       "      <td>2</td>\n",
       "      <td>1</td>\n",
       "      <td>2</td>\n",
       "      <td>1</td>\n",
       "      <td>1</td>\n",
       "      <td>0</td>\n",
       "      <td>1</td>\n",
       "      <td>...</td>\n",
       "      <td>1</td>\n",
       "      <td>1</td>\n",
       "      <td>1</td>\n",
       "      <td>0</td>\n",
       "      <td>1</td>\n",
       "      <td>1</td>\n",
       "      <td>1</td>\n",
       "      <td>2</td>\n",
       "      <td>2</td>\n",
       "      <td>2</td>\n",
       "    </tr>\n",
       "    <tr>\n",
       "      <th>2</th>\n",
       "      <td>1</td>\n",
       "      <td>1</td>\n",
       "      <td>1</td>\n",
       "      <td>3</td>\n",
       "      <td>1</td>\n",
       "      <td>3</td>\n",
       "      <td>1</td>\n",
       "      <td>1</td>\n",
       "      <td>0</td>\n",
       "      <td>2</td>\n",
       "      <td>...</td>\n",
       "      <td>1</td>\n",
       "      <td>1</td>\n",
       "      <td>1</td>\n",
       "      <td>0</td>\n",
       "      <td>1</td>\n",
       "      <td>1</td>\n",
       "      <td>1</td>\n",
       "      <td>2</td>\n",
       "      <td>2</td>\n",
       "      <td>3</td>\n",
       "    </tr>\n",
       "    <tr>\n",
       "      <th>3</th>\n",
       "      <td>0</td>\n",
       "      <td>0</td>\n",
       "      <td>3</td>\n",
       "      <td>3</td>\n",
       "      <td>1</td>\n",
       "      <td>1</td>\n",
       "      <td>1</td>\n",
       "      <td>1</td>\n",
       "      <td>1</td>\n",
       "      <td>2</td>\n",
       "      <td>...</td>\n",
       "      <td>1</td>\n",
       "      <td>1</td>\n",
       "      <td>1</td>\n",
       "      <td>0</td>\n",
       "      <td>1</td>\n",
       "      <td>1</td>\n",
       "      <td>1</td>\n",
       "      <td>1</td>\n",
       "      <td>1</td>\n",
       "      <td>1</td>\n",
       "    </tr>\n",
       "    <tr>\n",
       "      <th>4</th>\n",
       "      <td>1</td>\n",
       "      <td>0</td>\n",
       "      <td>1</td>\n",
       "      <td>4</td>\n",
       "      <td>0</td>\n",
       "      <td>4</td>\n",
       "      <td>1</td>\n",
       "      <td>0</td>\n",
       "      <td>0</td>\n",
       "      <td>1</td>\n",
       "      <td>...</td>\n",
       "      <td>1</td>\n",
       "      <td>1</td>\n",
       "      <td>1</td>\n",
       "      <td>0</td>\n",
       "      <td>1</td>\n",
       "      <td>1</td>\n",
       "      <td>2</td>\n",
       "      <td>2</td>\n",
       "      <td>3</td>\n",
       "      <td>2</td>\n",
       "    </tr>\n",
       "    <tr>\n",
       "      <th>...</th>\n",
       "      <td>...</td>\n",
       "      <td>...</td>\n",
       "      <td>...</td>\n",
       "      <td>...</td>\n",
       "      <td>...</td>\n",
       "      <td>...</td>\n",
       "      <td>...</td>\n",
       "      <td>...</td>\n",
       "      <td>...</td>\n",
       "      <td>...</td>\n",
       "      <td>...</td>\n",
       "      <td>...</td>\n",
       "      <td>...</td>\n",
       "      <td>...</td>\n",
       "      <td>...</td>\n",
       "      <td>...</td>\n",
       "      <td>...</td>\n",
       "      <td>...</td>\n",
       "      <td>...</td>\n",
       "      <td>...</td>\n",
       "      <td>...</td>\n",
       "    </tr>\n",
       "    <tr>\n",
       "      <th>8119</th>\n",
       "      <td>1</td>\n",
       "      <td>4</td>\n",
       "      <td>1</td>\n",
       "      <td>1</td>\n",
       "      <td>0</td>\n",
       "      <td>4</td>\n",
       "      <td>0</td>\n",
       "      <td>1</td>\n",
       "      <td>0</td>\n",
       "      <td>11</td>\n",
       "      <td>...</td>\n",
       "      <td>1</td>\n",
       "      <td>7</td>\n",
       "      <td>7</td>\n",
       "      <td>0</td>\n",
       "      <td>3</td>\n",
       "      <td>1</td>\n",
       "      <td>1</td>\n",
       "      <td>0</td>\n",
       "      <td>0</td>\n",
       "      <td>0</td>\n",
       "    </tr>\n",
       "    <tr>\n",
       "      <th>8120</th>\n",
       "      <td>1</td>\n",
       "      <td>0</td>\n",
       "      <td>1</td>\n",
       "      <td>1</td>\n",
       "      <td>0</td>\n",
       "      <td>4</td>\n",
       "      <td>0</td>\n",
       "      <td>1</td>\n",
       "      <td>0</td>\n",
       "      <td>11</td>\n",
       "      <td>...</td>\n",
       "      <td>1</td>\n",
       "      <td>7</td>\n",
       "      <td>7</td>\n",
       "      <td>0</td>\n",
       "      <td>2</td>\n",
       "      <td>1</td>\n",
       "      <td>1</td>\n",
       "      <td>0</td>\n",
       "      <td>4</td>\n",
       "      <td>0</td>\n",
       "    </tr>\n",
       "    <tr>\n",
       "      <th>8121</th>\n",
       "      <td>1</td>\n",
       "      <td>3</td>\n",
       "      <td>1</td>\n",
       "      <td>1</td>\n",
       "      <td>0</td>\n",
       "      <td>4</td>\n",
       "      <td>0</td>\n",
       "      <td>1</td>\n",
       "      <td>0</td>\n",
       "      <td>2</td>\n",
       "      <td>...</td>\n",
       "      <td>1</td>\n",
       "      <td>7</td>\n",
       "      <td>7</td>\n",
       "      <td>0</td>\n",
       "      <td>3</td>\n",
       "      <td>1</td>\n",
       "      <td>1</td>\n",
       "      <td>0</td>\n",
       "      <td>0</td>\n",
       "      <td>0</td>\n",
       "    </tr>\n",
       "    <tr>\n",
       "      <th>8122</th>\n",
       "      <td>0</td>\n",
       "      <td>4</td>\n",
       "      <td>3</td>\n",
       "      <td>1</td>\n",
       "      <td>0</td>\n",
       "      <td>7</td>\n",
       "      <td>1</td>\n",
       "      <td>1</td>\n",
       "      <td>1</td>\n",
       "      <td>9</td>\n",
       "      <td>...</td>\n",
       "      <td>0</td>\n",
       "      <td>1</td>\n",
       "      <td>1</td>\n",
       "      <td>0</td>\n",
       "      <td>1</td>\n",
       "      <td>1</td>\n",
       "      <td>2</td>\n",
       "      <td>5</td>\n",
       "      <td>4</td>\n",
       "      <td>0</td>\n",
       "    </tr>\n",
       "    <tr>\n",
       "      <th>8123</th>\n",
       "      <td>1</td>\n",
       "      <td>0</td>\n",
       "      <td>1</td>\n",
       "      <td>1</td>\n",
       "      <td>0</td>\n",
       "      <td>4</td>\n",
       "      <td>0</td>\n",
       "      <td>1</td>\n",
       "      <td>0</td>\n",
       "      <td>11</td>\n",
       "      <td>...</td>\n",
       "      <td>1</td>\n",
       "      <td>7</td>\n",
       "      <td>7</td>\n",
       "      <td>0</td>\n",
       "      <td>3</td>\n",
       "      <td>1</td>\n",
       "      <td>1</td>\n",
       "      <td>7</td>\n",
       "      <td>0</td>\n",
       "      <td>0</td>\n",
       "    </tr>\n",
       "  </tbody>\n",
       "</table>\n",
       "<p>8124 rows × 23 columns</p>\n",
       "</div>"
      ],
      "text/plain": [
       "      classes  cap shape  cap surface  cap color  bruises  odor  \\\n",
       "0           0          0            1          1        1     1   \n",
       "1           1          0            1          2        1     2   \n",
       "2           1          1            1          3        1     3   \n",
       "3           0          0            3          3        1     1   \n",
       "4           1          0            1          4        0     4   \n",
       "...       ...        ...          ...        ...      ...   ...   \n",
       "8119        1          4            1          1        0     4   \n",
       "8120        1          0            1          1        0     4   \n",
       "8121        1          3            1          1        0     4   \n",
       "8122        0          4            3          1        0     7   \n",
       "8123        1          0            1          1        0     4   \n",
       "\n",
       "      gill attachment  gill spacing  gill size  gill color  ...  \\\n",
       "0                   1             1          1           1  ...   \n",
       "1                   1             1          0           1  ...   \n",
       "2                   1             1          0           2  ...   \n",
       "3                   1             1          1           2  ...   \n",
       "4                   1             0          0           1  ...   \n",
       "...               ...           ...        ...         ...  ...   \n",
       "8119                0             1          0          11  ...   \n",
       "8120                0             1          0          11  ...   \n",
       "8121                0             1          0           2  ...   \n",
       "8122                1             1          1           9  ...   \n",
       "8123                0             1          0          11  ...   \n",
       "\n",
       "      stalk surface below ring  stalk color above ring  \\\n",
       "0                            1                       1   \n",
       "1                            1                       1   \n",
       "2                            1                       1   \n",
       "3                            1                       1   \n",
       "4                            1                       1   \n",
       "...                        ...                     ...   \n",
       "8119                         1                       7   \n",
       "8120                         1                       7   \n",
       "8121                         1                       7   \n",
       "8122                         0                       1   \n",
       "8123                         1                       7   \n",
       "\n",
       "      stalk color below ring  veil type  veil color  ring number  ring type  \\\n",
       "0                          1          0           1            1          1   \n",
       "1                          1          0           1            1          1   \n",
       "2                          1          0           1            1          1   \n",
       "3                          1          0           1            1          1   \n",
       "4                          1          0           1            1          2   \n",
       "...                      ...        ...         ...          ...        ...   \n",
       "8119                       7          0           3            1          1   \n",
       "8120                       7          0           2            1          1   \n",
       "8121                       7          0           3            1          1   \n",
       "8122                       1          0           1            1          2   \n",
       "8123                       7          0           3            1          1   \n",
       "\n",
       "      spore print color  population  habitat  \n",
       "0                     1           1        1  \n",
       "1                     2           2        2  \n",
       "2                     2           2        3  \n",
       "3                     1           1        1  \n",
       "4                     2           3        2  \n",
       "...                 ...         ...      ...  \n",
       "8119                  0           0        0  \n",
       "8120                  0           4        0  \n",
       "8121                  0           0        0  \n",
       "8122                  5           4        0  \n",
       "8123                  7           0        0  \n",
       "\n",
       "[8124 rows x 23 columns]"
      ]
     },
     "execution_count": 181,
     "metadata": {},
     "output_type": "execute_result"
    }
   ],
   "source": [
    "df"
   ]
  },
  {
   "cell_type": "code",
   "execution_count": 182,
   "metadata": {},
   "outputs": [
    {
     "data": {
      "text/html": [
       "<div>\n",
       "<style scoped>\n",
       "    .dataframe tbody tr th:only-of-type {\n",
       "        vertical-align: middle;\n",
       "    }\n",
       "\n",
       "    .dataframe tbody tr th {\n",
       "        vertical-align: top;\n",
       "    }\n",
       "\n",
       "    .dataframe thead th {\n",
       "        text-align: right;\n",
       "    }\n",
       "</style>\n",
       "<table border=\"1\" class=\"dataframe\">\n",
       "  <thead>\n",
       "    <tr style=\"text-align: right;\">\n",
       "      <th></th>\n",
       "      <th>classes</th>\n",
       "      <th>cap shape</th>\n",
       "      <th>cap surface</th>\n",
       "      <th>cap color</th>\n",
       "      <th>bruises</th>\n",
       "      <th>odor</th>\n",
       "      <th>gill attachment</th>\n",
       "      <th>gill spacing</th>\n",
       "      <th>gill size</th>\n",
       "      <th>gill color</th>\n",
       "      <th>...</th>\n",
       "      <th>stalk surface below ring</th>\n",
       "      <th>stalk color above ring</th>\n",
       "      <th>stalk color below ring</th>\n",
       "      <th>veil type</th>\n",
       "      <th>veil color</th>\n",
       "      <th>ring number</th>\n",
       "      <th>ring type</th>\n",
       "      <th>spore print color</th>\n",
       "      <th>population</th>\n",
       "      <th>habitat</th>\n",
       "    </tr>\n",
       "  </thead>\n",
       "  <tbody>\n",
       "    <tr>\n",
       "      <th>count</th>\n",
       "      <td>8124.000000</td>\n",
       "      <td>8124.000000</td>\n",
       "      <td>8124.000000</td>\n",
       "      <td>8124.000000</td>\n",
       "      <td>8124.000000</td>\n",
       "      <td>8124.000000</td>\n",
       "      <td>8124.000000</td>\n",
       "      <td>8124.000000</td>\n",
       "      <td>8124.000000</td>\n",
       "      <td>8124.000000</td>\n",
       "      <td>...</td>\n",
       "      <td>8124.000000</td>\n",
       "      <td>8124.000000</td>\n",
       "      <td>8124.000000</td>\n",
       "      <td>8124.0</td>\n",
       "      <td>8124.000000</td>\n",
       "      <td>8124.000000</td>\n",
       "      <td>8124.000000</td>\n",
       "      <td>8124.000000</td>\n",
       "      <td>8124.000000</td>\n",
       "      <td>8124.000000</td>\n",
       "    </tr>\n",
       "    <tr>\n",
       "      <th>mean</th>\n",
       "      <td>0.517971</td>\n",
       "      <td>1.637617</td>\n",
       "      <td>2.083703</td>\n",
       "      <td>3.073855</td>\n",
       "      <td>0.415559</td>\n",
       "      <td>4.549483</td>\n",
       "      <td>0.974151</td>\n",
       "      <td>0.838503</td>\n",
       "      <td>0.309207</td>\n",
       "      <td>5.179714</td>\n",
       "      <td>...</td>\n",
       "      <td>0.860167</td>\n",
       "      <td>2.140817</td>\n",
       "      <td>2.162482</td>\n",
       "      <td>0.0</td>\n",
       "      <td>1.034466</td>\n",
       "      <td>1.069424</td>\n",
       "      <td>1.674052</td>\n",
       "      <td>3.147710</td>\n",
       "      <td>3.436731</td>\n",
       "      <td>3.077794</td>\n",
       "    </tr>\n",
       "    <tr>\n",
       "      <th>std</th>\n",
       "      <td>0.499708</td>\n",
       "      <td>1.588969</td>\n",
       "      <td>0.842012</td>\n",
       "      <td>1.723025</td>\n",
       "      <td>0.492848</td>\n",
       "      <td>1.559486</td>\n",
       "      <td>0.158695</td>\n",
       "      <td>0.368011</td>\n",
       "      <td>0.462195</td>\n",
       "      <td>2.642134</td>\n",
       "      <td>...</td>\n",
       "      <td>0.691229</td>\n",
       "      <td>1.550135</td>\n",
       "      <td>1.557528</td>\n",
       "      <td>0.0</td>\n",
       "      <td>0.242669</td>\n",
       "      <td>0.271064</td>\n",
       "      <td>0.763640</td>\n",
       "      <td>1.701277</td>\n",
       "      <td>1.479911</td>\n",
       "      <td>1.589035</td>\n",
       "    </tr>\n",
       "    <tr>\n",
       "      <th>min</th>\n",
       "      <td>0.000000</td>\n",
       "      <td>0.000000</td>\n",
       "      <td>0.000000</td>\n",
       "      <td>0.000000</td>\n",
       "      <td>0.000000</td>\n",
       "      <td>0.000000</td>\n",
       "      <td>0.000000</td>\n",
       "      <td>0.000000</td>\n",
       "      <td>0.000000</td>\n",
       "      <td>0.000000</td>\n",
       "      <td>...</td>\n",
       "      <td>0.000000</td>\n",
       "      <td>0.000000</td>\n",
       "      <td>0.000000</td>\n",
       "      <td>0.0</td>\n",
       "      <td>0.000000</td>\n",
       "      <td>0.000000</td>\n",
       "      <td>0.000000</td>\n",
       "      <td>0.000000</td>\n",
       "      <td>0.000000</td>\n",
       "      <td>0.000000</td>\n",
       "    </tr>\n",
       "    <tr>\n",
       "      <th>25%</th>\n",
       "      <td>0.000000</td>\n",
       "      <td>0.000000</td>\n",
       "      <td>1.000000</td>\n",
       "      <td>1.000000</td>\n",
       "      <td>0.000000</td>\n",
       "      <td>4.000000</td>\n",
       "      <td>1.000000</td>\n",
       "      <td>1.000000</td>\n",
       "      <td>0.000000</td>\n",
       "      <td>3.000000</td>\n",
       "      <td>...</td>\n",
       "      <td>0.000000</td>\n",
       "      <td>1.000000</td>\n",
       "      <td>1.000000</td>\n",
       "      <td>0.0</td>\n",
       "      <td>1.000000</td>\n",
       "      <td>1.000000</td>\n",
       "      <td>1.000000</td>\n",
       "      <td>2.000000</td>\n",
       "      <td>3.000000</td>\n",
       "      <td>2.000000</td>\n",
       "    </tr>\n",
       "    <tr>\n",
       "      <th>50%</th>\n",
       "      <td>1.000000</td>\n",
       "      <td>1.000000</td>\n",
       "      <td>2.000000</td>\n",
       "      <td>3.000000</td>\n",
       "      <td>0.000000</td>\n",
       "      <td>4.000000</td>\n",
       "      <td>1.000000</td>\n",
       "      <td>1.000000</td>\n",
       "      <td>0.000000</td>\n",
       "      <td>5.000000</td>\n",
       "      <td>...</td>\n",
       "      <td>1.000000</td>\n",
       "      <td>1.000000</td>\n",
       "      <td>1.000000</td>\n",
       "      <td>0.0</td>\n",
       "      <td>1.000000</td>\n",
       "      <td>1.000000</td>\n",
       "      <td>2.000000</td>\n",
       "      <td>4.000000</td>\n",
       "      <td>4.000000</td>\n",
       "      <td>4.000000</td>\n",
       "    </tr>\n",
       "    <tr>\n",
       "      <th>75%</th>\n",
       "      <td>1.000000</td>\n",
       "      <td>3.000000</td>\n",
       "      <td>3.000000</td>\n",
       "      <td>4.000000</td>\n",
       "      <td>1.000000</td>\n",
       "      <td>5.000000</td>\n",
       "      <td>1.000000</td>\n",
       "      <td>1.000000</td>\n",
       "      <td>1.000000</td>\n",
       "      <td>7.000000</td>\n",
       "      <td>...</td>\n",
       "      <td>1.000000</td>\n",
       "      <td>3.000000</td>\n",
       "      <td>3.000000</td>\n",
       "      <td>0.0</td>\n",
       "      <td>1.000000</td>\n",
       "      <td>1.000000</td>\n",
       "      <td>2.000000</td>\n",
       "      <td>5.000000</td>\n",
       "      <td>4.000000</td>\n",
       "      <td>4.000000</td>\n",
       "    </tr>\n",
       "    <tr>\n",
       "      <th>max</th>\n",
       "      <td>1.000000</td>\n",
       "      <td>5.000000</td>\n",
       "      <td>3.000000</td>\n",
       "      <td>9.000000</td>\n",
       "      <td>1.000000</td>\n",
       "      <td>8.000000</td>\n",
       "      <td>1.000000</td>\n",
       "      <td>1.000000</td>\n",
       "      <td>1.000000</td>\n",
       "      <td>11.000000</td>\n",
       "      <td>...</td>\n",
       "      <td>3.000000</td>\n",
       "      <td>8.000000</td>\n",
       "      <td>8.000000</td>\n",
       "      <td>0.0</td>\n",
       "      <td>3.000000</td>\n",
       "      <td>2.000000</td>\n",
       "      <td>4.000000</td>\n",
       "      <td>8.000000</td>\n",
       "      <td>5.000000</td>\n",
       "      <td>6.000000</td>\n",
       "    </tr>\n",
       "  </tbody>\n",
       "</table>\n",
       "<p>8 rows × 23 columns</p>\n",
       "</div>"
      ],
      "text/plain": [
       "           classes    cap shape  cap surface    cap color      bruises  \\\n",
       "count  8124.000000  8124.000000  8124.000000  8124.000000  8124.000000   \n",
       "mean      0.517971     1.637617     2.083703     3.073855     0.415559   \n",
       "std       0.499708     1.588969     0.842012     1.723025     0.492848   \n",
       "min       0.000000     0.000000     0.000000     0.000000     0.000000   \n",
       "25%       0.000000     0.000000     1.000000     1.000000     0.000000   \n",
       "50%       1.000000     1.000000     2.000000     3.000000     0.000000   \n",
       "75%       1.000000     3.000000     3.000000     4.000000     1.000000   \n",
       "max       1.000000     5.000000     3.000000     9.000000     1.000000   \n",
       "\n",
       "              odor  gill attachment  gill spacing    gill size   gill color  \\\n",
       "count  8124.000000      8124.000000   8124.000000  8124.000000  8124.000000   \n",
       "mean      4.549483         0.974151      0.838503     0.309207     5.179714   \n",
       "std       1.559486         0.158695      0.368011     0.462195     2.642134   \n",
       "min       0.000000         0.000000      0.000000     0.000000     0.000000   \n",
       "25%       4.000000         1.000000      1.000000     0.000000     3.000000   \n",
       "50%       4.000000         1.000000      1.000000     0.000000     5.000000   \n",
       "75%       5.000000         1.000000      1.000000     1.000000     7.000000   \n",
       "max       8.000000         1.000000      1.000000     1.000000    11.000000   \n",
       "\n",
       "       ...  stalk surface below ring  stalk color above ring  \\\n",
       "count  ...               8124.000000             8124.000000   \n",
       "mean   ...                  0.860167                2.140817   \n",
       "std    ...                  0.691229                1.550135   \n",
       "min    ...                  0.000000                0.000000   \n",
       "25%    ...                  0.000000                1.000000   \n",
       "50%    ...                  1.000000                1.000000   \n",
       "75%    ...                  1.000000                3.000000   \n",
       "max    ...                  3.000000                8.000000   \n",
       "\n",
       "       stalk color below ring  veil type   veil color  ring number  \\\n",
       "count             8124.000000     8124.0  8124.000000  8124.000000   \n",
       "mean                 2.162482        0.0     1.034466     1.069424   \n",
       "std                  1.557528        0.0     0.242669     0.271064   \n",
       "min                  0.000000        0.0     0.000000     0.000000   \n",
       "25%                  1.000000        0.0     1.000000     1.000000   \n",
       "50%                  1.000000        0.0     1.000000     1.000000   \n",
       "75%                  3.000000        0.0     1.000000     1.000000   \n",
       "max                  8.000000        0.0     3.000000     2.000000   \n",
       "\n",
       "         ring type  spore print color   population      habitat  \n",
       "count  8124.000000        8124.000000  8124.000000  8124.000000  \n",
       "mean      1.674052           3.147710     3.436731     3.077794  \n",
       "std       0.763640           1.701277     1.479911     1.589035  \n",
       "min       0.000000           0.000000     0.000000     0.000000  \n",
       "25%       1.000000           2.000000     3.000000     2.000000  \n",
       "50%       2.000000           4.000000     4.000000     4.000000  \n",
       "75%       2.000000           5.000000     4.000000     4.000000  \n",
       "max       4.000000           8.000000     5.000000     6.000000  \n",
       "\n",
       "[8 rows x 23 columns]"
      ]
     },
     "execution_count": 182,
     "metadata": {},
     "output_type": "execute_result"
    }
   ],
   "source": [
    "df.describe()"
   ]
  },
  {
   "cell_type": "markdown",
   "metadata": {},
   "source": [
    "# Finding and Removing NaN values"
   ]
  },
  {
   "cell_type": "code",
   "execution_count": 183,
   "metadata": {},
   "outputs": [
    {
     "data": {
      "text/html": [
       "<div>\n",
       "<style scoped>\n",
       "    .dataframe tbody tr th:only-of-type {\n",
       "        vertical-align: middle;\n",
       "    }\n",
       "\n",
       "    .dataframe tbody tr th {\n",
       "        vertical-align: top;\n",
       "    }\n",
       "\n",
       "    .dataframe thead th {\n",
       "        text-align: right;\n",
       "    }\n",
       "</style>\n",
       "<table border=\"1\" class=\"dataframe\">\n",
       "  <thead>\n",
       "    <tr style=\"text-align: right;\">\n",
       "      <th></th>\n",
       "      <th>classes</th>\n",
       "      <th>cap shape</th>\n",
       "      <th>cap surface</th>\n",
       "      <th>cap color</th>\n",
       "      <th>bruises</th>\n",
       "      <th>odor</th>\n",
       "      <th>gill attachment</th>\n",
       "      <th>gill spacing</th>\n",
       "      <th>gill size</th>\n",
       "      <th>gill color</th>\n",
       "      <th>...</th>\n",
       "      <th>stalk surface below ring</th>\n",
       "      <th>stalk color above ring</th>\n",
       "      <th>stalk color below ring</th>\n",
       "      <th>veil type</th>\n",
       "      <th>veil color</th>\n",
       "      <th>ring number</th>\n",
       "      <th>ring type</th>\n",
       "      <th>spore print color</th>\n",
       "      <th>population</th>\n",
       "      <th>habitat</th>\n",
       "    </tr>\n",
       "  </thead>\n",
       "  <tbody>\n",
       "    <tr>\n",
       "      <th>0</th>\n",
       "      <td>False</td>\n",
       "      <td>False</td>\n",
       "      <td>False</td>\n",
       "      <td>False</td>\n",
       "      <td>False</td>\n",
       "      <td>False</td>\n",
       "      <td>False</td>\n",
       "      <td>False</td>\n",
       "      <td>False</td>\n",
       "      <td>False</td>\n",
       "      <td>...</td>\n",
       "      <td>False</td>\n",
       "      <td>False</td>\n",
       "      <td>False</td>\n",
       "      <td>False</td>\n",
       "      <td>False</td>\n",
       "      <td>False</td>\n",
       "      <td>False</td>\n",
       "      <td>False</td>\n",
       "      <td>False</td>\n",
       "      <td>False</td>\n",
       "    </tr>\n",
       "    <tr>\n",
       "      <th>1</th>\n",
       "      <td>False</td>\n",
       "      <td>False</td>\n",
       "      <td>False</td>\n",
       "      <td>False</td>\n",
       "      <td>False</td>\n",
       "      <td>False</td>\n",
       "      <td>False</td>\n",
       "      <td>False</td>\n",
       "      <td>False</td>\n",
       "      <td>False</td>\n",
       "      <td>...</td>\n",
       "      <td>False</td>\n",
       "      <td>False</td>\n",
       "      <td>False</td>\n",
       "      <td>False</td>\n",
       "      <td>False</td>\n",
       "      <td>False</td>\n",
       "      <td>False</td>\n",
       "      <td>False</td>\n",
       "      <td>False</td>\n",
       "      <td>False</td>\n",
       "    </tr>\n",
       "    <tr>\n",
       "      <th>2</th>\n",
       "      <td>False</td>\n",
       "      <td>False</td>\n",
       "      <td>False</td>\n",
       "      <td>False</td>\n",
       "      <td>False</td>\n",
       "      <td>False</td>\n",
       "      <td>False</td>\n",
       "      <td>False</td>\n",
       "      <td>False</td>\n",
       "      <td>False</td>\n",
       "      <td>...</td>\n",
       "      <td>False</td>\n",
       "      <td>False</td>\n",
       "      <td>False</td>\n",
       "      <td>False</td>\n",
       "      <td>False</td>\n",
       "      <td>False</td>\n",
       "      <td>False</td>\n",
       "      <td>False</td>\n",
       "      <td>False</td>\n",
       "      <td>False</td>\n",
       "    </tr>\n",
       "    <tr>\n",
       "      <th>3</th>\n",
       "      <td>False</td>\n",
       "      <td>False</td>\n",
       "      <td>False</td>\n",
       "      <td>False</td>\n",
       "      <td>False</td>\n",
       "      <td>False</td>\n",
       "      <td>False</td>\n",
       "      <td>False</td>\n",
       "      <td>False</td>\n",
       "      <td>False</td>\n",
       "      <td>...</td>\n",
       "      <td>False</td>\n",
       "      <td>False</td>\n",
       "      <td>False</td>\n",
       "      <td>False</td>\n",
       "      <td>False</td>\n",
       "      <td>False</td>\n",
       "      <td>False</td>\n",
       "      <td>False</td>\n",
       "      <td>False</td>\n",
       "      <td>False</td>\n",
       "    </tr>\n",
       "    <tr>\n",
       "      <th>4</th>\n",
       "      <td>False</td>\n",
       "      <td>False</td>\n",
       "      <td>False</td>\n",
       "      <td>False</td>\n",
       "      <td>False</td>\n",
       "      <td>False</td>\n",
       "      <td>False</td>\n",
       "      <td>False</td>\n",
       "      <td>False</td>\n",
       "      <td>False</td>\n",
       "      <td>...</td>\n",
       "      <td>False</td>\n",
       "      <td>False</td>\n",
       "      <td>False</td>\n",
       "      <td>False</td>\n",
       "      <td>False</td>\n",
       "      <td>False</td>\n",
       "      <td>False</td>\n",
       "      <td>False</td>\n",
       "      <td>False</td>\n",
       "      <td>False</td>\n",
       "    </tr>\n",
       "    <tr>\n",
       "      <th>...</th>\n",
       "      <td>...</td>\n",
       "      <td>...</td>\n",
       "      <td>...</td>\n",
       "      <td>...</td>\n",
       "      <td>...</td>\n",
       "      <td>...</td>\n",
       "      <td>...</td>\n",
       "      <td>...</td>\n",
       "      <td>...</td>\n",
       "      <td>...</td>\n",
       "      <td>...</td>\n",
       "      <td>...</td>\n",
       "      <td>...</td>\n",
       "      <td>...</td>\n",
       "      <td>...</td>\n",
       "      <td>...</td>\n",
       "      <td>...</td>\n",
       "      <td>...</td>\n",
       "      <td>...</td>\n",
       "      <td>...</td>\n",
       "      <td>...</td>\n",
       "    </tr>\n",
       "    <tr>\n",
       "      <th>8119</th>\n",
       "      <td>False</td>\n",
       "      <td>False</td>\n",
       "      <td>False</td>\n",
       "      <td>False</td>\n",
       "      <td>False</td>\n",
       "      <td>False</td>\n",
       "      <td>False</td>\n",
       "      <td>False</td>\n",
       "      <td>False</td>\n",
       "      <td>False</td>\n",
       "      <td>...</td>\n",
       "      <td>False</td>\n",
       "      <td>False</td>\n",
       "      <td>False</td>\n",
       "      <td>False</td>\n",
       "      <td>False</td>\n",
       "      <td>False</td>\n",
       "      <td>False</td>\n",
       "      <td>False</td>\n",
       "      <td>False</td>\n",
       "      <td>False</td>\n",
       "    </tr>\n",
       "    <tr>\n",
       "      <th>8120</th>\n",
       "      <td>False</td>\n",
       "      <td>False</td>\n",
       "      <td>False</td>\n",
       "      <td>False</td>\n",
       "      <td>False</td>\n",
       "      <td>False</td>\n",
       "      <td>False</td>\n",
       "      <td>False</td>\n",
       "      <td>False</td>\n",
       "      <td>False</td>\n",
       "      <td>...</td>\n",
       "      <td>False</td>\n",
       "      <td>False</td>\n",
       "      <td>False</td>\n",
       "      <td>False</td>\n",
       "      <td>False</td>\n",
       "      <td>False</td>\n",
       "      <td>False</td>\n",
       "      <td>False</td>\n",
       "      <td>False</td>\n",
       "      <td>False</td>\n",
       "    </tr>\n",
       "    <tr>\n",
       "      <th>8121</th>\n",
       "      <td>False</td>\n",
       "      <td>False</td>\n",
       "      <td>False</td>\n",
       "      <td>False</td>\n",
       "      <td>False</td>\n",
       "      <td>False</td>\n",
       "      <td>False</td>\n",
       "      <td>False</td>\n",
       "      <td>False</td>\n",
       "      <td>False</td>\n",
       "      <td>...</td>\n",
       "      <td>False</td>\n",
       "      <td>False</td>\n",
       "      <td>False</td>\n",
       "      <td>False</td>\n",
       "      <td>False</td>\n",
       "      <td>False</td>\n",
       "      <td>False</td>\n",
       "      <td>False</td>\n",
       "      <td>False</td>\n",
       "      <td>False</td>\n",
       "    </tr>\n",
       "    <tr>\n",
       "      <th>8122</th>\n",
       "      <td>False</td>\n",
       "      <td>False</td>\n",
       "      <td>False</td>\n",
       "      <td>False</td>\n",
       "      <td>False</td>\n",
       "      <td>False</td>\n",
       "      <td>False</td>\n",
       "      <td>False</td>\n",
       "      <td>False</td>\n",
       "      <td>False</td>\n",
       "      <td>...</td>\n",
       "      <td>False</td>\n",
       "      <td>False</td>\n",
       "      <td>False</td>\n",
       "      <td>False</td>\n",
       "      <td>False</td>\n",
       "      <td>False</td>\n",
       "      <td>False</td>\n",
       "      <td>False</td>\n",
       "      <td>False</td>\n",
       "      <td>False</td>\n",
       "    </tr>\n",
       "    <tr>\n",
       "      <th>8123</th>\n",
       "      <td>False</td>\n",
       "      <td>False</td>\n",
       "      <td>False</td>\n",
       "      <td>False</td>\n",
       "      <td>False</td>\n",
       "      <td>False</td>\n",
       "      <td>False</td>\n",
       "      <td>False</td>\n",
       "      <td>False</td>\n",
       "      <td>False</td>\n",
       "      <td>...</td>\n",
       "      <td>False</td>\n",
       "      <td>False</td>\n",
       "      <td>False</td>\n",
       "      <td>False</td>\n",
       "      <td>False</td>\n",
       "      <td>False</td>\n",
       "      <td>False</td>\n",
       "      <td>False</td>\n",
       "      <td>False</td>\n",
       "      <td>False</td>\n",
       "    </tr>\n",
       "  </tbody>\n",
       "</table>\n",
       "<p>8124 rows × 23 columns</p>\n",
       "</div>"
      ],
      "text/plain": [
       "      classes  cap shape  cap surface  cap color  bruises   odor  \\\n",
       "0       False      False        False      False    False  False   \n",
       "1       False      False        False      False    False  False   \n",
       "2       False      False        False      False    False  False   \n",
       "3       False      False        False      False    False  False   \n",
       "4       False      False        False      False    False  False   \n",
       "...       ...        ...          ...        ...      ...    ...   \n",
       "8119    False      False        False      False    False  False   \n",
       "8120    False      False        False      False    False  False   \n",
       "8121    False      False        False      False    False  False   \n",
       "8122    False      False        False      False    False  False   \n",
       "8123    False      False        False      False    False  False   \n",
       "\n",
       "      gill attachment  gill spacing  gill size  gill color  ...  \\\n",
       "0               False         False      False       False  ...   \n",
       "1               False         False      False       False  ...   \n",
       "2               False         False      False       False  ...   \n",
       "3               False         False      False       False  ...   \n",
       "4               False         False      False       False  ...   \n",
       "...               ...           ...        ...         ...  ...   \n",
       "8119            False         False      False       False  ...   \n",
       "8120            False         False      False       False  ...   \n",
       "8121            False         False      False       False  ...   \n",
       "8122            False         False      False       False  ...   \n",
       "8123            False         False      False       False  ...   \n",
       "\n",
       "      stalk surface below ring  stalk color above ring  \\\n",
       "0                        False                   False   \n",
       "1                        False                   False   \n",
       "2                        False                   False   \n",
       "3                        False                   False   \n",
       "4                        False                   False   \n",
       "...                        ...                     ...   \n",
       "8119                     False                   False   \n",
       "8120                     False                   False   \n",
       "8121                     False                   False   \n",
       "8122                     False                   False   \n",
       "8123                     False                   False   \n",
       "\n",
       "      stalk color below ring  veil type  veil color  ring number  ring type  \\\n",
       "0                      False      False       False        False      False   \n",
       "1                      False      False       False        False      False   \n",
       "2                      False      False       False        False      False   \n",
       "3                      False      False       False        False      False   \n",
       "4                      False      False       False        False      False   \n",
       "...                      ...        ...         ...          ...        ...   \n",
       "8119                   False      False       False        False      False   \n",
       "8120                   False      False       False        False      False   \n",
       "8121                   False      False       False        False      False   \n",
       "8122                   False      False       False        False      False   \n",
       "8123                   False      False       False        False      False   \n",
       "\n",
       "      spore print color  population  habitat  \n",
       "0                 False       False    False  \n",
       "1                 False       False    False  \n",
       "2                 False       False    False  \n",
       "3                 False       False    False  \n",
       "4                 False       False    False  \n",
       "...                 ...         ...      ...  \n",
       "8119              False       False    False  \n",
       "8120              False       False    False  \n",
       "8121              False       False    False  \n",
       "8122              False       False    False  \n",
       "8123              False       False    False  \n",
       "\n",
       "[8124 rows x 23 columns]"
      ]
     },
     "execution_count": 183,
     "metadata": {},
     "output_type": "execute_result"
    }
   ],
   "source": [
    "#finding nan values\n",
    "df.isnull()"
   ]
  },
  {
   "cell_type": "code",
   "execution_count": 184,
   "metadata": {},
   "outputs": [
    {
     "data": {
      "text/plain": [
       "classes                        0\n",
       "cap shape                      0\n",
       "cap surface                    0\n",
       "cap color                      0\n",
       "bruises                        0\n",
       "odor                           0\n",
       "gill attachment                0\n",
       "gill spacing                   0\n",
       "gill size                      0\n",
       "gill color                     0\n",
       "stalk shape                    0\n",
       "stalk root                  2480\n",
       "stalk surface above ring       0\n",
       "stalk surface below ring       0\n",
       "stalk color above ring         0\n",
       "stalk color below ring         0\n",
       "veil type                      0\n",
       "veil color                     0\n",
       "ring number                    0\n",
       "ring type                      0\n",
       "spore print color              0\n",
       "population                     0\n",
       "habitat                        0\n",
       "dtype: int64"
      ]
     },
     "execution_count": 184,
     "metadata": {},
     "output_type": "execute_result"
    }
   ],
   "source": [
    "df.isnull().sum()"
   ]
  },
  {
   "cell_type": "markdown",
   "metadata": {},
   "source": [
    "we found that there are very high missing datas in \"stalk root \""
   ]
  },
  {
   "cell_type": "code",
   "execution_count": 185,
   "metadata": {},
   "outputs": [
    {
     "data": {
      "text/plain": [
       "2.4025513819985824"
      ]
     },
     "execution_count": 185,
     "metadata": {},
     "output_type": "execute_result"
    }
   ],
   "source": [
    "#Reassigning NaN values with mean of it\n",
    "df['stalk root'].mean()\n"
   ]
  },
  {
   "cell_type": "code",
   "execution_count": 186,
   "metadata": {},
   "outputs": [],
   "source": [
    "df[\"stalk root\"].fillna(df['stalk root'].mean(),inplace=True)"
   ]
  },
  {
   "cell_type": "code",
   "execution_count": 187,
   "metadata": {},
   "outputs": [
    {
     "data": {
      "text/plain": [
       "classes                     0\n",
       "cap shape                   0\n",
       "cap surface                 0\n",
       "cap color                   0\n",
       "bruises                     0\n",
       "odor                        0\n",
       "gill attachment             0\n",
       "gill spacing                0\n",
       "gill size                   0\n",
       "gill color                  0\n",
       "stalk shape                 0\n",
       "stalk root                  0\n",
       "stalk surface above ring    0\n",
       "stalk surface below ring    0\n",
       "stalk color above ring      0\n",
       "stalk color below ring      0\n",
       "veil type                   0\n",
       "veil color                  0\n",
       "ring number                 0\n",
       "ring type                   0\n",
       "spore print color           0\n",
       "population                  0\n",
       "habitat                     0\n",
       "dtype: int64"
      ]
     },
     "execution_count": 187,
     "metadata": {},
     "output_type": "execute_result"
    }
   ],
   "source": [
    "df.isnull().sum()"
   ]
  },
  {
   "cell_type": "markdown",
   "metadata": {},
   "source": [
    "# EDA"
   ]
  },
  {
   "cell_type": "code",
   "execution_count": 188,
   "metadata": {},
   "outputs": [
    {
     "data": {
      "image/png": "[encoded data removed]",
      "text/plain": [
       "<Figure size 2160x2160 with 23 Axes>"
      ]
     },
     "metadata": {
      "needs_background": "light"
     },
     "output_type": "display_data"
    }
   ],
   "source": [
    "#univariate analysis\n",
    "collist=df.columns.values\n",
    "ncol=14\n",
    "nrow=10\n",
    "plt.figure(figsize=(30,30))\n",
    "for i in range(0,len(collist)):\n",
    "    plt.subplot(nrow,ncol,i+1)\n",
    "    sns.distplot(df[collist[i]])"
   ]
  },
  {
   "cell_type": "code",
   "execution_count": 189,
   "metadata": {},
   "outputs": [
    {
     "data": {
      "text/html": [
       "<div>\n",
       "<style scoped>\n",
       "    .dataframe tbody tr th:only-of-type {\n",
       "        vertical-align: middle;\n",
       "    }\n",
       "\n",
       "    .dataframe tbody tr th {\n",
       "        vertical-align: top;\n",
       "    }\n",
       "\n",
       "    .dataframe thead th {\n",
       "        text-align: right;\n",
       "    }\n",
       "</style>\n",
       "<table border=\"1\" class=\"dataframe\">\n",
       "  <thead>\n",
       "    <tr style=\"text-align: right;\">\n",
       "      <th></th>\n",
       "      <th>classes</th>\n",
       "      <th>cap shape</th>\n",
       "      <th>cap surface</th>\n",
       "      <th>cap color</th>\n",
       "      <th>bruises</th>\n",
       "      <th>odor</th>\n",
       "      <th>gill attachment</th>\n",
       "      <th>gill spacing</th>\n",
       "      <th>gill size</th>\n",
       "      <th>gill color</th>\n",
       "      <th>...</th>\n",
       "      <th>stalk surface below ring</th>\n",
       "      <th>stalk color above ring</th>\n",
       "      <th>stalk color below ring</th>\n",
       "      <th>veil type</th>\n",
       "      <th>veil color</th>\n",
       "      <th>ring number</th>\n",
       "      <th>ring type</th>\n",
       "      <th>spore print color</th>\n",
       "      <th>population</th>\n",
       "      <th>habitat</th>\n",
       "    </tr>\n",
       "  </thead>\n",
       "  <tbody>\n",
       "    <tr>\n",
       "      <th>classes</th>\n",
       "      <td>1.000000</td>\n",
       "      <td>-0.112110</td>\n",
       "      <td>0.002276</td>\n",
       "      <td>-0.053587</td>\n",
       "      <td>0.501530</td>\n",
       "      <td>-0.554841</td>\n",
       "      <td>-0.129200</td>\n",
       "      <td>-0.348387</td>\n",
       "      <td>-0.540024</td>\n",
       "      <td>-0.451688</td>\n",
       "      <td>...</td>\n",
       "      <td>0.469179</td>\n",
       "      <td>-0.221315</td>\n",
       "      <td>-0.211908</td>\n",
       "      <td>NaN</td>\n",
       "      <td>0.145142</td>\n",
       "      <td>0.214366</td>\n",
       "      <td>-0.543410</td>\n",
       "      <td>-0.604366</td>\n",
       "      <td>-0.256655</td>\n",
       "      <td>0.012502</td>\n",
       "    </tr>\n",
       "    <tr>\n",
       "      <th>cap shape</th>\n",
       "      <td>-0.112110</td>\n",
       "      <td>1.000000</td>\n",
       "      <td>-0.000421</td>\n",
       "      <td>0.002852</td>\n",
       "      <td>-0.120509</td>\n",
       "      <td>0.163831</td>\n",
       "      <td>-0.040082</td>\n",
       "      <td>0.043906</td>\n",
       "      <td>0.151921</td>\n",
       "      <td>0.212743</td>\n",
       "      <td>...</td>\n",
       "      <td>-0.048383</td>\n",
       "      <td>0.068001</td>\n",
       "      <td>0.073239</td>\n",
       "      <td>NaN</td>\n",
       "      <td>0.029202</td>\n",
       "      <td>0.041268</td>\n",
       "      <td>0.089932</td>\n",
       "      <td>0.217629</td>\n",
       "      <td>0.061447</td>\n",
       "      <td>-0.008336</td>\n",
       "    </tr>\n",
       "    <tr>\n",
       "      <th>cap surface</th>\n",
       "      <td>0.002276</td>\n",
       "      <td>-0.000421</td>\n",
       "      <td>1.000000</td>\n",
       "      <td>-0.006298</td>\n",
       "      <td>0.128576</td>\n",
       "      <td>-0.053031</td>\n",
       "      <td>0.176500</td>\n",
       "      <td>0.280412</td>\n",
       "      <td>-0.082961</td>\n",
       "      <td>0.000985</td>\n",
       "      <td>...</td>\n",
       "      <td>-0.053495</td>\n",
       "      <td>0.106037</td>\n",
       "      <td>0.112411</td>\n",
       "      <td>NaN</td>\n",
       "      <td>-0.192458</td>\n",
       "      <td>-0.122551</td>\n",
       "      <td>0.116722</td>\n",
       "      <td>-0.077383</td>\n",
       "      <td>0.286405</td>\n",
       "      <td>0.252759</td>\n",
       "    </tr>\n",
       "    <tr>\n",
       "      <th>cap color</th>\n",
       "      <td>-0.053587</td>\n",
       "      <td>0.002852</td>\n",
       "      <td>-0.006298</td>\n",
       "      <td>1.000000</td>\n",
       "      <td>0.076351</td>\n",
       "      <td>0.093019</td>\n",
       "      <td>0.163660</td>\n",
       "      <td>0.007940</td>\n",
       "      <td>-0.032389</td>\n",
       "      <td>0.066095</td>\n",
       "      <td>...</td>\n",
       "      <td>-0.041770</td>\n",
       "      <td>-0.053305</td>\n",
       "      <td>-0.042638</td>\n",
       "      <td>NaN</td>\n",
       "      <td>-0.173323</td>\n",
       "      <td>0.149280</td>\n",
       "      <td>-0.024367</td>\n",
       "      <td>0.089343</td>\n",
       "      <td>0.007047</td>\n",
       "      <td>0.114266</td>\n",
       "    </tr>\n",
       "    <tr>\n",
       "      <th>bruises</th>\n",
       "      <td>0.501530</td>\n",
       "      <td>-0.120509</td>\n",
       "      <td>0.128576</td>\n",
       "      <td>0.076351</td>\n",
       "      <td>1.000000</td>\n",
       "      <td>-0.566219</td>\n",
       "      <td>0.137359</td>\n",
       "      <td>0.299473</td>\n",
       "      <td>-0.369596</td>\n",
       "      <td>-0.298625</td>\n",
       "      <td>...</td>\n",
       "      <td>0.361394</td>\n",
       "      <td>-0.264816</td>\n",
       "      <td>-0.275288</td>\n",
       "      <td>NaN</td>\n",
       "      <td>-0.119770</td>\n",
       "      <td>0.056788</td>\n",
       "      <td>-0.681547</td>\n",
       "      <td>-0.530131</td>\n",
       "      <td>-0.051716</td>\n",
       "      <td>0.183189</td>\n",
       "    </tr>\n",
       "    <tr>\n",
       "      <th>odor</th>\n",
       "      <td>-0.554841</td>\n",
       "      <td>0.163831</td>\n",
       "      <td>-0.053031</td>\n",
       "      <td>0.093019</td>\n",
       "      <td>-0.566219</td>\n",
       "      <td>1.000000</td>\n",
       "      <td>0.093215</td>\n",
       "      <td>0.144346</td>\n",
       "      <td>0.461097</td>\n",
       "      <td>0.591272</td>\n",
       "      <td>...</td>\n",
       "      <td>-0.422072</td>\n",
       "      <td>0.121986</td>\n",
       "      <td>0.116505</td>\n",
       "      <td>NaN</td>\n",
       "      <td>-0.050050</td>\n",
       "      <td>-0.048317</td>\n",
       "      <td>0.448132</td>\n",
       "      <td>0.560738</td>\n",
       "      <td>0.324874</td>\n",
       "      <td>0.078131</td>\n",
       "    </tr>\n",
       "    <tr>\n",
       "      <th>gill attachment</th>\n",
       "      <td>-0.129200</td>\n",
       "      <td>-0.040082</td>\n",
       "      <td>0.176500</td>\n",
       "      <td>0.163660</td>\n",
       "      <td>0.137359</td>\n",
       "      <td>0.093215</td>\n",
       "      <td>1.000000</td>\n",
       "      <td>-0.071489</td>\n",
       "      <td>0.108984</td>\n",
       "      <td>0.032807</td>\n",
       "      <td>...</td>\n",
       "      <td>-0.073357</td>\n",
       "      <td>-0.519668</td>\n",
       "      <td>-0.514936</td>\n",
       "      <td>NaN</td>\n",
       "      <td>-0.897518</td>\n",
       "      <td>0.093236</td>\n",
       "      <td>0.162080</td>\n",
       "      <td>-0.111706</td>\n",
       "      <td>0.177024</td>\n",
       "      <td>0.280383</td>\n",
       "    </tr>\n",
       "    <tr>\n",
       "      <th>gill spacing</th>\n",
       "      <td>-0.348387</td>\n",
       "      <td>0.043906</td>\n",
       "      <td>0.280412</td>\n",
       "      <td>0.007940</td>\n",
       "      <td>0.299473</td>\n",
       "      <td>0.144346</td>\n",
       "      <td>-0.071489</td>\n",
       "      <td>1.000000</td>\n",
       "      <td>0.108333</td>\n",
       "      <td>0.261802</td>\n",
       "      <td>...</td>\n",
       "      <td>-0.224292</td>\n",
       "      <td>0.324727</td>\n",
       "      <td>0.298362</td>\n",
       "      <td>NaN</td>\n",
       "      <td>0.073363</td>\n",
       "      <td>-0.243014</td>\n",
       "      <td>0.026440</td>\n",
       "      <td>0.163948</td>\n",
       "      <td>0.389918</td>\n",
       "      <td>0.243794</td>\n",
       "    </tr>\n",
       "    <tr>\n",
       "      <th>gill size</th>\n",
       "      <td>-0.540024</td>\n",
       "      <td>0.151921</td>\n",
       "      <td>-0.082961</td>\n",
       "      <td>-0.032389</td>\n",
       "      <td>-0.369596</td>\n",
       "      <td>0.461097</td>\n",
       "      <td>0.108984</td>\n",
       "      <td>0.108333</td>\n",
       "      <td>1.000000</td>\n",
       "      <td>0.548059</td>\n",
       "      <td>...</td>\n",
       "      <td>-0.139005</td>\n",
       "      <td>-0.196867</td>\n",
       "      <td>-0.175141</td>\n",
       "      <td>NaN</td>\n",
       "      <td>-0.103809</td>\n",
       "      <td>-0.171362</td>\n",
       "      <td>0.093052</td>\n",
       "      <td>0.385289</td>\n",
       "      <td>0.135152</td>\n",
       "      <td>-0.099804</td>\n",
       "    </tr>\n",
       "    <tr>\n",
       "      <th>gill color</th>\n",
       "      <td>-0.451688</td>\n",
       "      <td>0.212743</td>\n",
       "      <td>0.000985</td>\n",
       "      <td>0.066095</td>\n",
       "      <td>-0.298625</td>\n",
       "      <td>0.591272</td>\n",
       "      <td>0.032807</td>\n",
       "      <td>0.261802</td>\n",
       "      <td>0.548059</td>\n",
       "      <td>1.000000</td>\n",
       "      <td>...</td>\n",
       "      <td>-0.211648</td>\n",
       "      <td>0.074376</td>\n",
       "      <td>0.073076</td>\n",
       "      <td>NaN</td>\n",
       "      <td>-0.051135</td>\n",
       "      <td>-0.023611</td>\n",
       "      <td>0.191094</td>\n",
       "      <td>0.547542</td>\n",
       "      <td>0.189736</td>\n",
       "      <td>0.079944</td>\n",
       "    </tr>\n",
       "    <tr>\n",
       "      <th>stalk shape</th>\n",
       "      <td>-0.102019</td>\n",
       "      <td>-0.126006</td>\n",
       "      <td>0.071319</td>\n",
       "      <td>-0.059362</td>\n",
       "      <td>-0.099364</td>\n",
       "      <td>-0.353683</td>\n",
       "      <td>-0.186485</td>\n",
       "      <td>0.080895</td>\n",
       "      <td>-0.214576</td>\n",
       "      <td>-0.352433</td>\n",
       "      <td>...</td>\n",
       "      <td>-0.110832</td>\n",
       "      <td>0.288644</td>\n",
       "      <td>0.303199</td>\n",
       "      <td>NaN</td>\n",
       "      <td>0.162604</td>\n",
       "      <td>0.293221</td>\n",
       "      <td>0.198477</td>\n",
       "      <td>0.106412</td>\n",
       "      <td>-0.250407</td>\n",
       "      <td>-0.041516</td>\n",
       "    </tr>\n",
       "    <tr>\n",
       "      <th>stalk root</th>\n",
       "      <td>-0.235872</td>\n",
       "      <td>0.005313</td>\n",
       "      <td>0.137052</td>\n",
       "      <td>0.232354</td>\n",
       "      <td>0.098745</td>\n",
       "      <td>0.333043</td>\n",
       "      <td>0.007351</td>\n",
       "      <td>0.407827</td>\n",
       "      <td>-0.101503</td>\n",
       "      <td>0.169695</td>\n",
       "      <td>...</td>\n",
       "      <td>-0.501094</td>\n",
       "      <td>0.341259</td>\n",
       "      <td>0.348532</td>\n",
       "      <td>NaN</td>\n",
       "      <td>0.002137</td>\n",
       "      <td>0.051190</td>\n",
       "      <td>0.107814</td>\n",
       "      <td>0.262354</td>\n",
       "      <td>0.451058</td>\n",
       "      <td>0.318734</td>\n",
       "    </tr>\n",
       "    <tr>\n",
       "      <th>stalk surface above ring</th>\n",
       "      <td>-0.558679</td>\n",
       "      <td>0.073036</td>\n",
       "      <td>0.078045</td>\n",
       "      <td>0.000208</td>\n",
       "      <td>-0.565372</td>\n",
       "      <td>0.363067</td>\n",
       "      <td>0.086021</td>\n",
       "      <td>0.060449</td>\n",
       "      <td>0.052386</td>\n",
       "      <td>0.178714</td>\n",
       "      <td>...</td>\n",
       "      <td>-0.465342</td>\n",
       "      <td>0.347209</td>\n",
       "      <td>0.347465</td>\n",
       "      <td>NaN</td>\n",
       "      <td>-0.097445</td>\n",
       "      <td>-0.083370</td>\n",
       "      <td>0.668583</td>\n",
       "      <td>0.454928</td>\n",
       "      <td>0.210612</td>\n",
       "      <td>0.042310</td>\n",
       "    </tr>\n",
       "    <tr>\n",
       "      <th>stalk surface below ring</th>\n",
       "      <td>0.469179</td>\n",
       "      <td>-0.048383</td>\n",
       "      <td>-0.053495</td>\n",
       "      <td>-0.041770</td>\n",
       "      <td>0.361394</td>\n",
       "      <td>-0.422072</td>\n",
       "      <td>-0.073357</td>\n",
       "      <td>-0.224292</td>\n",
       "      <td>-0.139005</td>\n",
       "      <td>-0.211648</td>\n",
       "      <td>...</td>\n",
       "      <td>1.000000</td>\n",
       "      <td>-0.329975</td>\n",
       "      <td>-0.310044</td>\n",
       "      <td>NaN</td>\n",
       "      <td>0.016992</td>\n",
       "      <td>-0.069077</td>\n",
       "      <td>-0.496832</td>\n",
       "      <td>-0.386101</td>\n",
       "      <td>-0.311918</td>\n",
       "      <td>-0.103968</td>\n",
       "    </tr>\n",
       "    <tr>\n",
       "      <th>stalk color above ring</th>\n",
       "      <td>-0.221315</td>\n",
       "      <td>0.068001</td>\n",
       "      <td>0.106037</td>\n",
       "      <td>-0.053305</td>\n",
       "      <td>-0.264816</td>\n",
       "      <td>0.121986</td>\n",
       "      <td>-0.519668</td>\n",
       "      <td>0.324727</td>\n",
       "      <td>-0.196867</td>\n",
       "      <td>0.074376</td>\n",
       "      <td>...</td>\n",
       "      <td>-0.329975</td>\n",
       "      <td>1.000000</td>\n",
       "      <td>0.732925</td>\n",
       "      <td>NaN</td>\n",
       "      <td>0.463594</td>\n",
       "      <td>-0.107648</td>\n",
       "      <td>0.361590</td>\n",
       "      <td>0.297218</td>\n",
       "      <td>0.154356</td>\n",
       "      <td>0.096508</td>\n",
       "    </tr>\n",
       "    <tr>\n",
       "      <th>stalk color below ring</th>\n",
       "      <td>-0.211908</td>\n",
       "      <td>0.073239</td>\n",
       "      <td>0.112411</td>\n",
       "      <td>-0.042638</td>\n",
       "      <td>-0.275288</td>\n",
       "      <td>0.116505</td>\n",
       "      <td>-0.514936</td>\n",
       "      <td>0.298362</td>\n",
       "      <td>-0.175141</td>\n",
       "      <td>0.073076</td>\n",
       "      <td>...</td>\n",
       "      <td>-0.310044</td>\n",
       "      <td>0.732925</td>\n",
       "      <td>1.000000</td>\n",
       "      <td>NaN</td>\n",
       "      <td>0.459418</td>\n",
       "      <td>-0.110700</td>\n",
       "      <td>0.365811</td>\n",
       "      <td>0.310953</td>\n",
       "      <td>0.158918</td>\n",
       "      <td>0.075473</td>\n",
       "    </tr>\n",
       "    <tr>\n",
       "      <th>veil type</th>\n",
       "      <td>NaN</td>\n",
       "      <td>NaN</td>\n",
       "      <td>NaN</td>\n",
       "      <td>NaN</td>\n",
       "      <td>NaN</td>\n",
       "      <td>NaN</td>\n",
       "      <td>NaN</td>\n",
       "      <td>NaN</td>\n",
       "      <td>NaN</td>\n",
       "      <td>NaN</td>\n",
       "      <td>...</td>\n",
       "      <td>NaN</td>\n",
       "      <td>NaN</td>\n",
       "      <td>NaN</td>\n",
       "      <td>NaN</td>\n",
       "      <td>NaN</td>\n",
       "      <td>NaN</td>\n",
       "      <td>NaN</td>\n",
       "      <td>NaN</td>\n",
       "      <td>NaN</td>\n",
       "      <td>NaN</td>\n",
       "    </tr>\n",
       "    <tr>\n",
       "      <th>veil color</th>\n",
       "      <td>0.145142</td>\n",
       "      <td>0.029202</td>\n",
       "      <td>-0.192458</td>\n",
       "      <td>-0.173323</td>\n",
       "      <td>-0.119770</td>\n",
       "      <td>-0.050050</td>\n",
       "      <td>-0.897518</td>\n",
       "      <td>0.073363</td>\n",
       "      <td>-0.103809</td>\n",
       "      <td>-0.051135</td>\n",
       "      <td>...</td>\n",
       "      <td>0.016992</td>\n",
       "      <td>0.463594</td>\n",
       "      <td>0.459418</td>\n",
       "      <td>NaN</td>\n",
       "      <td>1.000000</td>\n",
       "      <td>-0.036380</td>\n",
       "      <td>-0.130696</td>\n",
       "      <td>0.090245</td>\n",
       "      <td>-0.132416</td>\n",
       "      <td>-0.275127</td>\n",
       "    </tr>\n",
       "    <tr>\n",
       "      <th>ring number</th>\n",
       "      <td>0.214366</td>\n",
       "      <td>0.041268</td>\n",
       "      <td>-0.122551</td>\n",
       "      <td>0.149280</td>\n",
       "      <td>0.056788</td>\n",
       "      <td>-0.048317</td>\n",
       "      <td>0.093236</td>\n",
       "      <td>-0.243014</td>\n",
       "      <td>-0.171362</td>\n",
       "      <td>-0.023611</td>\n",
       "      <td>...</td>\n",
       "      <td>-0.069077</td>\n",
       "      <td>-0.107648</td>\n",
       "      <td>-0.110700</td>\n",
       "      <td>NaN</td>\n",
       "      <td>-0.036380</td>\n",
       "      <td>1.000000</td>\n",
       "      <td>-0.090498</td>\n",
       "      <td>0.298105</td>\n",
       "      <td>-0.305141</td>\n",
       "      <td>0.074346</td>\n",
       "    </tr>\n",
       "    <tr>\n",
       "      <th>ring type</th>\n",
       "      <td>-0.543410</td>\n",
       "      <td>0.089932</td>\n",
       "      <td>0.116722</td>\n",
       "      <td>-0.024367</td>\n",
       "      <td>-0.681547</td>\n",
       "      <td>0.448132</td>\n",
       "      <td>0.162080</td>\n",
       "      <td>0.026440</td>\n",
       "      <td>0.093052</td>\n",
       "      <td>0.191094</td>\n",
       "      <td>...</td>\n",
       "      <td>-0.496832</td>\n",
       "      <td>0.361590</td>\n",
       "      <td>0.365811</td>\n",
       "      <td>NaN</td>\n",
       "      <td>-0.130696</td>\n",
       "      <td>-0.090498</td>\n",
       "      <td>1.000000</td>\n",
       "      <td>0.447180</td>\n",
       "      <td>0.246239</td>\n",
       "      <td>0.109771</td>\n",
       "    </tr>\n",
       "    <tr>\n",
       "      <th>spore print color</th>\n",
       "      <td>-0.604366</td>\n",
       "      <td>0.217629</td>\n",
       "      <td>-0.077383</td>\n",
       "      <td>0.089343</td>\n",
       "      <td>-0.530131</td>\n",
       "      <td>0.560738</td>\n",
       "      <td>-0.111706</td>\n",
       "      <td>0.163948</td>\n",
       "      <td>0.385289</td>\n",
       "      <td>0.547542</td>\n",
       "      <td>...</td>\n",
       "      <td>-0.386101</td>\n",
       "      <td>0.297218</td>\n",
       "      <td>0.310953</td>\n",
       "      <td>NaN</td>\n",
       "      <td>0.090245</td>\n",
       "      <td>0.298105</td>\n",
       "      <td>0.447180</td>\n",
       "      <td>1.000000</td>\n",
       "      <td>0.061605</td>\n",
       "      <td>-0.027749</td>\n",
       "    </tr>\n",
       "    <tr>\n",
       "      <th>population</th>\n",
       "      <td>-0.256655</td>\n",
       "      <td>0.061447</td>\n",
       "      <td>0.286405</td>\n",
       "      <td>0.007047</td>\n",
       "      <td>-0.051716</td>\n",
       "      <td>0.324874</td>\n",
       "      <td>0.177024</td>\n",
       "      <td>0.389918</td>\n",
       "      <td>0.135152</td>\n",
       "      <td>0.189736</td>\n",
       "      <td>...</td>\n",
       "      <td>-0.311918</td>\n",
       "      <td>0.154356</td>\n",
       "      <td>0.158918</td>\n",
       "      <td>NaN</td>\n",
       "      <td>-0.132416</td>\n",
       "      <td>-0.305141</td>\n",
       "      <td>0.246239</td>\n",
       "      <td>0.061605</td>\n",
       "      <td>1.000000</td>\n",
       "      <td>0.223428</td>\n",
       "    </tr>\n",
       "    <tr>\n",
       "      <th>habitat</th>\n",
       "      <td>0.012502</td>\n",
       "      <td>-0.008336</td>\n",
       "      <td>0.252759</td>\n",
       "      <td>0.114266</td>\n",
       "      <td>0.183189</td>\n",
       "      <td>0.078131</td>\n",
       "      <td>0.280383</td>\n",
       "      <td>0.243794</td>\n",
       "      <td>-0.099804</td>\n",
       "      <td>0.079944</td>\n",
       "      <td>...</td>\n",
       "      <td>-0.103968</td>\n",
       "      <td>0.096508</td>\n",
       "      <td>0.075473</td>\n",
       "      <td>NaN</td>\n",
       "      <td>-0.275127</td>\n",
       "      <td>0.074346</td>\n",
       "      <td>0.109771</td>\n",
       "      <td>-0.027749</td>\n",
       "      <td>0.223428</td>\n",
       "      <td>1.000000</td>\n",
       "    </tr>\n",
       "  </tbody>\n",
       "</table>\n",
       "<p>23 rows × 23 columns</p>\n",
       "</div>"
      ],
      "text/plain": [
       "                           classes  cap shape  cap surface  cap color  \\\n",
       "classes                   1.000000  -0.112110     0.002276  -0.053587   \n",
       "cap shape                -0.112110   1.000000    -0.000421   0.002852   \n",
       "cap surface               0.002276  -0.000421     1.000000  -0.006298   \n",
       "cap color                -0.053587   0.002852    -0.006298   1.000000   \n",
       "bruises                   0.501530  -0.120509     0.128576   0.076351   \n",
       "odor                     -0.554841   0.163831    -0.053031   0.093019   \n",
       "gill attachment          -0.129200  -0.040082     0.176500   0.163660   \n",
       "gill spacing             -0.348387   0.043906     0.280412   0.007940   \n",
       "gill size                -0.540024   0.151921    -0.082961  -0.032389   \n",
       "gill color               -0.451688   0.212743     0.000985   0.066095   \n",
       "stalk shape              -0.102019  -0.126006     0.071319  -0.059362   \n",
       "stalk root               -0.235872   0.005313     0.137052   0.232354   \n",
       "stalk surface above ring -0.558679   0.073036     0.078045   0.000208   \n",
       "stalk surface below ring  0.469179  -0.048383    -0.053495  -0.041770   \n",
       "stalk color above ring   -0.221315   0.068001     0.106037  -0.053305   \n",
       "stalk color below ring   -0.211908   0.073239     0.112411  -0.042638   \n",
       "veil type                      NaN        NaN          NaN        NaN   \n",
       "veil color                0.145142   0.029202    -0.192458  -0.173323   \n",
       "ring number               0.214366   0.041268    -0.122551   0.149280   \n",
       "ring type                -0.543410   0.089932     0.116722  -0.024367   \n",
       "spore print color        -0.604366   0.217629    -0.077383   0.089343   \n",
       "population               -0.256655   0.061447     0.286405   0.007047   \n",
       "habitat                   0.012502  -0.008336     0.252759   0.114266   \n",
       "\n",
       "                           bruises      odor  gill attachment  gill spacing  \\\n",
       "classes                   0.501530 -0.554841        -0.129200     -0.348387   \n",
       "cap shape                -0.120509  0.163831        -0.040082      0.043906   \n",
       "cap surface               0.128576 -0.053031         0.176500      0.280412   \n",
       "cap color                 0.076351  0.093019         0.163660      0.007940   \n",
       "bruises                   1.000000 -0.566219         0.137359      0.299473   \n",
       "odor                     -0.566219  1.000000         0.093215      0.144346   \n",
       "gill attachment           0.137359  0.093215         1.000000     -0.071489   \n",
       "gill spacing              0.299473  0.144346        -0.071489      1.000000   \n",
       "gill size                -0.369596  0.461097         0.108984      0.108333   \n",
       "gill color               -0.298625  0.591272         0.032807      0.261802   \n",
       "stalk shape              -0.099364 -0.353683        -0.186485      0.080895   \n",
       "stalk root                0.098745  0.333043         0.007351      0.407827   \n",
       "stalk surface above ring -0.565372  0.363067         0.086021      0.060449   \n",
       "stalk surface below ring  0.361394 -0.422072        -0.073357     -0.224292   \n",
       "stalk color above ring   -0.264816  0.121986        -0.519668      0.324727   \n",
       "stalk color below ring   -0.275288  0.116505        -0.514936      0.298362   \n",
       "veil type                      NaN       NaN              NaN           NaN   \n",
       "veil color               -0.119770 -0.050050        -0.897518      0.073363   \n",
       "ring number               0.056788 -0.048317         0.093236     -0.243014   \n",
       "ring type                -0.681547  0.448132         0.162080      0.026440   \n",
       "spore print color        -0.530131  0.560738        -0.111706      0.163948   \n",
       "population               -0.051716  0.324874         0.177024      0.389918   \n",
       "habitat                   0.183189  0.078131         0.280383      0.243794   \n",
       "\n",
       "                          gill size  gill color  ...  \\\n",
       "classes                   -0.540024   -0.451688  ...   \n",
       "cap shape                  0.151921    0.212743  ...   \n",
       "cap surface               -0.082961    0.000985  ...   \n",
       "cap color                 -0.032389    0.066095  ...   \n",
       "bruises                   -0.369596   -0.298625  ...   \n",
       "odor                       0.461097    0.591272  ...   \n",
       "gill attachment            0.108984    0.032807  ...   \n",
       "gill spacing               0.108333    0.261802  ...   \n",
       "gill size                  1.000000    0.548059  ...   \n",
       "gill color                 0.548059    1.000000  ...   \n",
       "stalk shape               -0.214576   -0.352433  ...   \n",
       "stalk root                -0.101503    0.169695  ...   \n",
       "stalk surface above ring   0.052386    0.178714  ...   \n",
       "stalk surface below ring  -0.139005   -0.211648  ...   \n",
       "stalk color above ring    -0.196867    0.074376  ...   \n",
       "stalk color below ring    -0.175141    0.073076  ...   \n",
       "veil type                       NaN         NaN  ...   \n",
       "veil color                -0.103809   -0.051135  ...   \n",
       "ring number               -0.171362   -0.023611  ...   \n",
       "ring type                  0.093052    0.191094  ...   \n",
       "spore print color          0.385289    0.547542  ...   \n",
       "population                 0.135152    0.189736  ...   \n",
       "habitat                   -0.099804    0.079944  ...   \n",
       "\n",
       "                          stalk surface below ring  stalk color above ring  \\\n",
       "classes                                   0.469179               -0.221315   \n",
       "cap shape                                -0.048383                0.068001   \n",
       "cap surface                              -0.053495                0.106037   \n",
       "cap color                                -0.041770               -0.053305   \n",
       "bruises                                   0.361394               -0.264816   \n",
       "odor                                     -0.422072                0.121986   \n",
       "gill attachment                          -0.073357               -0.519668   \n",
       "gill spacing                             -0.224292                0.324727   \n",
       "gill size                                -0.139005               -0.196867   \n",
       "gill color                               -0.211648                0.074376   \n",
       "stalk shape                              -0.110832                0.288644   \n",
       "stalk root                               -0.501094                0.341259   \n",
       "stalk surface above ring                 -0.465342                0.347209   \n",
       "stalk surface below ring                  1.000000               -0.329975   \n",
       "stalk color above ring                   -0.329975                1.000000   \n",
       "stalk color below ring                   -0.310044                0.732925   \n",
       "veil type                                      NaN                     NaN   \n",
       "veil color                                0.016992                0.463594   \n",
       "ring number                              -0.069077               -0.107648   \n",
       "ring type                                -0.496832                0.361590   \n",
       "spore print color                        -0.386101                0.297218   \n",
       "population                               -0.311918                0.154356   \n",
       "habitat                                  -0.103968                0.096508   \n",
       "\n",
       "                          stalk color below ring  veil type  veil color  \\\n",
       "classes                                -0.211908        NaN    0.145142   \n",
       "cap shape                               0.073239        NaN    0.029202   \n",
       "cap surface                             0.112411        NaN   -0.192458   \n",
       "cap color                              -0.042638        NaN   -0.173323   \n",
       "bruises                                -0.275288        NaN   -0.119770   \n",
       "odor                                    0.116505        NaN   -0.050050   \n",
       "gill attachment                        -0.514936        NaN   -0.897518   \n",
       "gill spacing                            0.298362        NaN    0.073363   \n",
       "gill size                              -0.175141        NaN   -0.103809   \n",
       "gill color                              0.073076        NaN   -0.051135   \n",
       "stalk shape                             0.303199        NaN    0.162604   \n",
       "stalk root                              0.348532        NaN    0.002137   \n",
       "stalk surface above ring                0.347465        NaN   -0.097445   \n",
       "stalk surface below ring               -0.310044        NaN    0.016992   \n",
       "stalk color above ring                  0.732925        NaN    0.463594   \n",
       "stalk color below ring                  1.000000        NaN    0.459418   \n",
       "veil type                                    NaN        NaN         NaN   \n",
       "veil color                              0.459418        NaN    1.000000   \n",
       "ring number                            -0.110700        NaN   -0.036380   \n",
       "ring type                               0.365811        NaN   -0.130696   \n",
       "spore print color                       0.310953        NaN    0.090245   \n",
       "population                              0.158918        NaN   -0.132416   \n",
       "habitat                                 0.075473        NaN   -0.275127   \n",
       "\n",
       "                          ring number  ring type  spore print color  \\\n",
       "classes                      0.214366  -0.543410          -0.604366   \n",
       "cap shape                    0.041268   0.089932           0.217629   \n",
       "cap surface                 -0.122551   0.116722          -0.077383   \n",
       "cap color                    0.149280  -0.024367           0.089343   \n",
       "bruises                      0.056788  -0.681547          -0.530131   \n",
       "odor                        -0.048317   0.448132           0.560738   \n",
       "gill attachment              0.093236   0.162080          -0.111706   \n",
       "gill spacing                -0.243014   0.026440           0.163948   \n",
       "gill size                   -0.171362   0.093052           0.385289   \n",
       "gill color                  -0.023611   0.191094           0.547542   \n",
       "stalk shape                  0.293221   0.198477           0.106412   \n",
       "stalk root                   0.051190   0.107814           0.262354   \n",
       "stalk surface above ring    -0.083370   0.668583           0.454928   \n",
       "stalk surface below ring    -0.069077  -0.496832          -0.386101   \n",
       "stalk color above ring      -0.107648   0.361590           0.297218   \n",
       "stalk color below ring      -0.110700   0.365811           0.310953   \n",
       "veil type                         NaN        NaN                NaN   \n",
       "veil color                  -0.036380  -0.130696           0.090245   \n",
       "ring number                  1.000000  -0.090498           0.298105   \n",
       "ring type                   -0.090498   1.000000           0.447180   \n",
       "spore print color            0.298105   0.447180           1.000000   \n",
       "population                  -0.305141   0.246239           0.061605   \n",
       "habitat                      0.074346   0.109771          -0.027749   \n",
       "\n",
       "                          population   habitat  \n",
       "classes                    -0.256655  0.012502  \n",
       "cap shape                   0.061447 -0.008336  \n",
       "cap surface                 0.286405  0.252759  \n",
       "cap color                   0.007047  0.114266  \n",
       "bruises                    -0.051716  0.183189  \n",
       "odor                        0.324874  0.078131  \n",
       "gill attachment             0.177024  0.280383  \n",
       "gill spacing                0.389918  0.243794  \n",
       "gill size                   0.135152 -0.099804  \n",
       "gill color                  0.189736  0.079944  \n",
       "stalk shape                -0.250407 -0.041516  \n",
       "stalk root                  0.451058  0.318734  \n",
       "stalk surface above ring    0.210612  0.042310  \n",
       "stalk surface below ring   -0.311918 -0.103968  \n",
       "stalk color above ring      0.154356  0.096508  \n",
       "stalk color below ring      0.158918  0.075473  \n",
       "veil type                        NaN       NaN  \n",
       "veil color                 -0.132416 -0.275127  \n",
       "ring number                -0.305141  0.074346  \n",
       "ring type                   0.246239  0.109771  \n",
       "spore print color           0.061605 -0.027749  \n",
       "population                  1.000000  0.223428  \n",
       "habitat                     0.223428  1.000000  \n",
       "\n",
       "[23 rows x 23 columns]"
      ]
     },
     "execution_count": 189,
     "metadata": {},
     "output_type": "execute_result"
    }
   ],
   "source": [
    "#Multivariate analysis\n",
    "corr=df.corr()\n",
    "corr"
   ]
  },
  {
   "cell_type": "code",
   "execution_count": 190,
   "metadata": {},
   "outputs": [
    {
     "data": {
      "text/plain": [
       "<matplotlib.axes._subplots.AxesSubplot at 0x2b503faab20>"
      ]
     },
     "execution_count": 190,
     "metadata": {},
     "output_type": "execute_result"
    },
    {
     "data": {
      "image/png": "[encoded data removed]",
      "text/plain": [
       "<Figure size 1440x1440 with 2 Axes>"
      ]
     },
     "metadata": {
      "needs_background": "light"
     },
     "output_type": "display_data"
    }
   ],
   "source": [
    "plt.figure(figsize=(20,20))\n",
    "sns.heatmap(corr,annot=True)"
   ]
  },
  {
   "cell_type": "code",
   "execution_count": 191,
   "metadata": {},
   "outputs": [],
   "source": [
    "# Ploting outliers"
   ]
  },
  {
   "cell_type": "code",
   "execution_count": 192,
   "metadata": {},
   "outputs": [
    {
     "data": {
      "text/plain": [
       "classes    AxesSubplot(0.125,0.125;0.775x0.755)\n",
       "dtype: object"
      ]
     },
     "execution_count": 192,
     "metadata": {},
     "output_type": "execute_result"
    },
    {
     "data": {
      "image/png": "[encoded data removed]",
      "text/plain": [
       "<Figure size 432x288 with 1 Axes>"
      ]
     },
     "metadata": {
      "needs_background": "light"
     },
     "output_type": "display_data"
    }
   ],
   "source": [
    "df[\"classes\"].plot(kind=\"box\",subplots=True)"
   ]
  },
  {
   "cell_type": "code",
   "execution_count": 193,
   "metadata": {},
   "outputs": [
    {
     "data": {
      "text/plain": [
       "cap shape    AxesSubplot(0.125,0.125;0.775x0.755)\n",
       "dtype: object"
      ]
     },
     "execution_count": 193,
     "metadata": {},
     "output_type": "execute_result"
    },
    {
     "data": {
      "image/png": "[encoded data removed]",
      "text/plain": [
       "<Figure size 432x288 with 1 Axes>"
      ]
     },
     "metadata": {
      "needs_background": "light"
     },
     "output_type": "display_data"
    }
   ],
   "source": [
    "df[\"cap shape\"].plot(kind=\"box\",subplots=True)"
   ]
  },
  {
   "cell_type": "code",
   "execution_count": 194,
   "metadata": {},
   "outputs": [
    {
     "data": {
      "text/plain": [
       "cap surface    AxesSubplot(0.125,0.125;0.775x0.755)\n",
       "dtype: object"
      ]
     },
     "execution_count": 194,
     "metadata": {},
     "output_type": "execute_result"
    },
    {
     "data": {
      "image/png": "[encoded data removed]",
      "text/plain": [
       "<Figure size 432x288 with 1 Axes>"
      ]
     },
     "metadata": {
      "needs_background": "light"
     },
     "output_type": "display_data"
    }
   ],
   "source": [
    "df[\"cap surface\"].plot(kind=\"box\",subplots=True)"
   ]
  },
  {
   "cell_type": "code",
   "execution_count": 195,
   "metadata": {},
   "outputs": [
    {
     "data": {
      "text/plain": [
       "cap color    AxesSubplot(0.125,0.125;0.775x0.755)\n",
       "dtype: object"
      ]
     },
     "execution_count": 195,
     "metadata": {},
     "output_type": "execute_result"
    },
    {
     "data": {
      "image/png": "[encoded data removed]",
      "text/plain": [
       "<Figure size 432x288 with 1 Axes>"
      ]
     },
     "metadata": {
      "needs_background": "light"
     },
     "output_type": "display_data"
    }
   ],
   "source": [
    "df[\"cap color\"].plot(kind=\"box\",subplots=True)"
   ]
  },
  {
   "cell_type": "code",
   "execution_count": 196,
   "metadata": {},
   "outputs": [
    {
     "data": {
      "text/plain": [
       "bruises    AxesSubplot(0.125,0.125;0.775x0.755)\n",
       "dtype: object"
      ]
     },
     "execution_count": 196,
     "metadata": {},
     "output_type": "execute_result"
    },
    {
     "data": {
      "image/png": "[encoded data removed]",
      "text/plain": [
       "<Figure size 432x288 with 1 Axes>"
      ]
     },
     "metadata": {
      "needs_background": "light"
     },
     "output_type": "display_data"
    }
   ],
   "source": [
    "df[\"bruises\"].plot(kind=\"box\",subplots=True)"
   ]
  },
  {
   "cell_type": "code",
   "execution_count": 197,
   "metadata": {},
   "outputs": [
    {
     "data": {
      "text/plain": [
       "odor    AxesSubplot(0.125,0.125;0.775x0.755)\n",
       "dtype: object"
      ]
     },
     "execution_count": 197,
     "metadata": {},
     "output_type": "execute_result"
    },
    {
     "data": {
      "image/png": "[encoded data removed]",
      "text/plain": [
       "<Figure size 432x288 with 1 Axes>"
      ]
     },
     "metadata": {
      "needs_background": "light"
     },
     "output_type": "display_data"
    }
   ],
   "source": [
    "df[\"odor\"].plot(kind=\"box\",subplots=True)"
   ]
  },
  {
   "cell_type": "code",
   "execution_count": 198,
   "metadata": {},
   "outputs": [
    {
     "data": {
      "text/plain": [
       "gill attachment    AxesSubplot(0.125,0.125;0.775x0.755)\n",
       "dtype: object"
      ]
     },
     "execution_count": 198,
     "metadata": {},
     "output_type": "execute_result"
    },
    {
     "data": {
      "image/png": "[encoded data removed]",
      "text/plain": [
       "<Figure size 432x288 with 1 Axes>"
      ]
     },
     "metadata": {
      "needs_background": "light"
     },
     "output_type": "display_data"
    }
   ],
   "source": [
    "df[\"gill attachment\"].plot(kind=\"box\",subplots=True)"
   ]
  },
  {
   "cell_type": "code",
   "execution_count": 199,
   "metadata": {},
   "outputs": [
    {
     "data": {
      "text/plain": [
       "gill spacing    AxesSubplot(0.125,0.125;0.775x0.755)\n",
       "dtype: object"
      ]
     },
     "execution_count": 199,
     "metadata": {},
     "output_type": "execute_result"
    },
    {
     "data": {
      "image/png": "[encoded data removed]",
      "text/plain": [
       "<Figure size 432x288 with 1 Axes>"
      ]
     },
     "metadata": {
      "needs_background": "light"
     },
     "output_type": "display_data"
    }
   ],
   "source": [
    "df[\"gill spacing\"].plot(kind=\"box\",subplots=True)"
   ]
  },
  {
   "cell_type": "code",
   "execution_count": 200,
   "metadata": {},
   "outputs": [
    {
     "data": {
      "text/plain": [
       "gill size    AxesSubplot(0.125,0.125;0.775x0.755)\n",
       "dtype: object"
      ]
     },
     "execution_count": 200,
     "metadata": {},
     "output_type": "execute_result"
    },
    {
     "data": {
      "image/png": "[encoded data removed]",
      "text/plain": [
       "<Figure size 432x288 with 1 Axes>"
      ]
     },
     "metadata": {
      "needs_background": "light"
     },
     "output_type": "display_data"
    }
   ],
   "source": [
    "df[\"gill size\"].plot(kind=\"box\",subplots=True)"
   ]
  },
  {
   "cell_type": "code",
   "execution_count": 201,
   "metadata": {},
   "outputs": [
    {
     "data": {
      "text/plain": [
       "gill color    AxesSubplot(0.125,0.125;0.775x0.755)\n",
       "dtype: object"
      ]
     },
     "execution_count": 201,
     "metadata": {},
     "output_type": "execute_result"
    },
    {
     "data": {
      "image/png": "[encoded data removed]",
      "text/plain": [
       "<Figure size 432x288 with 1 Axes>"
      ]
     },
     "metadata": {
      "needs_background": "light"
     },
     "output_type": "display_data"
    }
   ],
   "source": [
    "df[\"gill color\"].plot(kind=\"box\",subplots=True)"
   ]
  },
  {
   "cell_type": "code",
   "execution_count": 202,
   "metadata": {},
   "outputs": [
    {
     "data": {
      "text/plain": [
       "stalk shape    AxesSubplot(0.125,0.125;0.775x0.755)\n",
       "dtype: object"
      ]
     },
     "execution_count": 202,
     "metadata": {},
     "output_type": "execute_result"
    },
    {
     "data": {
      "image/png": "[encoded data removed]",
      "text/plain": [
       "<Figure size 432x288 with 1 Axes>"
      ]
     },
     "metadata": {
      "needs_background": "light"
     },
     "output_type": "display_data"
    }
   ],
   "source": [
    "df[\"stalk shape\"].plot(kind=\"box\",subplots=True)"
   ]
  },
  {
   "cell_type": "code",
   "execution_count": 203,
   "metadata": {},
   "outputs": [
    {
     "data": {
      "text/plain": [
       "stalk root    AxesSubplot(0.125,0.125;0.775x0.755)\n",
       "dtype: object"
      ]
     },
     "execution_count": 203,
     "metadata": {},
     "output_type": "execute_result"
    },
    {
     "data": {
      "image/png": "[encoded data removed]",
      "text/plain": [
       "<Figure size 432x288 with 1 Axes>"
      ]
     },
     "metadata": {
      "needs_background": "light"
     },
     "output_type": "display_data"
    }
   ],
   "source": [
    "df[\"stalk root\"].plot(kind=\"box\",subplots=True)"
   ]
  },
  {
   "cell_type": "code",
   "execution_count": 204,
   "metadata": {},
   "outputs": [
    {
     "data": {
      "text/plain": [
       "stalk surface above ring    AxesSubplot(0.125,0.125;0.775x0.755)\n",
       "dtype: object"
      ]
     },
     "execution_count": 204,
     "metadata": {},
     "output_type": "execute_result"
    },
    {
     "data": {
      "image/png": "[encoded data removed]",
      "text/plain": [
       "<Figure size 432x288 with 1 Axes>"
      ]
     },
     "metadata": {
      "needs_background": "light"
     },
     "output_type": "display_data"
    }
   ],
   "source": [
    "df[\"stalk surface above ring\"].plot(kind=\"box\",subplots=True)"
   ]
  },
  {
   "cell_type": "code",
   "execution_count": 205,
   "metadata": {},
   "outputs": [
    {
     "data": {
      "text/plain": [
       "stalk surface below ring    AxesSubplot(0.125,0.125;0.775x0.755)\n",
       "dtype: object"
      ]
     },
     "execution_count": 205,
     "metadata": {},
     "output_type": "execute_result"
    },
    {
     "data": {
      "image/png": "[encoded data removed]",
      "text/plain": [
       "<Figure size 432x288 with 1 Axes>"
      ]
     },
     "metadata": {
      "needs_background": "light"
     },
     "output_type": "display_data"
    }
   ],
   "source": [
    "df[\"stalk surface below ring\"].plot(kind=\"box\",subplots=True)"
   ]
  },
  {
   "cell_type": "code",
   "execution_count": 206,
   "metadata": {},
   "outputs": [
    {
     "data": {
      "text/plain": [
       "stalk color above ring    AxesSubplot(0.125,0.125;0.775x0.755)\n",
       "dtype: object"
      ]
     },
     "execution_count": 206,
     "metadata": {},
     "output_type": "execute_result"
    },
    {
     "data": {
      "image/png": "[encoded data removed]",
      "text/plain": [
       "<Figure size 432x288 with 1 Axes>"
      ]
     },
     "metadata": {
      "needs_background": "light"
     },
     "output_type": "display_data"
    }
   ],
   "source": [
    "df[\"stalk color above ring\"].plot(kind=\"box\",subplots=True)"
   ]
  },
  {
   "cell_type": "code",
   "execution_count": 207,
   "metadata": {},
   "outputs": [
    {
     "data": {
      "text/plain": [
       "stalk color below ring    AxesSubplot(0.125,0.125;0.775x0.755)\n",
       "dtype: object"
      ]
     },
     "execution_count": 207,
     "metadata": {},
     "output_type": "execute_result"
    },
    {
     "data": {
      "image/png": "[encoded data removed]",
      "text/plain": [
       "<Figure size 432x288 with 1 Axes>"
      ]
     },
     "metadata": {
      "needs_background": "light"
     },
     "output_type": "display_data"
    }
   ],
   "source": [
    "df[\"stalk color below ring\"].plot(kind=\"box\",subplots=True)"
   ]
  },
  {
   "cell_type": "code",
   "execution_count": 208,
   "metadata": {},
   "outputs": [
    {
     "data": {
      "text/plain": [
       "veil type    AxesSubplot(0.125,0.125;0.775x0.755)\n",
       "dtype: object"
      ]
     },
     "execution_count": 208,
     "metadata": {},
     "output_type": "execute_result"
    },
    {
     "data": {
      "image/png": "[encoded data removed]",
      "text/plain": [
       "<Figure size 432x288 with 1 Axes>"
      ]
     },
     "metadata": {
      "needs_background": "light"
     },
     "output_type": "display_data"
    }
   ],
   "source": [
    "df[\"veil type\"].plot(kind=\"box\",subplots=True)"
   ]
  },
  {
   "cell_type": "code",
   "execution_count": 209,
   "metadata": {},
   "outputs": [
    {
     "data": {
      "text/plain": [
       "veil color    AxesSubplot(0.125,0.125;0.775x0.755)\n",
       "dtype: object"
      ]
     },
     "execution_count": 209,
     "metadata": {},
     "output_type": "execute_result"
    },
    {
     "data": {
      "image/png": "[encoded data removed]",
      "text/plain": [
       "<Figure size 432x288 with 1 Axes>"
      ]
     },
     "metadata": {
      "needs_background": "light"
     },
     "output_type": "display_data"
    }
   ],
   "source": [
    "df[\"veil color\"].plot(kind=\"box\",subplots=True)"
   ]
  },
  {
   "cell_type": "code",
   "execution_count": 210,
   "metadata": {},
   "outputs": [
    {
     "data": {
      "text/plain": [
       "ring number    AxesSubplot(0.125,0.125;0.775x0.755)\n",
       "dtype: object"
      ]
     },
     "execution_count": 210,
     "metadata": {},
     "output_type": "execute_result"
    },
    {
     "data": {
      "image/png": "[encoded data removed]",
      "text/plain": [
       "<Figure size 432x288 with 1 Axes>"
      ]
     },
     "metadata": {
      "needs_background": "light"
     },
     "output_type": "display_data"
    }
   ],
   "source": [
    "df[\"ring number\"].plot(kind=\"box\",subplots=True)"
   ]
  },
  {
   "cell_type": "code",
   "execution_count": 211,
   "metadata": {},
   "outputs": [
    {
     "data": {
      "text/plain": [
       "ring type    AxesSubplot(0.125,0.125;0.775x0.755)\n",
       "dtype: object"
      ]
     },
     "execution_count": 211,
     "metadata": {},
     "output_type": "execute_result"
    },
    {
     "data": {
      "image/png": "[encoded data removed]",
      "text/plain": [
       "<Figure size 432x288 with 1 Axes>"
      ]
     },
     "metadata": {
      "needs_background": "light"
     },
     "output_type": "display_data"
    }
   ],
   "source": [
    "df[\"ring type\"].plot(kind=\"box\",subplots=True)"
   ]
  },
  {
   "cell_type": "code",
   "execution_count": 212,
   "metadata": {},
   "outputs": [
    {
     "data": {
      "text/plain": [
       "spore print color    AxesSubplot(0.125,0.125;0.775x0.755)\n",
       "dtype: object"
      ]
     },
     "execution_count": 212,
     "metadata": {},
     "output_type": "execute_result"
    },
    {
     "data": {
      "image/png": "[encoded data removed]",
      "text/plain": [
       "<Figure size 432x288 with 1 Axes>"
      ]
     },
     "metadata": {
      "needs_background": "light"
     },
     "output_type": "display_data"
    }
   ],
   "source": [
    "df[\"spore print color\"].plot(kind=\"box\",subplots=True)"
   ]
  },
  {
   "cell_type": "code",
   "execution_count": 213,
   "metadata": {},
   "outputs": [
    {
     "data": {
      "text/plain": [
       "population    AxesSubplot(0.125,0.125;0.775x0.755)\n",
       "dtype: object"
      ]
     },
     "execution_count": 213,
     "metadata": {},
     "output_type": "execute_result"
    },
    {
     "data": {
      "image/png": "[encoded data removed]",
      "text/plain": [
       "<Figure size 432x288 with 1 Axes>"
      ]
     },
     "metadata": {
      "needs_background": "light"
     },
     "output_type": "display_data"
    }
   ],
   "source": [
    "df[\"population\"].plot(kind=\"box\",subplots=True)"
   ]
  },
  {
   "cell_type": "code",
   "execution_count": 214,
   "metadata": {},
   "outputs": [
    {
     "data": {
      "text/plain": [
       "habitat    AxesSubplot(0.125,0.125;0.775x0.755)\n",
       "dtype: object"
      ]
     },
     "execution_count": 214,
     "metadata": {},
     "output_type": "execute_result"
    },
    {
     "data": {
      "image/png": "[encoded data removed]",
      "text/plain": [
       "<Figure size 432x288 with 1 Axes>"
      ]
     },
     "metadata": {
      "needs_background": "light"
     },
     "output_type": "display_data"
    }
   ],
   "source": [
    "df[\"habitat\"].plot(kind=\"box\",subplots=True)"
   ]
  },
  {
   "cell_type": "markdown",
   "metadata": {},
   "source": [
    "from the above observation we find that there are some outliers in most of the attributes "
   ]
  },
  {
   "cell_type": "code",
   "execution_count": 215,
   "metadata": {},
   "outputs": [
    {
     "data": {
      "text/plain": [
       "array([[1.0366127 , 1.03067919, 1.28711822, ..., 1.26248864, 1.64664   ,\n",
       "        1.30766297],\n",
       "       [0.96468045, 1.03067919, 1.28711822, ..., 0.67465864, 0.9708821 ,\n",
       "        0.67831143],\n",
       "       [0.96468045, 0.40130173, 1.28711822, ..., 0.67465864, 0.9708821 ,\n",
       "        0.04895989],\n",
       "       ...,\n",
       "       [0.96468045, 0.8574532 , 1.28711822, ..., 1.85031863, 2.32239789,\n",
       "        1.9370145 ],\n",
       "       [1.0366127 , 1.48683066, 1.08829032, ..., 1.08883133, 0.38063369,\n",
       "        1.9370145 ],\n",
       "       [0.96468045, 1.03067919, 1.28711822, ..., 2.26449131, 2.32239789,\n",
       "        1.9370145 ]])"
      ]
     },
     "execution_count": 215,
     "metadata": {},
     "output_type": "execute_result"
    }
   ],
   "source": [
    "from scipy.stats import zscore\n",
    "z=np.abs(zscore(df))\n",
    "z"
   ]
  },
  {
   "cell_type": "code",
   "execution_count": 216,
   "metadata": {},
   "outputs": [
    {
     "name": "stdout",
     "output_type": "stream",
     "text": [
      "(array([   0,    0,    0, ..., 8123, 8123, 8123], dtype=int64), array([ 0,  1,  2, ..., 20, 21, 22], dtype=int64))\n"
     ]
    }
   ],
   "source": [
    "print(np.where(z<3))"
   ]
  },
  {
   "cell_type": "code",
   "execution_count": 217,
   "metadata": {},
   "outputs": [
    {
     "data": {
      "text/plain": [
       "3.4332552519568216"
      ]
     },
     "execution_count": 217,
     "metadata": {},
     "output_type": "execute_result"
    }
   ],
   "source": [
    "z[3984][18]"
   ]
  },
  {
   "cell_type": "code",
   "execution_count": 218,
   "metadata": {},
   "outputs": [
    {
     "data": {
      "text/html": [
       "<div>\n",
       "<style scoped>\n",
       "    .dataframe tbody tr th:only-of-type {\n",
       "        vertical-align: middle;\n",
       "    }\n",
       "\n",
       "    .dataframe tbody tr th {\n",
       "        vertical-align: top;\n",
       "    }\n",
       "\n",
       "    .dataframe thead th {\n",
       "        text-align: right;\n",
       "    }\n",
       "</style>\n",
       "<table border=\"1\" class=\"dataframe\">\n",
       "  <thead>\n",
       "    <tr style=\"text-align: right;\">\n",
       "      <th></th>\n",
       "      <th>classes</th>\n",
       "      <th>cap shape</th>\n",
       "      <th>cap surface</th>\n",
       "      <th>cap color</th>\n",
       "      <th>bruises</th>\n",
       "      <th>odor</th>\n",
       "      <th>gill attachment</th>\n",
       "      <th>gill spacing</th>\n",
       "      <th>gill size</th>\n",
       "      <th>gill color</th>\n",
       "      <th>...</th>\n",
       "      <th>stalk surface below ring</th>\n",
       "      <th>stalk color above ring</th>\n",
       "      <th>stalk color below ring</th>\n",
       "      <th>veil type</th>\n",
       "      <th>veil color</th>\n",
       "      <th>ring number</th>\n",
       "      <th>ring type</th>\n",
       "      <th>spore print color</th>\n",
       "      <th>population</th>\n",
       "      <th>habitat</th>\n",
       "    </tr>\n",
       "  </thead>\n",
       "  <tbody>\n",
       "  </tbody>\n",
       "</table>\n",
       "<p>0 rows × 23 columns</p>\n",
       "</div>"
      ],
      "text/plain": [
       "Empty DataFrame\n",
       "Columns: [classes, cap shape, cap surface, cap color, bruises, odor, gill attachment, gill spacing, gill size, gill color, stalk shape, stalk root, stalk surface above ring, stalk surface below ring, stalk color above ring, stalk color below ring, veil type, veil color, ring number, ring type, spore print color, population, habitat]\n",
       "Index: []\n",
       "\n",
       "[0 rows x 23 columns]"
      ]
     },
     "execution_count": 218,
     "metadata": {},
     "output_type": "execute_result"
    }
   ],
   "source": [
    "threshold=3\n",
    "df_new=df[(z<3).all(axis=1)]\n",
    "df_new"
   ]
  },
  {
   "cell_type": "code",
   "execution_count": 219,
   "metadata": {},
   "outputs": [
    {
     "data": {
      "text/plain": [
       "1.0306791932626356"
      ]
     },
     "execution_count": 219,
     "metadata": {},
     "output_type": "execute_result"
    }
   ],
   "source": [
    "z[1][1]"
   ]
  },
  {
   "cell_type": "code",
   "execution_count": 220,
   "metadata": {},
   "outputs": [
    {
     "data": {
      "text/html": [
       "<div>\n",
       "<style scoped>\n",
       "    .dataframe tbody tr th:only-of-type {\n",
       "        vertical-align: middle;\n",
       "    }\n",
       "\n",
       "    .dataframe tbody tr th {\n",
       "        vertical-align: top;\n",
       "    }\n",
       "\n",
       "    .dataframe thead th {\n",
       "        text-align: right;\n",
       "    }\n",
       "</style>\n",
       "<table border=\"1\" class=\"dataframe\">\n",
       "  <thead>\n",
       "    <tr style=\"text-align: right;\">\n",
       "      <th></th>\n",
       "      <th>classes</th>\n",
       "      <th>cap shape</th>\n",
       "      <th>cap surface</th>\n",
       "      <th>cap color</th>\n",
       "      <th>bruises</th>\n",
       "      <th>odor</th>\n",
       "      <th>gill attachment</th>\n",
       "      <th>gill spacing</th>\n",
       "      <th>gill size</th>\n",
       "      <th>gill color</th>\n",
       "      <th>...</th>\n",
       "      <th>stalk surface below ring</th>\n",
       "      <th>stalk color above ring</th>\n",
       "      <th>stalk color below ring</th>\n",
       "      <th>veil type</th>\n",
       "      <th>veil color</th>\n",
       "      <th>ring number</th>\n",
       "      <th>ring type</th>\n",
       "      <th>spore print color</th>\n",
       "      <th>population</th>\n",
       "      <th>habitat</th>\n",
       "    </tr>\n",
       "  </thead>\n",
       "  <tbody>\n",
       "    <tr>\n",
       "      <th>0</th>\n",
       "      <td>0</td>\n",
       "      <td>0</td>\n",
       "      <td>1</td>\n",
       "      <td>1</td>\n",
       "      <td>1</td>\n",
       "      <td>1</td>\n",
       "      <td>1</td>\n",
       "      <td>1</td>\n",
       "      <td>1</td>\n",
       "      <td>1</td>\n",
       "      <td>...</td>\n",
       "      <td>1</td>\n",
       "      <td>1</td>\n",
       "      <td>1</td>\n",
       "      <td>0</td>\n",
       "      <td>1</td>\n",
       "      <td>1</td>\n",
       "      <td>1</td>\n",
       "      <td>1</td>\n",
       "      <td>1</td>\n",
       "      <td>1</td>\n",
       "    </tr>\n",
       "    <tr>\n",
       "      <th>1</th>\n",
       "      <td>1</td>\n",
       "      <td>0</td>\n",
       "      <td>1</td>\n",
       "      <td>2</td>\n",
       "      <td>1</td>\n",
       "      <td>2</td>\n",
       "      <td>1</td>\n",
       "      <td>1</td>\n",
       "      <td>0</td>\n",
       "      <td>1</td>\n",
       "      <td>...</td>\n",
       "      <td>1</td>\n",
       "      <td>1</td>\n",
       "      <td>1</td>\n",
       "      <td>0</td>\n",
       "      <td>1</td>\n",
       "      <td>1</td>\n",
       "      <td>1</td>\n",
       "      <td>2</td>\n",
       "      <td>2</td>\n",
       "      <td>2</td>\n",
       "    </tr>\n",
       "    <tr>\n",
       "      <th>2</th>\n",
       "      <td>1</td>\n",
       "      <td>1</td>\n",
       "      <td>1</td>\n",
       "      <td>3</td>\n",
       "      <td>1</td>\n",
       "      <td>3</td>\n",
       "      <td>1</td>\n",
       "      <td>1</td>\n",
       "      <td>0</td>\n",
       "      <td>2</td>\n",
       "      <td>...</td>\n",
       "      <td>1</td>\n",
       "      <td>1</td>\n",
       "      <td>1</td>\n",
       "      <td>0</td>\n",
       "      <td>1</td>\n",
       "      <td>1</td>\n",
       "      <td>1</td>\n",
       "      <td>2</td>\n",
       "      <td>2</td>\n",
       "      <td>3</td>\n",
       "    </tr>\n",
       "    <tr>\n",
       "      <th>3</th>\n",
       "      <td>0</td>\n",
       "      <td>0</td>\n",
       "      <td>3</td>\n",
       "      <td>3</td>\n",
       "      <td>1</td>\n",
       "      <td>1</td>\n",
       "      <td>1</td>\n",
       "      <td>1</td>\n",
       "      <td>1</td>\n",
       "      <td>2</td>\n",
       "      <td>...</td>\n",
       "      <td>1</td>\n",
       "      <td>1</td>\n",
       "      <td>1</td>\n",
       "      <td>0</td>\n",
       "      <td>1</td>\n",
       "      <td>1</td>\n",
       "      <td>1</td>\n",
       "      <td>1</td>\n",
       "      <td>1</td>\n",
       "      <td>1</td>\n",
       "    </tr>\n",
       "    <tr>\n",
       "      <th>4</th>\n",
       "      <td>1</td>\n",
       "      <td>0</td>\n",
       "      <td>1</td>\n",
       "      <td>4</td>\n",
       "      <td>0</td>\n",
       "      <td>4</td>\n",
       "      <td>1</td>\n",
       "      <td>0</td>\n",
       "      <td>0</td>\n",
       "      <td>1</td>\n",
       "      <td>...</td>\n",
       "      <td>1</td>\n",
       "      <td>1</td>\n",
       "      <td>1</td>\n",
       "      <td>0</td>\n",
       "      <td>1</td>\n",
       "      <td>1</td>\n",
       "      <td>2</td>\n",
       "      <td>2</td>\n",
       "      <td>3</td>\n",
       "      <td>2</td>\n",
       "    </tr>\n",
       "    <tr>\n",
       "      <th>...</th>\n",
       "      <td>...</td>\n",
       "      <td>...</td>\n",
       "      <td>...</td>\n",
       "      <td>...</td>\n",
       "      <td>...</td>\n",
       "      <td>...</td>\n",
       "      <td>...</td>\n",
       "      <td>...</td>\n",
       "      <td>...</td>\n",
       "      <td>...</td>\n",
       "      <td>...</td>\n",
       "      <td>...</td>\n",
       "      <td>...</td>\n",
       "      <td>...</td>\n",
       "      <td>...</td>\n",
       "      <td>...</td>\n",
       "      <td>...</td>\n",
       "      <td>...</td>\n",
       "      <td>...</td>\n",
       "      <td>...</td>\n",
       "      <td>...</td>\n",
       "    </tr>\n",
       "    <tr>\n",
       "      <th>8119</th>\n",
       "      <td>1</td>\n",
       "      <td>4</td>\n",
       "      <td>1</td>\n",
       "      <td>1</td>\n",
       "      <td>0</td>\n",
       "      <td>4</td>\n",
       "      <td>0</td>\n",
       "      <td>1</td>\n",
       "      <td>0</td>\n",
       "      <td>11</td>\n",
       "      <td>...</td>\n",
       "      <td>1</td>\n",
       "      <td>7</td>\n",
       "      <td>7</td>\n",
       "      <td>0</td>\n",
       "      <td>3</td>\n",
       "      <td>1</td>\n",
       "      <td>1</td>\n",
       "      <td>0</td>\n",
       "      <td>0</td>\n",
       "      <td>0</td>\n",
       "    </tr>\n",
       "    <tr>\n",
       "      <th>8120</th>\n",
       "      <td>1</td>\n",
       "      <td>0</td>\n",
       "      <td>1</td>\n",
       "      <td>1</td>\n",
       "      <td>0</td>\n",
       "      <td>4</td>\n",
       "      <td>0</td>\n",
       "      <td>1</td>\n",
       "      <td>0</td>\n",
       "      <td>11</td>\n",
       "      <td>...</td>\n",
       "      <td>1</td>\n",
       "      <td>7</td>\n",
       "      <td>7</td>\n",
       "      <td>0</td>\n",
       "      <td>2</td>\n",
       "      <td>1</td>\n",
       "      <td>1</td>\n",
       "      <td>0</td>\n",
       "      <td>4</td>\n",
       "      <td>0</td>\n",
       "    </tr>\n",
       "    <tr>\n",
       "      <th>8121</th>\n",
       "      <td>1</td>\n",
       "      <td>3</td>\n",
       "      <td>1</td>\n",
       "      <td>1</td>\n",
       "      <td>0</td>\n",
       "      <td>4</td>\n",
       "      <td>0</td>\n",
       "      <td>1</td>\n",
       "      <td>0</td>\n",
       "      <td>2</td>\n",
       "      <td>...</td>\n",
       "      <td>1</td>\n",
       "      <td>7</td>\n",
       "      <td>7</td>\n",
       "      <td>0</td>\n",
       "      <td>3</td>\n",
       "      <td>1</td>\n",
       "      <td>1</td>\n",
       "      <td>0</td>\n",
       "      <td>0</td>\n",
       "      <td>0</td>\n",
       "    </tr>\n",
       "    <tr>\n",
       "      <th>8122</th>\n",
       "      <td>0</td>\n",
       "      <td>4</td>\n",
       "      <td>3</td>\n",
       "      <td>1</td>\n",
       "      <td>0</td>\n",
       "      <td>7</td>\n",
       "      <td>1</td>\n",
       "      <td>1</td>\n",
       "      <td>1</td>\n",
       "      <td>9</td>\n",
       "      <td>...</td>\n",
       "      <td>0</td>\n",
       "      <td>1</td>\n",
       "      <td>1</td>\n",
       "      <td>0</td>\n",
       "      <td>1</td>\n",
       "      <td>1</td>\n",
       "      <td>2</td>\n",
       "      <td>5</td>\n",
       "      <td>4</td>\n",
       "      <td>0</td>\n",
       "    </tr>\n",
       "    <tr>\n",
       "      <th>8123</th>\n",
       "      <td>1</td>\n",
       "      <td>0</td>\n",
       "      <td>1</td>\n",
       "      <td>1</td>\n",
       "      <td>0</td>\n",
       "      <td>4</td>\n",
       "      <td>0</td>\n",
       "      <td>1</td>\n",
       "      <td>0</td>\n",
       "      <td>11</td>\n",
       "      <td>...</td>\n",
       "      <td>1</td>\n",
       "      <td>7</td>\n",
       "      <td>7</td>\n",
       "      <td>0</td>\n",
       "      <td>3</td>\n",
       "      <td>1</td>\n",
       "      <td>1</td>\n",
       "      <td>7</td>\n",
       "      <td>0</td>\n",
       "      <td>0</td>\n",
       "    </tr>\n",
       "  </tbody>\n",
       "</table>\n",
       "<p>8124 rows × 23 columns</p>\n",
       "</div>"
      ],
      "text/plain": [
       "      classes  cap shape  cap surface  cap color  bruises  odor  \\\n",
       "0           0          0            1          1        1     1   \n",
       "1           1          0            1          2        1     2   \n",
       "2           1          1            1          3        1     3   \n",
       "3           0          0            3          3        1     1   \n",
       "4           1          0            1          4        0     4   \n",
       "...       ...        ...          ...        ...      ...   ...   \n",
       "8119        1          4            1          1        0     4   \n",
       "8120        1          0            1          1        0     4   \n",
       "8121        1          3            1          1        0     4   \n",
       "8122        0          4            3          1        0     7   \n",
       "8123        1          0            1          1        0     4   \n",
       "\n",
       "      gill attachment  gill spacing  gill size  gill color  ...  \\\n",
       "0                   1             1          1           1  ...   \n",
       "1                   1             1          0           1  ...   \n",
       "2                   1             1          0           2  ...   \n",
       "3                   1             1          1           2  ...   \n",
       "4                   1             0          0           1  ...   \n",
       "...               ...           ...        ...         ...  ...   \n",
       "8119                0             1          0          11  ...   \n",
       "8120                0             1          0          11  ...   \n",
       "8121                0             1          0           2  ...   \n",
       "8122                1             1          1           9  ...   \n",
       "8123                0             1          0          11  ...   \n",
       "\n",
       "      stalk surface below ring  stalk color above ring  \\\n",
       "0                            1                       1   \n",
       "1                            1                       1   \n",
       "2                            1                       1   \n",
       "3                            1                       1   \n",
       "4                            1                       1   \n",
       "...                        ...                     ...   \n",
       "8119                         1                       7   \n",
       "8120                         1                       7   \n",
       "8121                         1                       7   \n",
       "8122                         0                       1   \n",
       "8123                         1                       7   \n",
       "\n",
       "      stalk color below ring  veil type  veil color  ring number  ring type  \\\n",
       "0                          1          0           1            1          1   \n",
       "1                          1          0           1            1          1   \n",
       "2                          1          0           1            1          1   \n",
       "3                          1          0           1            1          1   \n",
       "4                          1          0           1            1          2   \n",
       "...                      ...        ...         ...          ...        ...   \n",
       "8119                       7          0           3            1          1   \n",
       "8120                       7          0           2            1          1   \n",
       "8121                       7          0           3            1          1   \n",
       "8122                       1          0           1            1          2   \n",
       "8123                       7          0           3            1          1   \n",
       "\n",
       "      spore print color  population  habitat  \n",
       "0                     1           1        1  \n",
       "1                     2           2        2  \n",
       "2                     2           2        3  \n",
       "3                     1           1        1  \n",
       "4                     2           3        2  \n",
       "...                 ...         ...      ...  \n",
       "8119                  0           0        0  \n",
       "8120                  0           4        0  \n",
       "8121                  0           0        0  \n",
       "8122                  5           4        0  \n",
       "8123                  7           0        0  \n",
       "\n",
       "[8124 rows x 23 columns]"
      ]
     },
     "execution_count": 220,
     "metadata": {},
     "output_type": "execute_result"
    }
   ],
   "source": [
    "df"
   ]
  },
  {
   "cell_type": "markdown",
   "metadata": {},
   "source": [
    "# preparing dataset for model training\n",
    "\n",
    "seperating independent and dependent variable"
   ]
  },
  {
   "cell_type": "code",
   "execution_count": 221,
   "metadata": {},
   "outputs": [],
   "source": [
    "x=df.drop(\"classes\",axis=1)\n",
    "y=df[\"classes\"]"
   ]
  },
  {
   "cell_type": "markdown",
   "metadata": {},
   "source": [
    "# Scaling"
   ]
  },
  {
   "cell_type": "markdown",
   "metadata": {},
   "source": [
    "Model can be biased to higher values in dataset so it is better to scale the dataset .so that we can bring all the column in common range.\n",
    "\n",
    "There are 2 algorithmns for scaling\n",
    "\n",
    "1)standard scaler\n",
    "\n",
    "2)minmax scaler\n",
    "\n",
    "Here we will use standard scaler which will be appropriate for our dataset"
   ]
  },
  {
   "cell_type": "code",
   "execution_count": 222,
   "metadata": {},
   "outputs": [],
   "source": [
    "from sklearn.preprocessing import StandardScaler\n",
    "sc=StandardScaler()\n",
    "scaledx=sc.fit_transform(x)"
   ]
  },
  {
   "cell_type": "code",
   "execution_count": 223,
   "metadata": {},
   "outputs": [
    {
     "data": {
      "text/html": [
       "<div>\n",
       "<style scoped>\n",
       "    .dataframe tbody tr th:only-of-type {\n",
       "        vertical-align: middle;\n",
       "    }\n",
       "\n",
       "    .dataframe tbody tr th {\n",
       "        vertical-align: top;\n",
       "    }\n",
       "\n",
       "    .dataframe thead th {\n",
       "        text-align: right;\n",
       "    }\n",
       "</style>\n",
       "<table border=\"1\" class=\"dataframe\">\n",
       "  <thead>\n",
       "    <tr style=\"text-align: right;\">\n",
       "      <th></th>\n",
       "      <th>cap shape</th>\n",
       "      <th>cap surface</th>\n",
       "      <th>cap color</th>\n",
       "      <th>bruises</th>\n",
       "      <th>odor</th>\n",
       "      <th>gill attachment</th>\n",
       "      <th>gill spacing</th>\n",
       "      <th>gill size</th>\n",
       "      <th>gill color</th>\n",
       "      <th>stalk shape</th>\n",
       "      <th>...</th>\n",
       "      <th>stalk surface below ring</th>\n",
       "      <th>stalk color above ring</th>\n",
       "      <th>stalk color below ring</th>\n",
       "      <th>veil type</th>\n",
       "      <th>veil color</th>\n",
       "      <th>ring number</th>\n",
       "      <th>ring type</th>\n",
       "      <th>spore print color</th>\n",
       "      <th>population</th>\n",
       "      <th>habitat</th>\n",
       "    </tr>\n",
       "  </thead>\n",
       "  <tbody>\n",
       "    <tr>\n",
       "      <th>0</th>\n",
       "      <td>0</td>\n",
       "      <td>1</td>\n",
       "      <td>1</td>\n",
       "      <td>1</td>\n",
       "      <td>1</td>\n",
       "      <td>1</td>\n",
       "      <td>1</td>\n",
       "      <td>1</td>\n",
       "      <td>1</td>\n",
       "      <td>1</td>\n",
       "      <td>...</td>\n",
       "      <td>1</td>\n",
       "      <td>1</td>\n",
       "      <td>1</td>\n",
       "      <td>0</td>\n",
       "      <td>1</td>\n",
       "      <td>1</td>\n",
       "      <td>1</td>\n",
       "      <td>1</td>\n",
       "      <td>1</td>\n",
       "      <td>1</td>\n",
       "    </tr>\n",
       "    <tr>\n",
       "      <th>1</th>\n",
       "      <td>0</td>\n",
       "      <td>1</td>\n",
       "      <td>2</td>\n",
       "      <td>1</td>\n",
       "      <td>2</td>\n",
       "      <td>1</td>\n",
       "      <td>1</td>\n",
       "      <td>0</td>\n",
       "      <td>1</td>\n",
       "      <td>1</td>\n",
       "      <td>...</td>\n",
       "      <td>1</td>\n",
       "      <td>1</td>\n",
       "      <td>1</td>\n",
       "      <td>0</td>\n",
       "      <td>1</td>\n",
       "      <td>1</td>\n",
       "      <td>1</td>\n",
       "      <td>2</td>\n",
       "      <td>2</td>\n",
       "      <td>2</td>\n",
       "    </tr>\n",
       "    <tr>\n",
       "      <th>2</th>\n",
       "      <td>1</td>\n",
       "      <td>1</td>\n",
       "      <td>3</td>\n",
       "      <td>1</td>\n",
       "      <td>3</td>\n",
       "      <td>1</td>\n",
       "      <td>1</td>\n",
       "      <td>0</td>\n",
       "      <td>2</td>\n",
       "      <td>1</td>\n",
       "      <td>...</td>\n",
       "      <td>1</td>\n",
       "      <td>1</td>\n",
       "      <td>1</td>\n",
       "      <td>0</td>\n",
       "      <td>1</td>\n",
       "      <td>1</td>\n",
       "      <td>1</td>\n",
       "      <td>2</td>\n",
       "      <td>2</td>\n",
       "      <td>3</td>\n",
       "    </tr>\n",
       "    <tr>\n",
       "      <th>3</th>\n",
       "      <td>0</td>\n",
       "      <td>3</td>\n",
       "      <td>3</td>\n",
       "      <td>1</td>\n",
       "      <td>1</td>\n",
       "      <td>1</td>\n",
       "      <td>1</td>\n",
       "      <td>1</td>\n",
       "      <td>2</td>\n",
       "      <td>1</td>\n",
       "      <td>...</td>\n",
       "      <td>1</td>\n",
       "      <td>1</td>\n",
       "      <td>1</td>\n",
       "      <td>0</td>\n",
       "      <td>1</td>\n",
       "      <td>1</td>\n",
       "      <td>1</td>\n",
       "      <td>1</td>\n",
       "      <td>1</td>\n",
       "      <td>1</td>\n",
       "    </tr>\n",
       "    <tr>\n",
       "      <th>4</th>\n",
       "      <td>0</td>\n",
       "      <td>1</td>\n",
       "      <td>4</td>\n",
       "      <td>0</td>\n",
       "      <td>4</td>\n",
       "      <td>1</td>\n",
       "      <td>0</td>\n",
       "      <td>0</td>\n",
       "      <td>1</td>\n",
       "      <td>0</td>\n",
       "      <td>...</td>\n",
       "      <td>1</td>\n",
       "      <td>1</td>\n",
       "      <td>1</td>\n",
       "      <td>0</td>\n",
       "      <td>1</td>\n",
       "      <td>1</td>\n",
       "      <td>2</td>\n",
       "      <td>2</td>\n",
       "      <td>3</td>\n",
       "      <td>2</td>\n",
       "    </tr>\n",
       "    <tr>\n",
       "      <th>...</th>\n",
       "      <td>...</td>\n",
       "      <td>...</td>\n",
       "      <td>...</td>\n",
       "      <td>...</td>\n",
       "      <td>...</td>\n",
       "      <td>...</td>\n",
       "      <td>...</td>\n",
       "      <td>...</td>\n",
       "      <td>...</td>\n",
       "      <td>...</td>\n",
       "      <td>...</td>\n",
       "      <td>...</td>\n",
       "      <td>...</td>\n",
       "      <td>...</td>\n",
       "      <td>...</td>\n",
       "      <td>...</td>\n",
       "      <td>...</td>\n",
       "      <td>...</td>\n",
       "      <td>...</td>\n",
       "      <td>...</td>\n",
       "      <td>...</td>\n",
       "    </tr>\n",
       "    <tr>\n",
       "      <th>8119</th>\n",
       "      <td>4</td>\n",
       "      <td>1</td>\n",
       "      <td>1</td>\n",
       "      <td>0</td>\n",
       "      <td>4</td>\n",
       "      <td>0</td>\n",
       "      <td>1</td>\n",
       "      <td>0</td>\n",
       "      <td>11</td>\n",
       "      <td>1</td>\n",
       "      <td>...</td>\n",
       "      <td>1</td>\n",
       "      <td>7</td>\n",
       "      <td>7</td>\n",
       "      <td>0</td>\n",
       "      <td>3</td>\n",
       "      <td>1</td>\n",
       "      <td>1</td>\n",
       "      <td>0</td>\n",
       "      <td>0</td>\n",
       "      <td>0</td>\n",
       "    </tr>\n",
       "    <tr>\n",
       "      <th>8120</th>\n",
       "      <td>0</td>\n",
       "      <td>1</td>\n",
       "      <td>1</td>\n",
       "      <td>0</td>\n",
       "      <td>4</td>\n",
       "      <td>0</td>\n",
       "      <td>1</td>\n",
       "      <td>0</td>\n",
       "      <td>11</td>\n",
       "      <td>1</td>\n",
       "      <td>...</td>\n",
       "      <td>1</td>\n",
       "      <td>7</td>\n",
       "      <td>7</td>\n",
       "      <td>0</td>\n",
       "      <td>2</td>\n",
       "      <td>1</td>\n",
       "      <td>1</td>\n",
       "      <td>0</td>\n",
       "      <td>4</td>\n",
       "      <td>0</td>\n",
       "    </tr>\n",
       "    <tr>\n",
       "      <th>8121</th>\n",
       "      <td>3</td>\n",
       "      <td>1</td>\n",
       "      <td>1</td>\n",
       "      <td>0</td>\n",
       "      <td>4</td>\n",
       "      <td>0</td>\n",
       "      <td>1</td>\n",
       "      <td>0</td>\n",
       "      <td>2</td>\n",
       "      <td>1</td>\n",
       "      <td>...</td>\n",
       "      <td>1</td>\n",
       "      <td>7</td>\n",
       "      <td>7</td>\n",
       "      <td>0</td>\n",
       "      <td>3</td>\n",
       "      <td>1</td>\n",
       "      <td>1</td>\n",
       "      <td>0</td>\n",
       "      <td>0</td>\n",
       "      <td>0</td>\n",
       "    </tr>\n",
       "    <tr>\n",
       "      <th>8122</th>\n",
       "      <td>4</td>\n",
       "      <td>3</td>\n",
       "      <td>1</td>\n",
       "      <td>0</td>\n",
       "      <td>7</td>\n",
       "      <td>1</td>\n",
       "      <td>1</td>\n",
       "      <td>1</td>\n",
       "      <td>9</td>\n",
       "      <td>0</td>\n",
       "      <td>...</td>\n",
       "      <td>0</td>\n",
       "      <td>1</td>\n",
       "      <td>1</td>\n",
       "      <td>0</td>\n",
       "      <td>1</td>\n",
       "      <td>1</td>\n",
       "      <td>2</td>\n",
       "      <td>5</td>\n",
       "      <td>4</td>\n",
       "      <td>0</td>\n",
       "    </tr>\n",
       "    <tr>\n",
       "      <th>8123</th>\n",
       "      <td>0</td>\n",
       "      <td>1</td>\n",
       "      <td>1</td>\n",
       "      <td>0</td>\n",
       "      <td>4</td>\n",
       "      <td>0</td>\n",
       "      <td>1</td>\n",
       "      <td>0</td>\n",
       "      <td>11</td>\n",
       "      <td>1</td>\n",
       "      <td>...</td>\n",
       "      <td>1</td>\n",
       "      <td>7</td>\n",
       "      <td>7</td>\n",
       "      <td>0</td>\n",
       "      <td>3</td>\n",
       "      <td>1</td>\n",
       "      <td>1</td>\n",
       "      <td>7</td>\n",
       "      <td>0</td>\n",
       "      <td>0</td>\n",
       "    </tr>\n",
       "  </tbody>\n",
       "</table>\n",
       "<p>8124 rows × 22 columns</p>\n",
       "</div>"
      ],
      "text/plain": [
       "      cap shape  cap surface  cap color  bruises  odor  gill attachment  \\\n",
       "0             0            1          1        1     1                1   \n",
       "1             0            1          2        1     2                1   \n",
       "2             1            1          3        1     3                1   \n",
       "3             0            3          3        1     1                1   \n",
       "4             0            1          4        0     4                1   \n",
       "...         ...          ...        ...      ...   ...              ...   \n",
       "8119          4            1          1        0     4                0   \n",
       "8120          0            1          1        0     4                0   \n",
       "8121          3            1          1        0     4                0   \n",
       "8122          4            3          1        0     7                1   \n",
       "8123          0            1          1        0     4                0   \n",
       "\n",
       "      gill spacing  gill size  gill color  stalk shape  ...  \\\n",
       "0                1          1           1            1  ...   \n",
       "1                1          0           1            1  ...   \n",
       "2                1          0           2            1  ...   \n",
       "3                1          1           2            1  ...   \n",
       "4                0          0           1            0  ...   \n",
       "...            ...        ...         ...          ...  ...   \n",
       "8119             1          0          11            1  ...   \n",
       "8120             1          0          11            1  ...   \n",
       "8121             1          0           2            1  ...   \n",
       "8122             1          1           9            0  ...   \n",
       "8123             1          0          11            1  ...   \n",
       "\n",
       "      stalk surface below ring  stalk color above ring  \\\n",
       "0                            1                       1   \n",
       "1                            1                       1   \n",
       "2                            1                       1   \n",
       "3                            1                       1   \n",
       "4                            1                       1   \n",
       "...                        ...                     ...   \n",
       "8119                         1                       7   \n",
       "8120                         1                       7   \n",
       "8121                         1                       7   \n",
       "8122                         0                       1   \n",
       "8123                         1                       7   \n",
       "\n",
       "      stalk color below ring  veil type  veil color  ring number  ring type  \\\n",
       "0                          1          0           1            1          1   \n",
       "1                          1          0           1            1          1   \n",
       "2                          1          0           1            1          1   \n",
       "3                          1          0           1            1          1   \n",
       "4                          1          0           1            1          2   \n",
       "...                      ...        ...         ...          ...        ...   \n",
       "8119                       7          0           3            1          1   \n",
       "8120                       7          0           2            1          1   \n",
       "8121                       7          0           3            1          1   \n",
       "8122                       1          0           1            1          2   \n",
       "8123                       7          0           3            1          1   \n",
       "\n",
       "      spore print color  population  habitat  \n",
       "0                     1           1        1  \n",
       "1                     2           2        2  \n",
       "2                     2           2        3  \n",
       "3                     1           1        1  \n",
       "4                     2           3        2  \n",
       "...                 ...         ...      ...  \n",
       "8119                  0           0        0  \n",
       "8120                  0           4        0  \n",
       "8121                  0           0        0  \n",
       "8122                  5           4        0  \n",
       "8123                  7           0        0  \n",
       "\n",
       "[8124 rows x 22 columns]"
      ]
     },
     "execution_count": 223,
     "metadata": {},
     "output_type": "execute_result"
    }
   ],
   "source": [
    "x"
   ]
  },
  {
   "cell_type": "markdown",
   "metadata": {},
   "source": [
    "splitting the testing and training data"
   ]
  },
  {
   "cell_type": "code",
   "execution_count": 224,
   "metadata": {},
   "outputs": [],
   "source": [
    "from sklearn.linear_model import LogisticRegression\n",
    "from sklearn.metrics import accuracy_score\n",
    "from sklearn.metrics import confusion_matrix,classification_report\n",
    "from sklearn.model_selection import train_test_split\n",
    "x_train,x_test,y_train,y_test=train_test_split(x,y,test_size=.33,random_state=42)"
   ]
  },
  {
   "cell_type": "code",
   "execution_count": 225,
   "metadata": {},
   "outputs": [
    {
     "data": {
      "text/plain": [
       "(5443, 22)"
      ]
     },
     "execution_count": 225,
     "metadata": {},
     "output_type": "execute_result"
    }
   ],
   "source": [
    "x_train.shape"
   ]
  },
  {
   "cell_type": "code",
   "execution_count": 226,
   "metadata": {},
   "outputs": [
    {
     "data": {
      "text/plain": [
       "(5443,)"
      ]
     },
     "execution_count": 226,
     "metadata": {},
     "output_type": "execute_result"
    }
   ],
   "source": [
    "y_train.shape"
   ]
  },
  {
   "cell_type": "code",
   "execution_count": 227,
   "metadata": {},
   "outputs": [
    {
     "data": {
      "text/plain": [
       "(2681, 22)"
      ]
     },
     "execution_count": 227,
     "metadata": {},
     "output_type": "execute_result"
    }
   ],
   "source": [
    "x_test.shape"
   ]
  },
  {
   "cell_type": "code",
   "execution_count": 228,
   "metadata": {},
   "outputs": [
    {
     "data": {
      "text/plain": [
       "(2681, 22)"
      ]
     },
     "execution_count": 228,
     "metadata": {},
     "output_type": "execute_result"
    }
   ],
   "source": [
    "x_test.shape"
   ]
  },
  {
   "cell_type": "markdown",
   "metadata": {},
   "source": [
    "# finding best method\n",
    "There are various algorithms to predict the target variable. Here we will use the following method which will suit for the given data\n",
    "\n",
    "1) Logical Regression\n",
    "\n",
    "2) Support vector regressor\n"
   ]
  },
  {
   "cell_type": "code",
   "execution_count": 229,
   "metadata": {},
   "outputs": [
    {
     "name": "stdout",
     "output_type": "stream",
     "text": [
      "[1 0 0 ... 1 1 1]\n",
      "\n",
      "Accuracy score :  0.9843342036553525\n",
      "\n",
      "Confussion matrix :  [[1292   11]\n",
      " [  31 1347]]\n",
      "\n",
      "classification report :                precision    recall  f1-score   support\n",
      "\n",
      "           0       0.98      0.99      0.98      1303\n",
      "           1       0.99      0.98      0.98      1378\n",
      "\n",
      "    accuracy                           0.98      2681\n",
      "   macro avg       0.98      0.98      0.98      2681\n",
      "weighted avg       0.98      0.98      0.98      2681\n",
      "\n"
     ]
    }
   ],
   "source": [
    "#Logical regression\n",
    "lg=LogisticRegression()\n",
    "lg.fit(x_train,y_train)#for Training purpose\n",
    "lg_pred=lg.predict(x_test)#for Testing purpose\n",
    "print(lg_pred)\n",
    "print(\"\\nAccuracy score : \",accuracy_score(y_test,lg_pred))\n",
    "print(\"\\nConfussion matrix : \",confusion_matrix(y_test,lg_pred))\n",
    "print(\"\\nclassification report : \",classification_report(y_test,lg_pred))"
   ]
  },
  {
   "cell_type": "markdown",
   "metadata": {},
   "source": [
    "2) support vector regressor"
   ]
  },
  {
   "cell_type": "code",
   "execution_count": 230,
   "metadata": {},
   "outputs": [
    {
     "name": "stdout",
     "output_type": "stream",
     "text": [
      "{'kernel': 'rbf'}\n"
     ]
    }
   ],
   "source": [
    "#finding best parameters for svr\n",
    "from sklearn.model_selection import GridSearchCV\n",
    "from sklearn.svm import SVR\n",
    "parameters={\"kernel\":[\"linera\",\"poly\",\"rbf\",\"sigmoid\"]}\n",
    "sv=SVR()\n",
    "clf=GridSearchCV(sv,parameters)\n",
    "clf.fit(x_train,y_train)\n",
    "print(clf.best_params_)\n",
    "\n",
    "\n"
   ]
  },
  {
   "cell_type": "code",
   "execution_count": 231,
   "metadata": {},
   "outputs": [
    {
     "name": "stdout",
     "output_type": "stream",
     "text": [
      "r2score :  98.5446478198214\n",
      "cross value score :  -2.8429829002755853\n"
     ]
    }
   ],
   "source": [
    "#SVR METHOD\n",
    "from sklearn.model_selection import cross_val_score\n",
    "from sklearn.metrics import r2_score\n",
    "sv=SVR(kernel=\"rbf\")\n",
    "sv.fit(x_train,y_train)\n",
    "sv.score(x_train,y_train)\n",
    "pred_vector=sv.predict(x_test)\n",
    "svs=r2_score(y_test,pred_vector)\n",
    "print(\"r2score : \" ,svs*100)\n",
    "svscore=cross_val_score(sv,x,y,cv=3)\n",
    "svc=svscore.mean()\n",
    "print(\"cross value score : \",svc*100)"
   ]
  },
  {
   "cell_type": "markdown",
   "metadata": {},
   "source": [
    "Both logical regression and support vector regression shows high accuracy of 98%. since cv score is in negative we will take logical regression\n",
    "\n"
   ]
  },
  {
   "cell_type": "markdown",
   "metadata": {},
   "source": [
    "# HYPERPARAMETER TUNING"
   ]
  },
  {
   "cell_type": "code",
   "execution_count": 232,
   "metadata": {},
   "outputs": [],
   "source": [
    "#creating parameter list to pass in gridsearch CV\n",
    "param_grid_lr = [{\"C\": [0.001, 0.01, 0.05, 0.1, 0.5, 1.0, 10.0]}]\n",
    "\n",
    "\n"
   ]
  },
  {
   "cell_type": "code",
   "execution_count": 233,
   "metadata": {},
   "outputs": [
    {
     "name": "stdout",
     "output_type": "stream",
     "text": [
      "Final accuracy =  98.80548070936001\n"
     ]
    }
   ],
   "source": [
    "from sklearn.model_selection import GridSearchCV\n",
    "GCV=GridSearchCV(lg, param_grid = param_grid_lr,scoring='accuracy',cv=10,refit=True,n_jobs=1)\n",
    "GCV.fit(x_train,y_train)\n",
    "GCV.best_estimator_#finding best estimator\n",
    "GCV_pred=GCV.best_estimator_.predict(x_test)\n",
    "print(\"Final accuracy = \",r2_score(y_test,GCV_pred)*100)"
   ]
  },
  {
   "cell_type": "markdown",
   "metadata": {},
   "source": [
    "# Serialization"
   ]
  },
  {
   "cell_type": "code",
   "execution_count": 234,
   "metadata": {},
   "outputs": [
    {
     "data": {
      "text/plain": [
       "['mushroom_dataset.pkl']"
      ]
     },
     "execution_count": 234,
     "metadata": {},
     "output_type": "execute_result"
    }
   ],
   "source": [
    "import joblib\n",
    "joblib.dump(lg,\"mushroom_dataset.pkl\")\n"
   ]
  },
  {
   "cell_type": "code",
   "execution_count": null,
   "metadata": {},
   "outputs": [],
   "source": []
  },
  {
   "cell_type": "code",
   "execution_count": null,
   "metadata": {},
   "outputs": [],
   "source": []
  },
  {
   "cell_type": "code",
   "execution_count": null,
   "metadata": {},
   "outputs": [],
   "source": []
  },
  {
   "cell_type": "code",
   "execution_count": null,
   "metadata": {},
   "outputs": [],
   "source": []
  },
  {
   "cell_type": "code",
   "execution_count": null,
   "metadata": {},
   "outputs": [],
   "source": []
  },
  {
   "cell_type": "code",
   "execution_count": null,
   "metadata": {},
   "outputs": [],
   "source": []
  },
  {
   "cell_type": "code",
   "execution_count": null,
   "metadata": {},
   "outputs": [],
   "source": []
  }
 ],
 "metadata": {
  "kernelspec": {
   "display_name": "Python 3",
   "language": "python",
   "name": "python3"
  },
  "language_info": {
   "codemirror_mode": {
    "name": "ipython",
    "version": 3
   },
   "file_extension": ".py",
   "mimetype": "text/x-python",
   "name": "python",
   "nbconvert_exporter": "python",
   "pygments_lexer": "ipython3",
   "version": "3.8.3"
  }
 },
 "nbformat": 4,
 "nbformat_minor": 4
}
