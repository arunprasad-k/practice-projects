{
 "cells": [
  {
   "cell_type": "markdown",
   "metadata": {},
   "source": [
    "# Program to predict Heart Disease using Logistic Regression"
   ]
  },
  {
   "cell_type": "markdown",
   "metadata": {},
   "source": [
    "# Introduction\n",
    "\n",
    "WHO has estimated 12 million deaths occur worldwide, every year due to Heart diseases. Half the deaths in the United States and other developed countries are due to cardio vascular diseases.considering India One in 4 deaths are now because of CVDs with ischemic heart disease and stroke responsible for >80% of this burden .The early prognosis of cardiovascular diseases can aid in making decisions on lifestyle changes in high risk patients and in turn reduce the complications.This research intends to pinpoint the most relevant/risk factors of heart disease as well as predict the overall risk using logistic regression."
   ]
  },
  {
   "cell_type": "markdown",
   "metadata": {},
   "source": [
    "# Data Set Information:\n",
    "\n",
    "This database contains 14 attributes . In particular, the Cleveland database is the only one that has been used by ML researchers to this date. The \"goal\" field refers to the presence of heart disease in the patient. It is integer valued from 0 (no presence) to 4. Experiments with the Cleveland database have concentrated on simply attempting to distinguish presence (values 1,2,3,4) from absence (value 0)."
   ]
  },
  {
   "cell_type": "code",
   "execution_count": 26,
   "metadata": {},
   "outputs": [],
   "source": [
    "#importing libraries\n",
    "import pandas as pd\n",
    "import numpy as np\n",
    "import matplotlib.pyplot as plt\n",
    "import seaborn as sns\n",
    "import warnings\n",
    "warnings.filterwarnings(\"ignore\")"
   ]
  },
  {
   "cell_type": "code",
   "execution_count": 27,
   "metadata": {},
   "outputs": [
    {
     "data": {
      "text/html": [
       "<div>\n",
       "<style scoped>\n",
       "    .dataframe tbody tr th:only-of-type {\n",
       "        vertical-align: middle;\n",
       "    }\n",
       "\n",
       "    .dataframe tbody tr th {\n",
       "        vertical-align: top;\n",
       "    }\n",
       "\n",
       "    .dataframe thead th {\n",
       "        text-align: right;\n",
       "    }\n",
       "</style>\n",
       "<table border=\"1\" class=\"dataframe\">\n",
       "  <thead>\n",
       "    <tr style=\"text-align: right;\">\n",
       "      <th></th>\n",
       "      <th>age</th>\n",
       "      <th>sex</th>\n",
       "      <th>cp</th>\n",
       "      <th>trestbps</th>\n",
       "      <th>chol</th>\n",
       "      <th>fbs</th>\n",
       "      <th>restecg</th>\n",
       "      <th>thalach</th>\n",
       "      <th>exang</th>\n",
       "      <th>oldpeak</th>\n",
       "      <th>slope</th>\n",
       "      <th>ca</th>\n",
       "      <th>thal</th>\n",
       "      <th>Target</th>\n",
       "    </tr>\n",
       "  </thead>\n",
       "  <tbody>\n",
       "    <tr>\n",
       "      <th>0</th>\n",
       "      <td>63</td>\n",
       "      <td>1</td>\n",
       "      <td>4</td>\n",
       "      <td>140.0</td>\n",
       "      <td>260.0</td>\n",
       "      <td>0.0</td>\n",
       "      <td>1</td>\n",
       "      <td>112.0</td>\n",
       "      <td>1.0</td>\n",
       "      <td>3.0</td>\n",
       "      <td>2.0</td>\n",
       "      <td>NaN</td>\n",
       "      <td>NaN</td>\n",
       "      <td>2</td>\n",
       "    </tr>\n",
       "    <tr>\n",
       "      <th>1</th>\n",
       "      <td>44</td>\n",
       "      <td>1</td>\n",
       "      <td>4</td>\n",
       "      <td>130.0</td>\n",
       "      <td>209.0</td>\n",
       "      <td>0.0</td>\n",
       "      <td>1</td>\n",
       "      <td>127.0</td>\n",
       "      <td>0.0</td>\n",
       "      <td>0.0</td>\n",
       "      <td>NaN</td>\n",
       "      <td>NaN</td>\n",
       "      <td>NaN</td>\n",
       "      <td>0</td>\n",
       "    </tr>\n",
       "    <tr>\n",
       "      <th>2</th>\n",
       "      <td>60</td>\n",
       "      <td>1</td>\n",
       "      <td>4</td>\n",
       "      <td>132.0</td>\n",
       "      <td>218.0</td>\n",
       "      <td>0.0</td>\n",
       "      <td>1</td>\n",
       "      <td>140.0</td>\n",
       "      <td>1.0</td>\n",
       "      <td>1.5</td>\n",
       "      <td>3.0</td>\n",
       "      <td>NaN</td>\n",
       "      <td>NaN</td>\n",
       "      <td>2</td>\n",
       "    </tr>\n",
       "    <tr>\n",
       "      <th>3</th>\n",
       "      <td>55</td>\n",
       "      <td>1</td>\n",
       "      <td>4</td>\n",
       "      <td>142.0</td>\n",
       "      <td>228.0</td>\n",
       "      <td>0.0</td>\n",
       "      <td>1</td>\n",
       "      <td>149.0</td>\n",
       "      <td>1.0</td>\n",
       "      <td>2.5</td>\n",
       "      <td>1.0</td>\n",
       "      <td>NaN</td>\n",
       "      <td>NaN</td>\n",
       "      <td>1</td>\n",
       "    </tr>\n",
       "    <tr>\n",
       "      <th>4</th>\n",
       "      <td>66</td>\n",
       "      <td>1</td>\n",
       "      <td>3</td>\n",
       "      <td>110.0</td>\n",
       "      <td>213.0</td>\n",
       "      <td>1.0</td>\n",
       "      <td>2</td>\n",
       "      <td>99.0</td>\n",
       "      <td>1.0</td>\n",
       "      <td>1.3</td>\n",
       "      <td>2.0</td>\n",
       "      <td>NaN</td>\n",
       "      <td>NaN</td>\n",
       "      <td>0</td>\n",
       "    </tr>\n",
       "    <tr>\n",
       "      <th>5</th>\n",
       "      <td>66</td>\n",
       "      <td>1</td>\n",
       "      <td>3</td>\n",
       "      <td>120.0</td>\n",
       "      <td>0.0</td>\n",
       "      <td>0.0</td>\n",
       "      <td>1</td>\n",
       "      <td>120.0</td>\n",
       "      <td>0.0</td>\n",
       "      <td>-0.5</td>\n",
       "      <td>1.0</td>\n",
       "      <td>NaN</td>\n",
       "      <td>NaN</td>\n",
       "      <td>0</td>\n",
       "    </tr>\n",
       "    <tr>\n",
       "      <th>6</th>\n",
       "      <td>65</td>\n",
       "      <td>1</td>\n",
       "      <td>4</td>\n",
       "      <td>150.0</td>\n",
       "      <td>236.0</td>\n",
       "      <td>1.0</td>\n",
       "      <td>1</td>\n",
       "      <td>105.0</td>\n",
       "      <td>1.0</td>\n",
       "      <td>0.0</td>\n",
       "      <td>NaN</td>\n",
       "      <td>NaN</td>\n",
       "      <td>NaN</td>\n",
       "      <td>3</td>\n",
       "    </tr>\n",
       "    <tr>\n",
       "      <th>7</th>\n",
       "      <td>60</td>\n",
       "      <td>1</td>\n",
       "      <td>3</td>\n",
       "      <td>180.0</td>\n",
       "      <td>0.0</td>\n",
       "      <td>0.0</td>\n",
       "      <td>1</td>\n",
       "      <td>140.0</td>\n",
       "      <td>1.0</td>\n",
       "      <td>1.5</td>\n",
       "      <td>2.0</td>\n",
       "      <td>NaN</td>\n",
       "      <td>NaN</td>\n",
       "      <td>0</td>\n",
       "    </tr>\n",
       "    <tr>\n",
       "      <th>8</th>\n",
       "      <td>60</td>\n",
       "      <td>1</td>\n",
       "      <td>3</td>\n",
       "      <td>120.0</td>\n",
       "      <td>0.0</td>\n",
       "      <td>NaN</td>\n",
       "      <td>0</td>\n",
       "      <td>141.0</td>\n",
       "      <td>1.0</td>\n",
       "      <td>2.0</td>\n",
       "      <td>1.0</td>\n",
       "      <td>NaN</td>\n",
       "      <td>NaN</td>\n",
       "      <td>3</td>\n",
       "    </tr>\n",
       "    <tr>\n",
       "      <th>9</th>\n",
       "      <td>60</td>\n",
       "      <td>1</td>\n",
       "      <td>2</td>\n",
       "      <td>160.0</td>\n",
       "      <td>267.0</td>\n",
       "      <td>1.0</td>\n",
       "      <td>1</td>\n",
       "      <td>157.0</td>\n",
       "      <td>0.0</td>\n",
       "      <td>0.5</td>\n",
       "      <td>2.0</td>\n",
       "      <td>NaN</td>\n",
       "      <td>NaN</td>\n",
       "      <td>1</td>\n",
       "    </tr>\n",
       "    <tr>\n",
       "      <th>10</th>\n",
       "      <td>56</td>\n",
       "      <td>1</td>\n",
       "      <td>2</td>\n",
       "      <td>126.0</td>\n",
       "      <td>166.0</td>\n",
       "      <td>0.0</td>\n",
       "      <td>1</td>\n",
       "      <td>140.0</td>\n",
       "      <td>0.0</td>\n",
       "      <td>0.0</td>\n",
       "      <td>NaN</td>\n",
       "      <td>NaN</td>\n",
       "      <td>NaN</td>\n",
       "      <td>0</td>\n",
       "    </tr>\n",
       "    <tr>\n",
       "      <th>11</th>\n",
       "      <td>59</td>\n",
       "      <td>1</td>\n",
       "      <td>4</td>\n",
       "      <td>140.0</td>\n",
       "      <td>0.0</td>\n",
       "      <td>0.0</td>\n",
       "      <td>1</td>\n",
       "      <td>117.0</td>\n",
       "      <td>1.0</td>\n",
       "      <td>1.0</td>\n",
       "      <td>2.0</td>\n",
       "      <td>NaN</td>\n",
       "      <td>NaN</td>\n",
       "      <td>1</td>\n",
       "    </tr>\n",
       "    <tr>\n",
       "      <th>12</th>\n",
       "      <td>62</td>\n",
       "      <td>1</td>\n",
       "      <td>4</td>\n",
       "      <td>110.0</td>\n",
       "      <td>0.0</td>\n",
       "      <td>0.0</td>\n",
       "      <td>0</td>\n",
       "      <td>120.0</td>\n",
       "      <td>1.0</td>\n",
       "      <td>0.5</td>\n",
       "      <td>2.0</td>\n",
       "      <td>NaN</td>\n",
       "      <td>3.0</td>\n",
       "      <td>1</td>\n",
       "    </tr>\n",
       "    <tr>\n",
       "      <th>13</th>\n",
       "      <td>63</td>\n",
       "      <td>1</td>\n",
       "      <td>3</td>\n",
       "      <td>NaN</td>\n",
       "      <td>0.0</td>\n",
       "      <td>0.0</td>\n",
       "      <td>2</td>\n",
       "      <td>NaN</td>\n",
       "      <td>NaN</td>\n",
       "      <td>NaN</td>\n",
       "      <td>NaN</td>\n",
       "      <td>NaN</td>\n",
       "      <td>NaN</td>\n",
       "      <td>1</td>\n",
       "    </tr>\n",
       "    <tr>\n",
       "      <th>14</th>\n",
       "      <td>57</td>\n",
       "      <td>1</td>\n",
       "      <td>4</td>\n",
       "      <td>128.0</td>\n",
       "      <td>0.0</td>\n",
       "      <td>1.0</td>\n",
       "      <td>1</td>\n",
       "      <td>148.0</td>\n",
       "      <td>1.0</td>\n",
       "      <td>1.0</td>\n",
       "      <td>2.0</td>\n",
       "      <td>NaN</td>\n",
       "      <td>NaN</td>\n",
       "      <td>1</td>\n",
       "    </tr>\n",
       "    <tr>\n",
       "      <th>15</th>\n",
       "      <td>62</td>\n",
       "      <td>1</td>\n",
       "      <td>4</td>\n",
       "      <td>120.0</td>\n",
       "      <td>220.0</td>\n",
       "      <td>0.0</td>\n",
       "      <td>1</td>\n",
       "      <td>86.0</td>\n",
       "      <td>0.0</td>\n",
       "      <td>0.0</td>\n",
       "      <td>NaN</td>\n",
       "      <td>NaN</td>\n",
       "      <td>NaN</td>\n",
       "      <td>0</td>\n",
       "    </tr>\n",
       "    <tr>\n",
       "      <th>16</th>\n",
       "      <td>63</td>\n",
       "      <td>1</td>\n",
       "      <td>4</td>\n",
       "      <td>170.0</td>\n",
       "      <td>177.0</td>\n",
       "      <td>0.0</td>\n",
       "      <td>0</td>\n",
       "      <td>84.0</td>\n",
       "      <td>1.0</td>\n",
       "      <td>2.5</td>\n",
       "      <td>3.0</td>\n",
       "      <td>NaN</td>\n",
       "      <td>NaN</td>\n",
       "      <td>4</td>\n",
       "    </tr>\n",
       "    <tr>\n",
       "      <th>17</th>\n",
       "      <td>46</td>\n",
       "      <td>1</td>\n",
       "      <td>4</td>\n",
       "      <td>110.0</td>\n",
       "      <td>236.0</td>\n",
       "      <td>0.0</td>\n",
       "      <td>0</td>\n",
       "      <td>125.0</td>\n",
       "      <td>1.0</td>\n",
       "      <td>2.0</td>\n",
       "      <td>2.0</td>\n",
       "      <td>NaN</td>\n",
       "      <td>NaN</td>\n",
       "      <td>1</td>\n",
       "    </tr>\n",
       "    <tr>\n",
       "      <th>18</th>\n",
       "      <td>63</td>\n",
       "      <td>1</td>\n",
       "      <td>4</td>\n",
       "      <td>126.0</td>\n",
       "      <td>0.0</td>\n",
       "      <td>0.0</td>\n",
       "      <td>1</td>\n",
       "      <td>120.0</td>\n",
       "      <td>0.0</td>\n",
       "      <td>1.5</td>\n",
       "      <td>3.0</td>\n",
       "      <td>NaN</td>\n",
       "      <td>NaN</td>\n",
       "      <td>0</td>\n",
       "    </tr>\n",
       "    <tr>\n",
       "      <th>19</th>\n",
       "      <td>60</td>\n",
       "      <td>1</td>\n",
       "      <td>4</td>\n",
       "      <td>152.0</td>\n",
       "      <td>0.0</td>\n",
       "      <td>0.0</td>\n",
       "      <td>1</td>\n",
       "      <td>118.0</td>\n",
       "      <td>1.0</td>\n",
       "      <td>0.0</td>\n",
       "      <td>NaN</td>\n",
       "      <td>NaN</td>\n",
       "      <td>7.0</td>\n",
       "      <td>0</td>\n",
       "    </tr>\n",
       "  </tbody>\n",
       "</table>\n",
       "</div>"
      ],
      "text/plain": [
       "    age  sex  cp  trestbps   chol  fbs  restecg  thalach  exang  oldpeak  \\\n",
       "0    63    1   4     140.0  260.0  0.0        1    112.0    1.0      3.0   \n",
       "1    44    1   4     130.0  209.0  0.0        1    127.0    0.0      0.0   \n",
       "2    60    1   4     132.0  218.0  0.0        1    140.0    1.0      1.5   \n",
       "3    55    1   4     142.0  228.0  0.0        1    149.0    1.0      2.5   \n",
       "4    66    1   3     110.0  213.0  1.0        2     99.0    1.0      1.3   \n",
       "5    66    1   3     120.0    0.0  0.0        1    120.0    0.0     -0.5   \n",
       "6    65    1   4     150.0  236.0  1.0        1    105.0    1.0      0.0   \n",
       "7    60    1   3     180.0    0.0  0.0        1    140.0    1.0      1.5   \n",
       "8    60    1   3     120.0    0.0  NaN        0    141.0    1.0      2.0   \n",
       "9    60    1   2     160.0  267.0  1.0        1    157.0    0.0      0.5   \n",
       "10   56    1   2     126.0  166.0  0.0        1    140.0    0.0      0.0   \n",
       "11   59    1   4     140.0    0.0  0.0        1    117.0    1.0      1.0   \n",
       "12   62    1   4     110.0    0.0  0.0        0    120.0    1.0      0.5   \n",
       "13   63    1   3       NaN    0.0  0.0        2      NaN    NaN      NaN   \n",
       "14   57    1   4     128.0    0.0  1.0        1    148.0    1.0      1.0   \n",
       "15   62    1   4     120.0  220.0  0.0        1     86.0    0.0      0.0   \n",
       "16   63    1   4     170.0  177.0  0.0        0     84.0    1.0      2.5   \n",
       "17   46    1   4     110.0  236.0  0.0        0    125.0    1.0      2.0   \n",
       "18   63    1   4     126.0    0.0  0.0        1    120.0    0.0      1.5   \n",
       "19   60    1   4     152.0    0.0  0.0        1    118.0    1.0      0.0   \n",
       "\n",
       "    slope  ca  thal  Target  \n",
       "0     2.0 NaN   NaN       2  \n",
       "1     NaN NaN   NaN       0  \n",
       "2     3.0 NaN   NaN       2  \n",
       "3     1.0 NaN   NaN       1  \n",
       "4     2.0 NaN   NaN       0  \n",
       "5     1.0 NaN   NaN       0  \n",
       "6     NaN NaN   NaN       3  \n",
       "7     2.0 NaN   NaN       0  \n",
       "8     1.0 NaN   NaN       3  \n",
       "9     2.0 NaN   NaN       1  \n",
       "10    NaN NaN   NaN       0  \n",
       "11    2.0 NaN   NaN       1  \n",
       "12    2.0 NaN   3.0       1  \n",
       "13    NaN NaN   NaN       1  \n",
       "14    2.0 NaN   NaN       1  \n",
       "15    NaN NaN   NaN       0  \n",
       "16    3.0 NaN   NaN       4  \n",
       "17    2.0 NaN   NaN       1  \n",
       "18    3.0 NaN   NaN       0  \n",
       "19    NaN NaN   7.0       0  "
      ]
     },
     "execution_count": 27,
     "metadata": {},
     "output_type": "execute_result"
    }
   ],
   "source": [
    "#Loading Data\n",
    "df=pd.read_csv(\"heart_disease.csv\",names=[\"age\",\"sex\",\"cp\",\"trestbps\",\"chol\",\"fbs\",\"restecg\",\"thalach\",\"exang\",\"oldpeak\",\"slope\",\"ca\",\"thal\",\"Target\"],na_values=\"?\")\n",
    "df.head(20)"
   ]
  },
  {
   "cell_type": "markdown",
   "metadata": {},
   "source": [
    "# Attributes Details"
   ]
  },
  {
   "cell_type": "markdown",
   "metadata": {},
   "source": [
    "Data contains;\n",
    "\n",
    "age - age in years\n",
    "\n",
    "sex - (1 = male; 0 = female)\n",
    "\n",
    "cp - chest pain type\n",
    "\n",
    "trestbps - resting blood pressure\n",
    "\n",
    "chol - serum cholestoral\n",
    "\n",
    "fbs - (fasting blood sugar) (1 = true; 0 = false)\n",
    "\n",
    "restecg - resting electrocardiographic results\n",
    "\n",
    "thalach - maximum heart rate achieved\n",
    "\n",
    "exang - exercise induced angina (1 = yes; 0 = no)\n",
    "\n",
    "oldpeak - ST depression induced by exercise relative to rest\n",
    "\n",
    "slope - the slope of the peak exercise ST segment\n",
    "\n",
    "ca - number of major vessels \n",
    "\n",
    "thal - 3 = normal; 6 = fixed defect; 7 = reversable defect\n",
    "\n",
    "target - have disease or not (1,2,3,4=yes, 0=no)"
   ]
  },
  {
   "cell_type": "markdown",
   "metadata": {},
   "source": [
    "# Getting Basic Statistical Info of the DataSet"
   ]
  },
  {
   "cell_type": "code",
   "execution_count": 28,
   "metadata": {},
   "outputs": [
    {
     "name": "stdout",
     "output_type": "stream",
     "text": [
      "<class 'pandas.core.frame.DataFrame'>\n",
      "RangeIndex: 200 entries, 0 to 199\n",
      "Data columns (total 14 columns):\n",
      " #   Column    Non-Null Count  Dtype  \n",
      "---  ------    --------------  -----  \n",
      " 0   age       200 non-null    int64  \n",
      " 1   sex       200 non-null    int64  \n",
      " 2   cp        200 non-null    int64  \n",
      " 3   trestbps  144 non-null    float64\n",
      " 4   chol      193 non-null    float64\n",
      " 5   fbs       193 non-null    float64\n",
      " 6   restecg   200 non-null    int64  \n",
      " 7   thalach   147 non-null    float64\n",
      " 8   exang     147 non-null    float64\n",
      " 9   oldpeak   144 non-null    float64\n",
      " 10  slope     98 non-null     float64\n",
      " 11  ca        2 non-null      float64\n",
      " 12  thal      34 non-null     float64\n",
      " 13  Target    200 non-null    int64  \n",
      "dtypes: float64(9), int64(5)\n",
      "memory usage: 22.0 KB\n"
     ]
    }
   ],
   "source": [
    "df.info()"
   ]
  },
  {
   "cell_type": "code",
   "execution_count": 29,
   "metadata": {},
   "outputs": [
    {
     "data": {
      "text/plain": [
       "(200, 14)"
      ]
     },
     "execution_count": 29,
     "metadata": {},
     "output_type": "execute_result"
    }
   ],
   "source": [
    "df.shape"
   ]
  },
  {
   "cell_type": "code",
   "execution_count": 30,
   "metadata": {},
   "outputs": [
    {
     "data": {
      "text/plain": [
       "Index(['age', 'sex', 'cp', 'trestbps', 'chol', 'fbs', 'restecg', 'thalach',\n",
       "       'exang', 'oldpeak', 'slope', 'ca', 'thal', 'Target'],\n",
       "      dtype='object')"
      ]
     },
     "execution_count": 30,
     "metadata": {},
     "output_type": "execute_result"
    }
   ],
   "source": [
    "df.columns"
   ]
  },
  {
   "cell_type": "code",
   "execution_count": 31,
   "metadata": {},
   "outputs": [
    {
     "data": {
      "text/plain": [
       "age           int64\n",
       "sex           int64\n",
       "cp            int64\n",
       "trestbps    float64\n",
       "chol        float64\n",
       "fbs         float64\n",
       "restecg       int64\n",
       "thalach     float64\n",
       "exang       float64\n",
       "oldpeak     float64\n",
       "slope       float64\n",
       "ca          float64\n",
       "thal        float64\n",
       "Target        int64\n",
       "dtype: object"
      ]
     },
     "execution_count": 31,
     "metadata": {},
     "output_type": "execute_result"
    }
   ],
   "source": [
    "df.dtypes"
   ]
  },
  {
   "cell_type": "markdown",
   "metadata": {},
   "source": [
    "# Finding Null Value"
   ]
  },
  {
   "cell_type": "code",
   "execution_count": 32,
   "metadata": {},
   "outputs": [
    {
     "data": {
      "text/plain": [
       "age           0\n",
       "sex           0\n",
       "cp            0\n",
       "trestbps     56\n",
       "chol          7\n",
       "fbs           7\n",
       "restecg       0\n",
       "thalach      53\n",
       "exang        53\n",
       "oldpeak      56\n",
       "slope       102\n",
       "ca          198\n",
       "thal        166\n",
       "Target        0\n",
       "dtype: int64"
      ]
     },
     "execution_count": 32,
     "metadata": {},
     "output_type": "execute_result"
    }
   ],
   "source": [
    "df.isnull().sum()"
   ]
  },
  {
   "cell_type": "raw",
   "metadata": {},
   "source": [
    "we find that that are very large amount of missing datas in the dataset"
   ]
  },
  {
   "cell_type": "code",
   "execution_count": 33,
   "metadata": {},
   "outputs": [
    {
     "data": {
      "text/plain": [
       "2.0    53\n",
       "3.0    29\n",
       "1.0    16\n",
       "Name: slope, dtype: int64"
      ]
     },
     "execution_count": 33,
     "metadata": {},
     "output_type": "execute_result"
    }
   ],
   "source": [
    "df[\"slope\"].value_counts()"
   ]
  },
  {
   "cell_type": "markdown",
   "metadata": {},
   "source": [
    "we see that around 50% null value found in column \"slope\""
   ]
  },
  {
   "cell_type": "code",
   "execution_count": 34,
   "metadata": {},
   "outputs": [
    {
     "data": {
      "text/plain": [
       "0.0    2\n",
       "Name: ca, dtype: int64"
      ]
     },
     "execution_count": 34,
     "metadata": {},
     "output_type": "execute_result"
    }
   ],
   "source": [
    "df[\"ca\"].value_counts()"
   ]
  },
  {
   "cell_type": "markdown",
   "metadata": {},
   "source": [
    "column \"ca\" has only one value and has around 99% of null values.so dropping of column \"ca \" as it doesnott affect our dataset"
   ]
  },
  {
   "cell_type": "code",
   "execution_count": 35,
   "metadata": {},
   "outputs": [
    {
     "data": {
      "text/plain": [
       "7.0    22\n",
       "6.0     8\n",
       "3.0     4\n",
       "Name: thal, dtype: int64"
      ]
     },
     "execution_count": 35,
     "metadata": {},
     "output_type": "execute_result"
    }
   ],
   "source": [
    "df[\"thal\"].value_counts()"
   ]
  },
  {
   "cell_type": "markdown",
   "metadata": {},
   "source": [
    "in column \"thal\" we find that around 83% of values were missing.so dropping of column \"thal \" as it doesnot affect our dataset"
   ]
  },
  {
   "cell_type": "markdown",
   "metadata": {},
   "source": [
    "# Filling NaN values"
   ]
  },
  {
   "cell_type": "markdown",
   "metadata": {},
   "source": [
    "when we try to remove NaN from columns [\"trestbps\",\"exang\",\"oldpeak\",\"slope\"] it may result in loss of data since the missing count is more in all column\n",
    "\n",
    "in order to overcome this we use the mode value of the column to fill the missing data\n",
    "\n",
    "Here we replace the missing value with the mode value because of classification "
   ]
  },
  {
   "cell_type": "code",
   "execution_count": 36,
   "metadata": {},
   "outputs": [
    {
     "data": {
      "text/plain": [
       "0    120.0\n",
       "dtype: float64"
      ]
     },
     "execution_count": 36,
     "metadata": {},
     "output_type": "execute_result"
    }
   ],
   "source": [
    "df[\"trestbps\"].mode()"
   ]
  },
  {
   "cell_type": "code",
   "execution_count": 37,
   "metadata": {},
   "outputs": [],
   "source": [
    "df[\"trestbps\"].fillna(df['trestbps'].mode(),inplace=True)"
   ]
  },
  {
   "cell_type": "code",
   "execution_count": 38,
   "metadata": {},
   "outputs": [
    {
     "data": {
      "text/plain": [
       "0    120.0\n",
       "1    140.0\n",
       "dtype: float64"
      ]
     },
     "execution_count": 38,
     "metadata": {},
     "output_type": "execute_result"
    }
   ],
   "source": [
    "df[\"thalach\"].mode()"
   ]
  },
  {
   "cell_type": "code",
   "execution_count": 39,
   "metadata": {},
   "outputs": [],
   "source": [
    "df[\"thalach\"].fillna(df['thalach'].mode(),inplace=True)"
   ]
  },
  {
   "cell_type": "code",
   "execution_count": 40,
   "metadata": {},
   "outputs": [
    {
     "data": {
      "text/plain": [
       "0    1.0\n",
       "dtype: float64"
      ]
     },
     "execution_count": 40,
     "metadata": {},
     "output_type": "execute_result"
    }
   ],
   "source": [
    "df[\"exang\"].mode()"
   ]
  },
  {
   "cell_type": "code",
   "execution_count": 41,
   "metadata": {},
   "outputs": [],
   "source": [
    "df[\"exang\"].fillna(df['exang'].mode(),inplace=True)"
   ]
  },
  {
   "cell_type": "code",
   "execution_count": 42,
   "metadata": {},
   "outputs": [
    {
     "data": {
      "text/plain": [
       "0    0.0\n",
       "dtype: float64"
      ]
     },
     "execution_count": 42,
     "metadata": {},
     "output_type": "execute_result"
    }
   ],
   "source": [
    "df[\"oldpeak\"].mode()"
   ]
  },
  {
   "cell_type": "code",
   "execution_count": 43,
   "metadata": {},
   "outputs": [],
   "source": [
    "df[\"oldpeak\"].fillna(df['oldpeak'].mode(),inplace=True)"
   ]
  },
  {
   "cell_type": "code",
   "execution_count": 44,
   "metadata": {},
   "outputs": [
    {
     "data": {
      "text/plain": [
       "0    2.0\n",
       "dtype: float64"
      ]
     },
     "execution_count": 44,
     "metadata": {},
     "output_type": "execute_result"
    }
   ],
   "source": [
    "df[\"slope\"].mode()"
   ]
  },
  {
   "cell_type": "code",
   "execution_count": 45,
   "metadata": {},
   "outputs": [],
   "source": [
    "df[\"slope\"].fillna(df['slope'].mode(),inplace=True)"
   ]
  },
  {
   "cell_type": "code",
   "execution_count": 46,
   "metadata": {},
   "outputs": [],
   "source": [
    "#Dropping column \"ca\" and \"thal\"\n",
    "df.drop(columns=[\"ca\",\"thal\"],inplace=True)"
   ]
  },
  {
   "cell_type": "code",
   "execution_count": 47,
   "metadata": {},
   "outputs": [],
   "source": [
    "df.dropna(inplace=True)"
   ]
  },
  {
   "cell_type": "code",
   "execution_count": 48,
   "metadata": {},
   "outputs": [
    {
     "data": {
      "text/plain": [
       "age         0\n",
       "sex         0\n",
       "cp          0\n",
       "trestbps    0\n",
       "chol        0\n",
       "fbs         0\n",
       "restecg     0\n",
       "thalach     0\n",
       "exang       0\n",
       "oldpeak     0\n",
       "slope       0\n",
       "Target      0\n",
       "dtype: int64"
      ]
     },
     "execution_count": 48,
     "metadata": {},
     "output_type": "execute_result"
    }
   ],
   "source": [
    "df.isnull().sum()"
   ]
  },
  {
   "cell_type": "code",
   "execution_count": 49,
   "metadata": {},
   "outputs": [
    {
     "data": {
      "text/html": [
       "<div>\n",
       "<style scoped>\n",
       "    .dataframe tbody tr th:only-of-type {\n",
       "        vertical-align: middle;\n",
       "    }\n",
       "\n",
       "    .dataframe tbody tr th {\n",
       "        vertical-align: top;\n",
       "    }\n",
       "\n",
       "    .dataframe thead th {\n",
       "        text-align: right;\n",
       "    }\n",
       "</style>\n",
       "<table border=\"1\" class=\"dataframe\">\n",
       "  <thead>\n",
       "    <tr style=\"text-align: right;\">\n",
       "      <th></th>\n",
       "      <th>age</th>\n",
       "      <th>sex</th>\n",
       "      <th>cp</th>\n",
       "      <th>trestbps</th>\n",
       "      <th>chol</th>\n",
       "      <th>fbs</th>\n",
       "      <th>restecg</th>\n",
       "      <th>thalach</th>\n",
       "      <th>exang</th>\n",
       "      <th>oldpeak</th>\n",
       "      <th>slope</th>\n",
       "      <th>Target</th>\n",
       "    </tr>\n",
       "  </thead>\n",
       "  <tbody>\n",
       "    <tr>\n",
       "      <th>count</th>\n",
       "      <td>87.000000</td>\n",
       "      <td>87.000000</td>\n",
       "      <td>87.000000</td>\n",
       "      <td>87.000000</td>\n",
       "      <td>87.000000</td>\n",
       "      <td>87.000000</td>\n",
       "      <td>87.000000</td>\n",
       "      <td>87.000000</td>\n",
       "      <td>87.000000</td>\n",
       "      <td>87.000000</td>\n",
       "      <td>87.000000</td>\n",
       "      <td>87.000000</td>\n",
       "    </tr>\n",
       "    <tr>\n",
       "      <th>mean</th>\n",
       "      <td>59.885057</td>\n",
       "      <td>0.965517</td>\n",
       "      <td>3.701149</td>\n",
       "      <td>133.597701</td>\n",
       "      <td>178.321839</td>\n",
       "      <td>0.310345</td>\n",
       "      <td>0.632184</td>\n",
       "      <td>124.620690</td>\n",
       "      <td>0.758621</td>\n",
       "      <td>1.774713</td>\n",
       "      <td>2.114943</td>\n",
       "      <td>1.701149</td>\n",
       "    </tr>\n",
       "    <tr>\n",
       "      <th>std</th>\n",
       "      <td>7.485529</td>\n",
       "      <td>0.183523</td>\n",
       "      <td>0.700746</td>\n",
       "      <td>22.494681</td>\n",
       "      <td>117.312591</td>\n",
       "      <td>0.465317</td>\n",
       "      <td>0.683951</td>\n",
       "      <td>20.115504</td>\n",
       "      <td>0.430400</td>\n",
       "      <td>0.943548</td>\n",
       "      <td>0.654595</td>\n",
       "      <td>1.172504</td>\n",
       "    </tr>\n",
       "    <tr>\n",
       "      <th>min</th>\n",
       "      <td>37.000000</td>\n",
       "      <td>0.000000</td>\n",
       "      <td>1.000000</td>\n",
       "      <td>0.000000</td>\n",
       "      <td>0.000000</td>\n",
       "      <td>0.000000</td>\n",
       "      <td>0.000000</td>\n",
       "      <td>69.000000</td>\n",
       "      <td>0.000000</td>\n",
       "      <td>-0.500000</td>\n",
       "      <td>1.000000</td>\n",
       "      <td>0.000000</td>\n",
       "    </tr>\n",
       "    <tr>\n",
       "      <th>25%</th>\n",
       "      <td>56.000000</td>\n",
       "      <td>1.000000</td>\n",
       "      <td>4.000000</td>\n",
       "      <td>121.000000</td>\n",
       "      <td>0.000000</td>\n",
       "      <td>0.000000</td>\n",
       "      <td>0.000000</td>\n",
       "      <td>111.000000</td>\n",
       "      <td>1.000000</td>\n",
       "      <td>1.000000</td>\n",
       "      <td>2.000000</td>\n",
       "      <td>1.000000</td>\n",
       "    </tr>\n",
       "    <tr>\n",
       "      <th>50%</th>\n",
       "      <td>60.000000</td>\n",
       "      <td>1.000000</td>\n",
       "      <td>4.000000</td>\n",
       "      <td>130.000000</td>\n",
       "      <td>218.000000</td>\n",
       "      <td>0.000000</td>\n",
       "      <td>1.000000</td>\n",
       "      <td>122.000000</td>\n",
       "      <td>1.000000</td>\n",
       "      <td>1.500000</td>\n",
       "      <td>2.000000</td>\n",
       "      <td>2.000000</td>\n",
       "    </tr>\n",
       "    <tr>\n",
       "      <th>75%</th>\n",
       "      <td>64.000000</td>\n",
       "      <td>1.000000</td>\n",
       "      <td>4.000000</td>\n",
       "      <td>144.000000</td>\n",
       "      <td>258.000000</td>\n",
       "      <td>1.000000</td>\n",
       "      <td>1.000000</td>\n",
       "      <td>140.000000</td>\n",
       "      <td>1.000000</td>\n",
       "      <td>2.500000</td>\n",
       "      <td>3.000000</td>\n",
       "      <td>3.000000</td>\n",
       "    </tr>\n",
       "    <tr>\n",
       "      <th>max</th>\n",
       "      <td>77.000000</td>\n",
       "      <td>1.000000</td>\n",
       "      <td>4.000000</td>\n",
       "      <td>190.000000</td>\n",
       "      <td>458.000000</td>\n",
       "      <td>1.000000</td>\n",
       "      <td>2.000000</td>\n",
       "      <td>180.000000</td>\n",
       "      <td>1.000000</td>\n",
       "      <td>4.000000</td>\n",
       "      <td>3.000000</td>\n",
       "      <td>4.000000</td>\n",
       "    </tr>\n",
       "  </tbody>\n",
       "</table>\n",
       "</div>"
      ],
      "text/plain": [
       "             age        sex         cp    trestbps        chol        fbs  \\\n",
       "count  87.000000  87.000000  87.000000   87.000000   87.000000  87.000000   \n",
       "mean   59.885057   0.965517   3.701149  133.597701  178.321839   0.310345   \n",
       "std     7.485529   0.183523   0.700746   22.494681  117.312591   0.465317   \n",
       "min    37.000000   0.000000   1.000000    0.000000    0.000000   0.000000   \n",
       "25%    56.000000   1.000000   4.000000  121.000000    0.000000   0.000000   \n",
       "50%    60.000000   1.000000   4.000000  130.000000  218.000000   0.000000   \n",
       "75%    64.000000   1.000000   4.000000  144.000000  258.000000   1.000000   \n",
       "max    77.000000   1.000000   4.000000  190.000000  458.000000   1.000000   \n",
       "\n",
       "         restecg     thalach      exang    oldpeak      slope     Target  \n",
       "count  87.000000   87.000000  87.000000  87.000000  87.000000  87.000000  \n",
       "mean    0.632184  124.620690   0.758621   1.774713   2.114943   1.701149  \n",
       "std     0.683951   20.115504   0.430400   0.943548   0.654595   1.172504  \n",
       "min     0.000000   69.000000   0.000000  -0.500000   1.000000   0.000000  \n",
       "25%     0.000000  111.000000   1.000000   1.000000   2.000000   1.000000  \n",
       "50%     1.000000  122.000000   1.000000   1.500000   2.000000   2.000000  \n",
       "75%     1.000000  140.000000   1.000000   2.500000   3.000000   3.000000  \n",
       "max     2.000000  180.000000   1.000000   4.000000   3.000000   4.000000  "
      ]
     },
     "execution_count": 49,
     "metadata": {},
     "output_type": "execute_result"
    }
   ],
   "source": [
    "df.describe()\n"
   ]
  },
  {
   "cell_type": "markdown",
   "metadata": {},
   "source": [
    "1)Here we find that the median is higher than mean in most of the columns\n",
    "\n",
    "If the mean is less than the median, the distribution is negatively skewed.\n",
    "\n",
    "2)the maximum and the 75% has a normal range of difference \n",
    "\n",
    "From 1) and 2) we infer that we may have few outliers and skewness in some of the attributes \n",
    "\n"
   ]
  },
  {
   "cell_type": "markdown",
   "metadata": {},
   "source": [
    "# Exploring Data Attributes "
   ]
  },
  {
   "cell_type": "markdown",
   "metadata": {},
   "source": [
    "#### univariate analysis"
   ]
  },
  {
   "cell_type": "code",
   "execution_count": 344,
   "metadata": {},
   "outputs": [
    {
     "data": {
      "image/png": "[encoded data removed]",
      "text/plain": [
       "<Figure size 2160x2160 with 11 Axes>"
      ]
     },
     "metadata": {
      "needs_background": "light"
     },
     "output_type": "display_data"
    }
   ],
   "source": [
    "\n",
    "collist=df.columns.values\n",
    "ncol=14\n",
    "nrow=10\n",
    "plt.figure(figsize=(30,30))\n",
    "for i in range(0,len(collist)):\n",
    "    plt.subplot(nrow,ncol,i+1)\n",
    "    sns.distplot(df[collist[i]])\n"
   ]
  },
  {
   "cell_type": "markdown",
   "metadata": {},
   "source": [
    "##### KEY OBSERVATION"
   ]
  },
  {
   "cell_type": "markdown",
   "metadata": {},
   "source": [
    "1)The attributes \"age\",\"oldpeak\",\"Target\" have a normal distributions\n",
    "\n",
    "2)the female have less chance of affected from Heart Disease\n",
    "\n",
    "3)persons with low Fasting blood sugar level has has high chance of getting heart disease\n",
    "\n",
    "4)person with exercise induced angina(exang) have high chance of getting heart disease"
   ]
  },
  {
   "cell_type": "markdown",
   "metadata": {},
   "source": [
    "#### Bivariate analysis"
   ]
  },
  {
   "cell_type": "code",
   "execution_count": 316,
   "metadata": {},
   "outputs": [
    {
     "data": {
      "image/png": "[encoded data removed]",
      "text/plain": [
       "<Figure size 432x288 with 1 Axes>"
      ]
     },
     "metadata": {
      "needs_background": "light"
     },
     "output_type": "display_data"
    },
    {
     "name": "stdout",
     "output_type": "stream",
     "text": [
      "   sex  Target\n",
      "0    0       2\n",
      "1    1     146\n"
     ]
    }
   ],
   "source": [
    "#Relation b/w sex and target\n",
    "import seaborn as sns\n",
    "import matplotlib.pyplot as plt\n",
    "sns.countplot(x=\"sex\",data=df,hue=\"Target\")\n",
    "plt.show()\n",
    "\n",
    "sex=df.groupby(\"sex\").sum()[\"Target\"].reset_index()\n",
    "print(sex)\n"
   ]
  },
  {
   "cell_type": "markdown",
   "metadata": {},
   "source": [
    "###### The plot shows that female has less chance of heart disease than male"
   ]
  },
  {
   "cell_type": "code",
   "execution_count": 324,
   "metadata": {},
   "outputs": [
    {
     "data": {
      "image/png": "[encoded data removed]",
      "text/plain": [
       "<Figure size 432x288 with 1 Axes>"
      ]
     },
     "metadata": {
      "needs_background": "light"
     },
     "output_type": "display_data"
    },
    {
     "name": "stdout",
     "output_type": "stream",
     "text": [
      "   fbs  Target\n",
      "0  0.0     102\n",
      "1  1.0      46\n"
     ]
    }
   ],
   "source": [
    "#Relation b/w sex and target\n",
    "import seaborn as sns\n",
    "import matplotlib.pyplot as plt\n",
    "sns.countplot(x=\"fbs\",data=df,hue=\"Target\")\n",
    "plt.show()\n",
    "\n",
    "fbs=df.groupby(\"fbs\").sum()[\"Target\"].reset_index()\n",
    "print(sex)\n"
   ]
  },
  {
   "cell_type": "markdown",
   "metadata": {},
   "source": [
    "fbs=Fasting blood sugar   ,        yes=1        ,     no=0\n",
    "\n",
    "the plot shows that \n",
    "\n",
    "person with fasting blood sugar(1) has low amount of heart disease\n",
    "\n",
    "person without fbs(0) has has high chance of getting heart disease\n"
   ]
  },
  {
   "cell_type": "code",
   "execution_count": 329,
   "metadata": {},
   "outputs": [
    {
     "data": {
      "image/png": "[encoded data removed]",
      "text/plain": [
       "<Figure size 432x288 with 1 Axes>"
      ]
     },
     "metadata": {
      "needs_background": "light"
     },
     "output_type": "display_data"
    },
    {
     "name": "stdout",
     "output_type": "stream",
     "text": [
      "   restecg  Target\n",
      "0        0      74\n",
      "1        1      60\n",
      "2        2      14\n"
     ]
    }
   ],
   "source": [
    "#Relation b/w restecg and target\n",
    "import seaborn as sns\n",
    "import matplotlib.pyplot as plt\n",
    "sns.countplot(x=\"restecg\",data=df,hue=\"Target\")\n",
    "plt.show()\n",
    "\n",
    "sex=df.groupby(\"restecg\").sum()[\"Target\"].reset_index()\n",
    "print(sex)\n"
   ]
  },
  {
   "cell_type": "code",
   "execution_count": 341,
   "metadata": {},
   "outputs": [
    {
     "name": "stdout",
     "output_type": "stream",
     "text": [
      "   Target  trestbps\n",
      "0       0    1984.0\n",
      "1       1    3336.0\n",
      "2       2    2880.0\n",
      "3       3    2633.0\n",
      "4       4     790.0\n"
     ]
    },
    {
     "data": {
      "image/png": "[encoded data removed]",
      "text/plain": [
       "<Figure size 432x288 with 1 Axes>"
      ]
     },
     "metadata": {
      "needs_background": "light"
     },
     "output_type": "display_data"
    }
   ],
   "source": [
    "plt.scatter(df[\"trestbps\"],df[\"Target\"])\n",
    "plt.title(\"scatter plot\")\n",
    "\n",
    "\n",
    "Target=df.groupby(\"Target\").sum()[\"trestbps\"].reset_index()\n",
    "print(Target)"
   ]
  },
  {
   "cell_type": "markdown",
   "metadata": {},
   "source": [
    "###### the scatter plot shows that a person with and without heartdisease has maximun heart rate recieved. from this we cant conclude anything about person with and without heart disease"
   ]
  },
  {
   "cell_type": "code",
   "execution_count": 343,
   "metadata": {},
   "outputs": [
    {
     "data": {
      "image/png": "[encoded data removed]",
      "text/plain": [
       "<Figure size 432x288 with 1 Axes>"
      ]
     },
     "metadata": {
      "needs_background": "light"
     },
     "output_type": "display_data"
    },
    {
     "name": "stdout",
     "output_type": "stream",
     "text": [
      "   Target    chol\n",
      "0       0  2578.0\n",
      "1       1  4491.0\n",
      "2       2  3461.0\n",
      "3       3  3745.0\n",
      "4       4  1239.0\n"
     ]
    }
   ],
   "source": [
    "plt.scatter(df[\"chol\"],df[\"Target\"])\n",
    "plt.title(\"scatter plot\")\n",
    "plt.show()\n",
    "chol=df.groupby(\"Target\").sum()[\"chol\"].reset_index()\n",
    "print(chol)\n"
   ]
  },
  {
   "cell_type": "markdown",
   "metadata": {},
   "source": [
    "###### we infer that most of the person with heart disease have cholestral level range between 200 to 3000"
   ]
  },
  {
   "cell_type": "markdown",
   "metadata": {},
   "source": [
    "# Multivariate analysis"
   ]
  },
  {
   "cell_type": "markdown",
   "metadata": {},
   "source": [
    "### correlation"
   ]
  },
  {
   "cell_type": "code",
   "execution_count": 50,
   "metadata": {},
   "outputs": [
    {
     "data": {
      "text/html": [
       "<div>\n",
       "<style scoped>\n",
       "    .dataframe tbody tr th:only-of-type {\n",
       "        vertical-align: middle;\n",
       "    }\n",
       "\n",
       "    .dataframe tbody tr th {\n",
       "        vertical-align: top;\n",
       "    }\n",
       "\n",
       "    .dataframe thead th {\n",
       "        text-align: right;\n",
       "    }\n",
       "</style>\n",
       "<table border=\"1\" class=\"dataframe\">\n",
       "  <thead>\n",
       "    <tr style=\"text-align: right;\">\n",
       "      <th></th>\n",
       "      <th>age</th>\n",
       "      <th>sex</th>\n",
       "      <th>cp</th>\n",
       "      <th>trestbps</th>\n",
       "      <th>chol</th>\n",
       "      <th>fbs</th>\n",
       "      <th>restecg</th>\n",
       "      <th>thalach</th>\n",
       "      <th>exang</th>\n",
       "      <th>oldpeak</th>\n",
       "      <th>slope</th>\n",
       "      <th>Target</th>\n",
       "    </tr>\n",
       "  </thead>\n",
       "  <tbody>\n",
       "    <tr>\n",
       "      <th>age</th>\n",
       "      <td>1.000000</td>\n",
       "      <td>0.090188</td>\n",
       "      <td>0.086479</td>\n",
       "      <td>0.218698</td>\n",
       "      <td>0.059523</td>\n",
       "      <td>0.140556</td>\n",
       "      <td>-0.076490</td>\n",
       "      <td>-0.134893</td>\n",
       "      <td>0.117609</td>\n",
       "      <td>0.115156</td>\n",
       "      <td>0.109515</td>\n",
       "      <td>0.315328</td>\n",
       "    </tr>\n",
       "    <tr>\n",
       "      <th>sex</th>\n",
       "      <td>0.090188</td>\n",
       "      <td>1.000000</td>\n",
       "      <td>-0.081063</td>\n",
       "      <td>0.019134</td>\n",
       "      <td>-0.147463</td>\n",
       "      <td>-0.009391</td>\n",
       "      <td>-0.009583</td>\n",
       "      <td>0.103508</td>\n",
       "      <td>0.040610</td>\n",
       "      <td>0.122491</td>\n",
       "      <td>0.130168</td>\n",
       "      <td>0.167703</td>\n",
       "    </tr>\n",
       "    <tr>\n",
       "      <th>cp</th>\n",
       "      <td>0.086479</td>\n",
       "      <td>-0.081063</td>\n",
       "      <td>1.000000</td>\n",
       "      <td>0.105885</td>\n",
       "      <td>0.223115</td>\n",
       "      <td>-0.211506</td>\n",
       "      <td>-0.013664</td>\n",
       "      <td>-0.133523</td>\n",
       "      <td>0.452011</td>\n",
       "      <td>-0.002769</td>\n",
       "      <td>0.101106</td>\n",
       "      <td>0.003253</td>\n",
       "    </tr>\n",
       "    <tr>\n",
       "      <th>trestbps</th>\n",
       "      <td>0.218698</td>\n",
       "      <td>0.019134</td>\n",
       "      <td>0.105885</td>\n",
       "      <td>1.000000</td>\n",
       "      <td>0.288669</td>\n",
       "      <td>0.196475</td>\n",
       "      <td>0.125555</td>\n",
       "      <td>-0.083190</td>\n",
       "      <td>0.311726</td>\n",
       "      <td>0.156308</td>\n",
       "      <td>0.170588</td>\n",
       "      <td>0.168649</td>\n",
       "    </tr>\n",
       "    <tr>\n",
       "      <th>chol</th>\n",
       "      <td>0.059523</td>\n",
       "      <td>-0.147463</td>\n",
       "      <td>0.223115</td>\n",
       "      <td>0.288669</td>\n",
       "      <td>1.000000</td>\n",
       "      <td>0.130218</td>\n",
       "      <td>0.003956</td>\n",
       "      <td>-0.107273</td>\n",
       "      <td>0.262711</td>\n",
       "      <td>0.094009</td>\n",
       "      <td>0.150782</td>\n",
       "      <td>0.102489</td>\n",
       "    </tr>\n",
       "    <tr>\n",
       "      <th>fbs</th>\n",
       "      <td>0.140556</td>\n",
       "      <td>-0.009391</td>\n",
       "      <td>-0.211506</td>\n",
       "      <td>0.196475</td>\n",
       "      <td>0.130218</td>\n",
       "      <td>1.000000</td>\n",
       "      <td>0.180163</td>\n",
       "      <td>-0.020819</td>\n",
       "      <td>-0.260271</td>\n",
       "      <td>-0.095800</td>\n",
       "      <td>0.034226</td>\n",
       "      <td>0.001470</td>\n",
       "    </tr>\n",
       "    <tr>\n",
       "      <th>restecg</th>\n",
       "      <td>-0.076490</td>\n",
       "      <td>-0.009583</td>\n",
       "      <td>-0.013664</td>\n",
       "      <td>0.125555</td>\n",
       "      <td>0.003956</td>\n",
       "      <td>0.180163</td>\n",
       "      <td>1.000000</td>\n",
       "      <td>0.133421</td>\n",
       "      <td>-0.028604</td>\n",
       "      <td>-0.144312</td>\n",
       "      <td>-0.086274</td>\n",
       "      <td>-0.080666</td>\n",
       "    </tr>\n",
       "    <tr>\n",
       "      <th>thalach</th>\n",
       "      <td>-0.134893</td>\n",
       "      <td>0.103508</td>\n",
       "      <td>-0.133523</td>\n",
       "      <td>-0.083190</td>\n",
       "      <td>-0.107273</td>\n",
       "      <td>-0.020819</td>\n",
       "      <td>0.133421</td>\n",
       "      <td>1.000000</td>\n",
       "      <td>-0.175896</td>\n",
       "      <td>0.142112</td>\n",
       "      <td>-0.108801</td>\n",
       "      <td>-0.045782</td>\n",
       "    </tr>\n",
       "    <tr>\n",
       "      <th>exang</th>\n",
       "      <td>0.117609</td>\n",
       "      <td>0.040610</td>\n",
       "      <td>0.452011</td>\n",
       "      <td>0.311726</td>\n",
       "      <td>0.262711</td>\n",
       "      <td>-0.260271</td>\n",
       "      <td>-0.028604</td>\n",
       "      <td>-0.175896</td>\n",
       "      <td>1.000000</td>\n",
       "      <td>0.193815</td>\n",
       "      <td>0.223438</td>\n",
       "      <td>0.247102</td>\n",
       "    </tr>\n",
       "    <tr>\n",
       "      <th>oldpeak</th>\n",
       "      <td>0.115156</td>\n",
       "      <td>0.122491</td>\n",
       "      <td>-0.002769</td>\n",
       "      <td>0.156308</td>\n",
       "      <td>0.094009</td>\n",
       "      <td>-0.095800</td>\n",
       "      <td>-0.144312</td>\n",
       "      <td>0.142112</td>\n",
       "      <td>0.193815</td>\n",
       "      <td>1.000000</td>\n",
       "      <td>0.332338</td>\n",
       "      <td>0.389335</td>\n",
       "    </tr>\n",
       "    <tr>\n",
       "      <th>slope</th>\n",
       "      <td>0.109515</td>\n",
       "      <td>0.130168</td>\n",
       "      <td>0.101106</td>\n",
       "      <td>0.170588</td>\n",
       "      <td>0.150782</td>\n",
       "      <td>0.034226</td>\n",
       "      <td>-0.086274</td>\n",
       "      <td>-0.108801</td>\n",
       "      <td>0.223438</td>\n",
       "      <td>0.332338</td>\n",
       "      <td>1.000000</td>\n",
       "      <td>0.211927</td>\n",
       "    </tr>\n",
       "    <tr>\n",
       "      <th>Target</th>\n",
       "      <td>0.315328</td>\n",
       "      <td>0.167703</td>\n",
       "      <td>0.003253</td>\n",
       "      <td>0.168649</td>\n",
       "      <td>0.102489</td>\n",
       "      <td>0.001470</td>\n",
       "      <td>-0.080666</td>\n",
       "      <td>-0.045782</td>\n",
       "      <td>0.247102</td>\n",
       "      <td>0.389335</td>\n",
       "      <td>0.211927</td>\n",
       "      <td>1.000000</td>\n",
       "    </tr>\n",
       "  </tbody>\n",
       "</table>\n",
       "</div>"
      ],
      "text/plain": [
       "               age       sex        cp  trestbps      chol       fbs  \\\n",
       "age       1.000000  0.090188  0.086479  0.218698  0.059523  0.140556   \n",
       "sex       0.090188  1.000000 -0.081063  0.019134 -0.147463 -0.009391   \n",
       "cp        0.086479 -0.081063  1.000000  0.105885  0.223115 -0.211506   \n",
       "trestbps  0.218698  0.019134  0.105885  1.000000  0.288669  0.196475   \n",
       "chol      0.059523 -0.147463  0.223115  0.288669  1.000000  0.130218   \n",
       "fbs       0.140556 -0.009391 -0.211506  0.196475  0.130218  1.000000   \n",
       "restecg  -0.076490 -0.009583 -0.013664  0.125555  0.003956  0.180163   \n",
       "thalach  -0.134893  0.103508 -0.133523 -0.083190 -0.107273 -0.020819   \n",
       "exang     0.117609  0.040610  0.452011  0.311726  0.262711 -0.260271   \n",
       "oldpeak   0.115156  0.122491 -0.002769  0.156308  0.094009 -0.095800   \n",
       "slope     0.109515  0.130168  0.101106  0.170588  0.150782  0.034226   \n",
       "Target    0.315328  0.167703  0.003253  0.168649  0.102489  0.001470   \n",
       "\n",
       "           restecg   thalach     exang   oldpeak     slope    Target  \n",
       "age      -0.076490 -0.134893  0.117609  0.115156  0.109515  0.315328  \n",
       "sex      -0.009583  0.103508  0.040610  0.122491  0.130168  0.167703  \n",
       "cp       -0.013664 -0.133523  0.452011 -0.002769  0.101106  0.003253  \n",
       "trestbps  0.125555 -0.083190  0.311726  0.156308  0.170588  0.168649  \n",
       "chol      0.003956 -0.107273  0.262711  0.094009  0.150782  0.102489  \n",
       "fbs       0.180163 -0.020819 -0.260271 -0.095800  0.034226  0.001470  \n",
       "restecg   1.000000  0.133421 -0.028604 -0.144312 -0.086274 -0.080666  \n",
       "thalach   0.133421  1.000000 -0.175896  0.142112 -0.108801 -0.045782  \n",
       "exang    -0.028604 -0.175896  1.000000  0.193815  0.223438  0.247102  \n",
       "oldpeak  -0.144312  0.142112  0.193815  1.000000  0.332338  0.389335  \n",
       "slope    -0.086274 -0.108801  0.223438  0.332338  1.000000  0.211927  \n",
       "Target   -0.080666 -0.045782  0.247102  0.389335  0.211927  1.000000  "
      ]
     },
     "execution_count": 50,
     "metadata": {},
     "output_type": "execute_result"
    }
   ],
   "source": [
    "cor=df.corr()\n",
    "cor"
   ]
  },
  {
   "cell_type": "code",
   "execution_count": 346,
   "metadata": {},
   "outputs": [
    {
     "data": {
      "text/plain": [
       "<matplotlib.axes._subplots.AxesSubplot at 0x1d9cb7ecd60>"
      ]
     },
     "execution_count": 346,
     "metadata": {},
     "output_type": "execute_result"
    },
    {
     "data": {
      "image/png": "[encoded data removed]",
      "text/plain": [
       "<Figure size 720x720 with 2 Axes>"
      ]
     },
     "metadata": {
      "needs_background": "light"
     },
     "output_type": "display_data"
    }
   ],
   "source": [
    "#heatmap for correlation\n",
    "plt.figure(figsize=(10,10))\n",
    "sns.heatmap((cor),annot=True)"
   ]
  },
  {
   "cell_type": "markdown",
   "metadata": {},
   "source": [
    "Key observation"
   ]
  },
  {
   "cell_type": "markdown",
   "metadata": {},
   "source": [
    "from the above result it is clear that some columns making positive correlation while some has negative correlation to the target variable "
   ]
  },
  {
   "cell_type": "markdown",
   "metadata": {},
   "source": [
    "columns making positive correlation\n",
    "\n",
    "1)age\n",
    "\n",
    "2)sex\n",
    "\n",
    "3)cp\n",
    "\n",
    "4)trestbps \n",
    "\n",
    "5)chol  \n",
    "\n",
    "6)fbs\n",
    "\n",
    "7)exang\n",
    "\n",
    "8)oldpeak\n",
    "\n",
    "9)slope"
   ]
  },
  {
   "cell_type": "markdown",
   "metadata": {},
   "source": [
    "columns making negative correlation\n",
    "\n",
    "1)restecg\n",
    "\n",
    "2)thalach                   \n",
    "\n",
    "                 \n",
    "                  \n",
    "\n",
    "\n"
   ]
  },
  {
   "cell_type": "markdown",
   "metadata": {},
   "source": [
    "# DATA CLEANING"
   ]
  },
  {
   "cell_type": "code",
   "execution_count": 52,
   "metadata": {},
   "outputs": [],
   "source": [
    "#Droping columns which are needed no more\n",
    "df.drop(columns=[\"thalach\"],inplace=True)\n"
   ]
  },
  {
   "cell_type": "markdown",
   "metadata": {},
   "source": [
    "# Outliers"
   ]
  },
  {
   "cell_type": "code",
   "execution_count": 53,
   "metadata": {},
   "outputs": [
    {
     "data": {
      "image/png": "[encoded data removed]",
      "text/plain": [
       "<Figure size 3240x2160 with 11 Axes>"
      ]
     },
     "metadata": {
      "needs_background": "light"
     },
     "output_type": "display_data"
    }
   ],
   "source": [
    "#Plotting Outliers\n",
    "collist=df.columns.values\n",
    "ncol=30\n",
    "nrow=15\n",
    "plt.figure(figsize=(3*nrow,ncol))\n",
    "for i in range (0,len(collist)):\n",
    "    plt.subplot(nrow,ncol,i+1)\n",
    "    sns.boxplot(df[collist[i]],color=\"yellow\",orient=\"v\")\n",
    "    plt.tight_layout()               "
   ]
  },
  {
   "cell_type": "markdown",
   "metadata": {},
   "source": [
    "outliers present in most of the columns [\"Age\",\"sex\",\"cp\",\"Trestbps\",\"chol\",\"oldpeak\",\"slope\"]"
   ]
  },
  {
   "cell_type": "code",
   "execution_count": 54,
   "metadata": {},
   "outputs": [
    {
     "data": {
      "text/plain": [
       "array([[0.41854093, 0.18898224, 0.42894714, 0.28626384, 0.70028   ,\n",
       "        0.67082039, 0.54089872, 0.56407607, 1.30612345, 0.1766112 ,\n",
       "        0.2563599 ],\n",
       "       [0.01544431, 0.18898224, 0.42894714, 0.07143748, 0.34018668,\n",
       "        0.67082039, 0.54089872, 0.56407607, 0.29283631, 1.35990624,\n",
       "        0.2563599 ],\n",
       "       [0.65638338, 0.18898224, 0.42894714, 0.37568917, 0.42592319,\n",
       "        0.67082039, 0.54089872, 0.56407607, 0.77313687, 1.71312864,\n",
       "        0.60145976],\n",
       "       [0.82163754, 0.18898224, 1.00637597, 1.0551161 , 0.29731843,\n",
       "        1.49071198, 2.01146713, 0.56407607, 0.50603094, 0.1766112 ,\n",
       "        1.45927941],\n",
       "       [0.82163754, 0.18898224, 1.00637597, 0.60798945, 1.52886912,\n",
       "        0.67082039, 0.54089872, 1.77281052, 2.42478266, 1.71312864,\n",
       "        1.45927941],\n",
       "       [0.01544431, 0.18898224, 1.00637597, 2.07477043, 1.52886912,\n",
       "        0.67082039, 0.54089872, 0.56407607, 0.29283631, 0.1766112 ,\n",
       "        1.45927941],\n",
       "       [0.01544431, 0.18898224, 2.44169908, 1.18051714, 0.76029555,\n",
       "        1.49071198, 0.54089872, 1.77281052, 1.35880948, 0.1766112 ,\n",
       "        0.60145976],\n",
       "       [0.11892122, 0.18898224, 0.42894714, 0.28626384, 1.52886912,\n",
       "        0.67082039, 0.54089872, 0.56407607, 0.8258229 , 0.1766112 ,\n",
       "        0.60145976],\n",
       "       [0.28417539, 0.18898224, 0.42894714, 1.0551161 , 1.52886912,\n",
       "        0.67082039, 0.92966968, 0.56407607, 1.35880948, 0.1766112 ,\n",
       "        0.60145976],\n",
       "       [0.3876523 , 0.18898224, 0.42894714, 0.25028814, 1.52886912,\n",
       "        1.49071198, 0.54089872, 0.56407607, 0.8258229 , 0.1766112 ,\n",
       "        0.60145976],\n",
       "       [0.41854093, 0.18898224, 0.42894714, 1.62764379, 0.01133299,\n",
       "        0.67082039, 0.92966968, 0.56407607, 0.77313687, 1.35990624,\n",
       "        1.97199921],\n",
       "       [1.86567322, 0.18898224, 0.42894714, 1.0551161 , 0.49451239,\n",
       "        0.67082039, 0.92966968, 0.56407607, 0.24015028, 0.1766112 ,\n",
       "        0.60145976],\n",
       "       [0.41854093, 0.18898224, 0.42894714, 0.33971346, 1.52886912,\n",
       "        0.67082039, 0.54089872, 1.77281052, 0.29283631, 1.35990624,\n",
       "        1.45927941],\n",
       "       [0.25328676, 0.18898224, 0.42894714, 0.78684011, 1.52886912,\n",
       "        0.67082039, 0.92966968, 1.77281052, 0.8258229 , 1.71312864,\n",
       "        0.2563599 ],\n",
       "       [0.55290647, 0.18898224, 0.42894714, 0.60798945, 1.52886912,\n",
       "        1.49071198, 0.54089872, 1.77281052, 0.24015028, 0.1766112 ,\n",
       "        0.60145976],\n",
       "       [1.05947999, 0.18898224, 1.00637597, 0.25028814, 1.52886912,\n",
       "        0.67082039, 0.54089872, 1.77281052, 1.30612345, 1.71312864,\n",
       "        0.2563599 ],\n",
       "       [1.22473416, 0.18898224, 0.42894714, 0.16086281, 1.52886912,\n",
       "        1.49071198, 0.54089872, 1.77281052, 0.8258229 , 0.1766112 ,\n",
       "        0.2563599 ],\n",
       "       [0.01544431, 0.18898224, 0.42894714, 0.16086281, 0.06582987,\n",
       "        1.49071198, 0.54089872, 0.56407607, 1.35880948, 0.1766112 ,\n",
       "        0.60145976],\n",
       "       [0.52201784, 0.18898224, 0.42894714, 0.60798945, 0.67150407,\n",
       "        0.67082039, 0.92966968, 0.56407607, 0.29283631, 0.1766112 ,\n",
       "        0.60145976],\n",
       "       [2.29965847, 0.18898224, 0.42894714, 0.42913879, 0.06277489,\n",
       "        0.67082039, 0.54089872, 0.56407607, 0.24015028, 1.71312864,\n",
       "        1.11417955],\n",
       "       [0.41854093, 0.18898224, 0.42894714, 1.18051714, 0.44307049,\n",
       "        1.49071198, 0.92966968, 0.56407607, 0.8258229 , 0.1766112 ,\n",
       "        1.11417955],\n",
       "       [0.65638338, 0.18898224, 1.00637597, 5.97350923, 1.52886912,\n",
       "        0.67082039, 0.92966968, 1.77281052, 0.29283631, 0.1766112 ,\n",
       "        1.11417955],\n",
       "       [1.05947999, 0.18898224, 1.00637597, 0.51856412, 1.52886912,\n",
       "        0.67082039, 0.92966968, 0.56407607, 0.24015028, 1.35990624,\n",
       "        0.2563599 ],\n",
       "       [0.55290647, 0.18898224, 0.42894714, 0.4651145 , 1.52886912,\n",
       "        0.67082039, 0.54089872, 0.56407607, 0.8258229 , 0.1766112 ,\n",
       "        1.11417955],\n",
       "       [0.01544431, 0.18898224, 0.42894714, 0.60798945, 1.52886912,\n",
       "        0.67082039, 0.92966968, 0.56407607, 0.24015028, 1.71312864,\n",
       "        1.45927941],\n",
       "       [0.14980985, 0.18898224, 1.00637597, 0.60798945, 1.52886912,\n",
       "        0.67082039, 0.92966968, 0.56407607, 1.89179607, 0.1766112 ,\n",
       "        1.11417955],\n",
       "       [0.11892122, 0.18898224, 0.42894714, 0.51856412, 0.46879144,\n",
       "        0.67082039, 0.92966968, 0.56407607, 0.50603094, 1.35990624,\n",
       "        0.60145976],\n",
       "       [0.65638338, 0.18898224, 1.00637597, 0.60798945, 1.52886912,\n",
       "        0.67082039, 0.54089872, 0.56407607, 0.77313687, 0.1766112 ,\n",
       "        0.60145976],\n",
       "       [0.28417539, 0.18898224, 0.42894714, 0.82281582, 0.2171006 ,\n",
       "        0.67082039, 0.54089872, 0.56407607, 0.18623899, 1.71312864,\n",
       "        0.2563599 ],\n",
       "       [0.52201784, 0.18898224, 2.44169908, 0.42913879, 0.39162858,\n",
       "        1.49071198, 0.92966968, 1.77281052, 0.24015028, 0.1766112 ,\n",
       "        1.45927941],\n",
       "       [1.09036862, 0.18898224, 0.42894714, 0.19683851, 1.52886912,\n",
       "        0.67082039, 0.92966968, 0.56407607, 1.30612345, 0.1766112 ,\n",
       "        0.2563599 ],\n",
       "       [0.25328676, 0.18898224, 2.44169908, 0.33971346, 1.52886912,\n",
       "        1.49071198, 0.92966968, 0.56407607, 0.24015028, 0.1766112 ,\n",
       "        0.2563599 ],\n",
       "       [0.95600308, 0.18898224, 3.87702219, 0.37568917, 0.78601651,\n",
       "        1.49071198, 0.92966968, 1.77281052, 0.77313687, 1.71312864,\n",
       "        1.11417955],\n",
       "       [0.25328676, 0.18898224, 0.42894714, 0.60798945, 1.52886912,\n",
       "        0.67082039, 2.01146713, 0.56407607, 0.29283631, 1.35990624,\n",
       "        0.60145976],\n",
       "       [0.3876523 , 0.18898224, 0.42894714, 0.28626384, 0.30589208,\n",
       "        0.67082039, 0.54089872, 0.56407607, 0.24015028, 0.1766112 ,\n",
       "        0.2563599 ],\n",
       "       [0.79074892, 0.18898224, 0.42894714, 0.10741318, 0.35733398,\n",
       "        0.67082039, 0.92966968, 0.56407607, 1.30612345, 0.1766112 ,\n",
       "        1.11417955],\n",
       "       [1.62783077, 0.18898224, 1.00637597, 0.60798945, 0.30589208,\n",
       "        0.67082039, 0.92966968, 0.56407607, 0.8258229 , 0.1766112 ,\n",
       "        1.11417955],\n",
       "       [1.46257661, 0.18898224, 3.87702219, 0.16086281, 1.52886912,\n",
       "        0.67082039, 0.54089872, 1.77281052, 1.30612345, 0.1766112 ,\n",
       "        0.2563599 ],\n",
       "       [0.01544431, 0.18898224, 0.42894714, 0.37568917, 0.32303938,\n",
       "        0.67082039, 0.92966968, 0.56407607, 0.77313687, 0.1766112 ,\n",
       "        0.2563599 ],\n",
       "       [0.55290647, 5.29150262, 0.42894714, 0.37568917, 0.83745841,\n",
       "        0.67082039, 0.92966968, 0.56407607, 0.8258229 , 0.1766112 ,\n",
       "        0.60145976],\n",
       "       [0.25328676, 0.18898224, 0.42894714, 0.07143748, 2.39786279,\n",
       "        1.49071198, 0.92966968, 1.77281052, 0.8258229 , 1.35990624,\n",
       "        1.45927941],\n",
       "       [0.14980985, 0.18898224, 0.42894714, 0.55453983, 0.53738064,\n",
       "        0.67082039, 0.92966968, 0.56407607, 1.30612345, 1.35990624,\n",
       "        0.2563599 ],\n",
       "       [0.95600308, 0.18898224, 0.42894714, 1.18051714, 1.76341266,\n",
       "        1.49071198, 0.54089872, 0.56407607, 1.89179607, 0.1766112 ,\n",
       "        0.2563599 ],\n",
       "       [0.28417539, 0.18898224, 0.42894714, 0.06270052, 1.01750507,\n",
       "        0.67082039, 0.92966968, 0.56407607, 0.8258229 , 0.1766112 ,\n",
       "        0.2563599 ],\n",
       "       [0.68727201, 0.18898224, 0.42894714, 0.10741318, 0.5973962 ,\n",
       "        0.67082039, 0.92966968, 0.56407607, 2.37209663, 1.35990624,\n",
       "        1.97199921],\n",
       "       [0.41854093, 0.18898224, 0.42894714, 0.16086281, 1.11181522,\n",
       "        0.67082039, 0.92966968, 0.56407607, 0.24015028, 0.1766112 ,\n",
       "        0.2563599 ],\n",
       "       [0.28417539, 0.18898224, 0.42894714, 1.09109181, 0.27159748,\n",
       "        1.49071198, 0.92966968, 0.56407607, 1.30612345, 1.35990624,\n",
       "        0.60145976],\n",
       "       [2.03092739, 0.18898224, 0.42894714, 0.10741318, 0.40020224,\n",
       "        0.67082039, 0.92966968, 0.56407607, 1.30612345, 0.1766112 ,\n",
       "        1.11417955],\n",
       "       [0.95600308, 0.18898224, 0.42894714, 0.60798945, 1.52886912,\n",
       "        1.49071198, 0.92966968, 1.77281052, 0.29283631, 1.35990624,\n",
       "        1.11417955],\n",
       "       [2.26876984, 0.18898224, 0.42894714, 0.51856412, 1.52886912,\n",
       "        0.67082039, 0.92966968, 1.77281052, 1.35880948, 1.71312864,\n",
       "        0.60145976],\n",
       "       [0.41854093, 0.18898224, 1.00637597, 0.16086281, 1.52886912,\n",
       "        1.49071198, 0.54089872, 1.77281052, 1.30612345, 0.1766112 ,\n",
       "        1.45927941],\n",
       "       [0.68727201, 0.18898224, 0.42894714, 0.73339049, 0.48593874,\n",
       "        0.67082039, 0.92966968, 0.56407607, 0.29283631, 0.1766112 ,\n",
       "        1.11417955],\n",
       "       [0.41854093, 0.18898224, 0.42894714, 1.68109341, 1.08609427,\n",
       "        0.67082039, 0.54089872, 0.56407607, 0.8258229 , 1.71312864,\n",
       "        0.60145976],\n",
       "       [0.55290647, 0.18898224, 0.42894714, 0.16086281, 0.38305493,\n",
       "        0.67082039, 0.54089872, 1.77281052, 1.35880948, 0.1766112 ,\n",
       "        1.45927941],\n",
       "       [0.14980985, 0.18898224, 0.42894714, 0.60798945, 0.88890031,\n",
       "        0.67082039, 0.54089872, 0.56407607, 2.37209663, 1.35990624,\n",
       "        1.11417955],\n",
       "       [1.32821107, 0.18898224, 0.42894714, 0.4651145 , 1.46333489,\n",
       "        0.67082039, 2.01146713, 0.56407607, 0.8258229 , 1.71312864,\n",
       "        0.60145976],\n",
       "       [0.41854093, 0.18898224, 0.42894714, 1.0551161 , 0.6316908 ,\n",
       "        0.67082039, 0.54089872, 0.56407607, 0.24015028, 0.1766112 ,\n",
       "        0.2563599 ],\n",
       "       [0.11892122, 0.18898224, 0.42894714, 0.38442613, 0.37448128,\n",
       "        0.67082039, 0.92966968, 0.56407607, 0.77313687, 1.35990624,\n",
       "        1.11417955],\n",
       "       [1.89656185, 0.18898224, 0.42894714, 0.73339049, 0.6831327 ,\n",
       "        1.49071198, 0.54089872, 0.56407607, 2.37209663, 1.35990624,\n",
       "        1.11417955],\n",
       "       [0.79074892, 0.18898224, 0.42894714, 0.16086281, 0.20300827,\n",
       "        1.49071198, 0.92966968, 0.56407607, 0.24015028, 0.1766112 ,\n",
       "        0.60145976],\n",
       "       [0.79074892, 5.29150262, 0.42894714, 0.19683851, 0.82031111,\n",
       "        0.67082039, 0.92966968, 0.56407607, 0.29283631, 0.1766112 ,\n",
       "        0.60145976],\n",
       "       [1.3590997 , 0.18898224, 0.42894714, 1.62764379, 0.11727177,\n",
       "        0.67082039, 0.54089872, 0.56407607, 1.30612345, 1.35990624,\n",
       "        0.2563599 ],\n",
       "       [0.14980985, 0.18898224, 3.87702219, 0.37568917, 0.18586097,\n",
       "        1.49071198, 0.54089872, 1.77281052, 0.29283631, 1.35990624,\n",
       "        1.11417955],\n",
       "       [0.82163754, 0.18898224, 0.42894714, 0.96569077, 0.70885365,\n",
       "        0.67082039, 0.92966968, 1.77281052, 0.29283631, 1.71312864,\n",
       "        0.60145976],\n",
       "       [2.03092739, 0.18898224, 0.42894714, 1.18051714, 1.12896252,\n",
       "        1.49071198, 0.92966968, 0.56407607, 0.24015028, 1.35990624,\n",
       "        1.45927941],\n",
       "       [0.55290647, 0.18898224, 0.42894714, 0.01798785, 0.81173746,\n",
       "        0.67082039, 0.92966968, 0.56407607, 2.37209663, 1.35990624,\n",
       "        1.97199921],\n",
       "       [0.11892122, 0.18898224, 0.42894714, 0.28626384, 0.82031111,\n",
       "        0.67082039, 0.92966968, 0.56407607, 0.24015028, 0.1766112 ,\n",
       "        1.45927941],\n",
       "       [0.3876523 , 0.18898224, 0.42894714, 0.4651145 , 0.78601651,\n",
       "        1.49071198, 0.54089872, 0.56407607, 0.24015028, 0.1766112 ,\n",
       "        1.11417955],\n",
       "       [2.53750091, 0.18898224, 0.42894714, 0.73339049, 0.06277489,\n",
       "        0.67082039, 0.92966968, 0.56407607, 0.29283631, 0.1766112 ,\n",
       "        1.45927941],\n",
       "       [2.94059753, 0.18898224, 0.42894714, 1.0551161 , 0.94891586,\n",
       "        0.67082039, 0.92966968, 0.56407607, 0.29283631, 1.35990624,\n",
       "        0.60145976],\n",
       "       [0.65638338, 0.18898224, 0.42894714, 1.09109181, 0.33161303,\n",
       "        0.67082039, 0.92966968, 0.56407607, 0.77313687, 0.1766112 ,\n",
       "        0.60145976],\n",
       "       [0.52201784, 0.18898224, 0.42894714, 0.25028814, 0.38305493,\n",
       "        0.67082039, 0.54089872, 0.56407607, 0.24015028, 1.35990624,\n",
       "        0.2563599 ],\n",
       "       [0.55290647, 0.18898224, 0.42894714, 0.73339049, 0.12584542,\n",
       "        0.67082039, 0.54089872, 0.56407607, 1.35880948, 0.1766112 ,\n",
       "        0.2563599 ],\n",
       "       [0.3876523 , 0.18898224, 0.42894714, 1.00166648, 0.04562759,\n",
       "        0.67082039, 2.01146713, 0.56407607, 1.30612345, 1.35990624,\n",
       "        1.11417955],\n",
       "       [0.92511445, 0.18898224, 0.42894714, 0.42913879, 0.55452794,\n",
       "        0.67082039, 0.92966968, 0.56407607, 0.24015028, 0.1766112 ,\n",
       "        0.60145976],\n",
       "       [3.07496307, 0.18898224, 1.00637597, 0.69741478, 0.52880699,\n",
       "        0.67082039, 2.01146713, 1.77281052, 0.8258229 , 0.1766112 ,\n",
       "        1.45927941],\n",
       "       [0.95600308, 0.18898224, 0.42894714, 0.28626384, 0.34876033,\n",
       "        0.67082039, 0.54089872, 0.56407607, 0.24015028, 0.1766112 ,\n",
       "        1.11417955],\n",
       "       [0.14980985, 0.18898224, 0.42894714, 2.52189708, 0.93176856,\n",
       "        1.49071198, 2.01146713, 0.56407607, 0.24015028, 1.35990624,\n",
       "        1.97199921],\n",
       "       [0.25328676, 0.18898224, 0.42894714, 1.18051714, 0.6659854 ,\n",
       "        1.49071198, 2.01146713, 0.56407607, 0.8258229 , 1.71312864,\n",
       "        1.11417955],\n",
       "       [0.01544431, 0.18898224, 0.42894714, 0.16086281, 0.06582987,\n",
       "        1.49071198, 2.01146713, 0.56407607, 1.35880948, 0.1766112 ,\n",
       "        0.60145976],\n",
       "       [0.65638338, 0.18898224, 0.42894714, 0.60798945, 0.40877589,\n",
       "        0.67082039, 2.01146713, 0.56407607, 0.07964167, 1.35990624,\n",
       "        0.60145976],\n",
       "       [0.52201784, 0.18898224, 0.42894714, 0.16086281, 0.21158193,\n",
       "        1.49071198, 0.92966968, 1.77281052, 0.29283631, 0.1766112 ,\n",
       "        0.60145976],\n",
       "       [0.3876523 , 0.18898224, 0.42894714, 0.16086281, 0.24587653,\n",
       "        0.67082039, 0.54089872, 0.56407607, 0.8258229 , 0.1766112 ,\n",
       "        1.45927941],\n",
       "       [1.89656185, 0.18898224, 0.42894714, 0.95695381, 1.12896252,\n",
       "        0.67082039, 0.92966968, 0.56407607, 0.29283631, 1.35990624,\n",
       "        0.2563599 ],\n",
       "       [1.19384553, 5.29150262, 0.42894714, 0.87626544, 0.6831327 ,\n",
       "        1.49071198, 2.01146713, 1.77281052, 0.8258229 , 1.71312864,\n",
       "        1.45927941],\n",
       "       [0.28417539, 0.18898224, 0.42894714, 1.18051714, 0.6488381 ,\n",
       "        1.49071198, 0.54089872, 0.56407607, 1.30612345, 0.1766112 ,\n",
       "        1.97199921],\n",
       "       [0.92511445, 0.18898224, 0.42894714, 0.4651145 , 1.04322602,\n",
       "        1.49071198, 0.54089872, 0.56407607, 0.29283631, 0.1766112 ,\n",
       "        1.11417955]])"
      ]
     },
     "execution_count": 54,
     "metadata": {},
     "output_type": "execute_result"
    }
   ],
   "source": [
    "#Removing Outliers\n",
    "#Z-score Techinique\n",
    "from scipy.stats import zscore\n",
    "z=np.abs(zscore(df))\n",
    "z"
   ]
  },
  {
   "cell_type": "code",
   "execution_count": 55,
   "metadata": {},
   "outputs": [
    {
     "name": "stdout",
     "output_type": "stream",
     "text": [
      "(array([21, 32, 37, 39, 60, 62, 75, 84], dtype=int64), array([3, 2, 2, 1, 1, 2, 0, 1], dtype=int64))\n"
     ]
    }
   ],
   "source": [
    "threshold=3\n",
    "print(np.where(z>3))"
   ]
  },
  {
   "cell_type": "code",
   "execution_count": 56,
   "metadata": {},
   "outputs": [
    {
     "data": {
      "text/plain": [
       "(87, 11)"
      ]
     },
     "execution_count": 56,
     "metadata": {},
     "output_type": "execute_result"
    }
   ],
   "source": [
    "df.shape"
   ]
  },
  {
   "cell_type": "code",
   "execution_count": 57,
   "metadata": {},
   "outputs": [
    {
     "data": {
      "text/plain": [
       "(79, 11)"
      ]
     },
     "execution_count": 57,
     "metadata": {},
     "output_type": "execute_result"
    }
   ],
   "source": [
    "df_new=df[(z<3).all(axis=1)]\n",
    "df_new.shape"
   ]
  },
  {
   "cell_type": "code",
   "execution_count": 58,
   "metadata": {},
   "outputs": [
    {
     "data": {
      "text/plain": [
       "9.13978494623656"
      ]
     },
     "execution_count": 58,
     "metadata": {},
     "output_type": "execute_result"
    }
   ],
   "source": [
    "#Percentage loss\n",
    "loss=(186-169)/186*100\n",
    "loss"
   ]
  },
  {
   "cell_type": "markdown",
   "metadata": {},
   "source": [
    "# Skewness"
   ]
  },
  {
   "cell_type": "code",
   "execution_count": 59,
   "metadata": {},
   "outputs": [
    {
     "data": {
      "text/plain": [
       "age        -0.380395\n",
       "sex         0.000000\n",
       "cp         -2.591651\n",
       "trestbps    0.622126\n",
       "chol       -0.445905\n",
       "fbs         0.869851\n",
       "restecg     0.612085\n",
       "exang      -1.612243\n",
       "oldpeak     0.286692\n",
       "slope      -0.149461\n",
       "Target      0.196737\n",
       "dtype: float64"
      ]
     },
     "execution_count": 59,
     "metadata": {},
     "output_type": "execute_result"
    }
   ],
   "source": [
    "#finding Skewness\n",
    "df_new.skew()"
   ]
  },
  {
   "cell_type": "markdown",
   "metadata": {},
   "source": [
    "Range of Skewness is (+/- 0.5)\n",
    "from the above observation the following columns falls under high skewness\n",
    "\n",
    "1) cp\n",
    "\n",
    "2) exang\n",
    "\n",
    "3) fbs\n",
    "\n"
   ]
  },
  {
   "cell_type": "markdown",
   "metadata": {},
   "source": [
    "# Seperating Target Variable\n"
   ]
  },
  {
   "cell_type": "code",
   "execution_count": 60,
   "metadata": {},
   "outputs": [],
   "source": [
    "x_l=df_new.drop([\"Target\"],axis=1)\n",
    "y=df_new[\"Target\"]"
   ]
  },
  {
   "cell_type": "code",
   "execution_count": 61,
   "metadata": {},
   "outputs": [],
   "source": [
    "#removing Skewness\n",
    "#using Power Transformer\n",
    "from sklearn.preprocessing import power_transform\n",
    "x_l=power_transform(x_l,method=\"yeo-johnson\")"
   ]
  },
  {
   "cell_type": "markdown",
   "metadata": {},
   "source": [
    "# Scaling Input Variable"
   ]
  },
  {
   "cell_type": "code",
   "execution_count": 62,
   "metadata": {},
   "outputs": [
    {
     "data": {
      "text/plain": [
       "array([[ 0.33184309,  0.        ,  0.42320439,  0.36788348,  0.69274511,\n",
       "        -0.66057826,  0.77916929,  0.48412292,  1.23750488, -0.23488854],\n",
       "       [-0.10525185,  0.        ,  0.42320439, -0.09196714,  0.47748884,\n",
       "        -0.66057826,  0.77916929,  0.48412292, -0.25813335,  1.34216897],\n",
       "       [-0.79597439,  0.        ,  0.42320439,  0.4759306 ,  0.53039431,\n",
       "        -0.66057826,  0.77916929,  0.48412292,  0.75824488, -1.71123253],\n",
       "       [ 0.78573836,  0.        , -2.35733049, -1.64326544,  0.45060821,\n",
       "         1.51382518,  1.58688988,  0.48412292, -0.47310089, -0.23488854],\n",
       "       [ 0.78573836,  0.        , -2.35733049, -0.87823677, -1.61281567,\n",
       "        -0.66057826,  0.77916929, -2.06559112, -2.7368579 , -1.71123253],\n",
       "       [-0.10525185,  0.        , -2.35733049,  2.13154845, -1.61281567,\n",
       "        -0.66057826,  0.77916929,  0.48412292, -0.25813335, -0.23488854],\n",
       "       [-0.10525185,  0.        , -2.3795732 ,  1.34365515,  0.72698114,\n",
       "         1.51382518,  0.77916929, -2.06559112, -1.38830013, -0.23488854],\n",
       "       [-0.24718962,  0.        ,  0.42320439,  0.36788348, -1.61281567,\n",
       "        -0.66057826,  0.77916929,  0.48412292, -0.80485285, -0.23488854],\n",
       "       [ 0.18427043,  0.        ,  0.42320439, -1.64326544, -1.61281567,\n",
       "        -0.66057826, -1.0107291 ,  0.48412292, -1.38830013, -0.23488854],\n",
       "       [-0.52538791,  0.        ,  0.42320439, -0.34011008, -1.61281567,\n",
       "         1.51382518,  0.77916929,  0.48412292, -0.80485285, -0.23488854],\n",
       "       [ 0.33184309,  0.        ,  0.42320439,  1.75734227,  0.24755911,\n",
       "        -0.66057826, -1.0107291 ,  0.48412292,  0.75824488,  1.34216897],\n",
       "       [-1.91795572,  0.        ,  0.42320439, -1.64326544,  0.57193732,\n",
       "        -0.66057826, -1.0107291 ,  0.48412292,  0.26099392, -0.23488854],\n",
       "       [ 0.33184309,  0.        ,  0.42320439, -0.46918823, -1.61281567,\n",
       "        -0.66057826,  0.77916929, -2.06559112, -0.25813335,  1.34216897],\n",
       "       [-0.38723705,  0.        ,  0.42320439, -1.17079179, -1.61281567,\n",
       "        -0.66057826, -1.0107291 , -2.06559112, -0.80485285, -1.71123253],\n",
       "       [ 0.48128238,  0.        ,  0.42320439, -0.87823677, -1.61281567,\n",
       "         1.51382518,  0.77916929, -2.06559112,  0.26099392, -0.23488854],\n",
       "       [-1.18746668,  0.        , -2.35733049, -0.34011008, -1.61281567,\n",
       "        -0.66057826,  0.77916929, -2.06559112,  1.23750488, -1.71123253],\n",
       "       [ 1.25628405,  0.        ,  0.42320439, -0.21441584, -1.61281567,\n",
       "         1.51382518,  0.77916929, -2.06559112, -0.80485285, -0.23488854],\n",
       "       [-0.10525185,  0.        ,  0.42320439, -0.21441584,  0.30001422,\n",
       "         1.51382518,  0.77916929,  0.48412292, -1.38830013, -0.23488854],\n",
       "       [-0.66163585,  0.        ,  0.42320439, -0.87823677, -0.26658048,\n",
       "        -0.66057826, -1.0107291 ,  0.48412292, -0.25813335, -0.23488854],\n",
       "       [ 2.59141639,  0.        ,  0.42320439, -0.60179688,  0.21189012,\n",
       "        -0.66057826,  0.77916929,  0.48412292,  0.26099392, -1.71123253],\n",
       "       [ 0.33184309,  0.        ,  0.42320439,  1.34365515,  0.5408435 ,\n",
       "         1.51382518, -1.0107291 ,  0.48412292, -0.80485285, -0.23488854],\n",
       "       [-1.18746668,  0.        , -2.35733049, -0.73809142, -1.61281567,\n",
       "        -0.66057826, -1.0107291 ,  0.48412292,  0.26099392,  1.34216897],\n",
       "       [ 0.48128238,  0.        ,  0.42320439,  0.5814192 , -1.61281567,\n",
       "        -0.66057826,  0.77916929,  0.48412292, -0.80485285, -0.23488854],\n",
       "       [-0.10525185,  0.        ,  0.42320439, -0.87823677, -1.61281567,\n",
       "        -0.66057826, -1.0107291 ,  0.48412292,  0.26099392, -1.71123253],\n",
       "       [ 0.03857016,  0.        , -2.35733049, -0.87823677, -1.61281567,\n",
       "        -0.66057826, -1.0107291 ,  0.48412292, -2.02512391, -0.23488854],\n",
       "       [-0.24718962,  0.        ,  0.42320439, -0.73809142,  0.55643749,\n",
       "        -0.66057826, -1.0107291 ,  0.48412292, -0.47310089,  1.34216897],\n",
       "       [-0.79597439,  0.        , -2.35733049, -0.87823677, -1.61281567,\n",
       "        -0.66057826,  0.77916929,  0.48412292,  0.75824488, -0.23488854],\n",
       "       [ 0.18427043,  0.        ,  0.42320439,  0.97961194,  0.10119576,\n",
       "        -0.66057826,  0.77916929,  0.48412292, -0.15231874, -1.71123253],\n",
       "       [-0.66163585,  0.        , -2.3795732 , -0.60179688,  0.50936574,\n",
       "         1.51382518, -1.0107291 , -2.06559112,  0.26099392, -0.23488854],\n",
       "       [ 1.09759436,  0.        ,  0.42320439,  0.25717814, -1.61281567,\n",
       "        -0.66057826, -1.0107291 ,  0.48412292,  1.23750488, -0.23488854],\n",
       "       [-0.38723705,  0.        , -2.3795732 , -0.46918823, -1.61281567,\n",
       "         1.51382518, -1.0107291 ,  0.48412292,  0.26099392, -0.23488854],\n",
       "       [-0.38723705,  0.        ,  0.42320439, -0.87823677, -1.61281567,\n",
       "        -0.66057826,  1.58688988,  0.48412292, -0.25813335,  1.34216897],\n",
       "       [-0.52538791,  0.        ,  0.42320439,  0.36788348,  0.45600788,\n",
       "        -0.66057826,  0.77916929,  0.48412292,  0.26099392, -0.23488854],\n",
       "       [-0.92839691,  0.        ,  0.42320439,  0.14370952,  0.4881598 ,\n",
       "        -0.66057826, -1.0107291 ,  0.48412292,  1.23750488, -0.23488854],\n",
       "       [ 1.74333809,  0.        , -2.35733049, -0.87823677,  0.45600788,\n",
       "        -0.66057826, -1.0107291 ,  0.48412292, -0.80485285, -0.23488854],\n",
       "       [-0.10525185,  0.        ,  0.42320439,  0.4759306 ,  0.46677174,\n",
       "        -0.66057826, -1.0107291 ,  0.48412292,  0.75824488, -0.23488854],\n",
       "       [-0.38723705,  0.        ,  0.42320439, -0.09196714,  1.53746685,\n",
       "         1.51382518, -1.0107291 , -2.06559112, -0.80485285,  1.34216897],\n",
       "       [ 0.03857016,  0.        ,  0.42320439,  0.6844439 ,  0.59756582,\n",
       "        -0.66057826, -1.0107291 ,  0.48412292,  1.23750488,  1.34216897],\n",
       "       [ 0.94074404,  0.        ,  0.42320439,  1.34365515,  1.24696653,\n",
       "         1.51382518,  0.77916929,  0.48412292, -2.02512391, -0.23488854],\n",
       "       [ 0.18427043,  0.        ,  0.42320439,  0.08590458,  0.86913822,\n",
       "        -0.66057826, -1.0107291 ,  0.48412292, -0.80485285, -0.23488854],\n",
       "       [ 0.63258265,  0.        ,  0.42320439,  0.14370952,  0.63302914,\n",
       "        -0.66057826, -1.0107291 ,  0.48412292,  2.15254486,  1.34216897],\n",
       "       [ 0.33184309,  0.        ,  0.42320439, -0.21441584,  0.91955395,\n",
       "        -0.66057826, -1.0107291 ,  0.48412292,  0.26099392, -0.23488854],\n",
       "       [ 0.18427043,  0.        ,  0.42320439,  1.25559019,  0.43433727,\n",
       "         1.51382518, -1.0107291 ,  0.48412292,  1.23750488,  1.34216897],\n",
       "       [ 2.2467655 ,  0.        ,  0.42320439,  0.14370952,  0.51463933,\n",
       "        -0.66057826, -1.0107291 ,  0.48412292,  1.23750488, -0.23488854],\n",
       "       [ 0.94074404,  0.        ,  0.42320439, -0.87823677, -1.61281567,\n",
       "         1.51382518, -1.0107291 , -2.06559112, -0.25813335,  1.34216897],\n",
       "       [-2.25653774,  0.        ,  0.42320439, -0.73809142, -1.61281567,\n",
       "        -0.66057826, -1.0107291 , -2.06559112, -1.38830013, -1.71123253],\n",
       "       [ 0.33184309,  0.        , -2.35733049, -0.21441584, -1.61281567,\n",
       "         1.51382518,  0.77916929, -2.06559112,  1.23750488, -0.23488854],\n",
       "       [ 0.63258265,  0.        ,  0.42320439,  0.88345688,  0.56678106,\n",
       "        -0.66057826, -1.0107291 ,  0.48412292, -0.25813335, -0.23488854],\n",
       "       [ 0.33184309,  0.        ,  0.42320439, -2.93735267,  0.90588948,\n",
       "        -0.66057826,  0.77916929,  0.48412292, -0.80485285, -1.71123253],\n",
       "       [ 0.48128238,  0.        ,  0.42320439, -0.21441584,  0.50408106,\n",
       "        -0.66057826,  0.77916929, -2.06559112, -1.38830013, -0.23488854],\n",
       "       [ 0.03857016,  0.        ,  0.42320439, -0.87823677,  0.79895006,\n",
       "        -0.66057826,  0.77916929,  0.48412292,  2.15254486,  1.34216897],\n",
       "       [-1.43878921,  0.        ,  0.42320439,  0.5814192 ,  1.10038445,\n",
       "        -0.66057826,  1.58688988,  0.48412292, -0.80485285, -1.71123253],\n",
       "       [ 0.33184309,  0.        ,  0.42320439, -1.64326544,  0.65308256,\n",
       "        -0.66057826,  0.77916929,  0.48412292,  0.26099392, -0.23488854],\n",
       "       [-0.24718962,  0.        ,  0.42320439, -0.53504175,  0.49878523,\n",
       "        -0.66057826, -1.0107291 ,  0.48412292,  0.75824488,  1.34216897],\n",
       "       [ 2.07714516,  0.        ,  0.42320439,  0.88345688,  0.68288395,\n",
       "         1.51382518,  0.77916929,  0.48412292,  2.15254486,  1.34216897],\n",
       "       [-0.92839691,  0.        ,  0.42320439, -0.21441584,  0.39040556,\n",
       "         1.51382518, -1.0107291 ,  0.48412292,  0.26099392, -0.23488854],\n",
       "       [ 1.41680794,  0.        ,  0.42320439,  1.75734227,  0.3343238 ,\n",
       "        -0.66057826,  0.77916929,  0.48412292,  1.23750488,  1.34216897],\n",
       "       [ 0.78573836,  0.        ,  0.42320439, -1.48100211,  0.6976623 ,\n",
       "        -0.66057826, -1.0107291 , -2.06559112, -0.25813335, -1.71123253],\n",
       "       [ 2.2467655 ,  0.        ,  0.42320439,  1.34365515,  0.9286288 ,\n",
       "         1.51382518, -1.0107291 ,  0.48412292,  0.26099392,  1.34216897],\n",
       "       [ 0.48128238,  0.        ,  0.42320439,  0.02736677,  0.75599148,\n",
       "        -0.66057826, -1.0107291 ,  0.48412292,  2.15254486,  1.34216897],\n",
       "       [-0.24718962,  0.        ,  0.42320439,  0.36788348,  0.76079724,\n",
       "        -0.66057826, -1.0107291 ,  0.48412292,  0.26099392, -0.23488854],\n",
       "       [-0.52538791,  0.        ,  0.42320439,  0.5814192 ,  0.74152424,\n",
       "         1.51382518,  0.77916929,  0.48412292,  0.26099392, -0.23488854],\n",
       "       [-2.47223056,  0.        ,  0.42320439,  0.88345688,  0.21189012,\n",
       "        -0.66057826, -1.0107291 ,  0.48412292, -0.25813335, -0.23488854],\n",
       "       [-2.78054327,  0.        ,  0.42320439, -1.64326544,  0.83191781,\n",
       "        -0.66057826, -1.0107291 ,  0.48412292, -0.25813335,  1.34216897],\n",
       "       [-0.79597439,  0.        ,  0.42320439,  1.25559019,  0.4721361 ,\n",
       "        -0.66057826, -1.0107291 ,  0.48412292,  0.75824488, -0.23488854],\n",
       "       [-0.66163585,  0.        ,  0.42320439, -0.34011008,  0.50408106,\n",
       "        -0.66057826,  0.77916929,  0.48412292,  0.26099392,  1.34216897],\n",
       "       [ 0.48128238,  0.        ,  0.42320439,  0.88345688,  0.3399928 ,\n",
       "        -0.66057826,  0.77916929,  0.48412292, -1.38830013, -0.23488854],\n",
       "       [-0.52538791,  0.        ,  0.42320439,  1.16560657,  0.22384416,\n",
       "        -0.66057826,  1.58688988,  0.48412292,  1.23750488,  1.34216897],\n",
       "       [-1.05889664,  0.        ,  0.42320439, -0.60179688,  0.60774709,\n",
       "        -0.66057826, -1.0107291 ,  0.48412292,  0.26099392, -0.23488854],\n",
       "       [ 0.94074404,  0.        ,  0.42320439,  0.36788348,  0.48283005,\n",
       "        -0.66057826,  0.77916929,  0.48412292,  0.26099392, -0.23488854],\n",
       "       [ 0.03857016,  0.        ,  0.42320439,  2.47192631,  0.82253719,\n",
       "         1.51382518,  1.58688988,  0.48412292,  0.26099392,  1.34216897],\n",
       "       [-0.38723705,  0.        ,  0.42320439,  1.34365515,  0.67298675,\n",
       "         1.51382518,  1.58688988,  0.48412292, -0.80485285, -1.71123253],\n",
       "       [-0.10525185,  0.        ,  0.42320439, -0.21441584,  0.30001422,\n",
       "         1.51382518,  1.58688988,  0.48412292, -1.38830013, -0.23488854],\n",
       "       [-0.79597439,  0.        ,  0.42320439, -0.87823677,  0.5199019 ,\n",
       "        -0.66057826,  1.58688988,  0.48412292, -0.04754507,  1.34216897],\n",
       "       [-0.66163585,  0.        ,  0.42320439, -0.21441584,  0.39594121,\n",
       "         1.51382518, -1.0107291 , -2.06559112, -0.25813335, -0.23488854],\n",
       "       [-0.52538791,  0.        ,  0.42320439, -0.21441584,  0.41795666,\n",
       "        -0.66057826,  0.77916929,  0.48412292, -0.80485285, -0.23488854],\n",
       "       [ 2.07714516,  0.        ,  0.42320439,  1.11987444,  0.9286288 ,\n",
       "        -0.66057826, -1.0107291 ,  0.48412292, -0.25813335,  1.34216897],\n",
       "       [ 0.18427043,  0.        ,  0.42320439,  1.34365515,  0.66305309,\n",
       "         1.51382518,  0.77916929,  0.48412292,  1.23750488, -0.23488854],\n",
       "       [-1.05889664,  0.        ,  0.42320439,  0.5814192 ,  0.88297393,\n",
       "         1.51382518,  0.77916929,  0.48412292, -0.25813335, -0.23488854]])"
      ]
     },
     "execution_count": 62,
     "metadata": {},
     "output_type": "execute_result"
    }
   ],
   "source": [
    "# Algorithms requires all features to be on common scale. \n",
    "#using Standard Scaler\n",
    "from sklearn.preprocessing import StandardScaler\n",
    "sc=StandardScaler()\n",
    "x=sc.fit_transform(x_l)\n",
    "x\n"
   ]
  },
  {
   "cell_type": "markdown",
   "metadata": {},
   "source": [
    "# preparing dataset for model training\n"
   ]
  },
  {
   "cell_type": "markdown",
   "metadata": {},
   "source": [
    "### splitting the testing and training data"
   ]
  },
  {
   "cell_type": "code",
   "execution_count": 63,
   "metadata": {},
   "outputs": [],
   "source": [
    "#importing Libraries\n",
    "from sklearn.model_selection import train_test_split\n",
    "from sklearn.metrics import accuracy_score"
   ]
  },
  {
   "cell_type": "code",
   "execution_count": 348,
   "metadata": {},
   "outputs": [],
   "source": [
    "x_train,x_test,y_train,y_test=train_test_split(x,y,test_size=.10)"
   ]
  },
  {
   "cell_type": "markdown",
   "metadata": {},
   "source": [
    "# finding best model\n",
    "\n",
    "Popular algorithms that can be used for multi-class classification include:\n",
    "\n",
    "1)k-Nearest Neighbors.\n",
    "\n",
    "2)Decision Trees.\n",
    "\n",
    "3)Support Vector Machine\n",
    "\n",
    "4)Naive Bayes.\n",
    "\n",
    "4)Random Forest Regressor\n",
    "\n",
    "6)Gradient Boosting"
   ]
  },
  {
   "cell_type": "markdown",
   "metadata": {},
   "source": [
    "# 1)k-Nearest Neighbour"
   ]
  },
  {
   "cell_type": "code",
   "execution_count": 349,
   "metadata": {},
   "outputs": [
    {
     "name": "stdout",
     "output_type": "stream",
     "text": [
      "{'algorithm': 'auto', 'weights': 'distance'}\n"
     ]
    }
   ],
   "source": [
    "#Hyerparameter tuning for KNeighborsClassifier \n",
    "#using GridSearchCV\n",
    "from sklearn.model_selection import GridSearchCV\n",
    "from sklearn.neighbors import KNeighborsClassifier\n",
    "parameters={\"algorithm\":[\"auto\", \"ball_tree\", \"kd_tree\", \"brute\"],\"weights\":[\"uniform\",\"distance\"]}\n",
    "knn=KNeighborsClassifier()\n",
    "clf=GridSearchCV(knn,parameters)\n",
    "clf.fit(x_train,y_train)\n",
    "print(clf.best_params_)\n"
   ]
  },
  {
   "cell_type": "code",
   "execution_count": 350,
   "metadata": {},
   "outputs": [
    {
     "name": "stdout",
     "output_type": "stream",
     "text": [
      " Accuracy score is : 18.75\n"
     ]
    }
   ],
   "source": [
    "knn=KNeighborsClassifier(algorithm=\"auto\",weights=\"distance\")\n",
    "x_train,x_test,y_train,y_test=train_test_split(x,y,test_size=0.20)\n",
    "knn.fit(x_train,y_train)\n",
    "knn_test_pred=knn.predict(x_test)\n",
    "print(\" Accuracy score is :\",accuracy_score(y_test,knn_test_pred)*100)"
   ]
  },
  {
   "cell_type": "code",
   "execution_count": 351,
   "metadata": {},
   "outputs": [
    {
     "name": "stdout",
     "output_type": "stream",
     "text": [
      "              precision    recall  f1-score   support\n",
      "\n",
      "           0       0.00      0.00      0.00         2\n",
      "           1       0.25      0.20      0.22         5\n",
      "           2       0.20      0.25      0.22         4\n",
      "           3       0.00      0.00      0.00         2\n",
      "           4       0.00      0.00      0.00         3\n",
      "\n",
      "    accuracy                           0.12        16\n",
      "   macro avg       0.09      0.09      0.09        16\n",
      "weighted avg       0.13      0.12      0.12        16\n",
      "\n"
     ]
    }
   ],
   "source": [
    "#classification Report\n",
    "from sklearn.metrics import confusion_matrix\n",
    "from sklearn.metrics import classification_report\n",
    "x_train,x_test,y_train,y_test=train_test_split(x,y,random_state=5,test_size=.20)\n",
    "print(classification_report(y_test,knn_test_pred))\n",
    "\n",
    "\n",
    "\n"
   ]
  },
  {
   "cell_type": "markdown",
   "metadata": {},
   "source": [
    "# 2)DecisionTreeClassifier"
   ]
  },
  {
   "cell_type": "code",
   "execution_count": 352,
   "metadata": {},
   "outputs": [
    {
     "name": "stdout",
     "output_type": "stream",
     "text": [
      "{'criterion': 'gini', 'splitter': 'random'}\n"
     ]
    }
   ],
   "source": [
    "#Hyerparameter tuning for DecisionTreeClassifier \n",
    "#using GridSearchCV\n",
    "from sklearn.model_selection import GridSearchCV\n",
    "from sklearn.tree import DecisionTreeClassifier\n",
    "parameters={\"criterion\":[\"gini\", \"entropy\"],\"splitter\":[\"best\",\"random\"]}\n",
    "dt=DecisionTreeClassifier()\n",
    "clf=GridSearchCV(dt,parameters)\n",
    "clf.fit(x_train,y_train)\n",
    "print(clf.best_params_)\n"
   ]
  },
  {
   "cell_type": "code",
   "execution_count": 353,
   "metadata": {},
   "outputs": [
    {
     "name": "stdout",
     "output_type": "stream",
     "text": [
      "accuracy score is :  18.75\n"
     ]
    }
   ],
   "source": [
    "#finding accuracy score\n",
    "from sklearn.tree import DecisionTreeClassifier\n",
    "from sklearn.model_selection import cross_val_score\n",
    "dt=DecisionTreeClassifier(criterion=\"entropy\",splitter=\"best\")\n",
    "dt.fit(x_train,y_train)\n",
    "dt.score(x_train,y_train)\n",
    "dt_pred=dt.predict(x_test)\n",
    "dts=accuracy_score(y_test,dt_pred)\n",
    "print(\"accuracy score is : \",dts*100)\n"
   ]
  },
  {
   "cell_type": "code",
   "execution_count": 354,
   "metadata": {},
   "outputs": [
    {
     "name": "stdout",
     "output_type": "stream",
     "text": [
      "              precision    recall  f1-score   support\n",
      "\n",
      "           0       0.50      0.33      0.40         3\n",
      "           1       0.43      0.43      0.43         7\n",
      "           2       0.00      0.00      0.00         1\n",
      "           3       0.33      0.20      0.25         5\n",
      "\n",
      "    accuracy                           0.31        16\n",
      "   macro avg       0.32      0.24      0.27        16\n",
      "weighted avg       0.39      0.31      0.34        16\n",
      "\n"
     ]
    }
   ],
   "source": [
    "#classification Report\n",
    "from sklearn.metrics import confusion_matrix\n",
    "from sklearn.metrics import classification_report\n",
    "from sklearn.metrics import f1_score\n",
    "from sklearn.metrics import roc_auc_score\n",
    "x_train,x_test,y_train,y_test=train_test_split(x,y,random_state=12,test_size=.20)\n",
    "print(classification_report(y_test,dt_pred))\n",
    "\n"
   ]
  },
  {
   "cell_type": "markdown",
   "metadata": {},
   "source": [
    "# 3)Supprt vector Machine(SVC)"
   ]
  },
  {
   "cell_type": "code",
   "execution_count": 355,
   "metadata": {},
   "outputs": [
    {
     "name": "stdout",
     "output_type": "stream",
     "text": [
      "{'gamma': 'scale', 'kernel': 'sigmoid'}\n"
     ]
    }
   ],
   "source": [
    "#Hyerparameter tuning for SVM (SVC)\n",
    "#using GridSearchCV\n",
    "from sklearn.model_selection import GridSearchCV\n",
    "from sklearn.svm import SVC\n",
    "parameters={\"kernel\":[\"linear\",\"poly\",\"rbf\",\"sigmoid\"],\"gamma\":[\"scale\",\"auto\"]}\n",
    "svc=SVC()\n",
    "clf=GridSearchCV(svc,parameters)\n",
    "clf.fit(x_train,y_train)\n",
    "print(clf.best_params_)\n"
   ]
  },
  {
   "cell_type": "code",
   "execution_count": 356,
   "metadata": {},
   "outputs": [
    {
     "name": "stdout",
     "output_type": "stream",
     "text": [
      "accuracy score is :  37.5\n"
     ]
    }
   ],
   "source": [
    "#finding accuracy score\n",
    "from sklearn.model_selection import cross_val_score\n",
    "svc=SVC(kernel=\"rbf\",gamma=\"scale\")\n",
    "x_train,x_test,y_train,y_test=train_test_split(x,y,random_state=6,test_size=.20)\n",
    "svc.fit(x_train,y_train)\n",
    "svc.score(x_train,y_train)\n",
    "svc_pred=svc.predict(x_test)\n",
    "svc=accuracy_score(y_test,svc_pred)\n",
    "print(\"accuracy score is : \",svc*100)\n"
   ]
  },
  {
   "cell_type": "code",
   "execution_count": 357,
   "metadata": {},
   "outputs": [
    {
     "name": "stdout",
     "output_type": "stream",
     "text": [
      "              precision    recall  f1-score   support\n",
      "\n",
      "           0       0.00      0.00      0.00         1\n",
      "           1       0.36      1.00      0.53         4\n",
      "           2       0.50      0.40      0.44         5\n",
      "           3       0.00      0.00      0.00         5\n",
      "           4       0.00      0.00      0.00         1\n",
      "\n",
      "    accuracy                           0.38        16\n",
      "   macro avg       0.17      0.28      0.20        16\n",
      "weighted avg       0.25      0.38      0.27        16\n",
      "\n"
     ]
    }
   ],
   "source": [
    "# classification Report\n",
    "from sklearn.metrics import confusion_matrix\n",
    "from sklearn.metrics import classification_report\n",
    "from sklearn.metrics import f1_score\n",
    "from sklearn.metrics import roc_auc_score\n",
    "x_train,x_test,y_train,y_test=train_test_split(x,y,random_state=6,test_size=.20)\n",
    "print(classification_report(y_test,svc_pred))\n",
    "\n"
   ]
  },
  {
   "cell_type": "markdown",
   "metadata": {},
   "source": [
    "# 4) Naive Bayes"
   ]
  },
  {
   "cell_type": "code",
   "execution_count": 358,
   "metadata": {},
   "outputs": [
    {
     "name": "stdout",
     "output_type": "stream",
     "text": [
      "{'priors': None, 'var_smoothing': 1e-09}\n"
     ]
    }
   ],
   "source": [
    "#Hyerparameter tuning for  Naive Bayes \n",
    "#using GridSearchCV\n",
    "from sklearn.model_selection import GridSearchCV\n",
    "from sklearn.naive_bayes import GaussianNB\n",
    "parameters={\"priors\" :[ None], \"var_smoothing\" :[ 1e-09]}\n",
    "nb=GaussianNB()\n",
    "clf=GridSearchCV(nb,parameters)\n",
    "clf.fit(x_train,y_train)\n",
    "print(clf.best_params_)\n"
   ]
  },
  {
   "cell_type": "code",
   "execution_count": 359,
   "metadata": {},
   "outputs": [
    {
     "name": "stdout",
     "output_type": "stream",
     "text": [
      "accuracy score is :  25.0\n"
     ]
    }
   ],
   "source": [
    "#finding accuracy Score\n",
    "from sklearn.model_selection import cross_val_score\n",
    "nb=GaussianNB(priors = None, var_smoothing = 1e-09)\n",
    "x_train,x_test,y_train,y_test=train_test_split(x,y,random_state=12,test_size=.20)\n",
    "nb.fit(x_train,y_train)\n",
    "nb.score(x_train,y_train)\n",
    "nb_pred=nb.predict(x_test)\n",
    "nbc=accuracy_score(y_test,svc_pred)\n",
    "print(\"accuracy score is : \",nbc*100)\n"
   ]
  },
  {
   "cell_type": "code",
   "execution_count": 360,
   "metadata": {},
   "outputs": [
    {
     "name": "stdout",
     "output_type": "stream",
     "text": [
      "              precision    recall  f1-score   support\n",
      "\n",
      "           0       0.00      0.00      0.00         3\n",
      "           1       1.00      0.43      0.60         7\n",
      "           2       0.00      0.00      0.00         1\n",
      "           3       1.00      0.20      0.33         5\n",
      "           4       0.00      0.00      0.00         0\n",
      "\n",
      "    accuracy                           0.25        16\n",
      "   macro avg       0.40      0.13      0.19        16\n",
      "weighted avg       0.75      0.25      0.37        16\n",
      "\n"
     ]
    }
   ],
   "source": [
    "# classification Report\n",
    "from sklearn.metrics import confusion_matrix\n",
    "from sklearn.metrics import classification_report\n",
    "from sklearn.metrics import f1_score\n",
    "from sklearn.metrics import roc_auc_score\n",
    "x_train,x_test,y_train,y_test=train_test_split(x,y,random_state=12,test_size=.20)\n",
    "print(classification_report(y_test,nb_pred))\n",
    "\n"
   ]
  },
  {
   "cell_type": "markdown",
   "metadata": {},
   "source": [
    "# 5)Random Forest classifier"
   ]
  },
  {
   "cell_type": "code",
   "execution_count": 361,
   "metadata": {},
   "outputs": [
    {
     "name": "stdout",
     "output_type": "stream",
     "text": [
      "{'n_estimators': 1000, 'random_state': 1}\n"
     ]
    }
   ],
   "source": [
    "#Hyerparameter tuning for RandomForestClassifier \n",
    "#using GridSearchCV\n",
    "from sklearn.model_selection import GridSearchCV\n",
    "from sklearn.ensemble import RandomForestClassifier\n",
    "parameters={\"n_estimators\" :[1,10,100,1000], \"random_state\": list(range(0,10))}\n",
    "rf=RandomForestClassifier()\n",
    "clf=GridSearchCV(rf,parameters)\n",
    "clf.fit(x_train,y_train)\n",
    "print(clf.best_params_)\n"
   ]
  },
  {
   "cell_type": "code",
   "execution_count": 362,
   "metadata": {},
   "outputs": [
    {
     "name": "stdout",
     "output_type": "stream",
     "text": [
      "accuracy score is :  62.5\n"
     ]
    }
   ],
   "source": [
    "##### finding accuracy score\n",
    "from sklearn.model_selection import cross_val_score\n",
    "rf=RandomForestClassifier(n_estimators = 100, random_state=5)\n",
    "x_train,x_test,y_train,y_test=train_test_split(x,y,test_size=.20)\n",
    "rf.fit(x_train,y_train)\n",
    "rf.score(x_train,y_train)\n",
    "rf_pred=rf.predict(x_test)\n",
    "rfc=accuracy_score(y_test,rf_pred)\n",
    "print(\"accuracy score is : \",rfc*100)\n"
   ]
  },
  {
   "cell_type": "code",
   "execution_count": 363,
   "metadata": {},
   "outputs": [
    {
     "name": "stdout",
     "output_type": "stream",
     "text": [
      "              precision    recall  f1-score   support\n",
      "\n",
      "           0       0.00      0.00      0.00         2\n",
      "           1       0.33      0.50      0.40         6\n",
      "           2       0.33      0.20      0.25         5\n",
      "           3       0.00      0.00      0.00         2\n",
      "           4       0.00      0.00      0.00         1\n",
      "\n",
      "    accuracy                           0.25        16\n",
      "   macro avg       0.13      0.14      0.13        16\n",
      "weighted avg       0.23      0.25      0.23        16\n",
      "\n"
     ]
    }
   ],
   "source": [
    "# classification Report\n",
    "from sklearn.metrics import confusion_matrix\n",
    "from sklearn.metrics import classification_report\n",
    "from sklearn.metrics import f1_score\n",
    "from sklearn.metrics import roc_auc_score\n",
    "x_train,x_test,y_train,y_test=train_test_split(x,y,test_size=.20)\n",
    "print(classification_report(y_test,rf_pred))\n",
    "\n"
   ]
  },
  {
   "cell_type": "markdown",
   "metadata": {},
   "source": [
    "# 6) Gradient Boosting Classifier"
   ]
  },
  {
   "cell_type": "code",
   "execution_count": 364,
   "metadata": {},
   "outputs": [
    {
     "name": "stdout",
     "output_type": "stream",
     "text": [
      "{'criterion': 'friedman_mse', 'n_estimators': 10}\n"
     ]
    }
   ],
   "source": [
    "#Hyerparameter tuning for GradientBoostingClassifier\n",
    "#using GridSearchCV\n",
    "from sklearn.model_selection import GridSearchCV\n",
    "from sklearn.ensemble import GradientBoostingClassifier\n",
    "parameters={\"n_estimators\" :[1,10,100,1000], \"criterion\": [\"friedman_mse\", \"mse\", \"mae\"]}\n",
    "gb=GradientBoostingClassifier()\n",
    "clf=GridSearchCV(gb,parameters)\n",
    "clf.fit(x_train,y_train)\n",
    "print(clf.best_params_)\n"
   ]
  },
  {
   "cell_type": "code",
   "execution_count": 365,
   "metadata": {},
   "outputs": [
    {
     "name": "stdout",
     "output_type": "stream",
     "text": [
      "accuracy score is :  6.25\n"
     ]
    }
   ],
   "source": [
    "#finding accuracy score\n",
    "from sklearn.model_selection import cross_val_score\n",
    "gb=GradientBoostingClassifier(criterion =\"mae\", n_estimators=1)\n",
    "x_train,x_test,y_train,y_test=train_test_split(x,y,random_state=12,test_size=.20)\n",
    "gb.fit(x_train,y_train)\n",
    "gb.score(x_train,y_train)\n",
    "gb_pred=gb.predict(x_test)\n",
    "gbc=accuracy_score(y_test,gb_pred)\n",
    "print(\"accuracy score is : \",gbc*100)\n"
   ]
  },
  {
   "cell_type": "code",
   "execution_count": 366,
   "metadata": {},
   "outputs": [
    {
     "name": "stdout",
     "output_type": "stream",
     "text": [
      "              precision    recall  f1-score   support\n",
      "\n",
      "           0       0.00      0.00      0.00         3\n",
      "           1       0.00      0.00      0.00         7\n",
      "           2       0.06      1.00      0.12         1\n",
      "           3       0.00      0.00      0.00         5\n",
      "\n",
      "    accuracy                           0.06        16\n",
      "   macro avg       0.02      0.25      0.03        16\n",
      "weighted avg       0.00      0.06      0.01        16\n",
      "\n"
     ]
    }
   ],
   "source": [
    "# classification Report\n",
    "from sklearn.metrics import confusion_matrix\n",
    "from sklearn.metrics import classification_report\n",
    "x_train,x_test,y_train,y_test=train_test_split(x,y,random_state=12,test_size=.20)\n",
    "print(classification_report(y_test,gb_pred))\n",
    "\n"
   ]
  },
  {
   "cell_type": "markdown",
   "metadata": {},
   "source": [
    "BEST ALGORITHM FOR OUR DATASET:\n",
    "    \n",
    "    from all the Muliticlass classifier method only Random Forest Classifier performs well.\n",
    "    \n",
    "    so we select \"RANDOM FREST CLASSIFIER\" as the best method"
   ]
  },
  {
   "cell_type": "markdown",
   "metadata": {},
   "source": [
    "# SAVING MODEL"
   ]
  },
  {
   "cell_type": "code",
   "execution_count": 374,
   "metadata": {},
   "outputs": [],
   "source": [
    "import pickle\n",
    "filename=\"heart_disease.pkl\"\n",
    "pickle.dump(rf,open(filename,\"wb\"))"
   ]
  },
  {
   "cell_type": "code",
   "execution_count": 368,
   "metadata": {},
   "outputs": [],
   "source": [
    "#conclusion"
   ]
  },
  {
   "cell_type": "code",
   "execution_count": 371,
   "metadata": {},
   "outputs": [
    {
     "data": {
      "text/html": [
       "<div>\n",
       "<style scoped>\n",
       "    .dataframe tbody tr th:only-of-type {\n",
       "        vertical-align: middle;\n",
       "    }\n",
       "\n",
       "    .dataframe tbody tr th {\n",
       "        vertical-align: top;\n",
       "    }\n",
       "\n",
       "    .dataframe thead th {\n",
       "        text-align: right;\n",
       "    }\n",
       "</style>\n",
       "<table border=\"1\" class=\"dataframe\">\n",
       "  <thead>\n",
       "    <tr style=\"text-align: right;\">\n",
       "      <th></th>\n",
       "      <th>original</th>\n",
       "      <th>Predicted</th>\n",
       "    </tr>\n",
       "  </thead>\n",
       "  <tbody>\n",
       "    <tr>\n",
       "      <th>0</th>\n",
       "      <td>0</td>\n",
       "      <td>0</td>\n",
       "    </tr>\n",
       "    <tr>\n",
       "      <th>1</th>\n",
       "      <td>1</td>\n",
       "      <td>1</td>\n",
       "    </tr>\n",
       "    <tr>\n",
       "      <th>2</th>\n",
       "      <td>0</td>\n",
       "      <td>0</td>\n",
       "    </tr>\n",
       "    <tr>\n",
       "      <th>3</th>\n",
       "      <td>1</td>\n",
       "      <td>1</td>\n",
       "    </tr>\n",
       "    <tr>\n",
       "      <th>4</th>\n",
       "      <td>1</td>\n",
       "      <td>1</td>\n",
       "    </tr>\n",
       "    <tr>\n",
       "      <th>5</th>\n",
       "      <td>3</td>\n",
       "      <td>3</td>\n",
       "    </tr>\n",
       "    <tr>\n",
       "      <th>6</th>\n",
       "      <td>3</td>\n",
       "      <td>3</td>\n",
       "    </tr>\n",
       "    <tr>\n",
       "      <th>7</th>\n",
       "      <td>3</td>\n",
       "      <td>2</td>\n",
       "    </tr>\n",
       "    <tr>\n",
       "      <th>8</th>\n",
       "      <td>1</td>\n",
       "      <td>1</td>\n",
       "    </tr>\n",
       "    <tr>\n",
       "      <th>9</th>\n",
       "      <td>1</td>\n",
       "      <td>1</td>\n",
       "    </tr>\n",
       "  </tbody>\n",
       "</table>\n",
       "</div>"
      ],
      "text/plain": [
       "   original  Predicted\n",
       "0         0          0\n",
       "1         1          1\n",
       "2         0          0\n",
       "3         1          1\n",
       "4         1          1\n",
       "5         3          3\n",
       "6         3          3\n",
       "7         3          2\n",
       "8         1          1\n",
       "9         1          1"
      ]
     },
     "execution_count": 371,
     "metadata": {},
     "output_type": "execute_result"
    }
   ],
   "source": [
    "import numpy as np\n",
    "a=np.array(y_test)\n",
    "predicted=np.array(rf.predict(x_test))\n",
    "df_con=pd.DataFrame({\"original\":a,\"Predicted\":predicted})\n",
    "df_con.head(10)"
   ]
  },
  {
   "cell_type": "markdown",
   "metadata": {},
   "source": [
    "The conclusion shows  accuracy is of only 60% mark in Random forest regressor. This is because of very small amount of data and high missing values.\n",
    "\n",
    "To improve Accuracy Large collection of Datas and High Engineering is needed "
   ]
  },
  {
   "cell_type": "code",
   "execution_count": null,
   "metadata": {},
   "outputs": [],
   "source": []
  }
 ],
 "metadata": {
  "kernelspec": {
   "display_name": "Python 3",
   "language": "python",
   "name": "python3"
  },
  "language_info": {
   "codemirror_mode": {
    "name": "ipython",
    "version": 3
   },
   "file_extension": ".py",
   "mimetype": "text/x-python",
   "name": "python",
   "nbconvert_exporter": "python",
   "pygments_lexer": "ipython3",
   "version": "3.8.3"
  }
 },
 "nbformat": 4,
 "nbformat_minor": 4
}
