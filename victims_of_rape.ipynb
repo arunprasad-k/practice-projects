{
 "cells": [
  {
   "cell_type": "markdown",
   "metadata": {},
   "source": [
    "# EDA with observations and insights of Victims of rapes in india (2001-2010)"
   ]
  },
  {
   "cell_type": "markdown",
   "metadata": {},
   "source": [
    "   Rape is the fourth most common crime against women in India. India has been characterised as one of the \"countries with the lowest per capita rates of rape\".The government also classifies consensual sex committed on the false promise of marriage as rape.The willingness to report rapes have increased in recent years, after several incidents received widespread media attention and triggered local and nationwide public protests. This led the government to reform its penal code for crimes of rape and sexual assault."
   ]
  },
  {
   "cell_type": "markdown",
   "metadata": {},
   "source": [
    "The following dataset shows statistics of the number of victims in categorical age group and statewise all around India from year 2001-2010 .this will show how womens were tormented all around India"
   ]
  },
  {
   "cell_type": "code",
   "execution_count": 1,
   "metadata": {},
   "outputs": [],
   "source": [
    "#importing libraries\n",
    "import pandas as pd\n",
    "import numpy as np\n",
    "import matplotlib.pyplot as plt\n",
    "import seaborn as sns\n",
    "import warnings\n",
    "warnings.filterwarnings(\"ignore\")"
   ]
  },
  {
   "cell_type": "markdown",
   "metadata": {},
   "source": [
    "# Load data"
   ]
  },
  {
   "cell_type": "code",
   "execution_count": 2,
   "metadata": {},
   "outputs": [
    {
     "data": {
      "text/html": [
       "<div>\n",
       "<style scoped>\n",
       "    .dataframe tbody tr th:only-of-type {\n",
       "        vertical-align: middle;\n",
       "    }\n",
       "\n",
       "    .dataframe tbody tr th {\n",
       "        vertical-align: top;\n",
       "    }\n",
       "\n",
       "    .dataframe thead th {\n",
       "        text-align: right;\n",
       "    }\n",
       "</style>\n",
       "<table border=\"1\" class=\"dataframe\">\n",
       "  <thead>\n",
       "    <tr style=\"text-align: right;\">\n",
       "      <th></th>\n",
       "      <th>Area_Name</th>\n",
       "      <th>Year</th>\n",
       "      <th>Subgroup</th>\n",
       "      <th>Rape_Cases_Reported</th>\n",
       "      <th>Victims_Above_50_Yrs</th>\n",
       "      <th>Victims_Between_10-14_Yrs</th>\n",
       "      <th>Victims_Between_14-18_Yrs</th>\n",
       "      <th>Victims_Between_18-30_Yrs</th>\n",
       "      <th>Victims_Between_30-50_Yrs</th>\n",
       "      <th>Victims_of_Rape_Total</th>\n",
       "      <th>Victims_Upto_10_Yrs</th>\n",
       "    </tr>\n",
       "  </thead>\n",
       "  <tbody>\n",
       "    <tr>\n",
       "      <th>0</th>\n",
       "      <td>Andaman &amp; Nicobar Islands</td>\n",
       "      <td>2001</td>\n",
       "      <td>Total Rape Victims</td>\n",
       "      <td>3</td>\n",
       "      <td>0</td>\n",
       "      <td>0</td>\n",
       "      <td>3</td>\n",
       "      <td>0</td>\n",
       "      <td>0</td>\n",
       "      <td>3</td>\n",
       "      <td>0</td>\n",
       "    </tr>\n",
       "    <tr>\n",
       "      <th>1</th>\n",
       "      <td>Andaman &amp; Nicobar Islands</td>\n",
       "      <td>2001</td>\n",
       "      <td>Victims of Incest Rape</td>\n",
       "      <td>1</td>\n",
       "      <td>0</td>\n",
       "      <td>0</td>\n",
       "      <td>1</td>\n",
       "      <td>0</td>\n",
       "      <td>0</td>\n",
       "      <td>1</td>\n",
       "      <td>0</td>\n",
       "    </tr>\n",
       "    <tr>\n",
       "      <th>2</th>\n",
       "      <td>Andaman &amp; Nicobar Islands</td>\n",
       "      <td>2001</td>\n",
       "      <td>Victims of Other Rape</td>\n",
       "      <td>2</td>\n",
       "      <td>0</td>\n",
       "      <td>0</td>\n",
       "      <td>2</td>\n",
       "      <td>0</td>\n",
       "      <td>0</td>\n",
       "      <td>2</td>\n",
       "      <td>0</td>\n",
       "    </tr>\n",
       "    <tr>\n",
       "      <th>3</th>\n",
       "      <td>Andaman &amp; Nicobar Islands</td>\n",
       "      <td>2002</td>\n",
       "      <td>Total Rape Victims</td>\n",
       "      <td>2</td>\n",
       "      <td>0</td>\n",
       "      <td>0</td>\n",
       "      <td>1</td>\n",
       "      <td>1</td>\n",
       "      <td>0</td>\n",
       "      <td>2</td>\n",
       "      <td>0</td>\n",
       "    </tr>\n",
       "    <tr>\n",
       "      <th>4</th>\n",
       "      <td>Andaman &amp; Nicobar Islands</td>\n",
       "      <td>2002</td>\n",
       "      <td>Victims of Incest Rape</td>\n",
       "      <td>0</td>\n",
       "      <td>0</td>\n",
       "      <td>0</td>\n",
       "      <td>0</td>\n",
       "      <td>0</td>\n",
       "      <td>0</td>\n",
       "      <td>0</td>\n",
       "      <td>0</td>\n",
       "    </tr>\n",
       "  </tbody>\n",
       "</table>\n",
       "</div>"
      ],
      "text/plain": [
       "                   Area_Name  Year                Subgroup  \\\n",
       "0  Andaman & Nicobar Islands  2001      Total Rape Victims   \n",
       "1  Andaman & Nicobar Islands  2001  Victims of Incest Rape   \n",
       "2  Andaman & Nicobar Islands  2001   Victims of Other Rape   \n",
       "3  Andaman & Nicobar Islands  2002      Total Rape Victims   \n",
       "4  Andaman & Nicobar Islands  2002  Victims of Incest Rape   \n",
       "\n",
       "   Rape_Cases_Reported  Victims_Above_50_Yrs  Victims_Between_10-14_Yrs  \\\n",
       "0                    3                     0                          0   \n",
       "1                    1                     0                          0   \n",
       "2                    2                     0                          0   \n",
       "3                    2                     0                          0   \n",
       "4                    0                     0                          0   \n",
       "\n",
       "   Victims_Between_14-18_Yrs  Victims_Between_18-30_Yrs  \\\n",
       "0                          3                          0   \n",
       "1                          1                          0   \n",
       "2                          2                          0   \n",
       "3                          1                          1   \n",
       "4                          0                          0   \n",
       "\n",
       "   Victims_Between_30-50_Yrs  Victims_of_Rape_Total  Victims_Upto_10_Yrs  \n",
       "0                          0                      3                    0  \n",
       "1                          0                      1                    0  \n",
       "2                          0                      2                    0  \n",
       "3                          0                      2                    0  \n",
       "4                          0                      0                    0  "
      ]
     },
     "execution_count": 2,
     "metadata": {},
     "output_type": "execute_result"
    }
   ],
   "source": [
    "df=pd.read_csv(\"victims_of_rape.csv\")\n",
    "df.head()"
   ]
  },
  {
   "cell_type": "code",
   "execution_count": 3,
   "metadata": {},
   "outputs": [],
   "source": [
    "#renaming column name for easiness\n",
    "\n",
    "df.rename(columns={\"Victims_Above_50_Yrs\":\"above50\"},inplace=True)\n",
    "\n",
    "df.rename(columns={\"Victims_Between_14-18_Yrs\":\"b/w14-18\"},inplace=True)\n",
    "\n",
    "df.rename(columns={\"Victims_Between_10-14_Yrs\":\"b/w10-14\"},inplace=True)\n",
    "\n",
    "df.rename(columns={\"Victims_Between_18-30_Yrs\":\"b/w18-30\"},inplace=True)\n",
    "\n",
    "df.rename(columns={\"Victims_Between_30-50_Yrs\":\"b/w30-50\"},inplace=True)\n",
    "\n",
    "df.rename(columns={\"Victims_of_Rape_Total\":\"Total_rape\"},inplace=True)\n",
    "\n",
    "df.rename(columns={\"Victims_Upto_10_Yrs\":\"upto10\"},inplace=True)\n",
    "\n"
   ]
  },
  {
   "cell_type": "code",
   "execution_count": 4,
   "metadata": {},
   "outputs": [
    {
     "data": {
      "text/html": [
       "<div>\n",
       "<style scoped>\n",
       "    .dataframe tbody tr th:only-of-type {\n",
       "        vertical-align: middle;\n",
       "    }\n",
       "\n",
       "    .dataframe tbody tr th {\n",
       "        vertical-align: top;\n",
       "    }\n",
       "\n",
       "    .dataframe thead th {\n",
       "        text-align: right;\n",
       "    }\n",
       "</style>\n",
       "<table border=\"1\" class=\"dataframe\">\n",
       "  <thead>\n",
       "    <tr style=\"text-align: right;\">\n",
       "      <th></th>\n",
       "      <th>Area_Name</th>\n",
       "      <th>Year</th>\n",
       "      <th>Subgroup</th>\n",
       "      <th>Rape_Cases_Reported</th>\n",
       "      <th>above50</th>\n",
       "      <th>b/w10-14</th>\n",
       "      <th>b/w14-18</th>\n",
       "      <th>b/w18-30</th>\n",
       "      <th>b/w30-50</th>\n",
       "      <th>Total_rape</th>\n",
       "      <th>upto10</th>\n",
       "    </tr>\n",
       "  </thead>\n",
       "  <tbody>\n",
       "    <tr>\n",
       "      <th>0</th>\n",
       "      <td>Andaman &amp; Nicobar Islands</td>\n",
       "      <td>2001</td>\n",
       "      <td>Total Rape Victims</td>\n",
       "      <td>3</td>\n",
       "      <td>0</td>\n",
       "      <td>0</td>\n",
       "      <td>3</td>\n",
       "      <td>0</td>\n",
       "      <td>0</td>\n",
       "      <td>3</td>\n",
       "      <td>0</td>\n",
       "    </tr>\n",
       "    <tr>\n",
       "      <th>1</th>\n",
       "      <td>Andaman &amp; Nicobar Islands</td>\n",
       "      <td>2001</td>\n",
       "      <td>Victims of Incest Rape</td>\n",
       "      <td>1</td>\n",
       "      <td>0</td>\n",
       "      <td>0</td>\n",
       "      <td>1</td>\n",
       "      <td>0</td>\n",
       "      <td>0</td>\n",
       "      <td>1</td>\n",
       "      <td>0</td>\n",
       "    </tr>\n",
       "    <tr>\n",
       "      <th>2</th>\n",
       "      <td>Andaman &amp; Nicobar Islands</td>\n",
       "      <td>2001</td>\n",
       "      <td>Victims of Other Rape</td>\n",
       "      <td>2</td>\n",
       "      <td>0</td>\n",
       "      <td>0</td>\n",
       "      <td>2</td>\n",
       "      <td>0</td>\n",
       "      <td>0</td>\n",
       "      <td>2</td>\n",
       "      <td>0</td>\n",
       "    </tr>\n",
       "    <tr>\n",
       "      <th>3</th>\n",
       "      <td>Andaman &amp; Nicobar Islands</td>\n",
       "      <td>2002</td>\n",
       "      <td>Total Rape Victims</td>\n",
       "      <td>2</td>\n",
       "      <td>0</td>\n",
       "      <td>0</td>\n",
       "      <td>1</td>\n",
       "      <td>1</td>\n",
       "      <td>0</td>\n",
       "      <td>2</td>\n",
       "      <td>0</td>\n",
       "    </tr>\n",
       "    <tr>\n",
       "      <th>4</th>\n",
       "      <td>Andaman &amp; Nicobar Islands</td>\n",
       "      <td>2002</td>\n",
       "      <td>Victims of Incest Rape</td>\n",
       "      <td>0</td>\n",
       "      <td>0</td>\n",
       "      <td>0</td>\n",
       "      <td>0</td>\n",
       "      <td>0</td>\n",
       "      <td>0</td>\n",
       "      <td>0</td>\n",
       "      <td>0</td>\n",
       "    </tr>\n",
       "  </tbody>\n",
       "</table>\n",
       "</div>"
      ],
      "text/plain": [
       "                   Area_Name  Year                Subgroup  \\\n",
       "0  Andaman & Nicobar Islands  2001      Total Rape Victims   \n",
       "1  Andaman & Nicobar Islands  2001  Victims of Incest Rape   \n",
       "2  Andaman & Nicobar Islands  2001   Victims of Other Rape   \n",
       "3  Andaman & Nicobar Islands  2002      Total Rape Victims   \n",
       "4  Andaman & Nicobar Islands  2002  Victims of Incest Rape   \n",
       "\n",
       "   Rape_Cases_Reported  above50  b/w10-14  b/w14-18  b/w18-30  b/w30-50  \\\n",
       "0                    3        0         0         3         0         0   \n",
       "1                    1        0         0         1         0         0   \n",
       "2                    2        0         0         2         0         0   \n",
       "3                    2        0         0         1         1         0   \n",
       "4                    0        0         0         0         0         0   \n",
       "\n",
       "   Total_rape  upto10  \n",
       "0           3       0  \n",
       "1           1       0  \n",
       "2           2       0  \n",
       "3           2       0  \n",
       "4           0       0  "
      ]
     },
     "execution_count": 4,
     "metadata": {},
     "output_type": "execute_result"
    }
   ],
   "source": [
    "df.head()"
   ]
  },
  {
   "cell_type": "markdown",
   "metadata": {},
   "source": [
    "# Getting some statsitics"
   ]
  },
  {
   "cell_type": "code",
   "execution_count": 5,
   "metadata": {},
   "outputs": [
    {
     "name": "stdout",
     "output_type": "stream",
     "text": [
      "<class 'pandas.core.frame.DataFrame'>\n",
      "RangeIndex: 1050 entries, 0 to 1049\n",
      "Data columns (total 11 columns):\n",
      " #   Column               Non-Null Count  Dtype \n",
      "---  ------               --------------  ----- \n",
      " 0   Area_Name            1050 non-null   object\n",
      " 1   Year                 1050 non-null   int64 \n",
      " 2   Subgroup             1050 non-null   object\n",
      " 3   Rape_Cases_Reported  1050 non-null   int64 \n",
      " 4   above50              1050 non-null   int64 \n",
      " 5   b/w10-14             1050 non-null   int64 \n",
      " 6   b/w14-18             1050 non-null   int64 \n",
      " 7   b/w18-30             1050 non-null   int64 \n",
      " 8   b/w30-50             1050 non-null   int64 \n",
      " 9   Total_rape           1050 non-null   int64 \n",
      " 10  upto10               1050 non-null   int64 \n",
      "dtypes: int64(9), object(2)\n",
      "memory usage: 90.4+ KB\n"
     ]
    }
   ],
   "source": [
    "df.info()"
   ]
  },
  {
   "cell_type": "code",
   "execution_count": 6,
   "metadata": {},
   "outputs": [
    {
     "data": {
      "text/plain": [
       "Index(['Area_Name', 'Year', 'Subgroup', 'Rape_Cases_Reported', 'above50',\n",
       "       'b/w10-14', 'b/w14-18', 'b/w18-30', 'b/w30-50', 'Total_rape', 'upto10'],\n",
       "      dtype='object')"
      ]
     },
     "execution_count": 6,
     "metadata": {},
     "output_type": "execute_result"
    }
   ],
   "source": [
    "df.columns"
   ]
  },
  {
   "cell_type": "code",
   "execution_count": 7,
   "metadata": {},
   "outputs": [
    {
     "data": {
      "text/plain": [
       "(1050, 11)"
      ]
     },
     "execution_count": 7,
     "metadata": {},
     "output_type": "execute_result"
    }
   ],
   "source": [
    "df.shape"
   ]
  },
  {
   "cell_type": "code",
   "execution_count": 8,
   "metadata": {},
   "outputs": [
    {
     "data": {
      "text/plain": [
       "Area_Name              object\n",
       "Year                    int64\n",
       "Subgroup               object\n",
       "Rape_Cases_Reported     int64\n",
       "above50                 int64\n",
       "b/w10-14                int64\n",
       "b/w14-18                int64\n",
       "b/w18-30                int64\n",
       "b/w30-50                int64\n",
       "Total_rape              int64\n",
       "upto10                  int64\n",
       "dtype: object"
      ]
     },
     "execution_count": 8,
     "metadata": {},
     "output_type": "execute_result"
    }
   ],
   "source": [
    "df.dtypes"
   ]
  },
  {
   "cell_type": "code",
   "execution_count": 9,
   "metadata": {},
   "outputs": [
    {
     "data": {
      "text/html": [
       "<div>\n",
       "<style scoped>\n",
       "    .dataframe tbody tr th:only-of-type {\n",
       "        vertical-align: middle;\n",
       "    }\n",
       "\n",
       "    .dataframe tbody tr th {\n",
       "        vertical-align: top;\n",
       "    }\n",
       "\n",
       "    .dataframe thead th {\n",
       "        text-align: right;\n",
       "    }\n",
       "</style>\n",
       "<table border=\"1\" class=\"dataframe\">\n",
       "  <thead>\n",
       "    <tr style=\"text-align: right;\">\n",
       "      <th></th>\n",
       "      <th>Year</th>\n",
       "      <th>Rape_Cases_Reported</th>\n",
       "      <th>above50</th>\n",
       "      <th>b/w10-14</th>\n",
       "      <th>b/w14-18</th>\n",
       "      <th>b/w18-30</th>\n",
       "      <th>b/w30-50</th>\n",
       "      <th>Total_rape</th>\n",
       "      <th>upto10</th>\n",
       "    </tr>\n",
       "  </thead>\n",
       "  <tbody>\n",
       "    <tr>\n",
       "      <th>count</th>\n",
       "      <td>1050.00000</td>\n",
       "      <td>1050.000000</td>\n",
       "      <td>1050.000000</td>\n",
       "      <td>1050.000000</td>\n",
       "      <td>1050.000000</td>\n",
       "      <td>1050.000000</td>\n",
       "      <td>1050.000000</td>\n",
       "      <td>1050.000000</td>\n",
       "      <td>1050.000000</td>\n",
       "    </tr>\n",
       "    <tr>\n",
       "      <th>mean</th>\n",
       "      <td>2005.50000</td>\n",
       "      <td>361.920000</td>\n",
       "      <td>1.866667</td>\n",
       "      <td>23.657143</td>\n",
       "      <td>53.085714</td>\n",
       "      <td>212.937143</td>\n",
       "      <td>60.236190</td>\n",
       "      <td>362.198095</td>\n",
       "      <td>10.415238</td>\n",
       "    </tr>\n",
       "    <tr>\n",
       "      <th>std</th>\n",
       "      <td>2.87365</td>\n",
       "      <td>592.180572</td>\n",
       "      <td>4.640286</td>\n",
       "      <td>50.677418</td>\n",
       "      <td>115.127899</td>\n",
       "      <td>350.135760</td>\n",
       "      <td>118.322713</td>\n",
       "      <td>592.418089</td>\n",
       "      <td>19.533134</td>\n",
       "    </tr>\n",
       "    <tr>\n",
       "      <th>min</th>\n",
       "      <td>2001.00000</td>\n",
       "      <td>0.000000</td>\n",
       "      <td>0.000000</td>\n",
       "      <td>0.000000</td>\n",
       "      <td>0.000000</td>\n",
       "      <td>0.000000</td>\n",
       "      <td>0.000000</td>\n",
       "      <td>0.000000</td>\n",
       "      <td>0.000000</td>\n",
       "    </tr>\n",
       "    <tr>\n",
       "      <th>25%</th>\n",
       "      <td>2003.00000</td>\n",
       "      <td>4.000000</td>\n",
       "      <td>0.000000</td>\n",
       "      <td>0.000000</td>\n",
       "      <td>0.000000</td>\n",
       "      <td>1.000000</td>\n",
       "      <td>0.000000</td>\n",
       "      <td>4.000000</td>\n",
       "      <td>0.000000</td>\n",
       "    </tr>\n",
       "    <tr>\n",
       "      <th>50%</th>\n",
       "      <td>2005.50000</td>\n",
       "      <td>37.000000</td>\n",
       "      <td>0.000000</td>\n",
       "      <td>3.000000</td>\n",
       "      <td>5.000000</td>\n",
       "      <td>15.500000</td>\n",
       "      <td>4.000000</td>\n",
       "      <td>37.000000</td>\n",
       "      <td>2.000000</td>\n",
       "    </tr>\n",
       "    <tr>\n",
       "      <th>75%</th>\n",
       "      <td>2008.00000</td>\n",
       "      <td>527.500000</td>\n",
       "      <td>1.000000</td>\n",
       "      <td>19.000000</td>\n",
       "      <td>42.000000</td>\n",
       "      <td>308.000000</td>\n",
       "      <td>58.750000</td>\n",
       "      <td>531.500000</td>\n",
       "      <td>11.000000</td>\n",
       "    </tr>\n",
       "    <tr>\n",
       "      <th>max</th>\n",
       "      <td>2010.00000</td>\n",
       "      <td>3135.000000</td>\n",
       "      <td>43.000000</td>\n",
       "      <td>416.000000</td>\n",
       "      <td>826.000000</td>\n",
       "      <td>1835.000000</td>\n",
       "      <td>811.000000</td>\n",
       "      <td>3136.000000</td>\n",
       "      <td>131.000000</td>\n",
       "    </tr>\n",
       "  </tbody>\n",
       "</table>\n",
       "</div>"
      ],
      "text/plain": [
       "             Year  Rape_Cases_Reported      above50     b/w10-14     b/w14-18  \\\n",
       "count  1050.00000          1050.000000  1050.000000  1050.000000  1050.000000   \n",
       "mean   2005.50000           361.920000     1.866667    23.657143    53.085714   \n",
       "std       2.87365           592.180572     4.640286    50.677418   115.127899   \n",
       "min    2001.00000             0.000000     0.000000     0.000000     0.000000   \n",
       "25%    2003.00000             4.000000     0.000000     0.000000     0.000000   \n",
       "50%    2005.50000            37.000000     0.000000     3.000000     5.000000   \n",
       "75%    2008.00000           527.500000     1.000000    19.000000    42.000000   \n",
       "max    2010.00000          3135.000000    43.000000   416.000000   826.000000   \n",
       "\n",
       "          b/w18-30     b/w30-50   Total_rape       upto10  \n",
       "count  1050.000000  1050.000000  1050.000000  1050.000000  \n",
       "mean    212.937143    60.236190   362.198095    10.415238  \n",
       "std     350.135760   118.322713   592.418089    19.533134  \n",
       "min       0.000000     0.000000     0.000000     0.000000  \n",
       "25%       1.000000     0.000000     4.000000     0.000000  \n",
       "50%      15.500000     4.000000    37.000000     2.000000  \n",
       "75%     308.000000    58.750000   531.500000    11.000000  \n",
       "max    1835.000000   811.000000  3136.000000   131.000000  "
      ]
     },
     "execution_count": 9,
     "metadata": {},
     "output_type": "execute_result"
    }
   ],
   "source": [
    "df.describe()"
   ]
  },
  {
   "cell_type": "markdown",
   "metadata": {},
   "source": [
    "# Finding missing values"
   ]
  },
  {
   "cell_type": "code",
   "execution_count": 10,
   "metadata": {},
   "outputs": [
    {
     "data": {
      "text/html": [
       "<div>\n",
       "<style scoped>\n",
       "    .dataframe tbody tr th:only-of-type {\n",
       "        vertical-align: middle;\n",
       "    }\n",
       "\n",
       "    .dataframe tbody tr th {\n",
       "        vertical-align: top;\n",
       "    }\n",
       "\n",
       "    .dataframe thead th {\n",
       "        text-align: right;\n",
       "    }\n",
       "</style>\n",
       "<table border=\"1\" class=\"dataframe\">\n",
       "  <thead>\n",
       "    <tr style=\"text-align: right;\">\n",
       "      <th></th>\n",
       "      <th>Area_Name</th>\n",
       "      <th>Year</th>\n",
       "      <th>Subgroup</th>\n",
       "      <th>Rape_Cases_Reported</th>\n",
       "      <th>above50</th>\n",
       "      <th>b/w10-14</th>\n",
       "      <th>b/w14-18</th>\n",
       "      <th>b/w18-30</th>\n",
       "      <th>b/w30-50</th>\n",
       "      <th>Total_rape</th>\n",
       "      <th>upto10</th>\n",
       "    </tr>\n",
       "  </thead>\n",
       "  <tbody>\n",
       "    <tr>\n",
       "      <th>0</th>\n",
       "      <td>False</td>\n",
       "      <td>False</td>\n",
       "      <td>False</td>\n",
       "      <td>False</td>\n",
       "      <td>False</td>\n",
       "      <td>False</td>\n",
       "      <td>False</td>\n",
       "      <td>False</td>\n",
       "      <td>False</td>\n",
       "      <td>False</td>\n",
       "      <td>False</td>\n",
       "    </tr>\n",
       "    <tr>\n",
       "      <th>1</th>\n",
       "      <td>False</td>\n",
       "      <td>False</td>\n",
       "      <td>False</td>\n",
       "      <td>False</td>\n",
       "      <td>False</td>\n",
       "      <td>False</td>\n",
       "      <td>False</td>\n",
       "      <td>False</td>\n",
       "      <td>False</td>\n",
       "      <td>False</td>\n",
       "      <td>False</td>\n",
       "    </tr>\n",
       "    <tr>\n",
       "      <th>2</th>\n",
       "      <td>False</td>\n",
       "      <td>False</td>\n",
       "      <td>False</td>\n",
       "      <td>False</td>\n",
       "      <td>False</td>\n",
       "      <td>False</td>\n",
       "      <td>False</td>\n",
       "      <td>False</td>\n",
       "      <td>False</td>\n",
       "      <td>False</td>\n",
       "      <td>False</td>\n",
       "    </tr>\n",
       "    <tr>\n",
       "      <th>3</th>\n",
       "      <td>False</td>\n",
       "      <td>False</td>\n",
       "      <td>False</td>\n",
       "      <td>False</td>\n",
       "      <td>False</td>\n",
       "      <td>False</td>\n",
       "      <td>False</td>\n",
       "      <td>False</td>\n",
       "      <td>False</td>\n",
       "      <td>False</td>\n",
       "      <td>False</td>\n",
       "    </tr>\n",
       "    <tr>\n",
       "      <th>4</th>\n",
       "      <td>False</td>\n",
       "      <td>False</td>\n",
       "      <td>False</td>\n",
       "      <td>False</td>\n",
       "      <td>False</td>\n",
       "      <td>False</td>\n",
       "      <td>False</td>\n",
       "      <td>False</td>\n",
       "      <td>False</td>\n",
       "      <td>False</td>\n",
       "      <td>False</td>\n",
       "    </tr>\n",
       "    <tr>\n",
       "      <th>...</th>\n",
       "      <td>...</td>\n",
       "      <td>...</td>\n",
       "      <td>...</td>\n",
       "      <td>...</td>\n",
       "      <td>...</td>\n",
       "      <td>...</td>\n",
       "      <td>...</td>\n",
       "      <td>...</td>\n",
       "      <td>...</td>\n",
       "      <td>...</td>\n",
       "      <td>...</td>\n",
       "    </tr>\n",
       "    <tr>\n",
       "      <th>1045</th>\n",
       "      <td>False</td>\n",
       "      <td>False</td>\n",
       "      <td>False</td>\n",
       "      <td>False</td>\n",
       "      <td>False</td>\n",
       "      <td>False</td>\n",
       "      <td>False</td>\n",
       "      <td>False</td>\n",
       "      <td>False</td>\n",
       "      <td>False</td>\n",
       "      <td>False</td>\n",
       "    </tr>\n",
       "    <tr>\n",
       "      <th>1046</th>\n",
       "      <td>False</td>\n",
       "      <td>False</td>\n",
       "      <td>False</td>\n",
       "      <td>False</td>\n",
       "      <td>False</td>\n",
       "      <td>False</td>\n",
       "      <td>False</td>\n",
       "      <td>False</td>\n",
       "      <td>False</td>\n",
       "      <td>False</td>\n",
       "      <td>False</td>\n",
       "    </tr>\n",
       "    <tr>\n",
       "      <th>1047</th>\n",
       "      <td>False</td>\n",
       "      <td>False</td>\n",
       "      <td>False</td>\n",
       "      <td>False</td>\n",
       "      <td>False</td>\n",
       "      <td>False</td>\n",
       "      <td>False</td>\n",
       "      <td>False</td>\n",
       "      <td>False</td>\n",
       "      <td>False</td>\n",
       "      <td>False</td>\n",
       "    </tr>\n",
       "    <tr>\n",
       "      <th>1048</th>\n",
       "      <td>False</td>\n",
       "      <td>False</td>\n",
       "      <td>False</td>\n",
       "      <td>False</td>\n",
       "      <td>False</td>\n",
       "      <td>False</td>\n",
       "      <td>False</td>\n",
       "      <td>False</td>\n",
       "      <td>False</td>\n",
       "      <td>False</td>\n",
       "      <td>False</td>\n",
       "    </tr>\n",
       "    <tr>\n",
       "      <th>1049</th>\n",
       "      <td>False</td>\n",
       "      <td>False</td>\n",
       "      <td>False</td>\n",
       "      <td>False</td>\n",
       "      <td>False</td>\n",
       "      <td>False</td>\n",
       "      <td>False</td>\n",
       "      <td>False</td>\n",
       "      <td>False</td>\n",
       "      <td>False</td>\n",
       "      <td>False</td>\n",
       "    </tr>\n",
       "  </tbody>\n",
       "</table>\n",
       "<p>1050 rows × 11 columns</p>\n",
       "</div>"
      ],
      "text/plain": [
       "      Area_Name   Year  Subgroup  Rape_Cases_Reported  above50  b/w10-14  \\\n",
       "0         False  False     False                False    False     False   \n",
       "1         False  False     False                False    False     False   \n",
       "2         False  False     False                False    False     False   \n",
       "3         False  False     False                False    False     False   \n",
       "4         False  False     False                False    False     False   \n",
       "...         ...    ...       ...                  ...      ...       ...   \n",
       "1045      False  False     False                False    False     False   \n",
       "1046      False  False     False                False    False     False   \n",
       "1047      False  False     False                False    False     False   \n",
       "1048      False  False     False                False    False     False   \n",
       "1049      False  False     False                False    False     False   \n",
       "\n",
       "      b/w14-18  b/w18-30  b/w30-50  Total_rape  upto10  \n",
       "0        False     False     False       False   False  \n",
       "1        False     False     False       False   False  \n",
       "2        False     False     False       False   False  \n",
       "3        False     False     False       False   False  \n",
       "4        False     False     False       False   False  \n",
       "...        ...       ...       ...         ...     ...  \n",
       "1045     False     False     False       False   False  \n",
       "1046     False     False     False       False   False  \n",
       "1047     False     False     False       False   False  \n",
       "1048     False     False     False       False   False  \n",
       "1049     False     False     False       False   False  \n",
       "\n",
       "[1050 rows x 11 columns]"
      ]
     },
     "execution_count": 10,
     "metadata": {},
     "output_type": "execute_result"
    }
   ],
   "source": [
    "df.isnull()"
   ]
  },
  {
   "cell_type": "code",
   "execution_count": 11,
   "metadata": {},
   "outputs": [
    {
     "data": {
      "text/plain": [
       "Area_Name              0\n",
       "Year                   0\n",
       "Subgroup               0\n",
       "Rape_Cases_Reported    0\n",
       "above50                0\n",
       "b/w10-14               0\n",
       "b/w14-18               0\n",
       "b/w18-30               0\n",
       "b/w30-50               0\n",
       "Total_rape             0\n",
       "upto10                 0\n",
       "dtype: int64"
      ]
     },
     "execution_count": 11,
     "metadata": {},
     "output_type": "execute_result"
    }
   ],
   "source": [
    "df.isnull().sum()\n"
   ]
  },
  {
   "cell_type": "code",
   "execution_count": 12,
   "metadata": {},
   "outputs": [
    {
     "data": {
      "text/plain": [
       "<matplotlib.axes._subplots.AxesSubplot at 0x1bb7f98a760>"
      ]
     },
     "execution_count": 12,
     "metadata": {},
     "output_type": "execute_result"
    },
    {
     "data": {
      "image/png": "[encoded data removed]",
      "text/plain": [
       "<Figure size 432x288 with 2 Axes>"
      ]
     },
     "metadata": {
      "needs_background": "light"
     },
     "output_type": "display_data"
    }
   ],
   "source": [
    "#Pictograpghical representation\n",
    "sns.heatmap(df.isnull())"
   ]
  },
  {
   "cell_type": "markdown",
   "metadata": {},
   "source": [
    "we found no missing values"
   ]
  },
  {
   "cell_type": "markdown",
   "metadata": {},
   "source": [
    "# EDA\n",
    "\n",
    "BIVARIATE ANALYSIS"
   ]
  },
  {
   "cell_type": "code",
   "execution_count": 13,
   "metadata": {},
   "outputs": [
    {
     "data": {
      "text/plain": [
       "Victims of Incest Rape    350\n",
       "Total Rape Victims        350\n",
       "Victims of Other Rape     350\n",
       "Name: Subgroup, dtype: int64"
      ]
     },
     "execution_count": 13,
     "metadata": {},
     "output_type": "execute_result"
    }
   ],
   "source": [
    "df.Subgroup.value_counts()"
   ]
  },
  {
   "cell_type": "markdown",
   "metadata": {},
   "source": [
    "we infer from subgroup that the \"Victims of Other Rape\", \"Victims of Incest Rape\", \"Total Rape Victims\" are equally distributed all around the country"
   ]
  },
  {
   "cell_type": "code",
   "execution_count": 14,
   "metadata": {},
   "outputs": [
    {
     "data": {
      "text/plain": [
       "<matplotlib.axes._subplots.AxesSubplot at 0x1bb0104a250>"
      ]
     },
     "execution_count": 14,
     "metadata": {},
     "output_type": "execute_result"
    },
    {
     "data": {
      "image/png": "[encoded data removed]",
      "text/plain": [
       "<Figure size 432x288 with 1 Axes>"
      ]
     },
     "metadata": {
      "needs_background": "light"
     },
     "output_type": "display_data"
    }
   ],
   "source": [
    "#Pictographical Representation\n",
    "\n",
    "sns.countplot(x=\"Subgroup\",data=df)"
   ]
  },
  {
   "cell_type": "markdown",
   "metadata": {},
   "source": [
    "# total number of rape case reported"
   ]
  },
  {
   "cell_type": "code",
   "execution_count": 15,
   "metadata": {},
   "outputs": [
    {
     "data": {
      "text/plain": [
       "380016"
      ]
     },
     "execution_count": 15,
     "metadata": {},
     "output_type": "execute_result"
    }
   ],
   "source": [
    "df[\"Rape_Cases_Reported\"].sum()"
   ]
  },
  {
   "cell_type": "markdown",
   "metadata": {},
   "source": [
    "from year 2001-2010 the total cases reported were 380016"
   ]
  },
  {
   "cell_type": "markdown",
   "metadata": {},
   "source": [
    "# Grouping area name,year,total rape"
   ]
  },
  {
   "cell_type": "code",
   "execution_count": 16,
   "metadata": {},
   "outputs": [
    {
     "data": {
      "text/html": [
       "<div>\n",
       "<style scoped>\n",
       "    .dataframe tbody tr th:only-of-type {\n",
       "        vertical-align: middle;\n",
       "    }\n",
       "\n",
       "    .dataframe tbody tr th {\n",
       "        vertical-align: top;\n",
       "    }\n",
       "\n",
       "    .dataframe thead th {\n",
       "        text-align: right;\n",
       "    }\n",
       "</style>\n",
       "<table border=\"1\" class=\"dataframe\">\n",
       "  <thead>\n",
       "    <tr style=\"text-align: right;\">\n",
       "      <th></th>\n",
       "      <th>Area_Name</th>\n",
       "      <th>Year</th>\n",
       "      <th>Rape_Cases_Reported</th>\n",
       "    </tr>\n",
       "  </thead>\n",
       "  <tbody>\n",
       "    <tr>\n",
       "      <th>0</th>\n",
       "      <td>Andaman &amp; Nicobar Islands</td>\n",
       "      <td>2001</td>\n",
       "      <td>3</td>\n",
       "    </tr>\n",
       "    <tr>\n",
       "      <th>1</th>\n",
       "      <td>Andaman &amp; Nicobar Islands</td>\n",
       "      <td>2001</td>\n",
       "      <td>1</td>\n",
       "    </tr>\n",
       "    <tr>\n",
       "      <th>2</th>\n",
       "      <td>Andaman &amp; Nicobar Islands</td>\n",
       "      <td>2001</td>\n",
       "      <td>2</td>\n",
       "    </tr>\n",
       "    <tr>\n",
       "      <th>3</th>\n",
       "      <td>Andaman &amp; Nicobar Islands</td>\n",
       "      <td>2002</td>\n",
       "      <td>2</td>\n",
       "    </tr>\n",
       "    <tr>\n",
       "      <th>4</th>\n",
       "      <td>Andaman &amp; Nicobar Islands</td>\n",
       "      <td>2002</td>\n",
       "      <td>0</td>\n",
       "    </tr>\n",
       "    <tr>\n",
       "      <th>...</th>\n",
       "      <td>...</td>\n",
       "      <td>...</td>\n",
       "      <td>...</td>\n",
       "    </tr>\n",
       "    <tr>\n",
       "      <th>1045</th>\n",
       "      <td>West Bengal</td>\n",
       "      <td>2009</td>\n",
       "      <td>3</td>\n",
       "    </tr>\n",
       "    <tr>\n",
       "      <th>1046</th>\n",
       "      <td>West Bengal</td>\n",
       "      <td>2009</td>\n",
       "      <td>2333</td>\n",
       "    </tr>\n",
       "    <tr>\n",
       "      <th>1047</th>\n",
       "      <td>West Bengal</td>\n",
       "      <td>2010</td>\n",
       "      <td>2311</td>\n",
       "    </tr>\n",
       "    <tr>\n",
       "      <th>1048</th>\n",
       "      <td>West Bengal</td>\n",
       "      <td>2010</td>\n",
       "      <td>4</td>\n",
       "    </tr>\n",
       "    <tr>\n",
       "      <th>1049</th>\n",
       "      <td>West Bengal</td>\n",
       "      <td>2010</td>\n",
       "      <td>2307</td>\n",
       "    </tr>\n",
       "  </tbody>\n",
       "</table>\n",
       "<p>1050 rows × 3 columns</p>\n",
       "</div>"
      ],
      "text/plain": [
       "                      Area_Name  Year  Rape_Cases_Reported\n",
       "0     Andaman & Nicobar Islands  2001                    3\n",
       "1     Andaman & Nicobar Islands  2001                    1\n",
       "2     Andaman & Nicobar Islands  2001                    2\n",
       "3     Andaman & Nicobar Islands  2002                    2\n",
       "4     Andaman & Nicobar Islands  2002                    0\n",
       "...                         ...   ...                  ...\n",
       "1045                West Bengal  2009                    3\n",
       "1046                West Bengal  2009                 2333\n",
       "1047                West Bengal  2010                 2311\n",
       "1048                West Bengal  2010                    4\n",
       "1049                West Bengal  2010                 2307\n",
       "\n",
       "[1050 rows x 3 columns]"
      ]
     },
     "execution_count": 16,
     "metadata": {},
     "output_type": "execute_result"
    }
   ],
   "source": [
    "a = df[['Area_Name','Year','Rape_Cases_Reported']]\n",
    "a"
   ]
  },
  {
   "cell_type": "markdown",
   "metadata": {},
   "source": [
    "# Finding total rape cases reported from each state"
   ]
  },
  {
   "cell_type": "code",
   "execution_count": 17,
   "metadata": {},
   "outputs": [
    {
     "data": {
      "text/html": [
       "<div>\n",
       "<style scoped>\n",
       "    .dataframe tbody tr th:only-of-type {\n",
       "        vertical-align: middle;\n",
       "    }\n",
       "\n",
       "    .dataframe tbody tr th {\n",
       "        vertical-align: top;\n",
       "    }\n",
       "\n",
       "    .dataframe thead th {\n",
       "        text-align: right;\n",
       "    }\n",
       "</style>\n",
       "<table border=\"1\" class=\"dataframe\">\n",
       "  <thead>\n",
       "    <tr style=\"text-align: right;\">\n",
       "      <th></th>\n",
       "      <th>Area_Name</th>\n",
       "      <th>Rape_Cases_Reported</th>\n",
       "    </tr>\n",
       "  </thead>\n",
       "  <tbody>\n",
       "    <tr>\n",
       "      <th>0</th>\n",
       "      <td>Andaman &amp; Nicobar Islands</td>\n",
       "      <td>168</td>\n",
       "    </tr>\n",
       "    <tr>\n",
       "      <th>1</th>\n",
       "      <td>Andhra Pradesh</td>\n",
       "      <td>21392</td>\n",
       "    </tr>\n",
       "    <tr>\n",
       "      <th>2</th>\n",
       "      <td>Arunachal Pradesh</td>\n",
       "      <td>824</td>\n",
       "    </tr>\n",
       "    <tr>\n",
       "      <th>3</th>\n",
       "      <td>Assam</td>\n",
       "      <td>25524</td>\n",
       "    </tr>\n",
       "    <tr>\n",
       "      <th>4</th>\n",
       "      <td>Bihar</td>\n",
       "      <td>22526</td>\n",
       "    </tr>\n",
       "    <tr>\n",
       "      <th>5</th>\n",
       "      <td>Chandigarh</td>\n",
       "      <td>454</td>\n",
       "    </tr>\n",
       "    <tr>\n",
       "      <th>6</th>\n",
       "      <td>Chhattisgarh</td>\n",
       "      <td>19502</td>\n",
       "    </tr>\n",
       "    <tr>\n",
       "      <th>7</th>\n",
       "      <td>Dadra &amp; Nagar Haveli</td>\n",
       "      <td>98</td>\n",
       "    </tr>\n",
       "    <tr>\n",
       "      <th>8</th>\n",
       "      <td>Daman &amp; Diu</td>\n",
       "      <td>28</td>\n",
       "    </tr>\n",
       "    <tr>\n",
       "      <th>9</th>\n",
       "      <td>Delhi</td>\n",
       "      <td>10292</td>\n",
       "    </tr>\n",
       "    <tr>\n",
       "      <th>10</th>\n",
       "      <td>Goa</td>\n",
       "      <td>532</td>\n",
       "    </tr>\n",
       "    <tr>\n",
       "      <th>11</th>\n",
       "      <td>Gujarat</td>\n",
       "      <td>6674</td>\n",
       "    </tr>\n",
       "    <tr>\n",
       "      <th>12</th>\n",
       "      <td>Haryana</td>\n",
       "      <td>10018</td>\n",
       "    </tr>\n",
       "    <tr>\n",
       "      <th>13</th>\n",
       "      <td>Himachal Pradesh</td>\n",
       "      <td>2906</td>\n",
       "    </tr>\n",
       "    <tr>\n",
       "      <th>14</th>\n",
       "      <td>Jammu &amp; Kashmir</td>\n",
       "      <td>4460</td>\n",
       "    </tr>\n",
       "    <tr>\n",
       "      <th>15</th>\n",
       "      <td>Jharkhand</td>\n",
       "      <td>15126</td>\n",
       "    </tr>\n",
       "    <tr>\n",
       "      <th>16</th>\n",
       "      <td>Karnataka</td>\n",
       "      <td>7834</td>\n",
       "    </tr>\n",
       "    <tr>\n",
       "      <th>17</th>\n",
       "      <td>Kerala</td>\n",
       "      <td>10592</td>\n",
       "    </tr>\n",
       "    <tr>\n",
       "      <th>18</th>\n",
       "      <td>Lakshadweep</td>\n",
       "      <td>14</td>\n",
       "    </tr>\n",
       "    <tr>\n",
       "      <th>19</th>\n",
       "      <td>Madhya Pradesh</td>\n",
       "      <td>58512</td>\n",
       "    </tr>\n",
       "    <tr>\n",
       "      <th>20</th>\n",
       "      <td>Maharashtra</td>\n",
       "      <td>28892</td>\n",
       "    </tr>\n",
       "    <tr>\n",
       "      <th>21</th>\n",
       "      <td>Manipur</td>\n",
       "      <td>542</td>\n",
       "    </tr>\n",
       "    <tr>\n",
       "      <th>22</th>\n",
       "      <td>Meghalaya</td>\n",
       "      <td>1452</td>\n",
       "    </tr>\n",
       "    <tr>\n",
       "      <th>23</th>\n",
       "      <td>Mizoram</td>\n",
       "      <td>1292</td>\n",
       "    </tr>\n",
       "    <tr>\n",
       "      <th>24</th>\n",
       "      <td>Nagaland</td>\n",
       "      <td>352</td>\n",
       "    </tr>\n",
       "    <tr>\n",
       "      <th>25</th>\n",
       "      <td>Odisha</td>\n",
       "      <td>17720</td>\n",
       "    </tr>\n",
       "    <tr>\n",
       "      <th>26</th>\n",
       "      <td>Puducherry</td>\n",
       "      <td>114</td>\n",
       "    </tr>\n",
       "    <tr>\n",
       "      <th>27</th>\n",
       "      <td>Punjab</td>\n",
       "      <td>8600</td>\n",
       "    </tr>\n",
       "    <tr>\n",
       "      <th>28</th>\n",
       "      <td>Rajasthan</td>\n",
       "      <td>23898</td>\n",
       "    </tr>\n",
       "    <tr>\n",
       "      <th>29</th>\n",
       "      <td>Sikkim</td>\n",
       "      <td>290</td>\n",
       "    </tr>\n",
       "    <tr>\n",
       "      <th>30</th>\n",
       "      <td>Tamil Nadu</td>\n",
       "      <td>11076</td>\n",
       "    </tr>\n",
       "    <tr>\n",
       "      <th>31</th>\n",
       "      <td>Tripura</td>\n",
       "      <td>3248</td>\n",
       "    </tr>\n",
       "    <tr>\n",
       "      <th>32</th>\n",
       "      <td>Uttar Pradesh</td>\n",
       "      <td>30106</td>\n",
       "    </tr>\n",
       "    <tr>\n",
       "      <th>33</th>\n",
       "      <td>Uttarakhand</td>\n",
       "      <td>2202</td>\n",
       "    </tr>\n",
       "    <tr>\n",
       "      <th>34</th>\n",
       "      <td>West Bengal</td>\n",
       "      <td>32756</td>\n",
       "    </tr>\n",
       "  </tbody>\n",
       "</table>\n",
       "</div>"
      ],
      "text/plain": [
       "                    Area_Name  Rape_Cases_Reported\n",
       "0   Andaman & Nicobar Islands                  168\n",
       "1              Andhra Pradesh                21392\n",
       "2           Arunachal Pradesh                  824\n",
       "3                       Assam                25524\n",
       "4                       Bihar                22526\n",
       "5                  Chandigarh                  454\n",
       "6                Chhattisgarh                19502\n",
       "7        Dadra & Nagar Haveli                   98\n",
       "8                 Daman & Diu                   28\n",
       "9                       Delhi                10292\n",
       "10                        Goa                  532\n",
       "11                    Gujarat                 6674\n",
       "12                    Haryana                10018\n",
       "13           Himachal Pradesh                 2906\n",
       "14            Jammu & Kashmir                 4460\n",
       "15                  Jharkhand                15126\n",
       "16                  Karnataka                 7834\n",
       "17                     Kerala                10592\n",
       "18                Lakshadweep                   14\n",
       "19             Madhya Pradesh                58512\n",
       "20                Maharashtra                28892\n",
       "21                    Manipur                  542\n",
       "22                  Meghalaya                 1452\n",
       "23                    Mizoram                 1292\n",
       "24                   Nagaland                  352\n",
       "25                     Odisha                17720\n",
       "26                 Puducherry                  114\n",
       "27                     Punjab                 8600\n",
       "28                  Rajasthan                23898\n",
       "29                     Sikkim                  290\n",
       "30                 Tamil Nadu                11076\n",
       "31                    Tripura                 3248\n",
       "32              Uttar Pradesh                30106\n",
       "33                Uttarakhand                 2202\n",
       "34                West Bengal                32756"
      ]
     },
     "execution_count": 17,
     "metadata": {},
     "output_type": "execute_result"
    }
   ],
   "source": [
    "rapecases_state_wise= df.groupby(['Area_Name'])['Rape_Cases_Reported'].sum().reset_index()\n",
    "rapecases_state_wise"
   ]
  },
  {
   "cell_type": "code",
   "execution_count": 18,
   "metadata": {},
   "outputs": [
    {
     "data": {
      "text/plain": [
       "<matplotlib.axes._subplots.AxesSubplot at 0x1bb011129d0>"
      ]
     },
     "execution_count": 18,
     "metadata": {},
     "output_type": "execute_result"
    },
    {
     "data": {
      "text/plain": [
       "<Figure size 1440x1440 with 0 Axes>"
      ]
     },
     "metadata": {},
     "output_type": "display_data"
    },
    {
     "data": {
      "image/png": "[encoded data removed]",
      "text/plain": [
       "<Figure size 432x288 with 1 Axes>"
      ]
     },
     "metadata": {
      "needs_background": "light"
     },
     "output_type": "display_data"
    }
   ],
   "source": [
    "#pictographical representation\n",
    "plt.figure(figsize=(20,20))\n",
    "rapecases_state_wise.plot(kind=\"bar\",x=\"Area_Name\",y=\"Rape_Cases_Reported\")"
   ]
  },
  {
   "cell_type": "markdown",
   "metadata": {},
   "source": [
    "KEY OBSERVATION:\n",
    "    \n",
    "    MADHYA PRADESH TOPS THE STATE WITH MORE NUMBER OF RAPE VICTIMS\n",
    "    \n",
    "TOP 3 MOST RAPE OCCURING STATE:\n",
    "    \n",
    "    1)Madhya pradesh\n",
    "    \n",
    "    2)west bengal\n",
    "    \n",
    "    3)utter pradesh\n",
    "    \n",
    "Top 3 states where rape cases are low:\n",
    "    \n",
    "    1)Lakshadweep with only 14 rape victims\n",
    "    \n",
    "    2)Daman & Diu\n",
    "    \n",
    "    3)Dadra & Nagar Haveli\n",
    "    "
   ]
  },
  {
   "cell_type": "markdown",
   "metadata": {},
   "source": [
    "# Finding total rape cases reported from each year"
   ]
  },
  {
   "cell_type": "code",
   "execution_count": 19,
   "metadata": {},
   "outputs": [
    {
     "data": {
      "text/html": [
       "<div>\n",
       "<style scoped>\n",
       "    .dataframe tbody tr th:only-of-type {\n",
       "        vertical-align: middle;\n",
       "    }\n",
       "\n",
       "    .dataframe tbody tr th {\n",
       "        vertical-align: top;\n",
       "    }\n",
       "\n",
       "    .dataframe thead th {\n",
       "        text-align: right;\n",
       "    }\n",
       "</style>\n",
       "<table border=\"1\" class=\"dataframe\">\n",
       "  <thead>\n",
       "    <tr style=\"text-align: right;\">\n",
       "      <th></th>\n",
       "      <th>Year</th>\n",
       "      <th>Rape_Cases_Reported</th>\n",
       "    </tr>\n",
       "  </thead>\n",
       "  <tbody>\n",
       "    <tr>\n",
       "      <th>0</th>\n",
       "      <td>2001</td>\n",
       "      <td>32150</td>\n",
       "    </tr>\n",
       "    <tr>\n",
       "      <th>1</th>\n",
       "      <td>2002</td>\n",
       "      <td>32746</td>\n",
       "    </tr>\n",
       "    <tr>\n",
       "      <th>2</th>\n",
       "      <td>2003</td>\n",
       "      <td>31694</td>\n",
       "    </tr>\n",
       "    <tr>\n",
       "      <th>3</th>\n",
       "      <td>2004</td>\n",
       "      <td>36466</td>\n",
       "    </tr>\n",
       "    <tr>\n",
       "      <th>4</th>\n",
       "      <td>2005</td>\n",
       "      <td>36718</td>\n",
       "    </tr>\n",
       "    <tr>\n",
       "      <th>5</th>\n",
       "      <td>2006</td>\n",
       "      <td>38696</td>\n",
       "    </tr>\n",
       "    <tr>\n",
       "      <th>6</th>\n",
       "      <td>2007</td>\n",
       "      <td>41474</td>\n",
       "    </tr>\n",
       "    <tr>\n",
       "      <th>7</th>\n",
       "      <td>2008</td>\n",
       "      <td>42934</td>\n",
       "    </tr>\n",
       "    <tr>\n",
       "      <th>8</th>\n",
       "      <td>2009</td>\n",
       "      <td>42794</td>\n",
       "    </tr>\n",
       "    <tr>\n",
       "      <th>9</th>\n",
       "      <td>2010</td>\n",
       "      <td>44344</td>\n",
       "    </tr>\n",
       "  </tbody>\n",
       "</table>\n",
       "</div>"
      ],
      "text/plain": [
       "   Year  Rape_Cases_Reported\n",
       "0  2001                32150\n",
       "1  2002                32746\n",
       "2  2003                31694\n",
       "3  2004                36466\n",
       "4  2005                36718\n",
       "5  2006                38696\n",
       "6  2007                41474\n",
       "7  2008                42934\n",
       "8  2009                42794\n",
       "9  2010                44344"
      ]
     },
     "execution_count": 19,
     "metadata": {},
     "output_type": "execute_result"
    }
   ],
   "source": [
    "rapecases_state_wise= df.groupby(['Year'])['Rape_Cases_Reported'].sum().reset_index()\n",
    "rapecases_state_wise"
   ]
  },
  {
   "cell_type": "code",
   "execution_count": 20,
   "metadata": {},
   "outputs": [
    {
     "data": {
      "text/plain": [
       "<matplotlib.axes._subplots.AxesSubplot at 0x1bb011e4b80>"
      ]
     },
     "execution_count": 20,
     "metadata": {},
     "output_type": "execute_result"
    },
    {
     "data": {
      "text/plain": [
       "<Figure size 1440x1440 with 0 Axes>"
      ]
     },
     "metadata": {},
     "output_type": "display_data"
    },
    {
     "data": {
      "image/png": "[encoded data removed]",
      "text/plain": [
       "<Figure size 432x288 with 1 Axes>"
      ]
     },
     "metadata": {
      "needs_background": "light"
     },
     "output_type": "display_data"
    }
   ],
   "source": [
    "#pictographical representation\n",
    "plt.figure(figsize=(20,20))\n",
    "rapecases_state_wise.plot(kind=\"bar\",x=\"Year\",y=\"Rape_Cases_Reported\")"
   ]
  },
  {
   "cell_type": "markdown",
   "metadata": {},
   "source": [
    " the lowest rape cases reported was in the year 2003 with 31712 cases\n",
    "\n",
    "the highest rape cases reported was in the year 2010 with 44386 cases\n",
    "\n"
   ]
  },
  {
   "cell_type": "code",
   "execution_count": 21,
   "metadata": {},
   "outputs": [
    {
     "data": {
      "text/plain": [
       "<matplotlib.axes._subplots.AxesSubplot at 0x1bb01290ee0>"
      ]
     },
     "execution_count": 21,
     "metadata": {},
     "output_type": "execute_result"
    },
    {
     "data": {
      "image/png": "[encoded data removed]",
      "text/plain": [
       "<Figure size 432x288 with 1 Axes>"
      ]
     },
     "metadata": {
      "needs_background": "light"
     },
     "output_type": "display_data"
    }
   ],
   "source": [
    "sns.lineplot(x=\"Year\",y=\"Rape_Cases_Reported\",data=df)"
   ]
  },
  {
   "cell_type": "markdown",
   "metadata": {},
   "source": [
    "we can clearly see that as the year moves on the rape cases reported also gets increased which is not a proper sigh for a developing country"
   ]
  },
  {
   "cell_type": "code",
   "execution_count": 22,
   "metadata": {},
   "outputs": [
    {
     "data": {
      "text/plain": [
       "<matplotlib.axes._subplots.AxesSubplot at 0x1bb01300b20>"
      ]
     },
     "execution_count": 22,
     "metadata": {},
     "output_type": "execute_result"
    },
    {
     "data": {
      "image/png": "[encoded data removed]",
      "text/plain": [
       "<Figure size 432x288 with 1 Axes>"
      ]
     },
     "metadata": {
      "needs_background": "light"
     },
     "output_type": "display_data"
    }
   ],
   "source": [
    "#univariate analysis\n",
    "sns.scatterplot(x=\"above50\",y=\"Area_Name\",data=df)"
   ]
  },
  {
   "cell_type": "markdown",
   "metadata": {},
   "source": [
    "# Minor Rape cases reported (below 18 years)"
   ]
  },
  {
   "cell_type": "code",
   "execution_count": 23,
   "metadata": {},
   "outputs": [
    {
     "data": {
      "text/html": [
       "<div>\n",
       "<style scoped>\n",
       "    .dataframe tbody tr th:only-of-type {\n",
       "        vertical-align: middle;\n",
       "    }\n",
       "\n",
       "    .dataframe tbody tr th {\n",
       "        vertical-align: top;\n",
       "    }\n",
       "\n",
       "    .dataframe thead th {\n",
       "        text-align: right;\n",
       "    }\n",
       "</style>\n",
       "<table border=\"1\" class=\"dataframe\">\n",
       "  <thead>\n",
       "    <tr style=\"text-align: right;\">\n",
       "      <th></th>\n",
       "      <th>Area_Name</th>\n",
       "      <th>b/w10-14</th>\n",
       "      <th>b/w14-18</th>\n",
       "    </tr>\n",
       "  </thead>\n",
       "  <tbody>\n",
       "    <tr>\n",
       "      <th>0</th>\n",
       "      <td>Andaman &amp; Nicobar Islands</td>\n",
       "      <td>16</td>\n",
       "      <td>88</td>\n",
       "    </tr>\n",
       "    <tr>\n",
       "      <th>1</th>\n",
       "      <td>Andhra Pradesh</td>\n",
       "      <td>2510</td>\n",
       "      <td>4022</td>\n",
       "    </tr>\n",
       "    <tr>\n",
       "      <th>2</th>\n",
       "      <td>Arunachal Pradesh</td>\n",
       "      <td>96</td>\n",
       "      <td>20</td>\n",
       "    </tr>\n",
       "    <tr>\n",
       "      <th>3</th>\n",
       "      <td>Assam</td>\n",
       "      <td>306</td>\n",
       "      <td>818</td>\n",
       "    </tr>\n",
       "    <tr>\n",
       "      <th>4</th>\n",
       "      <td>Bihar</td>\n",
       "      <td>204</td>\n",
       "      <td>1000</td>\n",
       "    </tr>\n",
       "    <tr>\n",
       "      <th>5</th>\n",
       "      <td>Chandigarh</td>\n",
       "      <td>92</td>\n",
       "      <td>104</td>\n",
       "    </tr>\n",
       "    <tr>\n",
       "      <th>6</th>\n",
       "      <td>Chhattisgarh</td>\n",
       "      <td>2414</td>\n",
       "      <td>3986</td>\n",
       "    </tr>\n",
       "    <tr>\n",
       "      <th>7</th>\n",
       "      <td>Dadra &amp; Nagar Haveli</td>\n",
       "      <td>16</td>\n",
       "      <td>26</td>\n",
       "    </tr>\n",
       "    <tr>\n",
       "      <th>8</th>\n",
       "      <td>Daman &amp; Diu</td>\n",
       "      <td>2</td>\n",
       "      <td>8</td>\n",
       "    </tr>\n",
       "    <tr>\n",
       "      <th>9</th>\n",
       "      <td>Delhi</td>\n",
       "      <td>1764</td>\n",
       "      <td>2812</td>\n",
       "    </tr>\n",
       "    <tr>\n",
       "      <th>10</th>\n",
       "      <td>Goa</td>\n",
       "      <td>120</td>\n",
       "      <td>172</td>\n",
       "    </tr>\n",
       "    <tr>\n",
       "      <th>11</th>\n",
       "      <td>Gujarat</td>\n",
       "      <td>506</td>\n",
       "      <td>1100</td>\n",
       "    </tr>\n",
       "    <tr>\n",
       "      <th>12</th>\n",
       "      <td>Haryana</td>\n",
       "      <td>544</td>\n",
       "      <td>1476</td>\n",
       "    </tr>\n",
       "    <tr>\n",
       "      <th>13</th>\n",
       "      <td>Himachal Pradesh</td>\n",
       "      <td>276</td>\n",
       "      <td>702</td>\n",
       "    </tr>\n",
       "    <tr>\n",
       "      <th>14</th>\n",
       "      <td>Jammu &amp; Kashmir</td>\n",
       "      <td>80</td>\n",
       "      <td>152</td>\n",
       "    </tr>\n",
       "    <tr>\n",
       "      <th>15</th>\n",
       "      <td>Jharkhand</td>\n",
       "      <td>156</td>\n",
       "      <td>656</td>\n",
       "    </tr>\n",
       "    <tr>\n",
       "      <th>16</th>\n",
       "      <td>Karnataka</td>\n",
       "      <td>632</td>\n",
       "      <td>770</td>\n",
       "    </tr>\n",
       "    <tr>\n",
       "      <th>17</th>\n",
       "      <td>Kerala</td>\n",
       "      <td>852</td>\n",
       "      <td>2264</td>\n",
       "    </tr>\n",
       "    <tr>\n",
       "      <th>18</th>\n",
       "      <td>Lakshadweep</td>\n",
       "      <td>0</td>\n",
       "      <td>0</td>\n",
       "    </tr>\n",
       "    <tr>\n",
       "      <th>19</th>\n",
       "      <td>Madhya Pradesh</td>\n",
       "      <td>4998</td>\n",
       "      <td>11108</td>\n",
       "    </tr>\n",
       "    <tr>\n",
       "      <th>20</th>\n",
       "      <td>Maharashtra</td>\n",
       "      <td>2610</td>\n",
       "      <td>8304</td>\n",
       "    </tr>\n",
       "    <tr>\n",
       "      <th>21</th>\n",
       "      <td>Manipur</td>\n",
       "      <td>46</td>\n",
       "      <td>80</td>\n",
       "    </tr>\n",
       "    <tr>\n",
       "      <th>22</th>\n",
       "      <td>Meghalaya</td>\n",
       "      <td>262</td>\n",
       "      <td>366</td>\n",
       "    </tr>\n",
       "    <tr>\n",
       "      <th>23</th>\n",
       "      <td>Mizoram</td>\n",
       "      <td>140</td>\n",
       "      <td>234</td>\n",
       "    </tr>\n",
       "    <tr>\n",
       "      <th>24</th>\n",
       "      <td>Nagaland</td>\n",
       "      <td>6</td>\n",
       "      <td>40</td>\n",
       "    </tr>\n",
       "    <tr>\n",
       "      <th>25</th>\n",
       "      <td>Odisha</td>\n",
       "      <td>396</td>\n",
       "      <td>1070</td>\n",
       "    </tr>\n",
       "    <tr>\n",
       "      <th>26</th>\n",
       "      <td>Puducherry</td>\n",
       "      <td>8</td>\n",
       "      <td>50</td>\n",
       "    </tr>\n",
       "    <tr>\n",
       "      <th>27</th>\n",
       "      <td>Punjab</td>\n",
       "      <td>534</td>\n",
       "      <td>1234</td>\n",
       "    </tr>\n",
       "    <tr>\n",
       "      <th>28</th>\n",
       "      <td>Rajasthan</td>\n",
       "      <td>1100</td>\n",
       "      <td>3750</td>\n",
       "    </tr>\n",
       "    <tr>\n",
       "      <th>29</th>\n",
       "      <td>Sikkim</td>\n",
       "      <td>68</td>\n",
       "      <td>66</td>\n",
       "    </tr>\n",
       "    <tr>\n",
       "      <th>30</th>\n",
       "      <td>Tamil Nadu</td>\n",
       "      <td>606</td>\n",
       "      <td>1782</td>\n",
       "    </tr>\n",
       "    <tr>\n",
       "      <th>31</th>\n",
       "      <td>Tripura</td>\n",
       "      <td>220</td>\n",
       "      <td>590</td>\n",
       "    </tr>\n",
       "    <tr>\n",
       "      <th>32</th>\n",
       "      <td>Uttar Pradesh</td>\n",
       "      <td>2848</td>\n",
       "      <td>6184</td>\n",
       "    </tr>\n",
       "    <tr>\n",
       "      <th>33</th>\n",
       "      <td>Uttarakhand</td>\n",
       "      <td>100</td>\n",
       "      <td>160</td>\n",
       "    </tr>\n",
       "    <tr>\n",
       "      <th>34</th>\n",
       "      <td>West Bengal</td>\n",
       "      <td>312</td>\n",
       "      <td>546</td>\n",
       "    </tr>\n",
       "  </tbody>\n",
       "</table>\n",
       "</div>"
      ],
      "text/plain": [
       "                    Area_Name  b/w10-14  b/w14-18\n",
       "0   Andaman & Nicobar Islands        16        88\n",
       "1              Andhra Pradesh      2510      4022\n",
       "2           Arunachal Pradesh        96        20\n",
       "3                       Assam       306       818\n",
       "4                       Bihar       204      1000\n",
       "5                  Chandigarh        92       104\n",
       "6                Chhattisgarh      2414      3986\n",
       "7        Dadra & Nagar Haveli        16        26\n",
       "8                 Daman & Diu         2         8\n",
       "9                       Delhi      1764      2812\n",
       "10                        Goa       120       172\n",
       "11                    Gujarat       506      1100\n",
       "12                    Haryana       544      1476\n",
       "13           Himachal Pradesh       276       702\n",
       "14            Jammu & Kashmir        80       152\n",
       "15                  Jharkhand       156       656\n",
       "16                  Karnataka       632       770\n",
       "17                     Kerala       852      2264\n",
       "18                Lakshadweep         0         0\n",
       "19             Madhya Pradesh      4998     11108\n",
       "20                Maharashtra      2610      8304\n",
       "21                    Manipur        46        80\n",
       "22                  Meghalaya       262       366\n",
       "23                    Mizoram       140       234\n",
       "24                   Nagaland         6        40\n",
       "25                     Odisha       396      1070\n",
       "26                 Puducherry         8        50\n",
       "27                     Punjab       534      1234\n",
       "28                  Rajasthan      1100      3750\n",
       "29                     Sikkim        68        66\n",
       "30                 Tamil Nadu       606      1782\n",
       "31                    Tripura       220       590\n",
       "32              Uttar Pradesh      2848      6184\n",
       "33                Uttarakhand       100       160\n",
       "34                West Bengal       312       546"
      ]
     },
     "execution_count": 23,
     "metadata": {},
     "output_type": "execute_result"
    }
   ],
   "source": [
    "cases_below_18= df.groupby(['Area_Name'])[\"b/w10-14\",\"b/w14-18\",].sum().reset_index()\n",
    "cases_below_18"
   ]
  },
  {
   "cell_type": "markdown",
   "metadata": {},
   "source": [
    "madhyapradesh has the highest number of minor rape cases between ages(10-18) repoerted from year 2001-2010 followed by maharasta.\n",
    "\n",
    "lowest among them is lakswadeep island with zero minor rape case"
   ]
  },
  {
   "cell_type": "markdown",
   "metadata": {},
   "source": [
    "# Rape cases reported (above 18 years)"
   ]
  },
  {
   "cell_type": "code",
   "execution_count": 24,
   "metadata": {},
   "outputs": [
    {
     "data": {
      "text/html": [
       "<div>\n",
       "<style scoped>\n",
       "    .dataframe tbody tr th:only-of-type {\n",
       "        vertical-align: middle;\n",
       "    }\n",
       "\n",
       "    .dataframe tbody tr th {\n",
       "        vertical-align: top;\n",
       "    }\n",
       "\n",
       "    .dataframe thead th {\n",
       "        text-align: right;\n",
       "    }\n",
       "</style>\n",
       "<table border=\"1\" class=\"dataframe\">\n",
       "  <thead>\n",
       "    <tr style=\"text-align: right;\">\n",
       "      <th></th>\n",
       "      <th>Area_Name</th>\n",
       "      <th>above50</th>\n",
       "      <th>b/w18-30</th>\n",
       "      <th>b/w30-50</th>\n",
       "    </tr>\n",
       "  </thead>\n",
       "  <tbody>\n",
       "    <tr>\n",
       "      <th>0</th>\n",
       "      <td>Andaman &amp; Nicobar Islands</td>\n",
       "      <td>0</td>\n",
       "      <td>42</td>\n",
       "      <td>8</td>\n",
       "    </tr>\n",
       "    <tr>\n",
       "      <th>1</th>\n",
       "      <td>Andhra Pradesh</td>\n",
       "      <td>198</td>\n",
       "      <td>11262</td>\n",
       "      <td>2540</td>\n",
       "    </tr>\n",
       "    <tr>\n",
       "      <th>2</th>\n",
       "      <td>Arunachal Pradesh</td>\n",
       "      <td>0</td>\n",
       "      <td>632</td>\n",
       "      <td>38</td>\n",
       "    </tr>\n",
       "    <tr>\n",
       "      <th>3</th>\n",
       "      <td>Assam</td>\n",
       "      <td>190</td>\n",
       "      <td>17014</td>\n",
       "      <td>7104</td>\n",
       "    </tr>\n",
       "    <tr>\n",
       "      <th>4</th>\n",
       "      <td>Bihar</td>\n",
       "      <td>78</td>\n",
       "      <td>16988</td>\n",
       "      <td>4194</td>\n",
       "    </tr>\n",
       "    <tr>\n",
       "      <th>5</th>\n",
       "      <td>Chandigarh</td>\n",
       "      <td>0</td>\n",
       "      <td>150</td>\n",
       "      <td>48</td>\n",
       "    </tr>\n",
       "    <tr>\n",
       "      <th>6</th>\n",
       "      <td>Chhattisgarh</td>\n",
       "      <td>226</td>\n",
       "      <td>8678</td>\n",
       "      <td>3608</td>\n",
       "    </tr>\n",
       "    <tr>\n",
       "      <th>7</th>\n",
       "      <td>Dadra &amp; Nagar Haveli</td>\n",
       "      <td>0</td>\n",
       "      <td>44</td>\n",
       "      <td>2</td>\n",
       "    </tr>\n",
       "    <tr>\n",
       "      <th>8</th>\n",
       "      <td>Daman &amp; Diu</td>\n",
       "      <td>0</td>\n",
       "      <td>6</td>\n",
       "      <td>2</td>\n",
       "    </tr>\n",
       "    <tr>\n",
       "      <th>9</th>\n",
       "      <td>Delhi</td>\n",
       "      <td>26</td>\n",
       "      <td>4118</td>\n",
       "      <td>534</td>\n",
       "    </tr>\n",
       "    <tr>\n",
       "      <th>10</th>\n",
       "      <td>Goa</td>\n",
       "      <td>10</td>\n",
       "      <td>138</td>\n",
       "      <td>34</td>\n",
       "    </tr>\n",
       "    <tr>\n",
       "      <th>11</th>\n",
       "      <td>Gujarat</td>\n",
       "      <td>16</td>\n",
       "      <td>4070</td>\n",
       "      <td>650</td>\n",
       "    </tr>\n",
       "    <tr>\n",
       "      <th>12</th>\n",
       "      <td>Haryana</td>\n",
       "      <td>62</td>\n",
       "      <td>6438</td>\n",
       "      <td>1262</td>\n",
       "    </tr>\n",
       "    <tr>\n",
       "      <th>13</th>\n",
       "      <td>Himachal Pradesh</td>\n",
       "      <td>36</td>\n",
       "      <td>1272</td>\n",
       "      <td>434</td>\n",
       "    </tr>\n",
       "    <tr>\n",
       "      <th>14</th>\n",
       "      <td>Jammu &amp; Kashmir</td>\n",
       "      <td>12</td>\n",
       "      <td>3164</td>\n",
       "      <td>1036</td>\n",
       "    </tr>\n",
       "    <tr>\n",
       "      <th>15</th>\n",
       "      <td>Jharkhand</td>\n",
       "      <td>20</td>\n",
       "      <td>11276</td>\n",
       "      <td>2974</td>\n",
       "    </tr>\n",
       "    <tr>\n",
       "      <th>16</th>\n",
       "      <td>Karnataka</td>\n",
       "      <td>68</td>\n",
       "      <td>5014</td>\n",
       "      <td>976</td>\n",
       "    </tr>\n",
       "    <tr>\n",
       "      <th>17</th>\n",
       "      <td>Kerala</td>\n",
       "      <td>120</td>\n",
       "      <td>5460</td>\n",
       "      <td>1400</td>\n",
       "    </tr>\n",
       "    <tr>\n",
       "      <th>18</th>\n",
       "      <td>Lakshadweep</td>\n",
       "      <td>0</td>\n",
       "      <td>10</td>\n",
       "      <td>4</td>\n",
       "    </tr>\n",
       "    <tr>\n",
       "      <th>19</th>\n",
       "      <td>Madhya Pradesh</td>\n",
       "      <td>362</td>\n",
       "      <td>29064</td>\n",
       "      <td>11566</td>\n",
       "    </tr>\n",
       "    <tr>\n",
       "      <th>20</th>\n",
       "      <td>Maharashtra</td>\n",
       "      <td>126</td>\n",
       "      <td>13120</td>\n",
       "      <td>2970</td>\n",
       "    </tr>\n",
       "    <tr>\n",
       "      <th>21</th>\n",
       "      <td>Manipur</td>\n",
       "      <td>6</td>\n",
       "      <td>278</td>\n",
       "      <td>70</td>\n",
       "    </tr>\n",
       "    <tr>\n",
       "      <th>22</th>\n",
       "      <td>Meghalaya</td>\n",
       "      <td>8</td>\n",
       "      <td>524</td>\n",
       "      <td>82</td>\n",
       "    </tr>\n",
       "    <tr>\n",
       "      <th>23</th>\n",
       "      <td>Mizoram</td>\n",
       "      <td>30</td>\n",
       "      <td>538</td>\n",
       "      <td>240</td>\n",
       "    </tr>\n",
       "    <tr>\n",
       "      <th>24</th>\n",
       "      <td>Nagaland</td>\n",
       "      <td>0</td>\n",
       "      <td>238</td>\n",
       "      <td>42</td>\n",
       "    </tr>\n",
       "    <tr>\n",
       "      <th>25</th>\n",
       "      <td>Odisha</td>\n",
       "      <td>60</td>\n",
       "      <td>12844</td>\n",
       "      <td>3074</td>\n",
       "    </tr>\n",
       "    <tr>\n",
       "      <th>26</th>\n",
       "      <td>Puducherry</td>\n",
       "      <td>0</td>\n",
       "      <td>34</td>\n",
       "      <td>4</td>\n",
       "    </tr>\n",
       "    <tr>\n",
       "      <th>27</th>\n",
       "      <td>Punjab</td>\n",
       "      <td>26</td>\n",
       "      <td>5316</td>\n",
       "      <td>1180</td>\n",
       "    </tr>\n",
       "    <tr>\n",
       "      <th>28</th>\n",
       "      <td>Rajasthan</td>\n",
       "      <td>210</td>\n",
       "      <td>13732</td>\n",
       "      <td>4660</td>\n",
       "    </tr>\n",
       "    <tr>\n",
       "      <th>29</th>\n",
       "      <td>Sikkim</td>\n",
       "      <td>0</td>\n",
       "      <td>52</td>\n",
       "      <td>20</td>\n",
       "    </tr>\n",
       "    <tr>\n",
       "      <th>30</th>\n",
       "      <td>Tamil Nadu</td>\n",
       "      <td>24</td>\n",
       "      <td>7184</td>\n",
       "      <td>1072</td>\n",
       "    </tr>\n",
       "    <tr>\n",
       "      <th>31</th>\n",
       "      <td>Tripura</td>\n",
       "      <td>2</td>\n",
       "      <td>2002</td>\n",
       "      <td>322</td>\n",
       "    </tr>\n",
       "    <tr>\n",
       "      <th>32</th>\n",
       "      <td>Uttar Pradesh</td>\n",
       "      <td>24</td>\n",
       "      <td>16152</td>\n",
       "      <td>4172</td>\n",
       "    </tr>\n",
       "    <tr>\n",
       "      <th>33</th>\n",
       "      <td>Uttarakhand</td>\n",
       "      <td>0</td>\n",
       "      <td>1558</td>\n",
       "      <td>346</td>\n",
       "    </tr>\n",
       "    <tr>\n",
       "      <th>34</th>\n",
       "      <td>West Bengal</td>\n",
       "      <td>20</td>\n",
       "      <td>25172</td>\n",
       "      <td>6580</td>\n",
       "    </tr>\n",
       "  </tbody>\n",
       "</table>\n",
       "</div>"
      ],
      "text/plain": [
       "                    Area_Name  above50  b/w18-30  b/w30-50\n",
       "0   Andaman & Nicobar Islands        0        42         8\n",
       "1              Andhra Pradesh      198     11262      2540\n",
       "2           Arunachal Pradesh        0       632        38\n",
       "3                       Assam      190     17014      7104\n",
       "4                       Bihar       78     16988      4194\n",
       "5                  Chandigarh        0       150        48\n",
       "6                Chhattisgarh      226      8678      3608\n",
       "7        Dadra & Nagar Haveli        0        44         2\n",
       "8                 Daman & Diu        0         6         2\n",
       "9                       Delhi       26      4118       534\n",
       "10                        Goa       10       138        34\n",
       "11                    Gujarat       16      4070       650\n",
       "12                    Haryana       62      6438      1262\n",
       "13           Himachal Pradesh       36      1272       434\n",
       "14            Jammu & Kashmir       12      3164      1036\n",
       "15                  Jharkhand       20     11276      2974\n",
       "16                  Karnataka       68      5014       976\n",
       "17                     Kerala      120      5460      1400\n",
       "18                Lakshadweep        0        10         4\n",
       "19             Madhya Pradesh      362     29064     11566\n",
       "20                Maharashtra      126     13120      2970\n",
       "21                    Manipur        6       278        70\n",
       "22                  Meghalaya        8       524        82\n",
       "23                    Mizoram       30       538       240\n",
       "24                   Nagaland        0       238        42\n",
       "25                     Odisha       60     12844      3074\n",
       "26                 Puducherry        0        34         4\n",
       "27                     Punjab       26      5316      1180\n",
       "28                  Rajasthan      210     13732      4660\n",
       "29                     Sikkim        0        52        20\n",
       "30                 Tamil Nadu       24      7184      1072\n",
       "31                    Tripura        2      2002       322\n",
       "32              Uttar Pradesh       24     16152      4172\n",
       "33                Uttarakhand        0      1558       346\n",
       "34                West Bengal       20     25172      6580"
      ]
     },
     "execution_count": 24,
     "metadata": {},
     "output_type": "execute_result"
    }
   ],
   "source": [
    "cases_above_18= df.groupby(['Area_Name'])['above50',\"b/w18-30\",\"b/w30-50\"].sum().reset_index()\n",
    "cases_above_18"
   ]
  },
  {
   "cell_type": "markdown",
   "metadata": {},
   "source": [
    "madhyapradesh has the highest number of rape cases repoerted between age(18-50) from year 2001-2010 followed by west bengal.\n",
    "\n",
    "lowest among them is lakswadeep island which tend to be the safest city"
   ]
  },
  {
   "cell_type": "markdown",
   "metadata": {},
   "source": [
    "# child abuse/child Rape cases reported (upto 10)"
   ]
  },
  {
   "cell_type": "code",
   "execution_count": 25,
   "metadata": {},
   "outputs": [
    {
     "data": {
      "text/html": [
       "<div>\n",
       "<style scoped>\n",
       "    .dataframe tbody tr th:only-of-type {\n",
       "        vertical-align: middle;\n",
       "    }\n",
       "\n",
       "    .dataframe tbody tr th {\n",
       "        vertical-align: top;\n",
       "    }\n",
       "\n",
       "    .dataframe thead th {\n",
       "        text-align: right;\n",
       "    }\n",
       "</style>\n",
       "<table border=\"1\" class=\"dataframe\">\n",
       "  <thead>\n",
       "    <tr style=\"text-align: right;\">\n",
       "      <th></th>\n",
       "      <th>Area_Name</th>\n",
       "      <th>upto10</th>\n",
       "    </tr>\n",
       "  </thead>\n",
       "  <tbody>\n",
       "    <tr>\n",
       "      <th>0</th>\n",
       "      <td>Andaman &amp; Nicobar Islands</td>\n",
       "      <td>14</td>\n",
       "    </tr>\n",
       "    <tr>\n",
       "      <th>1</th>\n",
       "      <td>Andhra Pradesh</td>\n",
       "      <td>860</td>\n",
       "    </tr>\n",
       "    <tr>\n",
       "      <th>2</th>\n",
       "      <td>Arunachal Pradesh</td>\n",
       "      <td>38</td>\n",
       "    </tr>\n",
       "    <tr>\n",
       "      <th>3</th>\n",
       "      <td>Assam</td>\n",
       "      <td>92</td>\n",
       "    </tr>\n",
       "    <tr>\n",
       "      <th>4</th>\n",
       "      <td>Bihar</td>\n",
       "      <td>62</td>\n",
       "    </tr>\n",
       "    <tr>\n",
       "      <th>5</th>\n",
       "      <td>Chandigarh</td>\n",
       "      <td>62</td>\n",
       "    </tr>\n",
       "    <tr>\n",
       "      <th>6</th>\n",
       "      <td>Chhattisgarh</td>\n",
       "      <td>590</td>\n",
       "    </tr>\n",
       "    <tr>\n",
       "      <th>7</th>\n",
       "      <td>Dadra &amp; Nagar Haveli</td>\n",
       "      <td>10</td>\n",
       "    </tr>\n",
       "    <tr>\n",
       "      <th>8</th>\n",
       "      <td>Daman &amp; Diu</td>\n",
       "      <td>10</td>\n",
       "    </tr>\n",
       "    <tr>\n",
       "      <th>9</th>\n",
       "      <td>Delhi</td>\n",
       "      <td>1088</td>\n",
       "    </tr>\n",
       "    <tr>\n",
       "      <th>10</th>\n",
       "      <td>Goa</td>\n",
       "      <td>66</td>\n",
       "    </tr>\n",
       "    <tr>\n",
       "      <th>11</th>\n",
       "      <td>Gujarat</td>\n",
       "      <td>336</td>\n",
       "    </tr>\n",
       "    <tr>\n",
       "      <th>12</th>\n",
       "      <td>Haryana</td>\n",
       "      <td>236</td>\n",
       "    </tr>\n",
       "    <tr>\n",
       "      <th>13</th>\n",
       "      <td>Himachal Pradesh</td>\n",
       "      <td>186</td>\n",
       "    </tr>\n",
       "    <tr>\n",
       "      <th>14</th>\n",
       "      <td>Jammu &amp; Kashmir</td>\n",
       "      <td>12</td>\n",
       "    </tr>\n",
       "    <tr>\n",
       "      <th>15</th>\n",
       "      <td>Jharkhand</td>\n",
       "      <td>44</td>\n",
       "    </tr>\n",
       "    <tr>\n",
       "      <th>16</th>\n",
       "      <td>Karnataka</td>\n",
       "      <td>374</td>\n",
       "    </tr>\n",
       "    <tr>\n",
       "      <th>17</th>\n",
       "      <td>Kerala</td>\n",
       "      <td>520</td>\n",
       "    </tr>\n",
       "    <tr>\n",
       "      <th>18</th>\n",
       "      <td>Lakshadweep</td>\n",
       "      <td>0</td>\n",
       "    </tr>\n",
       "    <tr>\n",
       "      <th>19</th>\n",
       "      <td>Madhya Pradesh</td>\n",
       "      <td>1416</td>\n",
       "    </tr>\n",
       "    <tr>\n",
       "      <th>20</th>\n",
       "      <td>Maharashtra</td>\n",
       "      <td>1880</td>\n",
       "    </tr>\n",
       "    <tr>\n",
       "      <th>21</th>\n",
       "      <td>Manipur</td>\n",
       "      <td>66</td>\n",
       "    </tr>\n",
       "    <tr>\n",
       "      <th>22</th>\n",
       "      <td>Meghalaya</td>\n",
       "      <td>236</td>\n",
       "    </tr>\n",
       "    <tr>\n",
       "      <th>23</th>\n",
       "      <td>Mizoram</td>\n",
       "      <td>110</td>\n",
       "    </tr>\n",
       "    <tr>\n",
       "      <th>24</th>\n",
       "      <td>Nagaland</td>\n",
       "      <td>26</td>\n",
       "    </tr>\n",
       "    <tr>\n",
       "      <th>25</th>\n",
       "      <td>Odisha</td>\n",
       "      <td>276</td>\n",
       "    </tr>\n",
       "    <tr>\n",
       "      <th>26</th>\n",
       "      <td>Puducherry</td>\n",
       "      <td>18</td>\n",
       "    </tr>\n",
       "    <tr>\n",
       "      <th>27</th>\n",
       "      <td>Punjab</td>\n",
       "      <td>324</td>\n",
       "    </tr>\n",
       "    <tr>\n",
       "      <th>28</th>\n",
       "      <td>Rajasthan</td>\n",
       "      <td>456</td>\n",
       "    </tr>\n",
       "    <tr>\n",
       "      <th>29</th>\n",
       "      <td>Sikkim</td>\n",
       "      <td>92</td>\n",
       "    </tr>\n",
       "    <tr>\n",
       "      <th>30</th>\n",
       "      <td>Tamil Nadu</td>\n",
       "      <td>430</td>\n",
       "    </tr>\n",
       "    <tr>\n",
       "      <th>31</th>\n",
       "      <td>Tripura</td>\n",
       "      <td>116</td>\n",
       "    </tr>\n",
       "    <tr>\n",
       "      <th>32</th>\n",
       "      <td>Uttar Pradesh</td>\n",
       "      <td>726</td>\n",
       "    </tr>\n",
       "    <tr>\n",
       "      <th>33</th>\n",
       "      <td>Uttarakhand</td>\n",
       "      <td>38</td>\n",
       "    </tr>\n",
       "    <tr>\n",
       "      <th>34</th>\n",
       "      <td>West Bengal</td>\n",
       "      <td>126</td>\n",
       "    </tr>\n",
       "  </tbody>\n",
       "</table>\n",
       "</div>"
      ],
      "text/plain": [
       "                    Area_Name  upto10\n",
       "0   Andaman & Nicobar Islands      14\n",
       "1              Andhra Pradesh     860\n",
       "2           Arunachal Pradesh      38\n",
       "3                       Assam      92\n",
       "4                       Bihar      62\n",
       "5                  Chandigarh      62\n",
       "6                Chhattisgarh     590\n",
       "7        Dadra & Nagar Haveli      10\n",
       "8                 Daman & Diu      10\n",
       "9                       Delhi    1088\n",
       "10                        Goa      66\n",
       "11                    Gujarat     336\n",
       "12                    Haryana     236\n",
       "13           Himachal Pradesh     186\n",
       "14            Jammu & Kashmir      12\n",
       "15                  Jharkhand      44\n",
       "16                  Karnataka     374\n",
       "17                     Kerala     520\n",
       "18                Lakshadweep       0\n",
       "19             Madhya Pradesh    1416\n",
       "20                Maharashtra    1880\n",
       "21                    Manipur      66\n",
       "22                  Meghalaya     236\n",
       "23                    Mizoram     110\n",
       "24                   Nagaland      26\n",
       "25                     Odisha     276\n",
       "26                 Puducherry      18\n",
       "27                     Punjab     324\n",
       "28                  Rajasthan     456\n",
       "29                     Sikkim      92\n",
       "30                 Tamil Nadu     430\n",
       "31                    Tripura     116\n",
       "32              Uttar Pradesh     726\n",
       "33                Uttarakhand      38\n",
       "34                West Bengal     126"
      ]
     },
     "execution_count": 25,
     "metadata": {},
     "output_type": "execute_result"
    }
   ],
   "source": [
    "upto10= df.groupby(['Area_Name'])[\"upto10\"].sum().reset_index()\n",
    "upto10"
   ]
  },
  {
   "cell_type": "markdown",
   "metadata": {},
   "source": [
    "maharastra has the highest number of child rape cases repoerted from year 2001-2010 followed by madhya pradesh.\n",
    "\n",
    "lowest among them is lakswadeep island with zero minor rape case"
   ]
  },
  {
   "cell_type": "markdown",
   "metadata": {},
   "source": [
    "from all the observation we found that states\n",
    "\n",
    "    1)Madhya pradesh is the most dangerous and unsafe city for girls and women with highest number of rape victim cases reccorded in India\n",
    "    \n",
    "    2)Lakshawadeep island is the most safest state in India for girls and women"
   ]
  },
  {
   "cell_type": "markdown",
   "metadata": {},
   "source": [
    "# Correlation"
   ]
  },
  {
   "cell_type": "code",
   "execution_count": 26,
   "metadata": {},
   "outputs": [
    {
     "data": {
      "text/html": [
       "<div>\n",
       "<style scoped>\n",
       "    .dataframe tbody tr th:only-of-type {\n",
       "        vertical-align: middle;\n",
       "    }\n",
       "\n",
       "    .dataframe tbody tr th {\n",
       "        vertical-align: top;\n",
       "    }\n",
       "\n",
       "    .dataframe thead th {\n",
       "        text-align: right;\n",
       "    }\n",
       "</style>\n",
       "<table border=\"1\" class=\"dataframe\">\n",
       "  <thead>\n",
       "    <tr style=\"text-align: right;\">\n",
       "      <th></th>\n",
       "      <th>Year</th>\n",
       "      <th>Rape_Cases_Reported</th>\n",
       "      <th>above50</th>\n",
       "      <th>b/w10-14</th>\n",
       "      <th>b/w14-18</th>\n",
       "      <th>b/w18-30</th>\n",
       "      <th>b/w30-50</th>\n",
       "      <th>Total_rape</th>\n",
       "      <th>upto10</th>\n",
       "    </tr>\n",
       "  </thead>\n",
       "  <tbody>\n",
       "    <tr>\n",
       "      <th>Year</th>\n",
       "      <td>1.000000</td>\n",
       "      <td>0.070944</td>\n",
       "      <td>0.095368</td>\n",
       "      <td>0.057081</td>\n",
       "      <td>0.060579</td>\n",
       "      <td>0.069109</td>\n",
       "      <td>0.053460</td>\n",
       "      <td>0.071121</td>\n",
       "      <td>0.066608</td>\n",
       "    </tr>\n",
       "    <tr>\n",
       "      <th>Rape_Cases_Reported</th>\n",
       "      <td>0.070944</td>\n",
       "      <td>1.000000</td>\n",
       "      <td>0.652470</td>\n",
       "      <td>0.762842</td>\n",
       "      <td>0.780262</td>\n",
       "      <td>0.966432</td>\n",
       "      <td>0.925609</td>\n",
       "      <td>0.999998</td>\n",
       "      <td>0.665398</td>\n",
       "    </tr>\n",
       "    <tr>\n",
       "      <th>above50</th>\n",
       "      <td>0.095368</td>\n",
       "      <td>0.652470</td>\n",
       "      <td>1.000000</td>\n",
       "      <td>0.595057</td>\n",
       "      <td>0.588920</td>\n",
       "      <td>0.566389</td>\n",
       "      <td>0.638712</td>\n",
       "      <td>0.652482</td>\n",
       "      <td>0.514891</td>\n",
       "    </tr>\n",
       "    <tr>\n",
       "      <th>b/w10-14</th>\n",
       "      <td>0.057081</td>\n",
       "      <td>0.762842</td>\n",
       "      <td>0.595057</td>\n",
       "      <td>1.000000</td>\n",
       "      <td>0.834968</td>\n",
       "      <td>0.615116</td>\n",
       "      <td>0.599692</td>\n",
       "      <td>0.763069</td>\n",
       "      <td>0.827184</td>\n",
       "    </tr>\n",
       "    <tr>\n",
       "      <th>b/w14-18</th>\n",
       "      <td>0.060579</td>\n",
       "      <td>0.780262</td>\n",
       "      <td>0.588920</td>\n",
       "      <td>0.834968</td>\n",
       "      <td>1.000000</td>\n",
       "      <td>0.615138</td>\n",
       "      <td>0.605228</td>\n",
       "      <td>0.780669</td>\n",
       "      <td>0.783994</td>\n",
       "    </tr>\n",
       "    <tr>\n",
       "      <th>b/w18-30</th>\n",
       "      <td>0.069109</td>\n",
       "      <td>0.966432</td>\n",
       "      <td>0.566389</td>\n",
       "      <td>0.615116</td>\n",
       "      <td>0.615138</td>\n",
       "      <td>1.000000</td>\n",
       "      <td>0.907376</td>\n",
       "      <td>0.966303</td>\n",
       "      <td>0.529155</td>\n",
       "    </tr>\n",
       "    <tr>\n",
       "      <th>b/w30-50</th>\n",
       "      <td>0.053460</td>\n",
       "      <td>0.925609</td>\n",
       "      <td>0.638712</td>\n",
       "      <td>0.599692</td>\n",
       "      <td>0.605228</td>\n",
       "      <td>0.907376</td>\n",
       "      <td>1.000000</td>\n",
       "      <td>0.925359</td>\n",
       "      <td>0.467843</td>\n",
       "    </tr>\n",
       "    <tr>\n",
       "      <th>Total_rape</th>\n",
       "      <td>0.071121</td>\n",
       "      <td>0.999998</td>\n",
       "      <td>0.652482</td>\n",
       "      <td>0.763069</td>\n",
       "      <td>0.780669</td>\n",
       "      <td>0.966303</td>\n",
       "      <td>0.925359</td>\n",
       "      <td>1.000000</td>\n",
       "      <td>0.666310</td>\n",
       "    </tr>\n",
       "    <tr>\n",
       "      <th>upto10</th>\n",
       "      <td>0.066608</td>\n",
       "      <td>0.665398</td>\n",
       "      <td>0.514891</td>\n",
       "      <td>0.827184</td>\n",
       "      <td>0.783994</td>\n",
       "      <td>0.529155</td>\n",
       "      <td>0.467843</td>\n",
       "      <td>0.666310</td>\n",
       "      <td>1.000000</td>\n",
       "    </tr>\n",
       "  </tbody>\n",
       "</table>\n",
       "</div>"
      ],
      "text/plain": [
       "                         Year  Rape_Cases_Reported   above50  b/w10-14  \\\n",
       "Year                 1.000000             0.070944  0.095368  0.057081   \n",
       "Rape_Cases_Reported  0.070944             1.000000  0.652470  0.762842   \n",
       "above50              0.095368             0.652470  1.000000  0.595057   \n",
       "b/w10-14             0.057081             0.762842  0.595057  1.000000   \n",
       "b/w14-18             0.060579             0.780262  0.588920  0.834968   \n",
       "b/w18-30             0.069109             0.966432  0.566389  0.615116   \n",
       "b/w30-50             0.053460             0.925609  0.638712  0.599692   \n",
       "Total_rape           0.071121             0.999998  0.652482  0.763069   \n",
       "upto10               0.066608             0.665398  0.514891  0.827184   \n",
       "\n",
       "                     b/w14-18  b/w18-30  b/w30-50  Total_rape    upto10  \n",
       "Year                 0.060579  0.069109  0.053460    0.071121  0.066608  \n",
       "Rape_Cases_Reported  0.780262  0.966432  0.925609    0.999998  0.665398  \n",
       "above50              0.588920  0.566389  0.638712    0.652482  0.514891  \n",
       "b/w10-14             0.834968  0.615116  0.599692    0.763069  0.827184  \n",
       "b/w14-18             1.000000  0.615138  0.605228    0.780669  0.783994  \n",
       "b/w18-30             0.615138  1.000000  0.907376    0.966303  0.529155  \n",
       "b/w30-50             0.605228  0.907376  1.000000    0.925359  0.467843  \n",
       "Total_rape           0.780669  0.966303  0.925359    1.000000  0.666310  \n",
       "upto10               0.783994  0.529155  0.467843    0.666310  1.000000  "
      ]
     },
     "execution_count": 26,
     "metadata": {},
     "output_type": "execute_result"
    }
   ],
   "source": [
    "cor=df.corr()\n",
    "cor"
   ]
  },
  {
   "cell_type": "code",
   "execution_count": 27,
   "metadata": {},
   "outputs": [
    {
     "data": {
      "text/plain": [
       "<matplotlib.axes._subplots.AxesSubplot at 0x1bb01112a60>"
      ]
     },
     "execution_count": 27,
     "metadata": {},
     "output_type": "execute_result"
    },
    {
     "data": {
      "image/png": "[encoded data removed]",
      "text/plain": [
       "<Figure size 432x288 with 2 Axes>"
      ]
     },
     "metadata": {
      "needs_background": "light"
     },
     "output_type": "display_data"
    }
   ],
   "source": [
    "sns.heatmap(cor,annot=True)"
   ]
  },
  {
   "cell_type": "markdown",
   "metadata": {},
   "source": [
    "key Observation:\n",
    "    \n",
    "    the column year is highly negatively attributed with any other column\n",
    "    \n",
    "    total rape is highly correlated with b/w30-50\n",
    "    \n",
    "    "
   ]
  },
  {
   "cell_type": "markdown",
   "metadata": {},
   "source": [
    "# checking for outliers"
   ]
  },
  {
   "cell_type": "code",
   "execution_count": 29,
   "metadata": {},
   "outputs": [
    {
     "data": {
      "text/plain": [
       "Index(['Area_Name', 'Year', 'Subgroup', 'Rape_Cases_Reported', 'above50',\n",
       "       'b/w10-14', 'b/w14-18', 'b/w18-30', 'b/w30-50', 'Total_rape', 'upto10'],\n",
       "      dtype='object')"
      ]
     },
     "execution_count": 29,
     "metadata": {},
     "output_type": "execute_result"
    }
   ],
   "source": [
    "df.columns"
   ]
  },
  {
   "cell_type": "code",
   "execution_count": 30,
   "metadata": {},
   "outputs": [
    {
     "data": {
      "text/plain": [
       "<matplotlib.axes._subplots.AxesSubplot at 0x1bb014ab370>"
      ]
     },
     "execution_count": 30,
     "metadata": {},
     "output_type": "execute_result"
    },
    {
     "data": {
      "image/png": "[encoded data removed]",
      "text/plain": [
       "<Figure size 432x288 with 1 Axes>"
      ]
     },
     "metadata": {
      "needs_background": "light"
     },
     "output_type": "display_data"
    }
   ],
   "source": [
    "sns.boxplot(df[\"Rape_Cases_Reported\"])"
   ]
  },
  {
   "cell_type": "code",
   "execution_count": 31,
   "metadata": {},
   "outputs": [
    {
     "data": {
      "text/plain": [
       "<matplotlib.axes._subplots.AxesSubplot at 0x1bb015221c0>"
      ]
     },
     "execution_count": 31,
     "metadata": {},
     "output_type": "execute_result"
    },
    {
     "data": {
      "image/png": "[encoded data removed]",
      "text/plain": [
       "<Figure size 432x288 with 1 Axes>"
      ]
     },
     "metadata": {
      "needs_background": "light"
     },
     "output_type": "display_data"
    }
   ],
   "source": [
    "sns.boxplot(df[\"above50\"])"
   ]
  },
  {
   "cell_type": "code",
   "execution_count": 32,
   "metadata": {},
   "outputs": [
    {
     "data": {
      "text/plain": [
       "<matplotlib.axes._subplots.AxesSubplot at 0x1bb01312d90>"
      ]
     },
     "execution_count": 32,
     "metadata": {},
     "output_type": "execute_result"
    },
    {
     "data": {
      "image/png": "[encoded data removed]",
      "text/plain": [
       "<Figure size 432x288 with 1 Axes>"
      ]
     },
     "metadata": {
      "needs_background": "light"
     },
     "output_type": "display_data"
    }
   ],
   "source": [
    "sns.boxplot(df[\"Year\"])"
   ]
  },
  {
   "cell_type": "code",
   "execution_count": 33,
   "metadata": {},
   "outputs": [
    {
     "data": {
      "text/plain": [
       "<matplotlib.axes._subplots.AxesSubplot at 0x1bb013eb5e0>"
      ]
     },
     "execution_count": 33,
     "metadata": {},
     "output_type": "execute_result"
    },
    {
     "data": {
      "image/png": "[encoded data removed]",
      "text/plain": [
       "<Figure size 432x288 with 1 Axes>"
      ]
     },
     "metadata": {
      "needs_background": "light"
     },
     "output_type": "display_data"
    }
   ],
   "source": [
    "sns.boxplot(df[\"b/w10-14\"])"
   ]
  },
  {
   "cell_type": "code",
   "execution_count": 34,
   "metadata": {},
   "outputs": [
    {
     "data": {
      "text/plain": [
       "<matplotlib.axes._subplots.AxesSubplot at 0x1bb015d3ca0>"
      ]
     },
     "execution_count": 34,
     "metadata": {},
     "output_type": "execute_result"
    },
    {
     "data": {
      "image/png": "[encoded data removed]",
      "text/plain": [
       "<Figure size 432x288 with 1 Axes>"
      ]
     },
     "metadata": {
      "needs_background": "light"
     },
     "output_type": "display_data"
    }
   ],
   "source": [
    "sns.boxplot(df[\"b/w14-18\"])"
   ]
  },
  {
   "cell_type": "code",
   "execution_count": 35,
   "metadata": {},
   "outputs": [
    {
     "data": {
      "text/plain": [
       "<matplotlib.axes._subplots.AxesSubplot at 0x1bb0162ab50>"
      ]
     },
     "execution_count": 35,
     "metadata": {},
     "output_type": "execute_result"
    },
    {
     "data": {
      "image/png": "[encoded data removed]",
      "text/plain": [
       "<Figure size 432x288 with 1 Axes>"
      ]
     },
     "metadata": {
      "needs_background": "light"
     },
     "output_type": "display_data"
    }
   ],
   "source": [
    "sns.boxplot(df[\"b/w18-30\"])"
   ]
  },
  {
   "cell_type": "code",
   "execution_count": 36,
   "metadata": {},
   "outputs": [
    {
     "data": {
      "text/plain": [
       "<matplotlib.axes._subplots.AxesSubplot at 0x1bb01681f70>"
      ]
     },
     "execution_count": 36,
     "metadata": {},
     "output_type": "execute_result"
    },
    {
     "data": {
      "image/png": "[encoded data removed]",
      "text/plain": [
       "<Figure size 432x288 with 1 Axes>"
      ]
     },
     "metadata": {
      "needs_background": "light"
     },
     "output_type": "display_data"
    }
   ],
   "source": [
    "sns.boxplot(df[\"b/w30-50\"])"
   ]
  },
  {
   "cell_type": "code",
   "execution_count": 37,
   "metadata": {},
   "outputs": [
    {
     "data": {
      "text/plain": [
       "<matplotlib.axes._subplots.AxesSubplot at 0x1bb016d82e0>"
      ]
     },
     "execution_count": 37,
     "metadata": {},
     "output_type": "execute_result"
    },
    {
     "data": {
      "image/png": "[encoded data removed]",
      "text/plain": [
       "<Figure size 432x288 with 1 Axes>"
      ]
     },
     "metadata": {
      "needs_background": "light"
     },
     "output_type": "display_data"
    }
   ],
   "source": [
    "sns.boxplot(df[\"upto10\"])"
   ]
  },
  {
   "cell_type": "markdown",
   "metadata": {},
   "source": [
    "we found a large number of outliers in every column. but it is not recommended to remove this large number of outliers since it may affect the prediction model"
   ]
  },
  {
   "cell_type": "markdown",
   "metadata": {},
   "source": [
    "# skewness"
   ]
  },
  {
   "cell_type": "code",
   "execution_count": 38,
   "metadata": {},
   "outputs": [
    {
     "data": {
      "text/plain": [
       "Year                   0.000000\n",
       "Rape_Cases_Reported    2.228595\n",
       "above50                4.151161\n",
       "b/w10-14               3.554447\n",
       "b/w14-18               3.327417\n",
       "b/w18-30               2.089371\n",
       "b/w30-50               2.905033\n",
       "Total_rape             2.226962\n",
       "upto10                 2.845238\n",
       "dtype: float64"
      ]
     },
     "execution_count": 38,
     "metadata": {},
     "output_type": "execute_result"
    }
   ],
   "source": [
    "df.skew()"
   ]
  },
  {
   "cell_type": "markdown",
   "metadata": {},
   "source": [
    "here we found skewness are very high in each attributes"
   ]
  },
  {
   "cell_type": "markdown",
   "metadata": {},
   "source": [
    "# DATA CLEANING"
   ]
  },
  {
   "cell_type": "code",
   "execution_count": 39,
   "metadata": {},
   "outputs": [
    {
     "data": {
      "text/html": [
       "<div>\n",
       "<style scoped>\n",
       "    .dataframe tbody tr th:only-of-type {\n",
       "        vertical-align: middle;\n",
       "    }\n",
       "\n",
       "    .dataframe tbody tr th {\n",
       "        vertical-align: top;\n",
       "    }\n",
       "\n",
       "    .dataframe thead th {\n",
       "        text-align: right;\n",
       "    }\n",
       "</style>\n",
       "<table border=\"1\" class=\"dataframe\">\n",
       "  <thead>\n",
       "    <tr style=\"text-align: right;\">\n",
       "      <th></th>\n",
       "      <th>Area_Name</th>\n",
       "      <th>Year</th>\n",
       "      <th>Subgroup</th>\n",
       "      <th>Rape_Cases_Reported</th>\n",
       "      <th>above50</th>\n",
       "      <th>b/w10-14</th>\n",
       "      <th>b/w14-18</th>\n",
       "      <th>b/w18-30</th>\n",
       "      <th>b/w30-50</th>\n",
       "      <th>Total_rape</th>\n",
       "      <th>upto10</th>\n",
       "    </tr>\n",
       "  </thead>\n",
       "  <tbody>\n",
       "    <tr>\n",
       "      <th>0</th>\n",
       "      <td>Andaman &amp; Nicobar Islands</td>\n",
       "      <td>2001</td>\n",
       "      <td>2</td>\n",
       "      <td>3</td>\n",
       "      <td>0</td>\n",
       "      <td>0</td>\n",
       "      <td>3</td>\n",
       "      <td>0</td>\n",
       "      <td>0</td>\n",
       "      <td>3</td>\n",
       "      <td>0</td>\n",
       "    </tr>\n",
       "    <tr>\n",
       "      <th>1</th>\n",
       "      <td>Andaman &amp; Nicobar Islands</td>\n",
       "      <td>2001</td>\n",
       "      <td>1</td>\n",
       "      <td>1</td>\n",
       "      <td>0</td>\n",
       "      <td>0</td>\n",
       "      <td>1</td>\n",
       "      <td>0</td>\n",
       "      <td>0</td>\n",
       "      <td>1</td>\n",
       "      <td>0</td>\n",
       "    </tr>\n",
       "    <tr>\n",
       "      <th>2</th>\n",
       "      <td>Andaman &amp; Nicobar Islands</td>\n",
       "      <td>2001</td>\n",
       "      <td>0</td>\n",
       "      <td>2</td>\n",
       "      <td>0</td>\n",
       "      <td>0</td>\n",
       "      <td>2</td>\n",
       "      <td>0</td>\n",
       "      <td>0</td>\n",
       "      <td>2</td>\n",
       "      <td>0</td>\n",
       "    </tr>\n",
       "    <tr>\n",
       "      <th>3</th>\n",
       "      <td>Andaman &amp; Nicobar Islands</td>\n",
       "      <td>2002</td>\n",
       "      <td>2</td>\n",
       "      <td>2</td>\n",
       "      <td>0</td>\n",
       "      <td>0</td>\n",
       "      <td>1</td>\n",
       "      <td>1</td>\n",
       "      <td>0</td>\n",
       "      <td>2</td>\n",
       "      <td>0</td>\n",
       "    </tr>\n",
       "    <tr>\n",
       "      <th>4</th>\n",
       "      <td>Andaman &amp; Nicobar Islands</td>\n",
       "      <td>2002</td>\n",
       "      <td>1</td>\n",
       "      <td>0</td>\n",
       "      <td>0</td>\n",
       "      <td>0</td>\n",
       "      <td>0</td>\n",
       "      <td>0</td>\n",
       "      <td>0</td>\n",
       "      <td>0</td>\n",
       "      <td>0</td>\n",
       "    </tr>\n",
       "    <tr>\n",
       "      <th>...</th>\n",
       "      <td>...</td>\n",
       "      <td>...</td>\n",
       "      <td>...</td>\n",
       "      <td>...</td>\n",
       "      <td>...</td>\n",
       "      <td>...</td>\n",
       "      <td>...</td>\n",
       "      <td>...</td>\n",
       "      <td>...</td>\n",
       "      <td>...</td>\n",
       "      <td>...</td>\n",
       "    </tr>\n",
       "    <tr>\n",
       "      <th>1045</th>\n",
       "      <td>West Bengal</td>\n",
       "      <td>2009</td>\n",
       "      <td>1</td>\n",
       "      <td>3</td>\n",
       "      <td>0</td>\n",
       "      <td>0</td>\n",
       "      <td>1</td>\n",
       "      <td>1</td>\n",
       "      <td>1</td>\n",
       "      <td>3</td>\n",
       "      <td>0</td>\n",
       "    </tr>\n",
       "    <tr>\n",
       "      <th>1046</th>\n",
       "      <td>West Bengal</td>\n",
       "      <td>2009</td>\n",
       "      <td>0</td>\n",
       "      <td>2333</td>\n",
       "      <td>0</td>\n",
       "      <td>18</td>\n",
       "      <td>84</td>\n",
       "      <td>1834</td>\n",
       "      <td>391</td>\n",
       "      <td>2333</td>\n",
       "      <td>6</td>\n",
       "    </tr>\n",
       "    <tr>\n",
       "      <th>1047</th>\n",
       "      <td>West Bengal</td>\n",
       "      <td>2010</td>\n",
       "      <td>2</td>\n",
       "      <td>2311</td>\n",
       "      <td>0</td>\n",
       "      <td>22</td>\n",
       "      <td>51</td>\n",
       "      <td>1779</td>\n",
       "      <td>459</td>\n",
       "      <td>2311</td>\n",
       "      <td>0</td>\n",
       "    </tr>\n",
       "    <tr>\n",
       "      <th>1048</th>\n",
       "      <td>West Bengal</td>\n",
       "      <td>2010</td>\n",
       "      <td>1</td>\n",
       "      <td>4</td>\n",
       "      <td>0</td>\n",
       "      <td>1</td>\n",
       "      <td>0</td>\n",
       "      <td>2</td>\n",
       "      <td>1</td>\n",
       "      <td>4</td>\n",
       "      <td>0</td>\n",
       "    </tr>\n",
       "    <tr>\n",
       "      <th>1049</th>\n",
       "      <td>West Bengal</td>\n",
       "      <td>2010</td>\n",
       "      <td>0</td>\n",
       "      <td>2307</td>\n",
       "      <td>0</td>\n",
       "      <td>21</td>\n",
       "      <td>51</td>\n",
       "      <td>1777</td>\n",
       "      <td>458</td>\n",
       "      <td>2307</td>\n",
       "      <td>0</td>\n",
       "    </tr>\n",
       "  </tbody>\n",
       "</table>\n",
       "<p>1050 rows × 11 columns</p>\n",
       "</div>"
      ],
      "text/plain": [
       "                      Area_Name  Year  Subgroup  Rape_Cases_Reported  above50  \\\n",
       "0     Andaman & Nicobar Islands  2001         2                    3        0   \n",
       "1     Andaman & Nicobar Islands  2001         1                    1        0   \n",
       "2     Andaman & Nicobar Islands  2001         0                    2        0   \n",
       "3     Andaman & Nicobar Islands  2002         2                    2        0   \n",
       "4     Andaman & Nicobar Islands  2002         1                    0        0   \n",
       "...                         ...   ...       ...                  ...      ...   \n",
       "1045                West Bengal  2009         1                    3        0   \n",
       "1046                West Bengal  2009         0                 2333        0   \n",
       "1047                West Bengal  2010         2                 2311        0   \n",
       "1048                West Bengal  2010         1                    4        0   \n",
       "1049                West Bengal  2010         0                 2307        0   \n",
       "\n",
       "      b/w10-14  b/w14-18  b/w18-30  b/w30-50  Total_rape  upto10  \n",
       "0            0         3         0         0           3       0  \n",
       "1            0         1         0         0           1       0  \n",
       "2            0         2         0         0           2       0  \n",
       "3            0         1         1         0           2       0  \n",
       "4            0         0         0         0           0       0  \n",
       "...        ...       ...       ...       ...         ...     ...  \n",
       "1045         0         1         1         1           3       0  \n",
       "1046        18        84      1834       391        2333       6  \n",
       "1047        22        51      1779       459        2311       0  \n",
       "1048         1         0         2         1           4       0  \n",
       "1049        21        51      1777       458        2307       0  \n",
       "\n",
       "[1050 rows x 11 columns]"
      ]
     },
     "execution_count": 39,
     "metadata": {},
     "output_type": "execute_result"
    }
   ],
   "source": [
    "#convert region attribute of dtype object to integer\n",
    "df[\"Subgroup\"]=df['Subgroup'].map({'Victims of Other Rape':0, 'Victims of Incest Rape':1, 'Total Rape Victims':2,\n",
    "       }).astype(int)\n",
    "df"
   ]
  },
  {
   "cell_type": "markdown",
   "metadata": {},
   "source": [
    "droping colums not related"
   ]
  },
  {
   "cell_type": "code",
   "execution_count": 40,
   "metadata": {},
   "outputs": [],
   "source": [
    "df.drop([\"Area_Name\",\"Year\"], axis=1, inplace=True)\n"
   ]
  },
  {
   "cell_type": "markdown",
   "metadata": {},
   "source": [
    "# REMOVING OUTLIERS\n",
    "\n",
    "Z SCORE METHOD"
   ]
  },
  {
   "cell_type": "code",
   "execution_count": 41,
   "metadata": {},
   "outputs": [
    {
     "data": {
      "text/plain": [
       "(1050, 9)"
      ]
     },
     "execution_count": 41,
     "metadata": {},
     "output_type": "execute_result"
    }
   ],
   "source": [
    "from scipy.stats import zscore\n",
    "z=np.abs(zscore(df))\n",
    "z.shape"
   ]
  },
  {
   "cell_type": "code",
   "execution_count": 42,
   "metadata": {},
   "outputs": [
    {
     "name": "stdout",
     "output_type": "stream",
     "text": [
      "(array([ 108,  110,  111,  111,  113,  113,  117,  119,  141,  143,  180,\n",
      "        182,  192,  194,  195,  197,  204,  204,  206,  206,  207,  209,\n",
      "        285,  288,  290,  291,  293,  486,  488,  570,  570,  570,  570,\n",
      "        570,  570,  570,  572,  572,  572,  572,  572,  572,  572,  573,\n",
      "        573,  573,  573,  573,  573,  575,  575,  575,  575,  575,  576,\n",
      "        576,  576,  576,  576,  576,  578,  578,  578,  578,  578,  579,\n",
      "        579,  579,  579,  579,  579,  581,  581,  581,  581,  581,  581,\n",
      "        582,  582,  582,  582,  582,  582,  582,  582,  584,  584,  584,\n",
      "        584,  584,  584,  584,  584,  585,  585,  585,  585,  585,  587,\n",
      "        587,  587,  587,  587,  588,  588,  588,  588,  588,  588,  588,\n",
      "        590,  590,  590,  590,  590,  590,  590,  591,  591,  591,  591,\n",
      "        591,  591,  591,  591,  593,  593,  593,  593,  593,  593,  593,\n",
      "        594,  594,  594,  594,  594,  594,  594,  596,  596,  596,  596,\n",
      "        596,  596,  596,  597,  597,  597,  597,  597,  597,  599,  599,\n",
      "        599,  599,  599,  599,  600,  600,  602,  602,  606,  606,  608,\n",
      "        608,  609,  609,  611,  611,  612,  612,  614,  614,  615,  615,\n",
      "        617,  617,  618,  620,  621,  621,  623,  623,  624,  626,  627,\n",
      "        627,  629,  629,  852,  854,  867,  869,  960,  962,  981,  983,\n",
      "        984,  986, 1029, 1031, 1032, 1034, 1035, 1037, 1038, 1038, 1040,\n",
      "       1040, 1041, 1041, 1041, 1041, 1043, 1043, 1043, 1043, 1044, 1044,\n",
      "       1044, 1046, 1046, 1046, 1047, 1047, 1047, 1047, 1049, 1049, 1049,\n",
      "       1049], dtype=int64), array([6, 6, 2, 6, 2, 6, 6, 6, 2, 2, 3, 3, 2, 2, 2, 2, 3, 8, 3, 8, 2, 2,\n",
      "       8, 8, 8, 8, 8, 2, 2, 1, 2, 3, 4, 6, 7, 8, 1, 2, 3, 4, 6, 7, 8, 1,\n",
      "       3, 5, 6, 7, 8, 1, 5, 6, 7, 8, 1, 3, 4, 5, 6, 7, 1, 3, 5, 6, 7, 1,\n",
      "       3, 5, 6, 7, 8, 1, 3, 5, 6, 7, 8, 1, 2, 3, 4, 5, 6, 7, 8, 1, 2, 3,\n",
      "       4, 5, 6, 7, 8, 1, 4, 5, 6, 7, 1, 4, 5, 6, 7, 1, 2, 3, 4, 5, 6, 7,\n",
      "       1, 2, 3, 4, 5, 6, 7, 1, 2, 3, 4, 5, 6, 7, 8, 1, 2, 3, 4, 5, 6, 7,\n",
      "       1, 3, 4, 5, 6, 7, 8, 1, 3, 4, 5, 6, 7, 8, 1, 3, 4, 5, 6, 7, 1, 3,\n",
      "       4, 5, 6, 7, 4, 8, 4, 8, 4, 8, 4, 8, 4, 8, 4, 8, 4, 8, 4, 8, 4, 8,\n",
      "       4, 8, 8, 8, 4, 8, 4, 8, 8, 8, 4, 8, 4, 8, 2, 2, 2, 2, 4, 4, 4, 4,\n",
      "       3, 3, 6, 6, 5, 5, 5, 5, 5, 6, 5, 6, 1, 5, 6, 7, 1, 5, 6, 7, 1, 5,\n",
      "       7, 1, 5, 7, 1, 5, 6, 7, 1, 5, 6, 7], dtype=int64))\n"
     ]
    }
   ],
   "source": [
    "threshold=3\n",
    "print(np.where(z>3))"
   ]
  },
  {
   "cell_type": "code",
   "execution_count": 43,
   "metadata": {},
   "outputs": [
    {
     "data": {
      "text/plain": [
       "(963, 9)"
      ]
     },
     "execution_count": 43,
     "metadata": {},
     "output_type": "execute_result"
    }
   ],
   "source": [
    "df_new=df[(z<3).all(axis=1)]\n",
    "df_new.shape"
   ]
  },
  {
   "cell_type": "code",
   "execution_count": 44,
   "metadata": {},
   "outputs": [
    {
     "data": {
      "text/plain": [
       "8.285714285714285"
      ]
     },
     "execution_count": 44,
     "metadata": {},
     "output_type": "execute_result"
    }
   ],
   "source": [
    "loss_percentage=(1050-963)/1050*100\n",
    "loss_percentage"
   ]
  },
  {
   "cell_type": "markdown",
   "metadata": {},
   "source": [
    "there is a huge percentage loss in removing outliers which may affect the prediction value."
   ]
  },
  {
   "cell_type": "markdown",
   "metadata": {},
   "source": [
    "finally all the EDA is done and the data set is ready for model training"
   ]
  },
  {
   "cell_type": "code",
   "execution_count": null,
   "metadata": {},
   "outputs": [],
   "source": []
  },
  {
   "cell_type": "code",
   "execution_count": null,
   "metadata": {},
   "outputs": [],
   "source": []
  }
 ],
 "metadata": {
  "kernelspec": {
   "display_name": "Python 3",
   "language": "python",
   "name": "python3"
  },
  "language_info": {
   "codemirror_mode": {
    "name": "ipython",
    "version": 3
   },
   "file_extension": ".py",
   "mimetype": "text/x-python",
   "name": "python",
   "nbconvert_exporter": "python",
   "pygments_lexer": "ipython3",
   "version": "3.8.3"
  }
 },
 "nbformat": 4,
 "nbformat_minor": 4
}
