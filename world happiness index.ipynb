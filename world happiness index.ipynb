{
 "cells": [
  {
   "cell_type": "markdown",
   "metadata": {},
   "source": [
    "# PROGRAM TO PREDICT THE HAPPINESS SCORE USING WORLD HAPPINESS REPORT DATASET"
   ]
  },
  {
   "cell_type": "markdown",
   "metadata": {},
   "source": [
    "# ABOUT WORLD HAPPINESS REPORT :"
   ]
  },
  {
   "cell_type": "markdown",
   "metadata": {},
   "source": [
    "\n",
    "        The World Happiness Report is a landmark survey of the state of global happiness. The first report was published in 2012, the second in 2013, the third in 2015, and the fourth in the 2016 Update. The World Happiness 2017, which ranks 155 countries by their happiness levels, was released at the United Nations at an event celebrating International Day of Happiness on March 20th. The report continues to gain global recognition as governments, organizations and civil society increasingly use happiness indicators to inform their policy-making decisions. Leading experts across fields – economics, psychology, survey analysis, national statistics, health, public policy and more – describe how measurements of well-being can be used effectively to assess the progress of nations. The reports review the state of happiness in the world today and show how the new science of happiness explains personal and national variations in happiness.\n",
    "        \n",
    "       \n",
    "        The following columns: GDP per Capita, Family, Life Expectancy, Freedom, Generosity, Trust Government Corruption describe the extent to which these factors contribute in evaluating the happiness in each country.\n",
    "        \n",
    "        \n",
    "        The Dystopia Residual metric actually is the Dystopia Happiness Score(1.85) + the Residual value or the unexplained value for each country as stated in the previous answer.\n",
    "        \n",
    "        \n",
    "         If We add all these factors up, you get the happiness score so it might be un-reliable to model them to predict Happiness Scores."
   ]
  },
  {
   "cell_type": "code",
   "execution_count": 1,
   "metadata": {},
   "outputs": [],
   "source": [
    "#importing libraries\n",
    "import pandas as pd\n",
    "import numpy as np\n",
    "import matplotlib.pyplot as plt\n",
    "import seaborn as sns\n",
    "import warnings\n",
    "warnings.filterwarnings(\"ignore\")"
   ]
  },
  {
   "cell_type": "code",
   "execution_count": 2,
   "metadata": {},
   "outputs": [
    {
     "data": {
      "text/html": [
       "<div>\n",
       "<style scoped>\n",
       "    .dataframe tbody tr th:only-of-type {\n",
       "        vertical-align: middle;\n",
       "    }\n",
       "\n",
       "    .dataframe tbody tr th {\n",
       "        vertical-align: top;\n",
       "    }\n",
       "\n",
       "    .dataframe thead th {\n",
       "        text-align: right;\n",
       "    }\n",
       "</style>\n",
       "<table border=\"1\" class=\"dataframe\">\n",
       "  <thead>\n",
       "    <tr style=\"text-align: right;\">\n",
       "      <th></th>\n",
       "      <th>Country</th>\n",
       "      <th>Region</th>\n",
       "      <th>Happiness Rank</th>\n",
       "      <th>Happiness Score</th>\n",
       "      <th>Standard Error</th>\n",
       "      <th>Economy (GDP per Capita)</th>\n",
       "      <th>Family</th>\n",
       "      <th>Health (Life Expectancy)</th>\n",
       "      <th>Freedom</th>\n",
       "      <th>Trust (Government Corruption)</th>\n",
       "      <th>Generosity</th>\n",
       "      <th>Dystopia Residual</th>\n",
       "    </tr>\n",
       "  </thead>\n",
       "  <tbody>\n",
       "    <tr>\n",
       "      <th>0</th>\n",
       "      <td>Switzerland</td>\n",
       "      <td>Western Europe</td>\n",
       "      <td>1</td>\n",
       "      <td>7.587</td>\n",
       "      <td>0.03411</td>\n",
       "      <td>1.39651</td>\n",
       "      <td>1.34951</td>\n",
       "      <td>0.94143</td>\n",
       "      <td>0.66557</td>\n",
       "      <td>0.41978</td>\n",
       "      <td>0.29678</td>\n",
       "      <td>2.51738</td>\n",
       "    </tr>\n",
       "    <tr>\n",
       "      <th>1</th>\n",
       "      <td>Iceland</td>\n",
       "      <td>Western Europe</td>\n",
       "      <td>2</td>\n",
       "      <td>7.561</td>\n",
       "      <td>0.04884</td>\n",
       "      <td>1.30232</td>\n",
       "      <td>1.40223</td>\n",
       "      <td>0.94784</td>\n",
       "      <td>0.62877</td>\n",
       "      <td>0.14145</td>\n",
       "      <td>0.43630</td>\n",
       "      <td>2.70201</td>\n",
       "    </tr>\n",
       "    <tr>\n",
       "      <th>2</th>\n",
       "      <td>Denmark</td>\n",
       "      <td>Western Europe</td>\n",
       "      <td>3</td>\n",
       "      <td>7.527</td>\n",
       "      <td>0.03328</td>\n",
       "      <td>1.32548</td>\n",
       "      <td>1.36058</td>\n",
       "      <td>0.87464</td>\n",
       "      <td>0.64938</td>\n",
       "      <td>0.48357</td>\n",
       "      <td>0.34139</td>\n",
       "      <td>2.49204</td>\n",
       "    </tr>\n",
       "    <tr>\n",
       "      <th>3</th>\n",
       "      <td>Norway</td>\n",
       "      <td>Western Europe</td>\n",
       "      <td>4</td>\n",
       "      <td>7.522</td>\n",
       "      <td>0.03880</td>\n",
       "      <td>1.45900</td>\n",
       "      <td>1.33095</td>\n",
       "      <td>0.88521</td>\n",
       "      <td>0.66973</td>\n",
       "      <td>0.36503</td>\n",
       "      <td>0.34699</td>\n",
       "      <td>2.46531</td>\n",
       "    </tr>\n",
       "    <tr>\n",
       "      <th>4</th>\n",
       "      <td>Canada</td>\n",
       "      <td>North America</td>\n",
       "      <td>5</td>\n",
       "      <td>7.427</td>\n",
       "      <td>0.03553</td>\n",
       "      <td>1.32629</td>\n",
       "      <td>1.32261</td>\n",
       "      <td>0.90563</td>\n",
       "      <td>0.63297</td>\n",
       "      <td>0.32957</td>\n",
       "      <td>0.45811</td>\n",
       "      <td>2.45176</td>\n",
       "    </tr>\n",
       "    <tr>\n",
       "      <th>...</th>\n",
       "      <td>...</td>\n",
       "      <td>...</td>\n",
       "      <td>...</td>\n",
       "      <td>...</td>\n",
       "      <td>...</td>\n",
       "      <td>...</td>\n",
       "      <td>...</td>\n",
       "      <td>...</td>\n",
       "      <td>...</td>\n",
       "      <td>...</td>\n",
       "      <td>...</td>\n",
       "      <td>...</td>\n",
       "    </tr>\n",
       "    <tr>\n",
       "      <th>153</th>\n",
       "      <td>Rwanda</td>\n",
       "      <td>Sub-Saharan Africa</td>\n",
       "      <td>154</td>\n",
       "      <td>3.465</td>\n",
       "      <td>0.03464</td>\n",
       "      <td>0.22208</td>\n",
       "      <td>0.77370</td>\n",
       "      <td>0.42864</td>\n",
       "      <td>0.59201</td>\n",
       "      <td>0.55191</td>\n",
       "      <td>0.22628</td>\n",
       "      <td>0.67042</td>\n",
       "    </tr>\n",
       "    <tr>\n",
       "      <th>154</th>\n",
       "      <td>Benin</td>\n",
       "      <td>Sub-Saharan Africa</td>\n",
       "      <td>155</td>\n",
       "      <td>3.340</td>\n",
       "      <td>0.03656</td>\n",
       "      <td>0.28665</td>\n",
       "      <td>0.35386</td>\n",
       "      <td>0.31910</td>\n",
       "      <td>0.48450</td>\n",
       "      <td>0.08010</td>\n",
       "      <td>0.18260</td>\n",
       "      <td>1.63328</td>\n",
       "    </tr>\n",
       "    <tr>\n",
       "      <th>155</th>\n",
       "      <td>Syria</td>\n",
       "      <td>Middle East and Northern Africa</td>\n",
       "      <td>156</td>\n",
       "      <td>3.006</td>\n",
       "      <td>0.05015</td>\n",
       "      <td>0.66320</td>\n",
       "      <td>0.47489</td>\n",
       "      <td>0.72193</td>\n",
       "      <td>0.15684</td>\n",
       "      <td>0.18906</td>\n",
       "      <td>0.47179</td>\n",
       "      <td>0.32858</td>\n",
       "    </tr>\n",
       "    <tr>\n",
       "      <th>156</th>\n",
       "      <td>Burundi</td>\n",
       "      <td>Sub-Saharan Africa</td>\n",
       "      <td>157</td>\n",
       "      <td>2.905</td>\n",
       "      <td>0.08658</td>\n",
       "      <td>0.01530</td>\n",
       "      <td>0.41587</td>\n",
       "      <td>0.22396</td>\n",
       "      <td>0.11850</td>\n",
       "      <td>0.10062</td>\n",
       "      <td>0.19727</td>\n",
       "      <td>1.83302</td>\n",
       "    </tr>\n",
       "    <tr>\n",
       "      <th>157</th>\n",
       "      <td>Togo</td>\n",
       "      <td>Sub-Saharan Africa</td>\n",
       "      <td>158</td>\n",
       "      <td>2.839</td>\n",
       "      <td>0.06727</td>\n",
       "      <td>0.20868</td>\n",
       "      <td>0.13995</td>\n",
       "      <td>0.28443</td>\n",
       "      <td>0.36453</td>\n",
       "      <td>0.10731</td>\n",
       "      <td>0.16681</td>\n",
       "      <td>1.56726</td>\n",
       "    </tr>\n",
       "  </tbody>\n",
       "</table>\n",
       "<p>158 rows × 12 columns</p>\n",
       "</div>"
      ],
      "text/plain": [
       "         Country                           Region  Happiness Rank  \\\n",
       "0    Switzerland                   Western Europe               1   \n",
       "1        Iceland                   Western Europe               2   \n",
       "2        Denmark                   Western Europe               3   \n",
       "3         Norway                   Western Europe               4   \n",
       "4         Canada                    North America               5   \n",
       "..           ...                              ...             ...   \n",
       "153       Rwanda               Sub-Saharan Africa             154   \n",
       "154        Benin               Sub-Saharan Africa             155   \n",
       "155        Syria  Middle East and Northern Africa             156   \n",
       "156      Burundi               Sub-Saharan Africa             157   \n",
       "157         Togo               Sub-Saharan Africa             158   \n",
       "\n",
       "     Happiness Score  Standard Error  Economy (GDP per Capita)   Family  \\\n",
       "0              7.587         0.03411                   1.39651  1.34951   \n",
       "1              7.561         0.04884                   1.30232  1.40223   \n",
       "2              7.527         0.03328                   1.32548  1.36058   \n",
       "3              7.522         0.03880                   1.45900  1.33095   \n",
       "4              7.427         0.03553                   1.32629  1.32261   \n",
       "..               ...             ...                       ...      ...   \n",
       "153            3.465         0.03464                   0.22208  0.77370   \n",
       "154            3.340         0.03656                   0.28665  0.35386   \n",
       "155            3.006         0.05015                   0.66320  0.47489   \n",
       "156            2.905         0.08658                   0.01530  0.41587   \n",
       "157            2.839         0.06727                   0.20868  0.13995   \n",
       "\n",
       "     Health (Life Expectancy)  Freedom  Trust (Government Corruption)  \\\n",
       "0                     0.94143  0.66557                        0.41978   \n",
       "1                     0.94784  0.62877                        0.14145   \n",
       "2                     0.87464  0.64938                        0.48357   \n",
       "3                     0.88521  0.66973                        0.36503   \n",
       "4                     0.90563  0.63297                        0.32957   \n",
       "..                        ...      ...                            ...   \n",
       "153                   0.42864  0.59201                        0.55191   \n",
       "154                   0.31910  0.48450                        0.08010   \n",
       "155                   0.72193  0.15684                        0.18906   \n",
       "156                   0.22396  0.11850                        0.10062   \n",
       "157                   0.28443  0.36453                        0.10731   \n",
       "\n",
       "     Generosity  Dystopia Residual  \n",
       "0       0.29678            2.51738  \n",
       "1       0.43630            2.70201  \n",
       "2       0.34139            2.49204  \n",
       "3       0.34699            2.46531  \n",
       "4       0.45811            2.45176  \n",
       "..          ...                ...  \n",
       "153     0.22628            0.67042  \n",
       "154     0.18260            1.63328  \n",
       "155     0.47179            0.32858  \n",
       "156     0.19727            1.83302  \n",
       "157     0.16681            1.56726  \n",
       "\n",
       "[158 rows x 12 columns]"
      ]
     },
     "execution_count": 2,
     "metadata": {},
     "output_type": "execute_result"
    }
   ],
   "source": [
    "#loading the dataframe\n",
    "df=pd.read_csv(\"world happiness report.csv\")\n",
    "df"
   ]
  },
  {
   "cell_type": "markdown",
   "metadata": {},
   "source": [
    "Obesrvation about columns : "
   ]
  },
  {
   "cell_type": "markdown",
   "metadata": {},
   "source": [
    "country and region - it shows what are the country and its region which were survived for the world happiness index\n",
    "\n",
    "Happiness rank - it show the rank in which the country pocesses with smaller the number , higher the happiness score\n",
    "\n",
    "Happiness score - it shows how much the country scored based on the collected parameters\n",
    "\n",
    "Economy - it show the countries GDP per capita income\n",
    "\n",
    "Health - this column gives the details of the rate of life expectancy in that country\n",
    "\n",
    "freedom - tells about the freedom the people of the country have.higher the value higher the happiness of the people\n",
    "\n",
    "Trust - shows the countries correctin values\n",
    "\n",
    "Dystopia Residual-The Dystopia Residual metric actually is the Dystopia Happiness Score(1.85) + the Residual value or the unexplained value for each country \n",
    "\n",
    "\n",
    "\n",
    "\n",
    "\n"
   ]
  },
  {
   "cell_type": "markdown",
   "metadata": {},
   "source": [
    "# Getting basic statistics from the dataset"
   ]
  },
  {
   "cell_type": "code",
   "execution_count": 3,
   "metadata": {},
   "outputs": [
    {
     "name": "stdout",
     "output_type": "stream",
     "text": [
      "<class 'pandas.core.frame.DataFrame'>\n",
      "RangeIndex: 158 entries, 0 to 157\n",
      "Data columns (total 12 columns):\n",
      " #   Column                         Non-Null Count  Dtype  \n",
      "---  ------                         --------------  -----  \n",
      " 0   Country                        158 non-null    object \n",
      " 1   Region                         158 non-null    object \n",
      " 2   Happiness Rank                 158 non-null    int64  \n",
      " 3   Happiness Score                158 non-null    float64\n",
      " 4   Standard Error                 158 non-null    float64\n",
      " 5   Economy (GDP per Capita)       158 non-null    float64\n",
      " 6   Family                         158 non-null    float64\n",
      " 7   Health (Life Expectancy)       158 non-null    float64\n",
      " 8   Freedom                        158 non-null    float64\n",
      " 9   Trust (Government Corruption)  158 non-null    float64\n",
      " 10  Generosity                     158 non-null    float64\n",
      " 11  Dystopia Residual              158 non-null    float64\n",
      "dtypes: float64(9), int64(1), object(2)\n",
      "memory usage: 14.9+ KB\n"
     ]
    }
   ],
   "source": [
    "#basic info abut the attributes\n",
    "df.info()"
   ]
  },
  {
   "cell_type": "code",
   "execution_count": 4,
   "metadata": {},
   "outputs": [
    {
     "data": {
      "text/plain": [
       "(158, 12)"
      ]
     },
     "execution_count": 4,
     "metadata": {},
     "output_type": "execute_result"
    }
   ],
   "source": [
    "#counting number of rows and columns\n",
    "df.shape"
   ]
  },
  {
   "cell_type": "code",
   "execution_count": 5,
   "metadata": {},
   "outputs": [
    {
     "data": {
      "text/plain": [
       "Country                           object\n",
       "Region                            object\n",
       "Happiness Rank                     int64\n",
       "Happiness Score                  float64\n",
       "Standard Error                   float64\n",
       "Economy (GDP per Capita)         float64\n",
       "Family                           float64\n",
       "Health (Life Expectancy)         float64\n",
       "Freedom                          float64\n",
       "Trust (Government Corruption)    float64\n",
       "Generosity                       float64\n",
       "Dystopia Residual                float64\n",
       "dtype: object"
      ]
     },
     "execution_count": 5,
     "metadata": {},
     "output_type": "execute_result"
    }
   ],
   "source": [
    "#datatypes of the attributes\n",
    "df.dtypes"
   ]
  },
  {
   "cell_type": "code",
   "execution_count": 6,
   "metadata": {},
   "outputs": [
    {
     "data": {
      "text/plain": [
       "Index(['Country', 'Region', 'Happiness Rank', 'Happiness Score',\n",
       "       'Standard Error', 'Economy (GDP per Capita)', 'Family',\n",
       "       'Health (Life Expectancy)', 'Freedom', 'Trust (Government Corruption)',\n",
       "       'Generosity', 'Dystopia Residual'],\n",
       "      dtype='object')"
      ]
     },
     "execution_count": 6,
     "metadata": {},
     "output_type": "execute_result"
    }
   ],
   "source": [
    "#columns names\n",
    "df.columns"
   ]
  },
  {
   "cell_type": "markdown",
   "metadata": {},
   "source": [
    "# EXPLORING OBJECT DATATYPE ATTRIBUTES"
   ]
  },
  {
   "cell_type": "markdown",
   "metadata": {},
   "source": [
    "Even if country and region columns is of type object but it can also correlate with the target very well."
   ]
  },
  {
   "cell_type": "code",
   "execution_count": 7,
   "metadata": {},
   "outputs": [
    {
     "data": {
      "text/plain": [
       "array(['Switzerland', 'Iceland', 'Denmark', 'Norway', 'Canada', 'Finland',\n",
       "       'Netherlands', 'Sweden', 'New Zealand', 'Australia', 'Israel',\n",
       "       'Costa Rica', 'Austria', 'Mexico', 'United States', 'Brazil',\n",
       "       'Luxembourg', 'Ireland', 'Belgium', 'United Arab Emirates',\n",
       "       'United Kingdom', 'Oman', 'Venezuela', 'Singapore', 'Panama',\n",
       "       'Germany', 'Chile', 'Qatar', 'France', 'Argentina',\n",
       "       'Czech Republic', 'Uruguay', 'Colombia', 'Thailand',\n",
       "       'Saudi Arabia', 'Spain', 'Malta', 'Taiwan', 'Kuwait', 'Suriname',\n",
       "       'Trinidad and Tobago', 'El Salvador', 'Guatemala', 'Uzbekistan',\n",
       "       'Slovakia', 'Japan', 'South Korea', 'Ecuador', 'Bahrain', 'Italy',\n",
       "       'Bolivia', 'Moldova', 'Paraguay', 'Kazakhstan', 'Slovenia',\n",
       "       'Lithuania', 'Nicaragua', 'Peru', 'Belarus', 'Poland', 'Malaysia',\n",
       "       'Croatia', 'Libya', 'Russia', 'Jamaica', 'North Cyprus', 'Cyprus',\n",
       "       'Algeria', 'Kosovo', 'Turkmenistan', 'Mauritius', 'Hong Kong',\n",
       "       'Estonia', 'Indonesia', 'Vietnam', 'Turkey', 'Kyrgyzstan',\n",
       "       'Nigeria', 'Bhutan', 'Azerbaijan', 'Pakistan', 'Jordan',\n",
       "       'Montenegro', 'China', 'Zambia', 'Romania', 'Serbia', 'Portugal',\n",
       "       'Latvia', 'Philippines', 'Somaliland region', 'Morocco',\n",
       "       'Macedonia', 'Mozambique', 'Albania', 'Bosnia and Herzegovina',\n",
       "       'Lesotho', 'Dominican Republic', 'Laos', 'Mongolia', 'Swaziland',\n",
       "       'Greece', 'Lebanon', 'Hungary', 'Honduras', 'Tajikistan',\n",
       "       'Tunisia', 'Palestinian Territories', 'Bangladesh', 'Iran',\n",
       "       'Ukraine', 'Iraq', 'South Africa', 'Ghana', 'Zimbabwe', 'Liberia',\n",
       "       'India', 'Sudan', 'Haiti', 'Congo (Kinshasa)', 'Nepal', 'Ethiopia',\n",
       "       'Sierra Leone', 'Mauritania', 'Kenya', 'Djibouti', 'Armenia',\n",
       "       'Botswana', 'Myanmar', 'Georgia', 'Malawi', 'Sri Lanka',\n",
       "       'Cameroon', 'Bulgaria', 'Egypt', 'Yemen', 'Angola', 'Mali',\n",
       "       'Congo (Brazzaville)', 'Comoros', 'Uganda', 'Senegal', 'Gabon',\n",
       "       'Niger', 'Cambodia', 'Tanzania', 'Madagascar',\n",
       "       'Central African Republic', 'Chad', 'Guinea', 'Ivory Coast',\n",
       "       'Burkina Faso', 'Afghanistan', 'Rwanda', 'Benin', 'Syria',\n",
       "       'Burundi', 'Togo'], dtype=object)"
      ]
     },
     "execution_count": 7,
     "metadata": {},
     "output_type": "execute_result"
    }
   ],
   "source": [
    "df[\"Country\"].unique()"
   ]
  },
  {
   "cell_type": "code",
   "execution_count": 8,
   "metadata": {},
   "outputs": [
    {
     "data": {
      "text/plain": [
       "Kazakhstan             1\n",
       "Guatemala              1\n",
       "Sudan                  1\n",
       "Lithuania              1\n",
       "Argentina              1\n",
       "                      ..\n",
       "Latvia                 1\n",
       "United States          1\n",
       "Guinea                 1\n",
       "Trinidad and Tobago    1\n",
       "Djibouti               1\n",
       "Name: Country, Length: 158, dtype: int64"
      ]
     },
     "execution_count": 8,
     "metadata": {},
     "output_type": "execute_result"
    }
   ],
   "source": [
    "df.Country.value_counts()"
   ]
  },
  {
   "cell_type": "code",
   "execution_count": 9,
   "metadata": {},
   "outputs": [
    {
     "data": {
      "text/plain": [
       "array(['Western Europe', 'North America', 'Australia and New Zealand',\n",
       "       'Middle East and Northern Africa', 'Latin America and Caribbean',\n",
       "       'Southeastern Asia', 'Central and Eastern Europe', 'Eastern Asia',\n",
       "       'Sub-Saharan Africa', 'Southern Asia'], dtype=object)"
      ]
     },
     "execution_count": 9,
     "metadata": {},
     "output_type": "execute_result"
    }
   ],
   "source": [
    "df[\"Region\"].unique()"
   ]
  },
  {
   "cell_type": "code",
   "execution_count": 10,
   "metadata": {},
   "outputs": [
    {
     "data": {
      "text/plain": [
       "Sub-Saharan Africa                 40\n",
       "Central and Eastern Europe         29\n",
       "Latin America and Caribbean        22\n",
       "Western Europe                     21\n",
       "Middle East and Northern Africa    20\n",
       "Southeastern Asia                   9\n",
       "Southern Asia                       7\n",
       "Eastern Asia                        6\n",
       "Australia and New Zealand           2\n",
       "North America                       2\n",
       "Name: Region, dtype: int64"
      ]
     },
     "execution_count": 10,
     "metadata": {},
     "output_type": "execute_result"
    }
   ],
   "source": [
    "df.Region.value_counts()"
   ]
  },
  {
   "cell_type": "code",
   "execution_count": 11,
   "metadata": {},
   "outputs": [
    {
     "data": {
      "text/plain": [
       "10"
      ]
     },
     "execution_count": 11,
     "metadata": {},
     "output_type": "execute_result"
    }
   ],
   "source": [
    "len(df.Region.value_counts())"
   ]
  },
  {
   "cell_type": "markdown",
   "metadata": {},
   "source": [
    "From the above observation we find country is more in number and region is less. so we convert column region  of object  datatype to numeric"
   ]
  },
  {
   "cell_type": "code",
   "execution_count": 12,
   "metadata": {},
   "outputs": [
    {
     "data": {
      "text/html": [
       "<div>\n",
       "<style scoped>\n",
       "    .dataframe tbody tr th:only-of-type {\n",
       "        vertical-align: middle;\n",
       "    }\n",
       "\n",
       "    .dataframe tbody tr th {\n",
       "        vertical-align: top;\n",
       "    }\n",
       "\n",
       "    .dataframe thead th {\n",
       "        text-align: right;\n",
       "    }\n",
       "</style>\n",
       "<table border=\"1\" class=\"dataframe\">\n",
       "  <thead>\n",
       "    <tr style=\"text-align: right;\">\n",
       "      <th></th>\n",
       "      <th>Country</th>\n",
       "      <th>Region</th>\n",
       "      <th>Happiness Rank</th>\n",
       "      <th>Happiness Score</th>\n",
       "      <th>Standard Error</th>\n",
       "      <th>Economy (GDP per Capita)</th>\n",
       "      <th>Family</th>\n",
       "      <th>Health (Life Expectancy)</th>\n",
       "      <th>Freedom</th>\n",
       "      <th>Trust (Government Corruption)</th>\n",
       "      <th>Generosity</th>\n",
       "      <th>Dystopia Residual</th>\n",
       "    </tr>\n",
       "  </thead>\n",
       "  <tbody>\n",
       "    <tr>\n",
       "      <th>0</th>\n",
       "      <td>Switzerland</td>\n",
       "      <td>0</td>\n",
       "      <td>1</td>\n",
       "      <td>7.587</td>\n",
       "      <td>0.03411</td>\n",
       "      <td>1.39651</td>\n",
       "      <td>1.34951</td>\n",
       "      <td>0.94143</td>\n",
       "      <td>0.66557</td>\n",
       "      <td>0.41978</td>\n",
       "      <td>0.29678</td>\n",
       "      <td>2.51738</td>\n",
       "    </tr>\n",
       "    <tr>\n",
       "      <th>1</th>\n",
       "      <td>Iceland</td>\n",
       "      <td>0</td>\n",
       "      <td>2</td>\n",
       "      <td>7.561</td>\n",
       "      <td>0.04884</td>\n",
       "      <td>1.30232</td>\n",
       "      <td>1.40223</td>\n",
       "      <td>0.94784</td>\n",
       "      <td>0.62877</td>\n",
       "      <td>0.14145</td>\n",
       "      <td>0.43630</td>\n",
       "      <td>2.70201</td>\n",
       "    </tr>\n",
       "    <tr>\n",
       "      <th>2</th>\n",
       "      <td>Denmark</td>\n",
       "      <td>0</td>\n",
       "      <td>3</td>\n",
       "      <td>7.527</td>\n",
       "      <td>0.03328</td>\n",
       "      <td>1.32548</td>\n",
       "      <td>1.36058</td>\n",
       "      <td>0.87464</td>\n",
       "      <td>0.64938</td>\n",
       "      <td>0.48357</td>\n",
       "      <td>0.34139</td>\n",
       "      <td>2.49204</td>\n",
       "    </tr>\n",
       "    <tr>\n",
       "      <th>3</th>\n",
       "      <td>Norway</td>\n",
       "      <td>0</td>\n",
       "      <td>4</td>\n",
       "      <td>7.522</td>\n",
       "      <td>0.03880</td>\n",
       "      <td>1.45900</td>\n",
       "      <td>1.33095</td>\n",
       "      <td>0.88521</td>\n",
       "      <td>0.66973</td>\n",
       "      <td>0.36503</td>\n",
       "      <td>0.34699</td>\n",
       "      <td>2.46531</td>\n",
       "    </tr>\n",
       "    <tr>\n",
       "      <th>4</th>\n",
       "      <td>Canada</td>\n",
       "      <td>1</td>\n",
       "      <td>5</td>\n",
       "      <td>7.427</td>\n",
       "      <td>0.03553</td>\n",
       "      <td>1.32629</td>\n",
       "      <td>1.32261</td>\n",
       "      <td>0.90563</td>\n",
       "      <td>0.63297</td>\n",
       "      <td>0.32957</td>\n",
       "      <td>0.45811</td>\n",
       "      <td>2.45176</td>\n",
       "    </tr>\n",
       "    <tr>\n",
       "      <th>...</th>\n",
       "      <td>...</td>\n",
       "      <td>...</td>\n",
       "      <td>...</td>\n",
       "      <td>...</td>\n",
       "      <td>...</td>\n",
       "      <td>...</td>\n",
       "      <td>...</td>\n",
       "      <td>...</td>\n",
       "      <td>...</td>\n",
       "      <td>...</td>\n",
       "      <td>...</td>\n",
       "      <td>...</td>\n",
       "    </tr>\n",
       "    <tr>\n",
       "      <th>153</th>\n",
       "      <td>Rwanda</td>\n",
       "      <td>8</td>\n",
       "      <td>154</td>\n",
       "      <td>3.465</td>\n",
       "      <td>0.03464</td>\n",
       "      <td>0.22208</td>\n",
       "      <td>0.77370</td>\n",
       "      <td>0.42864</td>\n",
       "      <td>0.59201</td>\n",
       "      <td>0.55191</td>\n",
       "      <td>0.22628</td>\n",
       "      <td>0.67042</td>\n",
       "    </tr>\n",
       "    <tr>\n",
       "      <th>154</th>\n",
       "      <td>Benin</td>\n",
       "      <td>8</td>\n",
       "      <td>155</td>\n",
       "      <td>3.340</td>\n",
       "      <td>0.03656</td>\n",
       "      <td>0.28665</td>\n",
       "      <td>0.35386</td>\n",
       "      <td>0.31910</td>\n",
       "      <td>0.48450</td>\n",
       "      <td>0.08010</td>\n",
       "      <td>0.18260</td>\n",
       "      <td>1.63328</td>\n",
       "    </tr>\n",
       "    <tr>\n",
       "      <th>155</th>\n",
       "      <td>Syria</td>\n",
       "      <td>3</td>\n",
       "      <td>156</td>\n",
       "      <td>3.006</td>\n",
       "      <td>0.05015</td>\n",
       "      <td>0.66320</td>\n",
       "      <td>0.47489</td>\n",
       "      <td>0.72193</td>\n",
       "      <td>0.15684</td>\n",
       "      <td>0.18906</td>\n",
       "      <td>0.47179</td>\n",
       "      <td>0.32858</td>\n",
       "    </tr>\n",
       "    <tr>\n",
       "      <th>156</th>\n",
       "      <td>Burundi</td>\n",
       "      <td>8</td>\n",
       "      <td>157</td>\n",
       "      <td>2.905</td>\n",
       "      <td>0.08658</td>\n",
       "      <td>0.01530</td>\n",
       "      <td>0.41587</td>\n",
       "      <td>0.22396</td>\n",
       "      <td>0.11850</td>\n",
       "      <td>0.10062</td>\n",
       "      <td>0.19727</td>\n",
       "      <td>1.83302</td>\n",
       "    </tr>\n",
       "    <tr>\n",
       "      <th>157</th>\n",
       "      <td>Togo</td>\n",
       "      <td>8</td>\n",
       "      <td>158</td>\n",
       "      <td>2.839</td>\n",
       "      <td>0.06727</td>\n",
       "      <td>0.20868</td>\n",
       "      <td>0.13995</td>\n",
       "      <td>0.28443</td>\n",
       "      <td>0.36453</td>\n",
       "      <td>0.10731</td>\n",
       "      <td>0.16681</td>\n",
       "      <td>1.56726</td>\n",
       "    </tr>\n",
       "  </tbody>\n",
       "</table>\n",
       "<p>158 rows × 12 columns</p>\n",
       "</div>"
      ],
      "text/plain": [
       "         Country  Region  Happiness Rank  Happiness Score  Standard Error  \\\n",
       "0    Switzerland       0               1            7.587         0.03411   \n",
       "1        Iceland       0               2            7.561         0.04884   \n",
       "2        Denmark       0               3            7.527         0.03328   \n",
       "3         Norway       0               4            7.522         0.03880   \n",
       "4         Canada       1               5            7.427         0.03553   \n",
       "..           ...     ...             ...              ...             ...   \n",
       "153       Rwanda       8             154            3.465         0.03464   \n",
       "154        Benin       8             155            3.340         0.03656   \n",
       "155        Syria       3             156            3.006         0.05015   \n",
       "156      Burundi       8             157            2.905         0.08658   \n",
       "157         Togo       8             158            2.839         0.06727   \n",
       "\n",
       "     Economy (GDP per Capita)   Family  Health (Life Expectancy)  Freedom  \\\n",
       "0                     1.39651  1.34951                   0.94143  0.66557   \n",
       "1                     1.30232  1.40223                   0.94784  0.62877   \n",
       "2                     1.32548  1.36058                   0.87464  0.64938   \n",
       "3                     1.45900  1.33095                   0.88521  0.66973   \n",
       "4                     1.32629  1.32261                   0.90563  0.63297   \n",
       "..                        ...      ...                       ...      ...   \n",
       "153                   0.22208  0.77370                   0.42864  0.59201   \n",
       "154                   0.28665  0.35386                   0.31910  0.48450   \n",
       "155                   0.66320  0.47489                   0.72193  0.15684   \n",
       "156                   0.01530  0.41587                   0.22396  0.11850   \n",
       "157                   0.20868  0.13995                   0.28443  0.36453   \n",
       "\n",
       "     Trust (Government Corruption)  Generosity  Dystopia Residual  \n",
       "0                          0.41978     0.29678            2.51738  \n",
       "1                          0.14145     0.43630            2.70201  \n",
       "2                          0.48357     0.34139            2.49204  \n",
       "3                          0.36503     0.34699            2.46531  \n",
       "4                          0.32957     0.45811            2.45176  \n",
       "..                             ...         ...                ...  \n",
       "153                        0.55191     0.22628            0.67042  \n",
       "154                        0.08010     0.18260            1.63328  \n",
       "155                        0.18906     0.47179            0.32858  \n",
       "156                        0.10062     0.19727            1.83302  \n",
       "157                        0.10731     0.16681            1.56726  \n",
       "\n",
       "[158 rows x 12 columns]"
      ]
     },
     "execution_count": 12,
     "metadata": {},
     "output_type": "execute_result"
    }
   ],
   "source": [
    "#convert region attribute of dtype object to integer\n",
    "df[\"Region\"]=df['Region'].map({'Western Europe':0, 'North America':1, 'Australia and New Zealand':2,\n",
    "       'Middle East and Northern Africa':3, 'Latin America and Caribbean':4,\n",
    "       'Southeastern Asia':5, 'Central and Eastern Europe':6, 'Eastern Asia':7,\n",
    "       'Sub-Saharan Africa':8, 'Southern Asia':9}).astype(int)\n",
    "df"
   ]
  },
  {
   "cell_type": "code",
   "execution_count": 13,
   "metadata": {},
   "outputs": [
    {
     "data": {
      "text/html": [
       "<div>\n",
       "<style scoped>\n",
       "    .dataframe tbody tr th:only-of-type {\n",
       "        vertical-align: middle;\n",
       "    }\n",
       "\n",
       "    .dataframe tbody tr th {\n",
       "        vertical-align: top;\n",
       "    }\n",
       "\n",
       "    .dataframe thead th {\n",
       "        text-align: right;\n",
       "    }\n",
       "</style>\n",
       "<table border=\"1\" class=\"dataframe\">\n",
       "  <thead>\n",
       "    <tr style=\"text-align: right;\">\n",
       "      <th></th>\n",
       "      <th>Region</th>\n",
       "      <th>Happiness Rank</th>\n",
       "      <th>Happiness Score</th>\n",
       "      <th>Standard Error</th>\n",
       "      <th>Economy (GDP per Capita)</th>\n",
       "      <th>Family</th>\n",
       "      <th>Health (Life Expectancy)</th>\n",
       "      <th>Freedom</th>\n",
       "      <th>Trust (Government Corruption)</th>\n",
       "      <th>Generosity</th>\n",
       "      <th>Dystopia Residual</th>\n",
       "    </tr>\n",
       "  </thead>\n",
       "  <tbody>\n",
       "    <tr>\n",
       "      <th>count</th>\n",
       "      <td>158.000000</td>\n",
       "      <td>158.000000</td>\n",
       "      <td>158.000000</td>\n",
       "      <td>158.000000</td>\n",
       "      <td>158.000000</td>\n",
       "      <td>158.000000</td>\n",
       "      <td>158.000000</td>\n",
       "      <td>158.000000</td>\n",
       "      <td>158.000000</td>\n",
       "      <td>158.000000</td>\n",
       "      <td>158.000000</td>\n",
       "    </tr>\n",
       "    <tr>\n",
       "      <th>mean</th>\n",
       "      <td>5.050633</td>\n",
       "      <td>79.493671</td>\n",
       "      <td>5.375734</td>\n",
       "      <td>0.047885</td>\n",
       "      <td>0.846137</td>\n",
       "      <td>0.991046</td>\n",
       "      <td>0.630259</td>\n",
       "      <td>0.428615</td>\n",
       "      <td>0.143422</td>\n",
       "      <td>0.237296</td>\n",
       "      <td>2.098977</td>\n",
       "    </tr>\n",
       "    <tr>\n",
       "      <th>std</th>\n",
       "      <td>2.766491</td>\n",
       "      <td>45.754363</td>\n",
       "      <td>1.145010</td>\n",
       "      <td>0.017146</td>\n",
       "      <td>0.403121</td>\n",
       "      <td>0.272369</td>\n",
       "      <td>0.247078</td>\n",
       "      <td>0.150693</td>\n",
       "      <td>0.120034</td>\n",
       "      <td>0.126685</td>\n",
       "      <td>0.553550</td>\n",
       "    </tr>\n",
       "    <tr>\n",
       "      <th>min</th>\n",
       "      <td>0.000000</td>\n",
       "      <td>1.000000</td>\n",
       "      <td>2.839000</td>\n",
       "      <td>0.018480</td>\n",
       "      <td>0.000000</td>\n",
       "      <td>0.000000</td>\n",
       "      <td>0.000000</td>\n",
       "      <td>0.000000</td>\n",
       "      <td>0.000000</td>\n",
       "      <td>0.000000</td>\n",
       "      <td>0.328580</td>\n",
       "    </tr>\n",
       "    <tr>\n",
       "      <th>25%</th>\n",
       "      <td>3.000000</td>\n",
       "      <td>40.250000</td>\n",
       "      <td>4.526000</td>\n",
       "      <td>0.037268</td>\n",
       "      <td>0.545808</td>\n",
       "      <td>0.856823</td>\n",
       "      <td>0.439185</td>\n",
       "      <td>0.328330</td>\n",
       "      <td>0.061675</td>\n",
       "      <td>0.150553</td>\n",
       "      <td>1.759410</td>\n",
       "    </tr>\n",
       "    <tr>\n",
       "      <th>50%</th>\n",
       "      <td>6.000000</td>\n",
       "      <td>79.500000</td>\n",
       "      <td>5.232500</td>\n",
       "      <td>0.043940</td>\n",
       "      <td>0.910245</td>\n",
       "      <td>1.029510</td>\n",
       "      <td>0.696705</td>\n",
       "      <td>0.435515</td>\n",
       "      <td>0.107220</td>\n",
       "      <td>0.216130</td>\n",
       "      <td>2.095415</td>\n",
       "    </tr>\n",
       "    <tr>\n",
       "      <th>75%</th>\n",
       "      <td>8.000000</td>\n",
       "      <td>118.750000</td>\n",
       "      <td>6.243750</td>\n",
       "      <td>0.052300</td>\n",
       "      <td>1.158448</td>\n",
       "      <td>1.214405</td>\n",
       "      <td>0.811013</td>\n",
       "      <td>0.549092</td>\n",
       "      <td>0.180255</td>\n",
       "      <td>0.309883</td>\n",
       "      <td>2.462415</td>\n",
       "    </tr>\n",
       "    <tr>\n",
       "      <th>max</th>\n",
       "      <td>9.000000</td>\n",
       "      <td>158.000000</td>\n",
       "      <td>7.587000</td>\n",
       "      <td>0.136930</td>\n",
       "      <td>1.690420</td>\n",
       "      <td>1.402230</td>\n",
       "      <td>1.025250</td>\n",
       "      <td>0.669730</td>\n",
       "      <td>0.551910</td>\n",
       "      <td>0.795880</td>\n",
       "      <td>3.602140</td>\n",
       "    </tr>\n",
       "  </tbody>\n",
       "</table>\n",
       "</div>"
      ],
      "text/plain": [
       "           Region  Happiness Rank  Happiness Score  Standard Error  \\\n",
       "count  158.000000      158.000000       158.000000      158.000000   \n",
       "mean     5.050633       79.493671         5.375734        0.047885   \n",
       "std      2.766491       45.754363         1.145010        0.017146   \n",
       "min      0.000000        1.000000         2.839000        0.018480   \n",
       "25%      3.000000       40.250000         4.526000        0.037268   \n",
       "50%      6.000000       79.500000         5.232500        0.043940   \n",
       "75%      8.000000      118.750000         6.243750        0.052300   \n",
       "max      9.000000      158.000000         7.587000        0.136930   \n",
       "\n",
       "       Economy (GDP per Capita)      Family  Health (Life Expectancy)  \\\n",
       "count                158.000000  158.000000                158.000000   \n",
       "mean                   0.846137    0.991046                  0.630259   \n",
       "std                    0.403121    0.272369                  0.247078   \n",
       "min                    0.000000    0.000000                  0.000000   \n",
       "25%                    0.545808    0.856823                  0.439185   \n",
       "50%                    0.910245    1.029510                  0.696705   \n",
       "75%                    1.158448    1.214405                  0.811013   \n",
       "max                    1.690420    1.402230                  1.025250   \n",
       "\n",
       "          Freedom  Trust (Government Corruption)  Generosity  \\\n",
       "count  158.000000                     158.000000  158.000000   \n",
       "mean     0.428615                       0.143422    0.237296   \n",
       "std      0.150693                       0.120034    0.126685   \n",
       "min      0.000000                       0.000000    0.000000   \n",
       "25%      0.328330                       0.061675    0.150553   \n",
       "50%      0.435515                       0.107220    0.216130   \n",
       "75%      0.549092                       0.180255    0.309883   \n",
       "max      0.669730                       0.551910    0.795880   \n",
       "\n",
       "       Dystopia Residual  \n",
       "count         158.000000  \n",
       "mean            2.098977  \n",
       "std             0.553550  \n",
       "min             0.328580  \n",
       "25%             1.759410  \n",
       "50%             2.095415  \n",
       "75%             2.462415  \n",
       "max             3.602140  "
      ]
     },
     "execution_count": 13,
     "metadata": {},
     "output_type": "execute_result"
    }
   ],
   "source": [
    "df.describe()"
   ]
  },
  {
   "cell_type": "markdown",
   "metadata": {},
   "source": [
    "1)Here we find that the median is higher than mean in \"Region\",\"Happiness Rank\",\"Economy\",\"Family\",\"Health\",\"Freedom\",\"generosity\".\n",
    "\n",
    "If the mean is less than the median, the distribution is negatively skewed.\n",
    "\n",
    "2)the maximum and the 75% had a wide range of difference than it have to be normal in attributes \"Trust\",\"Generosity\",\"Happiness Rank\"\n",
    "\n",
    "From 1) and 2) we infer that we may have large outliers in some of the attributes and skewness\n",
    "\n"
   ]
  },
  {
   "cell_type": "code",
   "execution_count": 14,
   "metadata": {},
   "outputs": [],
   "source": [
    "#DROP THE ATTRIBUTE COUNTRY WHICH IS OF TYPE OBJECT\n",
    "df.drop(\"Country\",axis=1,inplace=True)"
   ]
  },
  {
   "cell_type": "code",
   "execution_count": 15,
   "metadata": {},
   "outputs": [
    {
     "data": {
      "text/html": [
       "<div>\n",
       "<style scoped>\n",
       "    .dataframe tbody tr th:only-of-type {\n",
       "        vertical-align: middle;\n",
       "    }\n",
       "\n",
       "    .dataframe tbody tr th {\n",
       "        vertical-align: top;\n",
       "    }\n",
       "\n",
       "    .dataframe thead th {\n",
       "        text-align: right;\n",
       "    }\n",
       "</style>\n",
       "<table border=\"1\" class=\"dataframe\">\n",
       "  <thead>\n",
       "    <tr style=\"text-align: right;\">\n",
       "      <th></th>\n",
       "      <th>Region</th>\n",
       "      <th>Happiness Rank</th>\n",
       "      <th>Happiness Score</th>\n",
       "      <th>Standard Error</th>\n",
       "      <th>Economy (GDP per Capita)</th>\n",
       "      <th>Family</th>\n",
       "      <th>Health (Life Expectancy)</th>\n",
       "      <th>Freedom</th>\n",
       "      <th>Trust (Government Corruption)</th>\n",
       "      <th>Generosity</th>\n",
       "      <th>Dystopia Residual</th>\n",
       "    </tr>\n",
       "  </thead>\n",
       "  <tbody>\n",
       "    <tr>\n",
       "      <th>0</th>\n",
       "      <td>0</td>\n",
       "      <td>1</td>\n",
       "      <td>7.587</td>\n",
       "      <td>0.03411</td>\n",
       "      <td>1.39651</td>\n",
       "      <td>1.34951</td>\n",
       "      <td>0.94143</td>\n",
       "      <td>0.66557</td>\n",
       "      <td>0.41978</td>\n",
       "      <td>0.29678</td>\n",
       "      <td>2.51738</td>\n",
       "    </tr>\n",
       "    <tr>\n",
       "      <th>1</th>\n",
       "      <td>0</td>\n",
       "      <td>2</td>\n",
       "      <td>7.561</td>\n",
       "      <td>0.04884</td>\n",
       "      <td>1.30232</td>\n",
       "      <td>1.40223</td>\n",
       "      <td>0.94784</td>\n",
       "      <td>0.62877</td>\n",
       "      <td>0.14145</td>\n",
       "      <td>0.43630</td>\n",
       "      <td>2.70201</td>\n",
       "    </tr>\n",
       "    <tr>\n",
       "      <th>2</th>\n",
       "      <td>0</td>\n",
       "      <td>3</td>\n",
       "      <td>7.527</td>\n",
       "      <td>0.03328</td>\n",
       "      <td>1.32548</td>\n",
       "      <td>1.36058</td>\n",
       "      <td>0.87464</td>\n",
       "      <td>0.64938</td>\n",
       "      <td>0.48357</td>\n",
       "      <td>0.34139</td>\n",
       "      <td>2.49204</td>\n",
       "    </tr>\n",
       "    <tr>\n",
       "      <th>3</th>\n",
       "      <td>0</td>\n",
       "      <td>4</td>\n",
       "      <td>7.522</td>\n",
       "      <td>0.03880</td>\n",
       "      <td>1.45900</td>\n",
       "      <td>1.33095</td>\n",
       "      <td>0.88521</td>\n",
       "      <td>0.66973</td>\n",
       "      <td>0.36503</td>\n",
       "      <td>0.34699</td>\n",
       "      <td>2.46531</td>\n",
       "    </tr>\n",
       "    <tr>\n",
       "      <th>4</th>\n",
       "      <td>1</td>\n",
       "      <td>5</td>\n",
       "      <td>7.427</td>\n",
       "      <td>0.03553</td>\n",
       "      <td>1.32629</td>\n",
       "      <td>1.32261</td>\n",
       "      <td>0.90563</td>\n",
       "      <td>0.63297</td>\n",
       "      <td>0.32957</td>\n",
       "      <td>0.45811</td>\n",
       "      <td>2.45176</td>\n",
       "    </tr>\n",
       "    <tr>\n",
       "      <th>...</th>\n",
       "      <td>...</td>\n",
       "      <td>...</td>\n",
       "      <td>...</td>\n",
       "      <td>...</td>\n",
       "      <td>...</td>\n",
       "      <td>...</td>\n",
       "      <td>...</td>\n",
       "      <td>...</td>\n",
       "      <td>...</td>\n",
       "      <td>...</td>\n",
       "      <td>...</td>\n",
       "    </tr>\n",
       "    <tr>\n",
       "      <th>153</th>\n",
       "      <td>8</td>\n",
       "      <td>154</td>\n",
       "      <td>3.465</td>\n",
       "      <td>0.03464</td>\n",
       "      <td>0.22208</td>\n",
       "      <td>0.77370</td>\n",
       "      <td>0.42864</td>\n",
       "      <td>0.59201</td>\n",
       "      <td>0.55191</td>\n",
       "      <td>0.22628</td>\n",
       "      <td>0.67042</td>\n",
       "    </tr>\n",
       "    <tr>\n",
       "      <th>154</th>\n",
       "      <td>8</td>\n",
       "      <td>155</td>\n",
       "      <td>3.340</td>\n",
       "      <td>0.03656</td>\n",
       "      <td>0.28665</td>\n",
       "      <td>0.35386</td>\n",
       "      <td>0.31910</td>\n",
       "      <td>0.48450</td>\n",
       "      <td>0.08010</td>\n",
       "      <td>0.18260</td>\n",
       "      <td>1.63328</td>\n",
       "    </tr>\n",
       "    <tr>\n",
       "      <th>155</th>\n",
       "      <td>3</td>\n",
       "      <td>156</td>\n",
       "      <td>3.006</td>\n",
       "      <td>0.05015</td>\n",
       "      <td>0.66320</td>\n",
       "      <td>0.47489</td>\n",
       "      <td>0.72193</td>\n",
       "      <td>0.15684</td>\n",
       "      <td>0.18906</td>\n",
       "      <td>0.47179</td>\n",
       "      <td>0.32858</td>\n",
       "    </tr>\n",
       "    <tr>\n",
       "      <th>156</th>\n",
       "      <td>8</td>\n",
       "      <td>157</td>\n",
       "      <td>2.905</td>\n",
       "      <td>0.08658</td>\n",
       "      <td>0.01530</td>\n",
       "      <td>0.41587</td>\n",
       "      <td>0.22396</td>\n",
       "      <td>0.11850</td>\n",
       "      <td>0.10062</td>\n",
       "      <td>0.19727</td>\n",
       "      <td>1.83302</td>\n",
       "    </tr>\n",
       "    <tr>\n",
       "      <th>157</th>\n",
       "      <td>8</td>\n",
       "      <td>158</td>\n",
       "      <td>2.839</td>\n",
       "      <td>0.06727</td>\n",
       "      <td>0.20868</td>\n",
       "      <td>0.13995</td>\n",
       "      <td>0.28443</td>\n",
       "      <td>0.36453</td>\n",
       "      <td>0.10731</td>\n",
       "      <td>0.16681</td>\n",
       "      <td>1.56726</td>\n",
       "    </tr>\n",
       "  </tbody>\n",
       "</table>\n",
       "<p>158 rows × 11 columns</p>\n",
       "</div>"
      ],
      "text/plain": [
       "     Region  Happiness Rank  Happiness Score  Standard Error  \\\n",
       "0         0               1            7.587         0.03411   \n",
       "1         0               2            7.561         0.04884   \n",
       "2         0               3            7.527         0.03328   \n",
       "3         0               4            7.522         0.03880   \n",
       "4         1               5            7.427         0.03553   \n",
       "..      ...             ...              ...             ...   \n",
       "153       8             154            3.465         0.03464   \n",
       "154       8             155            3.340         0.03656   \n",
       "155       3             156            3.006         0.05015   \n",
       "156       8             157            2.905         0.08658   \n",
       "157       8             158            2.839         0.06727   \n",
       "\n",
       "     Economy (GDP per Capita)   Family  Health (Life Expectancy)  Freedom  \\\n",
       "0                     1.39651  1.34951                   0.94143  0.66557   \n",
       "1                     1.30232  1.40223                   0.94784  0.62877   \n",
       "2                     1.32548  1.36058                   0.87464  0.64938   \n",
       "3                     1.45900  1.33095                   0.88521  0.66973   \n",
       "4                     1.32629  1.32261                   0.90563  0.63297   \n",
       "..                        ...      ...                       ...      ...   \n",
       "153                   0.22208  0.77370                   0.42864  0.59201   \n",
       "154                   0.28665  0.35386                   0.31910  0.48450   \n",
       "155                   0.66320  0.47489                   0.72193  0.15684   \n",
       "156                   0.01530  0.41587                   0.22396  0.11850   \n",
       "157                   0.20868  0.13995                   0.28443  0.36453   \n",
       "\n",
       "     Trust (Government Corruption)  Generosity  Dystopia Residual  \n",
       "0                          0.41978     0.29678            2.51738  \n",
       "1                          0.14145     0.43630            2.70201  \n",
       "2                          0.48357     0.34139            2.49204  \n",
       "3                          0.36503     0.34699            2.46531  \n",
       "4                          0.32957     0.45811            2.45176  \n",
       "..                             ...         ...                ...  \n",
       "153                        0.55191     0.22628            0.67042  \n",
       "154                        0.08010     0.18260            1.63328  \n",
       "155                        0.18906     0.47179            0.32858  \n",
       "156                        0.10062     0.19727            1.83302  \n",
       "157                        0.10731     0.16681            1.56726  \n",
       "\n",
       "[158 rows x 11 columns]"
      ]
     },
     "execution_count": 15,
     "metadata": {},
     "output_type": "execute_result"
    }
   ],
   "source": [
    "df"
   ]
  },
  {
   "cell_type": "code",
   "execution_count": 16,
   "metadata": {},
   "outputs": [
    {
     "data": {
      "text/plain": [
       "Index(['Region', 'Happiness Rank', 'Happiness Score', 'Standard Error',\n",
       "       'Economy (GDP per Capita)', 'Family', 'Health (Life Expectancy)',\n",
       "       'Freedom', 'Trust (Government Corruption)', 'Generosity',\n",
       "       'Dystopia Residual'],\n",
       "      dtype='object')"
      ]
     },
     "execution_count": 16,
     "metadata": {},
     "output_type": "execute_result"
    }
   ],
   "source": [
    "df.columns"
   ]
  },
  {
   "cell_type": "markdown",
   "metadata": {},
   "source": [
    "# Finding missing values"
   ]
  },
  {
   "cell_type": "code",
   "execution_count": 17,
   "metadata": {},
   "outputs": [
    {
     "data": {
      "text/plain": [
       "Region                           0\n",
       "Happiness Rank                   0\n",
       "Happiness Score                  0\n",
       "Standard Error                   0\n",
       "Economy (GDP per Capita)         0\n",
       "Family                           0\n",
       "Health (Life Expectancy)         0\n",
       "Freedom                          0\n",
       "Trust (Government Corruption)    0\n",
       "Generosity                       0\n",
       "Dystopia Residual                0\n",
       "dtype: int64"
      ]
     },
     "execution_count": 17,
     "metadata": {},
     "output_type": "execute_result"
    }
   ],
   "source": [
    "#checking missing value\n",
    "df.isnull().sum()"
   ]
  },
  {
   "cell_type": "code",
   "execution_count": 18,
   "metadata": {},
   "outputs": [
    {
     "data": {
      "text/plain": [
       "<matplotlib.axes._subplots.AxesSubplot at 0x276e0f3e820>"
      ]
     },
     "execution_count": 18,
     "metadata": {},
     "output_type": "execute_result"
    },
    {
     "data": {
      "image/png": "[encoded data removed]",
      "text/plain": [
       "<Figure size 432x288 with 2 Axes>"
      ]
     },
     "metadata": {
      "needs_background": "light"
     },
     "output_type": "display_data"
    }
   ],
   "source": [
    "#missing value in data visuvalization\n",
    "sns.heatmap(df.isnull())"
   ]
  },
  {
   "cell_type": "markdown",
   "metadata": {},
   "source": [
    "# EDA"
   ]
  },
  {
   "cell_type": "markdown",
   "metadata": {},
   "source": [
    "UNIVARIATE ANALYSIS USING DISPLACEMENT PLOT"
   ]
  },
  {
   "cell_type": "code",
   "execution_count": 19,
   "metadata": {},
   "outputs": [
    {
     "data": {
      "text/plain": [
       "<matplotlib.axes._subplots.AxesSubplot at 0x276e0f11340>"
      ]
     },
     "execution_count": 19,
     "metadata": {},
     "output_type": "execute_result"
    },
    {
     "data": {
      "image/png": "[encoded data removed]",
      "text/plain": [
       "<Figure size 432x288 with 1 Axes>"
      ]
     },
     "metadata": {
      "needs_background": "light"
     },
     "output_type": "display_data"
    }
   ],
   "source": [
    "#Region ditribution\n",
    "sns.distplot(df[\"Region\"])"
   ]
  },
  {
   "cell_type": "code",
   "execution_count": 20,
   "metadata": {},
   "outputs": [
    {
     "data": {
      "text/plain": [
       "<matplotlib.axes._subplots.AxesSubplot at 0x276e1123970>"
      ]
     },
     "execution_count": 20,
     "metadata": {},
     "output_type": "execute_result"
    },
    {
     "data": {
      "image/png": "[encoded data removed]",
      "text/plain": [
       "<Figure size 432x288 with 1 Axes>"
      ]
     },
     "metadata": {
      "needs_background": "light"
     },
     "output_type": "display_data"
    }
   ],
   "source": [
    "#Happiness Rank ditribution\n",
    "sns.distplot(df[\"Happiness Rank\"])"
   ]
  },
  {
   "cell_type": "code",
   "execution_count": 21,
   "metadata": {},
   "outputs": [
    {
     "data": {
      "text/plain": [
       "<matplotlib.axes._subplots.AxesSubplot at 0x276e118c430>"
      ]
     },
     "execution_count": 21,
     "metadata": {},
     "output_type": "execute_result"
    },
    {
     "data": {
      "image/png": "[encoded data removed]",
      "text/plain": [
       "<Figure size 432x288 with 1 Axes>"
      ]
     },
     "metadata": {
      "needs_background": "light"
     },
     "output_type": "display_data"
    }
   ],
   "source": [
    "#Happiness Score ditribution\n",
    "sns.distplot(df[\"Happiness Score\"])"
   ]
  },
  {
   "cell_type": "code",
   "execution_count": 22,
   "metadata": {},
   "outputs": [
    {
     "data": {
      "text/plain": [
       "<matplotlib.axes._subplots.AxesSubplot at 0x276e11d2ca0>"
      ]
     },
     "execution_count": 22,
     "metadata": {},
     "output_type": "execute_result"
    },
    {
     "data": {
      "image/png": "[encoded data removed]",
      "text/plain": [
       "<Figure size 432x288 with 1 Axes>"
      ]
     },
     "metadata": {
      "needs_background": "light"
     },
     "output_type": "display_data"
    }
   ],
   "source": [
    "#Standard Error ditribution\n",
    "sns.distplot(df[\"Standard Error\"])"
   ]
  },
  {
   "cell_type": "code",
   "execution_count": 23,
   "metadata": {},
   "outputs": [
    {
     "data": {
      "text/plain": [
       "<matplotlib.axes._subplots.AxesSubplot at 0x276e0ee40a0>"
      ]
     },
     "execution_count": 23,
     "metadata": {},
     "output_type": "execute_result"
    },
    {
     "data": {
      "image/png": "[encoded data removed]",
      "text/plain": [
       "<Figure size 432x288 with 1 Axes>"
      ]
     },
     "metadata": {
      "needs_background": "light"
     },
     "output_type": "display_data"
    }
   ],
   "source": [
    "#Economy (GDP per Capita) ditribution\n",
    "sns.distplot(df[\"Economy (GDP per Capita)\"])"
   ]
  },
  {
   "cell_type": "code",
   "execution_count": 24,
   "metadata": {},
   "outputs": [
    {
     "data": {
      "text/plain": [
       "<matplotlib.axes._subplots.AxesSubplot at 0x276e12f3b80>"
      ]
     },
     "execution_count": 24,
     "metadata": {},
     "output_type": "execute_result"
    },
    {
     "data": {
      "image/png": "[encoded data removed]",
      "text/plain": [
       "<Figure size 432x288 with 1 Axes>"
      ]
     },
     "metadata": {
      "needs_background": "light"
     },
     "output_type": "display_data"
    }
   ],
   "source": [
    "#Family ditribution\n",
    "sns.distplot(df[\"Family\"])"
   ]
  },
  {
   "cell_type": "code",
   "execution_count": 25,
   "metadata": {},
   "outputs": [
    {
     "data": {
      "text/plain": [
       "<matplotlib.axes._subplots.AxesSubplot at 0x276e1365910>"
      ]
     },
     "execution_count": 25,
     "metadata": {},
     "output_type": "execute_result"
    },
    {
     "data": {
      "image/png": "[encoded data removed]",
      "text/plain": [
       "<Figure size 432x288 with 1 Axes>"
      ]
     },
     "metadata": {
      "needs_background": "light"
     },
     "output_type": "display_data"
    }
   ],
   "source": [
    "#Health (Life Expectancy) ditribution\n",
    "sns.distplot(df[\"Health (Life Expectancy)\"])"
   ]
  },
  {
   "cell_type": "code",
   "execution_count": 26,
   "metadata": {},
   "outputs": [
    {
     "data": {
      "text/plain": [
       "<matplotlib.axes._subplots.AxesSubplot at 0x276e13f5a00>"
      ]
     },
     "execution_count": 26,
     "metadata": {},
     "output_type": "execute_result"
    },
    {
     "data": {
      "image/png": "[encoded data removed]",
      "text/plain": [
       "<Figure size 432x288 with 1 Axes>"
      ]
     },
     "metadata": {
      "needs_background": "light"
     },
     "output_type": "display_data"
    }
   ],
   "source": [
    "#Freedom ditribution\n",
    "sns.distplot(df[\"Freedom\"])"
   ]
  },
  {
   "cell_type": "code",
   "execution_count": 27,
   "metadata": {},
   "outputs": [
    {
     "data": {
      "text/plain": [
       "<matplotlib.axes._subplots.AxesSubplot at 0x276e1428d60>"
      ]
     },
     "execution_count": 27,
     "metadata": {},
     "output_type": "execute_result"
    },
    {
     "data": {
      "image/png": "[encoded data removed]",
      "text/plain": [
       "<Figure size 432x288 with 1 Axes>"
      ]
     },
     "metadata": {
      "needs_background": "light"
     },
     "output_type": "display_data"
    }
   ],
   "source": [
    "#Trust (Government Corruption) ditribution\n",
    "sns.distplot(df[\"Trust (Government Corruption)\"])"
   ]
  },
  {
   "cell_type": "code",
   "execution_count": 28,
   "metadata": {},
   "outputs": [
    {
     "data": {
      "text/plain": [
       "<matplotlib.axes._subplots.AxesSubplot at 0x276e14d3730>"
      ]
     },
     "execution_count": 28,
     "metadata": {},
     "output_type": "execute_result"
    },
    {
     "data": {
      "image/png": "[encoded data removed]",
      "text/plain": [
       "<Figure size 432x288 with 1 Axes>"
      ]
     },
     "metadata": {
      "needs_background": "light"
     },
     "output_type": "display_data"
    }
   ],
   "source": [
    "#Generosity ditribution\n",
    "sns.distplot(df[\"Generosity\"])"
   ]
  },
  {
   "cell_type": "code",
   "execution_count": 29,
   "metadata": {},
   "outputs": [
    {
     "data": {
      "text/plain": [
       "<matplotlib.axes._subplots.AxesSubplot at 0x276e12e0d60>"
      ]
     },
     "execution_count": 29,
     "metadata": {},
     "output_type": "execute_result"
    },
    {
     "data": {
      "image/png": "[encoded data removed]",
      "text/plain": [
       "<Figure size 432x288 with 1 Axes>"
      ]
     },
     "metadata": {
      "needs_background": "light"
     },
     "output_type": "display_data"
    }
   ],
   "source": [
    "#Dystopia Residual ditribution\n",
    "sns.distplot(df[\"Dystopia Residual\"])"
   ]
  },
  {
   "cell_type": "markdown",
   "metadata": {},
   "source": [
    "KEY OBSERAVATIN FROM THE UNIVARIATE ANALYSIS:\n",
    "    \n",
    "The data in the columns[\"Region\",\"standared error\",\"economy\",\"family distribution\",\"family\",\"Health\",\"freedom\",\"Trust\"] is not normalised.The building block is out of the normalised curve \n",
    "\n",
    "\n",
    "The data in the columns[\"Hapiness rank\",\"happiness score\",\"generosity\",\"dystopia Residual\"] is almost normalised.\n",
    "        "
   ]
  },
  {
   "cell_type": "markdown",
   "metadata": {},
   "source": [
    "# BIVARIATE ANALYSIS USING SCATTER PLOT"
   ]
  },
  {
   "cell_type": "code",
   "execution_count": 30,
   "metadata": {},
   "outputs": [
    {
     "data": {
      "text/plain": [
       "<matplotlib.axes._subplots.AxesSubplot at 0x276e15a2100>"
      ]
     },
     "execution_count": 30,
     "metadata": {},
     "output_type": "execute_result"
    },
    {
     "data": {
      "image/png": "[encoded data removed]",
      "text/plain": [
       "<Figure size 432x288 with 1 Axes>"
      ]
     },
     "metadata": {
      "needs_background": "light"
     },
     "output_type": "display_data"
    }
   ],
   "source": [
    "#relation b/w Region and Happiness score\n",
    "sns.scatterplot(x=\"Region\",y=\"Happiness Score\",data=df)"
   ]
  },
  {
   "cell_type": "markdown",
   "metadata": {},
   "source": [
    "the regions is not equally distributed. example large number of countries were palced in happiness index from western europen region(0) where in north america(1) very few were place "
   ]
  },
  {
   "cell_type": "code",
   "execution_count": 31,
   "metadata": {},
   "outputs": [
    {
     "data": {
      "text/plain": [
       "<matplotlib.axes._subplots.AxesSubplot at 0x276e15f6dc0>"
      ]
     },
     "execution_count": 31,
     "metadata": {},
     "output_type": "execute_result"
    },
    {
     "data": {
      "image/png": "[encoded data removed]",
      "text/plain": [
       "<Figure size 432x288 with 1 Axes>"
      ]
     },
     "metadata": {
      "needs_background": "light"
     },
     "output_type": "display_data"
    }
   ],
   "source": [
    "#relation b/w Economy and Happiness score\n",
    "sns.scatterplot(x=\"Economy (GDP per Capita)\",y=\"Happiness Score\",data=df)"
   ]
  },
  {
   "cell_type": "markdown",
   "metadata": {},
   "source": [
    "the relation b/w Economy and Happiness score shows linear regression.\n",
    "\n",
    "i.e when economy of the country increases, the happiness score increases"
   ]
  },
  {
   "cell_type": "code",
   "execution_count": 32,
   "metadata": {},
   "outputs": [
    {
     "data": {
      "text/plain": [
       "<matplotlib.axes._subplots.AxesSubplot at 0x276e1648160>"
      ]
     },
     "execution_count": 32,
     "metadata": {},
     "output_type": "execute_result"
    },
    {
     "data": {
      "image/png": "[encoded data removed]",
      "text/plain": [
       "<Figure size 432x288 with 1 Axes>"
      ]
     },
     "metadata": {
      "needs_background": "light"
     },
     "output_type": "display_data"
    }
   ],
   "source": [
    "#relation b/w Standard error and Happiness score\n",
    "sns.scatterplot(x=\"Standard Error\",y=\"Happiness Score\",data=df)"
   ]
  },
  {
   "cell_type": "markdown",
   "metadata": {},
   "source": [
    "relation b/w Standard error and Happiness score shows it is not distributed very well.which indicates outliers and skewness may present"
   ]
  },
  {
   "cell_type": "code",
   "execution_count": 33,
   "metadata": {},
   "outputs": [
    {
     "data": {
      "text/plain": [
       "<matplotlib.axes._subplots.AxesSubplot at 0x276e1699eb0>"
      ]
     },
     "execution_count": 33,
     "metadata": {},
     "output_type": "execute_result"
    },
    {
     "data": {
      "image/png": "[encoded data removed]",
      "text/plain": [
       "<Figure size 432x288 with 1 Axes>"
      ]
     },
     "metadata": {
      "needs_background": "light"
     },
     "output_type": "display_data"
    }
   ],
   "source": [
    "#relation b/w Family and Happiness score\n",
    "sns.scatterplot(x=\"Family\",y=\"Happiness Score\",data=df)"
   ]
  },
  {
   "cell_type": "markdown",
   "metadata": {},
   "source": [
    "The graph shows when the value of family increases the happiness score increases(linearly distributed)"
   ]
  },
  {
   "cell_type": "code",
   "execution_count": 34,
   "metadata": {},
   "outputs": [
    {
     "data": {
      "text/plain": [
       "<matplotlib.axes._subplots.AxesSubplot at 0x276e16ef460>"
      ]
     },
     "execution_count": 34,
     "metadata": {},
     "output_type": "execute_result"
    },
    {
     "data": {
      "image/png": "[encoded data removed]",
      "text/plain": [
       "<Figure size 432x288 with 1 Axes>"
      ]
     },
     "metadata": {
      "needs_background": "light"
     },
     "output_type": "display_data"
    }
   ],
   "source": [
    "#relation b/w Health(Life Expectancy) and Happiness score\n",
    "sns.scatterplot(x=\"Health (Life Expectancy)\",y=\"Happiness Score\",data=df)"
   ]
  },
  {
   "cell_type": "markdown",
   "metadata": {},
   "source": [
    "it shows when life expectancy of the people is more, then more is their happiness"
   ]
  },
  {
   "cell_type": "code",
   "execution_count": 35,
   "metadata": {},
   "outputs": [
    {
     "data": {
      "text/plain": [
       "<matplotlib.axes._subplots.AxesSubplot at 0x276e1742100>"
      ]
     },
     "execution_count": 35,
     "metadata": {},
     "output_type": "execute_result"
    },
    {
     "data": {
      "image/png": "[encoded data removed]",
      "text/plain": [
       "<Figure size 432x288 with 1 Axes>"
      ]
     },
     "metadata": {
      "needs_background": "light"
     },
     "output_type": "display_data"
    }
   ],
   "source": [
    "#relation b/w Dystopia residual and Happiness score\n",
    "sns.scatterplot(x=\"Dystopia Residual\",y=\"Happiness Score\",data=df)"
   ]
  },
  {
   "cell_type": "code",
   "execution_count": 36,
   "metadata": {},
   "outputs": [
    {
     "data": {
      "text/plain": [
       "<matplotlib.axes._subplots.AxesSubplot at 0x276e276b910>"
      ]
     },
     "execution_count": 36,
     "metadata": {},
     "output_type": "execute_result"
    },
    {
     "data": {
      "image/png": "[encoded data removed]",
      "text/plain": [
       "<Figure size 432x288 with 1 Axes>"
      ]
     },
     "metadata": {
      "needs_background": "light"
     },
     "output_type": "display_data"
    }
   ],
   "source": [
    "#relation b/w Generosity and Happiness score\n",
    "sns.scatterplot(x=\"Generosity\",y=\"Happiness Score\",data=df)"
   ]
  },
  {
   "cell_type": "markdown",
   "metadata": {},
   "source": [
    "from both dystopia residual and generosity graph we say that the value is irregularly distributed"
   ]
  },
  {
   "cell_type": "markdown",
   "metadata": {},
   "source": [
    "# correlation values\n"
   ]
  },
  {
   "cell_type": "code",
   "execution_count": 37,
   "metadata": {},
   "outputs": [
    {
     "data": {
      "text/html": [
       "<div>\n",
       "<style scoped>\n",
       "    .dataframe tbody tr th:only-of-type {\n",
       "        vertical-align: middle;\n",
       "    }\n",
       "\n",
       "    .dataframe tbody tr th {\n",
       "        vertical-align: top;\n",
       "    }\n",
       "\n",
       "    .dataframe thead th {\n",
       "        text-align: right;\n",
       "    }\n",
       "</style>\n",
       "<table border=\"1\" class=\"dataframe\">\n",
       "  <thead>\n",
       "    <tr style=\"text-align: right;\">\n",
       "      <th></th>\n",
       "      <th>Region</th>\n",
       "      <th>Happiness Rank</th>\n",
       "      <th>Happiness Score</th>\n",
       "      <th>Standard Error</th>\n",
       "      <th>Economy (GDP per Capita)</th>\n",
       "      <th>Family</th>\n",
       "      <th>Health (Life Expectancy)</th>\n",
       "      <th>Freedom</th>\n",
       "      <th>Trust (Government Corruption)</th>\n",
       "      <th>Generosity</th>\n",
       "      <th>Dystopia Residual</th>\n",
       "    </tr>\n",
       "  </thead>\n",
       "  <tbody>\n",
       "    <tr>\n",
       "      <th>Region</th>\n",
       "      <td>1.000000</td>\n",
       "      <td>0.682942</td>\n",
       "      <td>-0.691704</td>\n",
       "      <td>0.166879</td>\n",
       "      <td>-0.692340</td>\n",
       "      <td>-0.501211</td>\n",
       "      <td>-0.711973</td>\n",
       "      <td>-0.381365</td>\n",
       "      <td>-0.341903</td>\n",
       "      <td>-0.163055</td>\n",
       "      <td>-0.146971</td>\n",
       "    </tr>\n",
       "    <tr>\n",
       "      <th>Happiness Rank</th>\n",
       "      <td>0.682942</td>\n",
       "      <td>1.000000</td>\n",
       "      <td>-0.992105</td>\n",
       "      <td>0.158516</td>\n",
       "      <td>-0.785267</td>\n",
       "      <td>-0.733644</td>\n",
       "      <td>-0.735613</td>\n",
       "      <td>-0.556886</td>\n",
       "      <td>-0.372315</td>\n",
       "      <td>-0.160142</td>\n",
       "      <td>-0.521999</td>\n",
       "    </tr>\n",
       "    <tr>\n",
       "      <th>Happiness Score</th>\n",
       "      <td>-0.691704</td>\n",
       "      <td>-0.992105</td>\n",
       "      <td>1.000000</td>\n",
       "      <td>-0.177254</td>\n",
       "      <td>0.780966</td>\n",
       "      <td>0.740605</td>\n",
       "      <td>0.724200</td>\n",
       "      <td>0.568211</td>\n",
       "      <td>0.395199</td>\n",
       "      <td>0.180319</td>\n",
       "      <td>0.530474</td>\n",
       "    </tr>\n",
       "    <tr>\n",
       "      <th>Standard Error</th>\n",
       "      <td>0.166879</td>\n",
       "      <td>0.158516</td>\n",
       "      <td>-0.177254</td>\n",
       "      <td>1.000000</td>\n",
       "      <td>-0.217651</td>\n",
       "      <td>-0.120728</td>\n",
       "      <td>-0.310287</td>\n",
       "      <td>-0.129773</td>\n",
       "      <td>-0.178325</td>\n",
       "      <td>-0.088439</td>\n",
       "      <td>0.083981</td>\n",
       "    </tr>\n",
       "    <tr>\n",
       "      <th>Economy (GDP per Capita)</th>\n",
       "      <td>-0.692340</td>\n",
       "      <td>-0.785267</td>\n",
       "      <td>0.780966</td>\n",
       "      <td>-0.217651</td>\n",
       "      <td>1.000000</td>\n",
       "      <td>0.645299</td>\n",
       "      <td>0.816478</td>\n",
       "      <td>0.370300</td>\n",
       "      <td>0.307885</td>\n",
       "      <td>-0.010465</td>\n",
       "      <td>0.040059</td>\n",
       "    </tr>\n",
       "    <tr>\n",
       "      <th>Family</th>\n",
       "      <td>-0.501211</td>\n",
       "      <td>-0.733644</td>\n",
       "      <td>0.740605</td>\n",
       "      <td>-0.120728</td>\n",
       "      <td>0.645299</td>\n",
       "      <td>1.000000</td>\n",
       "      <td>0.531104</td>\n",
       "      <td>0.441518</td>\n",
       "      <td>0.205605</td>\n",
       "      <td>0.087513</td>\n",
       "      <td>0.148117</td>\n",
       "    </tr>\n",
       "    <tr>\n",
       "      <th>Health (Life Expectancy)</th>\n",
       "      <td>-0.711973</td>\n",
       "      <td>-0.735613</td>\n",
       "      <td>0.724200</td>\n",
       "      <td>-0.310287</td>\n",
       "      <td>0.816478</td>\n",
       "      <td>0.531104</td>\n",
       "      <td>1.000000</td>\n",
       "      <td>0.360477</td>\n",
       "      <td>0.248335</td>\n",
       "      <td>0.108335</td>\n",
       "      <td>0.018979</td>\n",
       "    </tr>\n",
       "    <tr>\n",
       "      <th>Freedom</th>\n",
       "      <td>-0.381365</td>\n",
       "      <td>-0.556886</td>\n",
       "      <td>0.568211</td>\n",
       "      <td>-0.129773</td>\n",
       "      <td>0.370300</td>\n",
       "      <td>0.441518</td>\n",
       "      <td>0.360477</td>\n",
       "      <td>1.000000</td>\n",
       "      <td>0.493524</td>\n",
       "      <td>0.373916</td>\n",
       "      <td>0.062783</td>\n",
       "    </tr>\n",
       "    <tr>\n",
       "      <th>Trust (Government Corruption)</th>\n",
       "      <td>-0.341903</td>\n",
       "      <td>-0.372315</td>\n",
       "      <td>0.395199</td>\n",
       "      <td>-0.178325</td>\n",
       "      <td>0.307885</td>\n",
       "      <td>0.205605</td>\n",
       "      <td>0.248335</td>\n",
       "      <td>0.493524</td>\n",
       "      <td>1.000000</td>\n",
       "      <td>0.276123</td>\n",
       "      <td>-0.033105</td>\n",
       "    </tr>\n",
       "    <tr>\n",
       "      <th>Generosity</th>\n",
       "      <td>-0.163055</td>\n",
       "      <td>-0.160142</td>\n",
       "      <td>0.180319</td>\n",
       "      <td>-0.088439</td>\n",
       "      <td>-0.010465</td>\n",
       "      <td>0.087513</td>\n",
       "      <td>0.108335</td>\n",
       "      <td>0.373916</td>\n",
       "      <td>0.276123</td>\n",
       "      <td>1.000000</td>\n",
       "      <td>-0.101301</td>\n",
       "    </tr>\n",
       "    <tr>\n",
       "      <th>Dystopia Residual</th>\n",
       "      <td>-0.146971</td>\n",
       "      <td>-0.521999</td>\n",
       "      <td>0.530474</td>\n",
       "      <td>0.083981</td>\n",
       "      <td>0.040059</td>\n",
       "      <td>0.148117</td>\n",
       "      <td>0.018979</td>\n",
       "      <td>0.062783</td>\n",
       "      <td>-0.033105</td>\n",
       "      <td>-0.101301</td>\n",
       "      <td>1.000000</td>\n",
       "    </tr>\n",
       "  </tbody>\n",
       "</table>\n",
       "</div>"
      ],
      "text/plain": [
       "                                 Region  Happiness Rank  Happiness Score  \\\n",
       "Region                         1.000000        0.682942        -0.691704   \n",
       "Happiness Rank                 0.682942        1.000000        -0.992105   \n",
       "Happiness Score               -0.691704       -0.992105         1.000000   \n",
       "Standard Error                 0.166879        0.158516        -0.177254   \n",
       "Economy (GDP per Capita)      -0.692340       -0.785267         0.780966   \n",
       "Family                        -0.501211       -0.733644         0.740605   \n",
       "Health (Life Expectancy)      -0.711973       -0.735613         0.724200   \n",
       "Freedom                       -0.381365       -0.556886         0.568211   \n",
       "Trust (Government Corruption) -0.341903       -0.372315         0.395199   \n",
       "Generosity                    -0.163055       -0.160142         0.180319   \n",
       "Dystopia Residual             -0.146971       -0.521999         0.530474   \n",
       "\n",
       "                               Standard Error  Economy (GDP per Capita)  \\\n",
       "Region                               0.166879                 -0.692340   \n",
       "Happiness Rank                       0.158516                 -0.785267   \n",
       "Happiness Score                     -0.177254                  0.780966   \n",
       "Standard Error                       1.000000                 -0.217651   \n",
       "Economy (GDP per Capita)            -0.217651                  1.000000   \n",
       "Family                              -0.120728                  0.645299   \n",
       "Health (Life Expectancy)            -0.310287                  0.816478   \n",
       "Freedom                             -0.129773                  0.370300   \n",
       "Trust (Government Corruption)       -0.178325                  0.307885   \n",
       "Generosity                          -0.088439                 -0.010465   \n",
       "Dystopia Residual                    0.083981                  0.040059   \n",
       "\n",
       "                                 Family  Health (Life Expectancy)   Freedom  \\\n",
       "Region                        -0.501211                 -0.711973 -0.381365   \n",
       "Happiness Rank                -0.733644                 -0.735613 -0.556886   \n",
       "Happiness Score                0.740605                  0.724200  0.568211   \n",
       "Standard Error                -0.120728                 -0.310287 -0.129773   \n",
       "Economy (GDP per Capita)       0.645299                  0.816478  0.370300   \n",
       "Family                         1.000000                  0.531104  0.441518   \n",
       "Health (Life Expectancy)       0.531104                  1.000000  0.360477   \n",
       "Freedom                        0.441518                  0.360477  1.000000   \n",
       "Trust (Government Corruption)  0.205605                  0.248335  0.493524   \n",
       "Generosity                     0.087513                  0.108335  0.373916   \n",
       "Dystopia Residual              0.148117                  0.018979  0.062783   \n",
       "\n",
       "                               Trust (Government Corruption)  Generosity  \\\n",
       "Region                                             -0.341903   -0.163055   \n",
       "Happiness Rank                                     -0.372315   -0.160142   \n",
       "Happiness Score                                     0.395199    0.180319   \n",
       "Standard Error                                     -0.178325   -0.088439   \n",
       "Economy (GDP per Capita)                            0.307885   -0.010465   \n",
       "Family                                              0.205605    0.087513   \n",
       "Health (Life Expectancy)                            0.248335    0.108335   \n",
       "Freedom                                             0.493524    0.373916   \n",
       "Trust (Government Corruption)                       1.000000    0.276123   \n",
       "Generosity                                          0.276123    1.000000   \n",
       "Dystopia Residual                                  -0.033105   -0.101301   \n",
       "\n",
       "                               Dystopia Residual  \n",
       "Region                                 -0.146971  \n",
       "Happiness Rank                         -0.521999  \n",
       "Happiness Score                         0.530474  \n",
       "Standard Error                          0.083981  \n",
       "Economy (GDP per Capita)                0.040059  \n",
       "Family                                  0.148117  \n",
       "Health (Life Expectancy)                0.018979  \n",
       "Freedom                                 0.062783  \n",
       "Trust (Government Corruption)          -0.033105  \n",
       "Generosity                             -0.101301  \n",
       "Dystopia Residual                       1.000000  "
      ]
     },
     "execution_count": 37,
     "metadata": {},
     "output_type": "execute_result"
    }
   ],
   "source": [
    "#Multivariate analysis\n",
    "cor=df.corr()\n",
    "cor"
   ]
  },
  {
   "cell_type": "code",
   "execution_count": 38,
   "metadata": {},
   "outputs": [
    {
     "data": {
      "text/plain": [
       "<matplotlib.axes._subplots.AxesSubplot at 0x276e27c1340>"
      ]
     },
     "execution_count": 38,
     "metadata": {},
     "output_type": "execute_result"
    },
    {
     "data": {
      "image/png": "[encoded data removed]",
      "text/plain": [
       "<Figure size 576x576 with 2 Axes>"
      ]
     },
     "metadata": {
      "needs_background": "light"
     },
     "output_type": "display_data"
    }
   ],
   "source": [
    "plt.figure(figsize=(8,8))\n",
    "sns.heatmap(cor,annot=True)"
   ]
  },
  {
   "cell_type": "markdown",
   "metadata": {},
   "source": [
    "Key observation"
   ]
  },
  {
   "cell_type": "markdown",
   "metadata": {},
   "source": [
    "from the above result it is clear that some columns making positive correlation while some has negative correlation to the target variable "
   ]
  },
  {
   "cell_type": "markdown",
   "metadata": {},
   "source": [
    "columns making positive correlation\n",
    "\n",
    "1)Economy (GDP per Capita)\n",
    "\n",
    "2)Family\n",
    "\n",
    "3)Health (Life Expectancy)\n",
    "\n",
    "4)Freedom  \n",
    "\n",
    "5)Trust (Government Corruption)  \n",
    "\n",
    "6)Generosity\n",
    "\n",
    "6)Dystopia Residual                \n"
   ]
  },
  {
   "cell_type": "markdown",
   "metadata": {},
   "source": [
    "columns making negative correlation\n",
    "\n",
    "1)Region\n",
    "\n",
    "2)Happiness Rank                   \n",
    "\n",
    "3)Happiness Score                  \n",
    "\n",
    "4)Standard Error                   \n",
    "\n",
    "\n"
   ]
  },
  {
   "cell_type": "markdown",
   "metadata": {},
   "source": [
    "here \n",
    "column[\"Economy\"] is highly correlated in a positive manner with target where \n",
    "column[\"Happiness Score\"] is highly correlated in a negative manner target"
   ]
  },
  {
   "cell_type": "markdown",
   "metadata": {},
   "source": [
    "# plotting outliers"
   ]
  },
  {
   "cell_type": "code",
   "execution_count": 39,
   "metadata": {},
   "outputs": [
    {
     "data": {
      "image/png": "[encoded data removed]",
      "text/plain": [
       "<Figure size 5400x3240 with 11 Axes>"
      ]
     },
     "metadata": {
      "needs_background": "light"
     },
     "output_type": "display_data"
    }
   ],
   "source": [
    "collist=df.columns.values\n",
    "ncol=15\n",
    "nrow=10\n",
    "plt.figure(figsize=(5*ncol,3*ncol))\n",
    "for i in range(0,len(collist)):\n",
    "    plt.subplot(nrow,ncol,i+1)\n",
    "    sns.boxplot(df[collist[i]])\n",
    "\n"
   ]
  },
  {
   "cell_type": "markdown",
   "metadata": {},
   "source": [
    "from the above outcome we can see that \n",
    "\n",
    "        columns[\"Standard error\",\"Family\",,\"Dystopia Residual\"] has less outliers\n",
    "    \n",
    "        column[\"Trust(Goverenment Corruption)\"] has very high outliers\n",
    "        \n",
    "        columns[\"Region\",\"happiness Rank\",\"Happiness Score\",\"Economy(GDP per capita)\",\"Health\",\"freedom\"] has no outliers"
   ]
  },
  {
   "cell_type": "markdown",
   "metadata": {},
   "source": [
    "# skewness"
   ]
  },
  {
   "cell_type": "code",
   "execution_count": 40,
   "metadata": {},
   "outputs": [
    {
     "data": {
      "text/plain": [
       "Region                          -0.477295\n",
       "Happiness Rank                   0.000418\n",
       "Happiness Score                  0.097769\n",
       "Standard Error                   1.983439\n",
       "Economy (GDP per Capita)        -0.317575\n",
       "Family                          -1.006893\n",
       "Health (Life Expectancy)        -0.705328\n",
       "Freedom                         -0.413462\n",
       "Trust (Government Corruption)    1.385463\n",
       "Generosity                       1.001961\n",
       "Dystopia Residual               -0.238911\n",
       "dtype: float64"
      ]
     },
     "execution_count": 40,
     "metadata": {},
     "output_type": "execute_result"
    }
   ],
   "source": [
    "df.skew()"
   ]
  },
  {
   "cell_type": "markdown",
   "metadata": {},
   "source": [
    "Skewness threshold range : +/-0.5\n",
    "    \n",
    "from the above observation we find skewness in many attributes namely\n",
    "    \n",
    "    1)Standard Error\n",
    "    \n",
    "    2)Family\n",
    "    \n",
    "    3)Health (Life Expectancy) \n",
    "    \n",
    "    4)Trust (Government Corruption)\n",
    "    \n",
    "    5)Generosity\n",
    "    \n",
    "We can  also confirm that there are skewness  from the graphical representaion of the univariate analysis which is displayed \n",
    "above\n",
    "\n",
    "Here the column \"Family\" , \"Health (Life Expectancy) \",\"Trust (Government Corruption)\",\"Generosity\" Have good correlation with the target column. Dropping of such column should not be good approach ."
   ]
  },
  {
   "cell_type": "markdown",
   "metadata": {},
   "source": [
    "# DATA CLEANING"
   ]
  },
  {
   "cell_type": "code",
   "execution_count": 41,
   "metadata": {},
   "outputs": [
    {
     "data": {
      "text/html": [
       "<div>\n",
       "<style scoped>\n",
       "    .dataframe tbody tr th:only-of-type {\n",
       "        vertical-align: middle;\n",
       "    }\n",
       "\n",
       "    .dataframe tbody tr th {\n",
       "        vertical-align: top;\n",
       "    }\n",
       "\n",
       "    .dataframe thead th {\n",
       "        text-align: right;\n",
       "    }\n",
       "</style>\n",
       "<table border=\"1\" class=\"dataframe\">\n",
       "  <thead>\n",
       "    <tr style=\"text-align: right;\">\n",
       "      <th></th>\n",
       "      <th>Correlation wih target</th>\n",
       "      <th>column name</th>\n",
       "      <th>Normalised</th>\n",
       "      <th>Skewness</th>\n",
       "      <th>Outliers</th>\n",
       "    </tr>\n",
       "  </thead>\n",
       "  <tbody>\n",
       "    <tr>\n",
       "      <th>0</th>\n",
       "      <td>-0.69</td>\n",
       "      <td>Region</td>\n",
       "      <td>no</td>\n",
       "      <td>yes</td>\n",
       "      <td>no</td>\n",
       "    </tr>\n",
       "    <tr>\n",
       "      <th>1</th>\n",
       "      <td>-0.99</td>\n",
       "      <td>Happiness Rank</td>\n",
       "      <td>yes</td>\n",
       "      <td>no</td>\n",
       "      <td>no</td>\n",
       "    </tr>\n",
       "    <tr>\n",
       "      <th>2</th>\n",
       "      <td>-0.18</td>\n",
       "      <td>Standard error</td>\n",
       "      <td>no</td>\n",
       "      <td>yes</td>\n",
       "      <td>no</td>\n",
       "    </tr>\n",
       "  </tbody>\n",
       "</table>\n",
       "</div>"
      ],
      "text/plain": [
       "  Correlation wih target     column name Normalised Skewness Outliers\n",
       "0                  -0.69          Region         no      yes       no\n",
       "1                  -0.99  Happiness Rank        yes       no       no\n",
       "2                  -0.18  Standard error         no      yes       no"
      ]
     },
     "execution_count": 41,
     "metadata": {},
     "output_type": "execute_result"
    }
   ],
   "source": [
    "#COMPARING DATAS WHICH TO BE CLEANED\n",
    "\n",
    "toclean=pd.DataFrame([[\"-0.69\",\"Region\",\"no\",\"yes\",\"no\"],[\"-0.99\",\"Happiness Rank\",\"yes\",\"no\",\"no\"],[\"-0.18\",\"Standard error\",\"no\",\"yes\",\"no\"]],\n",
    "                    columns=[\"Correlation wih target\",\"column name\",\"Normalised\",\"Skewness\",\"Outliers\"])\n",
    "toclean"
   ]
  },
  {
   "cell_type": "markdown",
   "metadata": {},
   "source": [
    "The column \"Happiness Rank\" is highly correlated in negative manner. But correlated in some way\n",
    "\n",
    "The column \"Region\" and \"Standard error\" is negatively correlated and is not normalised\n",
    "\n",
    "so dropping column \"Region\" and \"Standard error\" as dataset demands"
   ]
  },
  {
   "cell_type": "markdown",
   "metadata": {},
   "source": [
    "# Dropping columns not related to target"
   ]
  },
  {
   "cell_type": "code",
   "execution_count": 42,
   "metadata": {},
   "outputs": [],
   "source": [
    "df.drop([\"Region\",\"Standard Error\",\"Happiness Rank\"], axis=1, inplace=True)\n"
   ]
  },
  {
   "cell_type": "code",
   "execution_count": 43,
   "metadata": {},
   "outputs": [
    {
     "data": {
      "text/html": [
       "<div>\n",
       "<style scoped>\n",
       "    .dataframe tbody tr th:only-of-type {\n",
       "        vertical-align: middle;\n",
       "    }\n",
       "\n",
       "    .dataframe tbody tr th {\n",
       "        vertical-align: top;\n",
       "    }\n",
       "\n",
       "    .dataframe thead th {\n",
       "        text-align: right;\n",
       "    }\n",
       "</style>\n",
       "<table border=\"1\" class=\"dataframe\">\n",
       "  <thead>\n",
       "    <tr style=\"text-align: right;\">\n",
       "      <th></th>\n",
       "      <th>Happiness Score</th>\n",
       "      <th>Economy (GDP per Capita)</th>\n",
       "      <th>Family</th>\n",
       "      <th>Health (Life Expectancy)</th>\n",
       "      <th>Freedom</th>\n",
       "      <th>Trust (Government Corruption)</th>\n",
       "      <th>Generosity</th>\n",
       "      <th>Dystopia Residual</th>\n",
       "    </tr>\n",
       "  </thead>\n",
       "  <tbody>\n",
       "    <tr>\n",
       "      <th>0</th>\n",
       "      <td>7.587</td>\n",
       "      <td>1.39651</td>\n",
       "      <td>1.34951</td>\n",
       "      <td>0.94143</td>\n",
       "      <td>0.66557</td>\n",
       "      <td>0.41978</td>\n",
       "      <td>0.29678</td>\n",
       "      <td>2.51738</td>\n",
       "    </tr>\n",
       "    <tr>\n",
       "      <th>1</th>\n",
       "      <td>7.561</td>\n",
       "      <td>1.30232</td>\n",
       "      <td>1.40223</td>\n",
       "      <td>0.94784</td>\n",
       "      <td>0.62877</td>\n",
       "      <td>0.14145</td>\n",
       "      <td>0.43630</td>\n",
       "      <td>2.70201</td>\n",
       "    </tr>\n",
       "    <tr>\n",
       "      <th>2</th>\n",
       "      <td>7.527</td>\n",
       "      <td>1.32548</td>\n",
       "      <td>1.36058</td>\n",
       "      <td>0.87464</td>\n",
       "      <td>0.64938</td>\n",
       "      <td>0.48357</td>\n",
       "      <td>0.34139</td>\n",
       "      <td>2.49204</td>\n",
       "    </tr>\n",
       "    <tr>\n",
       "      <th>3</th>\n",
       "      <td>7.522</td>\n",
       "      <td>1.45900</td>\n",
       "      <td>1.33095</td>\n",
       "      <td>0.88521</td>\n",
       "      <td>0.66973</td>\n",
       "      <td>0.36503</td>\n",
       "      <td>0.34699</td>\n",
       "      <td>2.46531</td>\n",
       "    </tr>\n",
       "    <tr>\n",
       "      <th>4</th>\n",
       "      <td>7.427</td>\n",
       "      <td>1.32629</td>\n",
       "      <td>1.32261</td>\n",
       "      <td>0.90563</td>\n",
       "      <td>0.63297</td>\n",
       "      <td>0.32957</td>\n",
       "      <td>0.45811</td>\n",
       "      <td>2.45176</td>\n",
       "    </tr>\n",
       "    <tr>\n",
       "      <th>...</th>\n",
       "      <td>...</td>\n",
       "      <td>...</td>\n",
       "      <td>...</td>\n",
       "      <td>...</td>\n",
       "      <td>...</td>\n",
       "      <td>...</td>\n",
       "      <td>...</td>\n",
       "      <td>...</td>\n",
       "    </tr>\n",
       "    <tr>\n",
       "      <th>153</th>\n",
       "      <td>3.465</td>\n",
       "      <td>0.22208</td>\n",
       "      <td>0.77370</td>\n",
       "      <td>0.42864</td>\n",
       "      <td>0.59201</td>\n",
       "      <td>0.55191</td>\n",
       "      <td>0.22628</td>\n",
       "      <td>0.67042</td>\n",
       "    </tr>\n",
       "    <tr>\n",
       "      <th>154</th>\n",
       "      <td>3.340</td>\n",
       "      <td>0.28665</td>\n",
       "      <td>0.35386</td>\n",
       "      <td>0.31910</td>\n",
       "      <td>0.48450</td>\n",
       "      <td>0.08010</td>\n",
       "      <td>0.18260</td>\n",
       "      <td>1.63328</td>\n",
       "    </tr>\n",
       "    <tr>\n",
       "      <th>155</th>\n",
       "      <td>3.006</td>\n",
       "      <td>0.66320</td>\n",
       "      <td>0.47489</td>\n",
       "      <td>0.72193</td>\n",
       "      <td>0.15684</td>\n",
       "      <td>0.18906</td>\n",
       "      <td>0.47179</td>\n",
       "      <td>0.32858</td>\n",
       "    </tr>\n",
       "    <tr>\n",
       "      <th>156</th>\n",
       "      <td>2.905</td>\n",
       "      <td>0.01530</td>\n",
       "      <td>0.41587</td>\n",
       "      <td>0.22396</td>\n",
       "      <td>0.11850</td>\n",
       "      <td>0.10062</td>\n",
       "      <td>0.19727</td>\n",
       "      <td>1.83302</td>\n",
       "    </tr>\n",
       "    <tr>\n",
       "      <th>157</th>\n",
       "      <td>2.839</td>\n",
       "      <td>0.20868</td>\n",
       "      <td>0.13995</td>\n",
       "      <td>0.28443</td>\n",
       "      <td>0.36453</td>\n",
       "      <td>0.10731</td>\n",
       "      <td>0.16681</td>\n",
       "      <td>1.56726</td>\n",
       "    </tr>\n",
       "  </tbody>\n",
       "</table>\n",
       "<p>158 rows × 8 columns</p>\n",
       "</div>"
      ],
      "text/plain": [
       "     Happiness Score  Economy (GDP per Capita)   Family  \\\n",
       "0              7.587                   1.39651  1.34951   \n",
       "1              7.561                   1.30232  1.40223   \n",
       "2              7.527                   1.32548  1.36058   \n",
       "3              7.522                   1.45900  1.33095   \n",
       "4              7.427                   1.32629  1.32261   \n",
       "..               ...                       ...      ...   \n",
       "153            3.465                   0.22208  0.77370   \n",
       "154            3.340                   0.28665  0.35386   \n",
       "155            3.006                   0.66320  0.47489   \n",
       "156            2.905                   0.01530  0.41587   \n",
       "157            2.839                   0.20868  0.13995   \n",
       "\n",
       "     Health (Life Expectancy)  Freedom  Trust (Government Corruption)  \\\n",
       "0                     0.94143  0.66557                        0.41978   \n",
       "1                     0.94784  0.62877                        0.14145   \n",
       "2                     0.87464  0.64938                        0.48357   \n",
       "3                     0.88521  0.66973                        0.36503   \n",
       "4                     0.90563  0.63297                        0.32957   \n",
       "..                        ...      ...                            ...   \n",
       "153                   0.42864  0.59201                        0.55191   \n",
       "154                   0.31910  0.48450                        0.08010   \n",
       "155                   0.72193  0.15684                        0.18906   \n",
       "156                   0.22396  0.11850                        0.10062   \n",
       "157                   0.28443  0.36453                        0.10731   \n",
       "\n",
       "     Generosity  Dystopia Residual  \n",
       "0       0.29678            2.51738  \n",
       "1       0.43630            2.70201  \n",
       "2       0.34139            2.49204  \n",
       "3       0.34699            2.46531  \n",
       "4       0.45811            2.45176  \n",
       "..          ...                ...  \n",
       "153     0.22628            0.67042  \n",
       "154     0.18260            1.63328  \n",
       "155     0.47179            0.32858  \n",
       "156     0.19727            1.83302  \n",
       "157     0.16681            1.56726  \n",
       "\n",
       "[158 rows x 8 columns]"
      ]
     },
     "execution_count": 43,
     "metadata": {},
     "output_type": "execute_result"
    }
   ],
   "source": [
    "df"
   ]
  },
  {
   "cell_type": "markdown",
   "metadata": {},
   "source": [
    "# REMOVING OUTLIERS"
   ]
  },
  {
   "cell_type": "markdown",
   "metadata": {},
   "source": [
    "Z SCORE TECHNIQUE"
   ]
  },
  {
   "cell_type": "code",
   "execution_count": 44,
   "metadata": {},
   "outputs": [
    {
     "data": {
      "text/plain": [
       "(158, 8)"
      ]
     },
     "execution_count": 44,
     "metadata": {},
     "output_type": "execute_result"
    }
   ],
   "source": [
    "from scipy.stats import zscore\n",
    "z=np.abs(zscore(df))\n",
    "z.shape"
   ]
  },
  {
   "cell_type": "code",
   "execution_count": 45,
   "metadata": {},
   "outputs": [
    {
     "name": "stdout",
     "output_type": "stream",
     "text": [
      "(array([ 27, 128, 147, 153, 155, 157], dtype=int64), array([5, 6, 2, 5, 7, 2], dtype=int64))\n"
     ]
    }
   ],
   "source": [
    "threshold=3\n",
    "print(np.where(z>3))"
   ]
  },
  {
   "cell_type": "code",
   "execution_count": 46,
   "metadata": {},
   "outputs": [
    {
     "data": {
      "text/plain": [
       "(152, 8)"
      ]
     },
     "execution_count": 46,
     "metadata": {},
     "output_type": "execute_result"
    }
   ],
   "source": [
    "df_new=df[(z<3).all(axis=1)]\n",
    "df_new.shape"
   ]
  },
  {
   "cell_type": "markdown",
   "metadata": {},
   "source": [
    "percentage data loss"
   ]
  },
  {
   "cell_type": "code",
   "execution_count": 47,
   "metadata": {},
   "outputs": [
    {
     "data": {
      "text/plain": [
       "3.79746835443038"
      ]
     },
     "execution_count": 47,
     "metadata": {},
     "output_type": "execute_result"
    }
   ],
   "source": [
    "loss_percentage=(158-152)/158*100\n",
    "loss_percentage"
   ]
  },
  {
   "cell_type": "code",
   "execution_count": 48,
   "metadata": {},
   "outputs": [
    {
     "data": {
      "text/html": [
       "<div>\n",
       "<style scoped>\n",
       "    .dataframe tbody tr th:only-of-type {\n",
       "        vertical-align: middle;\n",
       "    }\n",
       "\n",
       "    .dataframe tbody tr th {\n",
       "        vertical-align: top;\n",
       "    }\n",
       "\n",
       "    .dataframe thead th {\n",
       "        text-align: right;\n",
       "    }\n",
       "</style>\n",
       "<table border=\"1\" class=\"dataframe\">\n",
       "  <thead>\n",
       "    <tr style=\"text-align: right;\">\n",
       "      <th></th>\n",
       "      <th>Happiness Score</th>\n",
       "      <th>Economy (GDP per Capita)</th>\n",
       "      <th>Family</th>\n",
       "      <th>Health (Life Expectancy)</th>\n",
       "      <th>Freedom</th>\n",
       "      <th>Trust (Government Corruption)</th>\n",
       "      <th>Generosity</th>\n",
       "      <th>Dystopia Residual</th>\n",
       "    </tr>\n",
       "  </thead>\n",
       "  <tbody>\n",
       "    <tr>\n",
       "      <th>0</th>\n",
       "      <td>7.587</td>\n",
       "      <td>1.39651</td>\n",
       "      <td>1.34951</td>\n",
       "      <td>0.94143</td>\n",
       "      <td>0.66557</td>\n",
       "      <td>0.41978</td>\n",
       "      <td>0.29678</td>\n",
       "      <td>2.51738</td>\n",
       "    </tr>\n",
       "    <tr>\n",
       "      <th>1</th>\n",
       "      <td>7.561</td>\n",
       "      <td>1.30232</td>\n",
       "      <td>1.40223</td>\n",
       "      <td>0.94784</td>\n",
       "      <td>0.62877</td>\n",
       "      <td>0.14145</td>\n",
       "      <td>0.43630</td>\n",
       "      <td>2.70201</td>\n",
       "    </tr>\n",
       "    <tr>\n",
       "      <th>2</th>\n",
       "      <td>7.527</td>\n",
       "      <td>1.32548</td>\n",
       "      <td>1.36058</td>\n",
       "      <td>0.87464</td>\n",
       "      <td>0.64938</td>\n",
       "      <td>0.48357</td>\n",
       "      <td>0.34139</td>\n",
       "      <td>2.49204</td>\n",
       "    </tr>\n",
       "    <tr>\n",
       "      <th>3</th>\n",
       "      <td>7.522</td>\n",
       "      <td>1.45900</td>\n",
       "      <td>1.33095</td>\n",
       "      <td>0.88521</td>\n",
       "      <td>0.66973</td>\n",
       "      <td>0.36503</td>\n",
       "      <td>0.34699</td>\n",
       "      <td>2.46531</td>\n",
       "    </tr>\n",
       "    <tr>\n",
       "      <th>4</th>\n",
       "      <td>7.427</td>\n",
       "      <td>1.32629</td>\n",
       "      <td>1.32261</td>\n",
       "      <td>0.90563</td>\n",
       "      <td>0.63297</td>\n",
       "      <td>0.32957</td>\n",
       "      <td>0.45811</td>\n",
       "      <td>2.45176</td>\n",
       "    </tr>\n",
       "    <tr>\n",
       "      <th>...</th>\n",
       "      <td>...</td>\n",
       "      <td>...</td>\n",
       "      <td>...</td>\n",
       "      <td>...</td>\n",
       "      <td>...</td>\n",
       "      <td>...</td>\n",
       "      <td>...</td>\n",
       "      <td>...</td>\n",
       "    </tr>\n",
       "    <tr>\n",
       "      <th>150</th>\n",
       "      <td>3.655</td>\n",
       "      <td>0.46534</td>\n",
       "      <td>0.77115</td>\n",
       "      <td>0.15185</td>\n",
       "      <td>0.46866</td>\n",
       "      <td>0.17922</td>\n",
       "      <td>0.20165</td>\n",
       "      <td>1.41723</td>\n",
       "    </tr>\n",
       "    <tr>\n",
       "      <th>151</th>\n",
       "      <td>3.587</td>\n",
       "      <td>0.25812</td>\n",
       "      <td>0.85188</td>\n",
       "      <td>0.27125</td>\n",
       "      <td>0.39493</td>\n",
       "      <td>0.12832</td>\n",
       "      <td>0.21747</td>\n",
       "      <td>1.46494</td>\n",
       "    </tr>\n",
       "    <tr>\n",
       "      <th>152</th>\n",
       "      <td>3.575</td>\n",
       "      <td>0.31982</td>\n",
       "      <td>0.30285</td>\n",
       "      <td>0.30335</td>\n",
       "      <td>0.23414</td>\n",
       "      <td>0.09719</td>\n",
       "      <td>0.36510</td>\n",
       "      <td>1.95210</td>\n",
       "    </tr>\n",
       "    <tr>\n",
       "      <th>154</th>\n",
       "      <td>3.340</td>\n",
       "      <td>0.28665</td>\n",
       "      <td>0.35386</td>\n",
       "      <td>0.31910</td>\n",
       "      <td>0.48450</td>\n",
       "      <td>0.08010</td>\n",
       "      <td>0.18260</td>\n",
       "      <td>1.63328</td>\n",
       "    </tr>\n",
       "    <tr>\n",
       "      <th>156</th>\n",
       "      <td>2.905</td>\n",
       "      <td>0.01530</td>\n",
       "      <td>0.41587</td>\n",
       "      <td>0.22396</td>\n",
       "      <td>0.11850</td>\n",
       "      <td>0.10062</td>\n",
       "      <td>0.19727</td>\n",
       "      <td>1.83302</td>\n",
       "    </tr>\n",
       "  </tbody>\n",
       "</table>\n",
       "<p>152 rows × 8 columns</p>\n",
       "</div>"
      ],
      "text/plain": [
       "     Happiness Score  Economy (GDP per Capita)   Family  \\\n",
       "0              7.587                   1.39651  1.34951   \n",
       "1              7.561                   1.30232  1.40223   \n",
       "2              7.527                   1.32548  1.36058   \n",
       "3              7.522                   1.45900  1.33095   \n",
       "4              7.427                   1.32629  1.32261   \n",
       "..               ...                       ...      ...   \n",
       "150            3.655                   0.46534  0.77115   \n",
       "151            3.587                   0.25812  0.85188   \n",
       "152            3.575                   0.31982  0.30285   \n",
       "154            3.340                   0.28665  0.35386   \n",
       "156            2.905                   0.01530  0.41587   \n",
       "\n",
       "     Health (Life Expectancy)  Freedom  Trust (Government Corruption)  \\\n",
       "0                     0.94143  0.66557                        0.41978   \n",
       "1                     0.94784  0.62877                        0.14145   \n",
       "2                     0.87464  0.64938                        0.48357   \n",
       "3                     0.88521  0.66973                        0.36503   \n",
       "4                     0.90563  0.63297                        0.32957   \n",
       "..                        ...      ...                            ...   \n",
       "150                   0.15185  0.46866                        0.17922   \n",
       "151                   0.27125  0.39493                        0.12832   \n",
       "152                   0.30335  0.23414                        0.09719   \n",
       "154                   0.31910  0.48450                        0.08010   \n",
       "156                   0.22396  0.11850                        0.10062   \n",
       "\n",
       "     Generosity  Dystopia Residual  \n",
       "0       0.29678            2.51738  \n",
       "1       0.43630            2.70201  \n",
       "2       0.34139            2.49204  \n",
       "3       0.34699            2.46531  \n",
       "4       0.45811            2.45176  \n",
       "..          ...                ...  \n",
       "150     0.20165            1.41723  \n",
       "151     0.21747            1.46494  \n",
       "152     0.36510            1.95210  \n",
       "154     0.18260            1.63328  \n",
       "156     0.19727            1.83302  \n",
       "\n",
       "[152 rows x 8 columns]"
      ]
     },
     "execution_count": 48,
     "metadata": {},
     "output_type": "execute_result"
    }
   ],
   "source": [
    "df_new"
   ]
  },
  {
   "cell_type": "markdown",
   "metadata": {},
   "source": [
    "# preparing dataset for model training\n",
    "\n",
    "seperating independent and dependent variable"
   ]
  },
  {
   "cell_type": "code",
   "execution_count": 49,
   "metadata": {},
   "outputs": [
    {
     "data": {
      "text/html": [
       "<div>\n",
       "<style scoped>\n",
       "    .dataframe tbody tr th:only-of-type {\n",
       "        vertical-align: middle;\n",
       "    }\n",
       "\n",
       "    .dataframe tbody tr th {\n",
       "        vertical-align: top;\n",
       "    }\n",
       "\n",
       "    .dataframe thead th {\n",
       "        text-align: right;\n",
       "    }\n",
       "</style>\n",
       "<table border=\"1\" class=\"dataframe\">\n",
       "  <thead>\n",
       "    <tr style=\"text-align: right;\">\n",
       "      <th></th>\n",
       "      <th>Economy (GDP per Capita)</th>\n",
       "      <th>Family</th>\n",
       "      <th>Health (Life Expectancy)</th>\n",
       "      <th>Freedom</th>\n",
       "      <th>Trust (Government Corruption)</th>\n",
       "      <th>Generosity</th>\n",
       "      <th>Dystopia Residual</th>\n",
       "    </tr>\n",
       "  </thead>\n",
       "  <tbody>\n",
       "    <tr>\n",
       "      <th>0</th>\n",
       "      <td>1.39651</td>\n",
       "      <td>1.34951</td>\n",
       "      <td>0.94143</td>\n",
       "      <td>0.66557</td>\n",
       "      <td>0.41978</td>\n",
       "      <td>0.29678</td>\n",
       "      <td>2.51738</td>\n",
       "    </tr>\n",
       "    <tr>\n",
       "      <th>1</th>\n",
       "      <td>1.30232</td>\n",
       "      <td>1.40223</td>\n",
       "      <td>0.94784</td>\n",
       "      <td>0.62877</td>\n",
       "      <td>0.14145</td>\n",
       "      <td>0.43630</td>\n",
       "      <td>2.70201</td>\n",
       "    </tr>\n",
       "    <tr>\n",
       "      <th>2</th>\n",
       "      <td>1.32548</td>\n",
       "      <td>1.36058</td>\n",
       "      <td>0.87464</td>\n",
       "      <td>0.64938</td>\n",
       "      <td>0.48357</td>\n",
       "      <td>0.34139</td>\n",
       "      <td>2.49204</td>\n",
       "    </tr>\n",
       "    <tr>\n",
       "      <th>3</th>\n",
       "      <td>1.45900</td>\n",
       "      <td>1.33095</td>\n",
       "      <td>0.88521</td>\n",
       "      <td>0.66973</td>\n",
       "      <td>0.36503</td>\n",
       "      <td>0.34699</td>\n",
       "      <td>2.46531</td>\n",
       "    </tr>\n",
       "    <tr>\n",
       "      <th>4</th>\n",
       "      <td>1.32629</td>\n",
       "      <td>1.32261</td>\n",
       "      <td>0.90563</td>\n",
       "      <td>0.63297</td>\n",
       "      <td>0.32957</td>\n",
       "      <td>0.45811</td>\n",
       "      <td>2.45176</td>\n",
       "    </tr>\n",
       "    <tr>\n",
       "      <th>...</th>\n",
       "      <td>...</td>\n",
       "      <td>...</td>\n",
       "      <td>...</td>\n",
       "      <td>...</td>\n",
       "      <td>...</td>\n",
       "      <td>...</td>\n",
       "      <td>...</td>\n",
       "    </tr>\n",
       "    <tr>\n",
       "      <th>150</th>\n",
       "      <td>0.46534</td>\n",
       "      <td>0.77115</td>\n",
       "      <td>0.15185</td>\n",
       "      <td>0.46866</td>\n",
       "      <td>0.17922</td>\n",
       "      <td>0.20165</td>\n",
       "      <td>1.41723</td>\n",
       "    </tr>\n",
       "    <tr>\n",
       "      <th>151</th>\n",
       "      <td>0.25812</td>\n",
       "      <td>0.85188</td>\n",
       "      <td>0.27125</td>\n",
       "      <td>0.39493</td>\n",
       "      <td>0.12832</td>\n",
       "      <td>0.21747</td>\n",
       "      <td>1.46494</td>\n",
       "    </tr>\n",
       "    <tr>\n",
       "      <th>152</th>\n",
       "      <td>0.31982</td>\n",
       "      <td>0.30285</td>\n",
       "      <td>0.30335</td>\n",
       "      <td>0.23414</td>\n",
       "      <td>0.09719</td>\n",
       "      <td>0.36510</td>\n",
       "      <td>1.95210</td>\n",
       "    </tr>\n",
       "    <tr>\n",
       "      <th>154</th>\n",
       "      <td>0.28665</td>\n",
       "      <td>0.35386</td>\n",
       "      <td>0.31910</td>\n",
       "      <td>0.48450</td>\n",
       "      <td>0.08010</td>\n",
       "      <td>0.18260</td>\n",
       "      <td>1.63328</td>\n",
       "    </tr>\n",
       "    <tr>\n",
       "      <th>156</th>\n",
       "      <td>0.01530</td>\n",
       "      <td>0.41587</td>\n",
       "      <td>0.22396</td>\n",
       "      <td>0.11850</td>\n",
       "      <td>0.10062</td>\n",
       "      <td>0.19727</td>\n",
       "      <td>1.83302</td>\n",
       "    </tr>\n",
       "  </tbody>\n",
       "</table>\n",
       "<p>152 rows × 7 columns</p>\n",
       "</div>"
      ],
      "text/plain": [
       "     Economy (GDP per Capita)   Family  Health (Life Expectancy)  Freedom  \\\n",
       "0                     1.39651  1.34951                   0.94143  0.66557   \n",
       "1                     1.30232  1.40223                   0.94784  0.62877   \n",
       "2                     1.32548  1.36058                   0.87464  0.64938   \n",
       "3                     1.45900  1.33095                   0.88521  0.66973   \n",
       "4                     1.32629  1.32261                   0.90563  0.63297   \n",
       "..                        ...      ...                       ...      ...   \n",
       "150                   0.46534  0.77115                   0.15185  0.46866   \n",
       "151                   0.25812  0.85188                   0.27125  0.39493   \n",
       "152                   0.31982  0.30285                   0.30335  0.23414   \n",
       "154                   0.28665  0.35386                   0.31910  0.48450   \n",
       "156                   0.01530  0.41587                   0.22396  0.11850   \n",
       "\n",
       "     Trust (Government Corruption)  Generosity  Dystopia Residual  \n",
       "0                          0.41978     0.29678            2.51738  \n",
       "1                          0.14145     0.43630            2.70201  \n",
       "2                          0.48357     0.34139            2.49204  \n",
       "3                          0.36503     0.34699            2.46531  \n",
       "4                          0.32957     0.45811            2.45176  \n",
       "..                             ...         ...                ...  \n",
       "150                        0.17922     0.20165            1.41723  \n",
       "151                        0.12832     0.21747            1.46494  \n",
       "152                        0.09719     0.36510            1.95210  \n",
       "154                        0.08010     0.18260            1.63328  \n",
       "156                        0.10062     0.19727            1.83302  \n",
       "\n",
       "[152 rows x 7 columns]"
      ]
     },
     "execution_count": 49,
     "metadata": {},
     "output_type": "execute_result"
    }
   ],
   "source": [
    "x=df_new.drop([\"Happiness Score\"],axis=1)\n",
    "x"
   ]
  },
  {
   "cell_type": "code",
   "execution_count": 50,
   "metadata": {},
   "outputs": [
    {
     "data": {
      "text/plain": [
       "0      7.587\n",
       "1      7.561\n",
       "2      7.527\n",
       "3      7.522\n",
       "4      7.427\n",
       "       ...  \n",
       "150    3.655\n",
       "151    3.587\n",
       "152    3.575\n",
       "154    3.340\n",
       "156    2.905\n",
       "Name: Happiness Score, Length: 152, dtype: float64"
      ]
     },
     "execution_count": 50,
     "metadata": {},
     "output_type": "execute_result"
    }
   ],
   "source": [
    "y=df_new[\"Happiness Score\"]\n",
    "y"
   ]
  },
  {
   "cell_type": "markdown",
   "metadata": {},
   "source": [
    "# Removing skewness using power transform"
   ]
  },
  {
   "cell_type": "code",
   "execution_count": 51,
   "metadata": {},
   "outputs": [
    {
     "data": {
      "text/plain": [
       "array([[ 1.49611066,  1.66761863,  1.48143363, ...,  1.82206989,\n",
       "         0.65595135,  0.74453432],\n",
       "       [ 1.19771755,  2.02101055,  1.52291872, ...,  0.35523025,\n",
       "         1.57166845,  1.10426166],\n",
       "       [ 1.27024567,  1.74015288,  1.06659878, ...,  1.95457488,\n",
       "         0.97742359,  0.69531125],\n",
       "       ...,\n",
       "       [-1.35114937, -2.09149028, -1.35026722, ..., -0.16357633,\n",
       "         1.13659521, -0.34441601],\n",
       "       [-1.41833371, -2.01503268, -1.30696688, ..., -0.40394411,\n",
       "        -0.32359556, -0.94945138],\n",
       "       [-1.91827055, -1.91154627, -1.55177307, ..., -0.11827784,\n",
       "        -0.18319784, -0.57122297]])"
      ]
     },
     "execution_count": 51,
     "metadata": {},
     "output_type": "execute_result"
    }
   ],
   "source": [
    "#Transforming data to remove skewness\n",
    "from sklearn.preprocessing import power_transform\n",
    "x=power_transform(x, method='yeo-johnson',standardize=True, copy=True)\n",
    "x\n"
   ]
  },
  {
   "cell_type": "markdown",
   "metadata": {},
   "source": [
    "# StandardScaler \n",
    "\n",
    "It removes the mean and scales each feature/variable to unit variance."
   ]
  },
  {
   "cell_type": "code",
   "execution_count": 52,
   "metadata": {},
   "outputs": [
    {
     "data": {
      "text/plain": [
       "array([[ 1.49611066,  1.66761863,  1.48143363, ...,  1.82206989,\n",
       "         0.65595135,  0.74453432],\n",
       "       [ 1.19771755,  2.02101055,  1.52291872, ...,  0.35523025,\n",
       "         1.57166845,  1.10426166],\n",
       "       [ 1.27024567,  1.74015288,  1.06659878, ...,  1.95457488,\n",
       "         0.97742359,  0.69531125],\n",
       "       ...,\n",
       "       [-1.35114937, -2.09149028, -1.35026722, ..., -0.16357633,\n",
       "         1.13659521, -0.34441601],\n",
       "       [-1.41833371, -2.01503268, -1.30696688, ..., -0.40394411,\n",
       "        -0.32359556, -0.94945138],\n",
       "       [-1.91827055, -1.91154627, -1.55177307, ..., -0.11827784,\n",
       "        -0.18319784, -0.57122297]])"
      ]
     },
     "execution_count": 52,
     "metadata": {},
     "output_type": "execute_result"
    }
   ],
   "source": [
    "from sklearn.preprocessing import StandardScaler\n",
    "sc=StandardScaler()\n",
    "x_t=sc.fit_transform(x)\n",
    "x_t"
   ]
  },
  {
   "cell_type": "markdown",
   "metadata": {},
   "source": [
    "Data cleaning process is done .lets proceed for testing and training"
   ]
  },
  {
   "cell_type": "markdown",
   "metadata": {},
   "source": [
    "# splitting the testing and training data"
   ]
  },
  {
   "cell_type": "code",
   "execution_count": 53,
   "metadata": {},
   "outputs": [],
   "source": [
    "from sklearn.linear_model import LinearRegression\n",
    "from sklearn.model_selection import cross_val_score\n",
    "from sklearn.metrics import r2_score\n",
    "from sklearn.model_selection import train_test_split\n",
    "from sklearn.metrics import accuracy_score\n"
   ]
  },
  {
   "cell_type": "code",
   "execution_count": 54,
   "metadata": {
    "scrolled": false
   },
   "outputs": [
    {
     "name": "stdout",
     "output_type": "stream",
     "text": [
      "At random state: 0 \n",
      "The model performs well\n",
      "training r2 score is :  99.42960124884\n",
      "testing r2 score is :  99.3833324441092\n",
      "At random state: 2 \n",
      "The model performs well\n",
      "training r2 score is :  99.40485529357551\n",
      "testing r2 score is :  99.42662590809259\n",
      "At random state: 4 \n",
      "The model performs well\n",
      "training r2 score is :  99.3984582164977\n",
      "testing r2 score is :  99.36872256760144\n",
      "At random state: 6 \n",
      "The model performs well\n",
      "training r2 score is :  99.42646088246495\n",
      "testing r2 score is :  99.40519226940056\n",
      "At random state: 15 \n",
      "The model performs well\n",
      "training r2 score is :  99.41304830674956\n",
      "testing r2 score is :  99.4256713599902\n",
      "At random state: 19 \n",
      "The model performs well\n",
      "training r2 score is :  99.41937144718132\n",
      "testing r2 score is :  99.36569564299998\n",
      "At random state: 20 \n",
      "The model performs well\n",
      "training r2 score is :  99.41787236603403\n",
      "testing r2 score is :  99.39113158196099\n",
      "At random state: 21 \n",
      "The model performs well\n",
      "training r2 score is :  99.41913273857944\n",
      "testing r2 score is :  99.3500853722885\n",
      "At random state: 24 \n",
      "The model performs well\n",
      "training r2 score is :  99.41770500870581\n",
      "testing r2 score is :  99.39633023987068\n",
      "At random state: 25 \n",
      "The model performs well\n",
      "training r2 score is :  99.41825713652416\n",
      "testing r2 score is :  99.4335967201496\n",
      "At random state: 29 \n",
      "The model performs well\n",
      "training r2 score is :  99.41604909328073\n",
      "testing r2 score is :  99.39872522558203\n",
      "At random state: 35 \n",
      "The model performs well\n",
      "training r2 score is :  99.41941500139778\n",
      "testing r2 score is :  99.41805433270517\n",
      "At random state: 40 \n",
      "The model performs well\n",
      "training r2 score is :  99.40637318237367\n",
      "testing r2 score is :  99.43751817603473\n",
      "At random state: 43 \n",
      "The model performs well\n",
      "training r2 score is :  99.41319129120461\n",
      "testing r2 score is :  99.42956048473678\n",
      "At random state: 48 \n",
      "The model performs well\n",
      "training r2 score is :  99.41307923138417\n",
      "testing r2 score is :  99.43266769925515\n",
      "At random state: 53 \n",
      "The model performs well\n",
      "training r2 score is :  99.43219935728641\n",
      "testing r2 score is :  99.38715234777287\n",
      "At random state: 60 \n",
      "The model performs well\n",
      "training r2 score is :  99.41873693812212\n",
      "testing r2 score is :  99.40605865668056\n",
      "At random state: 66 \n",
      "The model performs well\n",
      "training r2 score is :  99.43359074745466\n",
      "testing r2 score is :  99.39120110397617\n",
      "At random state: 73 \n",
      "The model performs well\n",
      "training r2 score is :  99.43281619734442\n",
      "testing r2 score is :  99.36848836508163\n",
      "At random state: 77 \n",
      "The model performs well\n",
      "training r2 score is :  99.42765599887447\n",
      "testing r2 score is :  99.38956138752428\n",
      "At random state: 79 \n",
      "The model performs well\n",
      "training r2 score is :  99.42235150266715\n",
      "testing r2 score is :  99.4385703163474\n",
      "At random state: 84 \n",
      "The model performs well\n",
      "training r2 score is :  99.42535561588507\n",
      "testing r2 score is :  99.42580867448324\n",
      "At random state: 85 \n",
      "The model performs well\n",
      "training r2 score is :  99.42417986563646\n",
      "testing r2 score is :  99.3885108045282\n",
      "At random state: 91 \n",
      "The model performs well\n",
      "training r2 score is :  99.41841944030513\n",
      "testing r2 score is :  99.39850720570554\n",
      "At random state: 95 \n",
      "The model performs well\n",
      "training r2 score is :  99.41878851211071\n",
      "testing r2 score is :  99.42452223808522\n",
      "At random state: 96 \n",
      "The model performs well\n",
      "training r2 score is :  99.41292459565304\n",
      "testing r2 score is :  99.41522597352203\n"
     ]
    }
   ],
   "source": [
    "lr=LinearRegression()\n",
    "for i in range (0,100):\n",
    "    x_train,x_test,y_train,y_test=train_test_split(x,y,random_state=i,test_size=0.20)\n",
    "    lr.fit(x_train,y_train)\n",
    "    pred_train=lr.predict(x_train)\n",
    "    pred_test=lr.predict(x_test)\n",
    "    if round(r2_score(y_train,pred_train)*100,1)==round(r2_score(y_test,pred_test)*100,1):\n",
    "        print(\"At random state:\",i,\"\\nThe model performs well\")\n",
    "        print(\"training r2 score is : \",r2_score(y_train,pred_train)*100)\n",
    "        print(\"testing r2 score is : \",r2_score(y_test,pred_test)*100)"
   ]
  },
  {
   "cell_type": "markdown",
   "metadata": {},
   "source": [
    "we will use random state 28 in the train_test_split in next step"
   ]
  },
  {
   "cell_type": "code",
   "execution_count": 55,
   "metadata": {},
   "outputs": [],
   "source": [
    "#creating train test split using best random state\n",
    "from sklearn.model_selection import train_test_split\n",
    "x_train,x_test,y_train,y_test=train_test_split(x,y,random_state=28,test_size=0.20)\n",
    "\n"
   ]
  },
  {
   "cell_type": "code",
   "execution_count": 56,
   "metadata": {},
   "outputs": [
    {
     "data": {
      "text/plain": [
       "array([[ 1.33846731e-01,  1.45552546e-01, -2.52739034e-01,\n",
       "        -9.81424564e-01,  6.58065670e-01, -1.47859090e+00,\n",
       "         5.79004180e-01],\n",
       "       [ 1.29574169e+00,  1.41102890e+00,  1.41813501e+00,\n",
       "         1.63816043e+00,  1.64451465e+00,  1.56779292e+00,\n",
       "         2.58761963e-01],\n",
       "       [ 1.16240618e+00,  1.38205459e-01,  1.07054479e+00,\n",
       "        -2.89158975e-01, -3.86379033e-01,  3.15670564e-01,\n",
       "         3.68342389e-01],\n",
       "       [ 1.37971965e+00,  1.65054967e-01,  4.40282909e-01,\n",
       "         1.48037914e+00,  1.53508872e+00, -1.59282293e-02,\n",
       "         6.62018039e-01],\n",
       "       [-1.63779472e-01,  1.35753181e+00, -3.17079733e-01,\n",
       "        -2.65242125e-02, -1.34447654e+00,  9.14320303e-01,\n",
       "        -1.48528882e+00],\n",
       "       [ 1.12146980e+00,  1.11494766e+00,  1.50961894e+00,\n",
       "         8.09515452e-01,  9.11835669e-01, -9.43194185e-01,\n",
       "         1.52398954e-01],\n",
       "       [-1.56663712e+00,  4.16900012e-01, -1.25174998e+00,\n",
       "         1.20230088e-01, -5.16583608e-01,  6.09445623e-01,\n",
       "        -1.33575067e+00],\n",
       "       [ 2.61517801e-01, -8.98083049e-01, -3.18397508e-01,\n",
       "        -2.36089794e+00,  3.18235601e-01, -3.56627779e-01,\n",
       "        -3.42030142e-01],\n",
       "       [ 6.53583992e-01,  3.63531323e-01, -1.37864198e-01,\n",
       "         5.52140382e-01, -3.39057445e-01, -1.00019591e+00,\n",
       "         2.21802905e-01],\n",
       "       [-8.59890538e-01, -1.32289491e+00, -1.06208678e+00,\n",
       "        -1.14561297e-01, -1.01210999e+00,  1.21126064e-01,\n",
       "         3.41223664e-01],\n",
       "       [ 3.23451344e-01, -2.68780702e-01,  1.70835070e-01,\n",
       "         8.92121470e-01, -4.77492954e-01,  1.21646081e+00,\n",
       "        -7.07072833e-01],\n",
       "       [-3.45465248e-01, -7.54131840e-01, -1.68027734e+00,\n",
       "        -1.92203044e+00, -5.39176958e-01, -9.41848278e-01,\n",
       "        -3.49588217e-01],\n",
       "       [ 9.08237963e-01,  1.09475076e-01,  1.36734205e+00,\n",
       "         3.57560682e-01,  3.69020158e-01,  3.80807249e-01,\n",
       "        -1.01430112e+00],\n",
       "       [ 1.21489151e+00,  1.26613393e+00,  1.19994986e+00,\n",
       "         1.08205469e+00,  1.03940633e+00,  4.74702141e-02,\n",
       "         5.45576395e-01],\n",
       "       [-1.02137655e+00,  5.10107750e-01, -1.05370382e-01,\n",
       "        -3.68043609e-02, -1.03511678e+00,  6.82426663e-01,\n",
       "         1.93688891e-01],\n",
       "       [ 1.46249377e+00,  5.39604608e-02,  1.96367385e+00,\n",
       "         1.17595623e+00,  1.69114619e+00,  1.32540811e+00,\n",
       "        -2.75627845e+00],\n",
       "       [ 6.79758700e-01,  3.44579390e-01,  1.43054078e-01,\n",
       "        -1.60275646e-01,  3.75227944e-03, -3.20189929e-01,\n",
       "        -7.93258909e-02],\n",
       "       [ 3.59894877e-01, -5.53651422e-01,  7.19204658e-01,\n",
       "         2.95917828e-01,  9.58211165e-01, -7.51883234e-01,\n",
       "         2.88307810e+00],\n",
       "       [-3.40201208e-01,  1.38331707e+00, -5.92671204e-02,\n",
       "         7.23401235e-01, -3.69818319e-01,  9.84362404e-01,\n",
       "         1.09482757e-01],\n",
       "       [-6.92512281e-02, -2.09945684e-01,  5.89173377e-01,\n",
       "         3.24484489e-01,  7.17058967e-01, -1.03279412e+00,\n",
       "         7.87376693e-01],\n",
       "       [-1.09640223e+00, -1.54712118e+00, -1.18048908e+00,\n",
       "         1.44792029e-01,  1.34706420e+00, -3.39883627e-01,\n",
       "        -1.54850677e-01],\n",
       "       [ 1.03940021e+00,  7.58838749e-01,  1.56607534e+00,\n",
       "        -1.11534757e+00, -1.29603738e+00,  9.80435056e-02,\n",
       "        -2.04756052e-01],\n",
       "       [-1.47507872e+00, -7.84362988e-01, -1.43506104e+00,\n",
       "        -3.05469496e-01,  2.15270188e-01,  2.53327026e-03,\n",
       "        -1.26595318e+00],\n",
       "       [ 4.76970806e-01,  8.20268952e-01,  7.03420047e-01,\n",
       "         1.23767841e+00,  1.16163301e+00,  1.34441080e-01,\n",
       "         3.64845654e-01],\n",
       "       [ 2.04868251e+00,  8.80251293e-01,  1.33821735e+00,\n",
       "         1.33860414e+00,  1.71119649e+00,  5.29632110e-01,\n",
       "        -3.10985359e-01],\n",
       "       [-1.42124098e+00, -1.94230732e-01, -1.12207350e+00,\n",
       "        -7.25511843e-01, -7.63897704e-01,  9.93751483e-01,\n",
       "        -1.42334715e+00],\n",
       "       [-1.04121523e+00, -1.05349410e+00, -1.71179641e+00,\n",
       "         2.01198354e-01,  7.03253555e-01, -1.42193535e-01,\n",
       "        -1.35525867e+00],\n",
       "       [ 1.49257354e+00,  1.75130225e-01,  2.23779298e-01,\n",
       "        -8.36072383e-01,  1.53508872e+00, -7.91625336e-01,\n",
       "         5.91856661e-01],\n",
       "       [-1.30564734e+00, -1.08635410e+00, -1.71542101e+00,\n",
       "        -1.26679145e+00, -8.46675930e-01, -3.11348278e-01,\n",
       "        -3.61858329e-01],\n",
       "       [-2.10247632e-01,  5.09433263e-01,  6.42896804e-02,\n",
       "         4.61903360e-01, -1.42161709e+00, -4.41910932e-02,\n",
       "         3.62836569e-01],\n",
       "       [-1.80182166e+00, -9.09160322e-02, -1.83037063e+00,\n",
       "        -6.54235415e-01,  4.98591614e-01,  4.91576469e-02,\n",
       "         1.78992414e+00],\n",
       "       [ 2.89032380e-01, -3.24041005e-01, -2.93521971e-01,\n",
       "         1.17995342e+00,  3.01931454e-01, -4.48976997e-01,\n",
       "         1.27819298e+00],\n",
       "       [-3.85691782e-01, -1.96352095e+00,  2.68711158e-01,\n",
       "        -2.33549169e-01,  1.72659616e+00, -1.77285840e+00,\n",
       "        -1.02083778e+00],\n",
       "       [ 3.74318170e-01, -9.60819035e-01,  8.60656536e-01,\n",
       "        -6.61722379e-01, -9.70121374e-01,  1.21352680e-02,\n",
       "        -1.06756667e+00],\n",
       "       [ 2.01592661e+00,  5.87531756e-01,  2.47004409e-01,\n",
       "         8.47615767e-01,  1.22024295e+00, -5.26186727e-01,\n",
       "        -4.88823983e-01],\n",
       "       [-3.28257077e-01, -9.62048232e-02,  1.68545361e-02,\n",
       "        -2.48682707e-01,  9.45716433e-02, -1.13093416e+00,\n",
       "         1.75765625e+00],\n",
       "       [-7.43563469e-01, -1.91464988e+00, -6.69474421e-01,\n",
       "        -1.84275235e+00, -6.63699713e-02,  9.45082563e-01,\n",
       "         1.89985701e+00],\n",
       "       [ 1.59551981e+00,  3.80305465e-01,  6.90399416e-01,\n",
       "         1.55533792e+00,  1.73374055e+00,  4.01837637e-01,\n",
       "         2.22072739e-01],\n",
       "       [-6.55391945e-01,  1.60877716e+00, -3.38097768e-01,\n",
       "         1.69833429e+00,  1.46780865e+00,  9.92710165e-02,\n",
       "         2.02763347e-01],\n",
       "       [ 9.75131528e-01,  1.43950500e+00,  1.57367031e+00,\n",
       "         1.36075091e-01, -6.55091324e-01, -3.26809131e-01,\n",
       "        -1.59899431e-02],\n",
       "       [-1.44958052e+00, -6.18861377e-02, -1.26281448e+00,\n",
       "        -1.13642229e+00, -3.93743633e-01, -2.53422139e-01,\n",
       "         5.98041490e-01],\n",
       "       [-6.25145290e-01, -1.96997970e+00, -6.67104056e-01,\n",
       "        -2.86116358e-01, -3.33585916e-01,  4.05641235e-01,\n",
       "         2.75484712e-01],\n",
       "       [ 1.90722041e+00, -1.18648165e-01,  2.04774737e+00,\n",
       "         7.50631922e-01,  1.96955544e+00,  7.62071137e-01,\n",
       "        -4.72317436e-01],\n",
       "       [ 1.45975294e-02,  6.19757614e-01, -2.57026987e-02,\n",
       "         1.01957191e+00,  3.64333558e-01, -3.13113555e-03,\n",
       "        -1.73537147e+00],\n",
       "       [ 4.81909132e-04, -4.27044610e-01,  7.31134210e-01,\n",
       "         5.55752467e-01, -1.32068013e+00, -1.43321053e+00,\n",
       "        -5.19158352e-01],\n",
       "       [ 1.28270198e+00,  1.23293230e+00,  1.17652285e+00,\n",
       "         1.33802209e+00,  1.50765709e+00,  1.78998299e+00,\n",
       "         6.44184457e-01],\n",
       "       [ 7.46552767e-01, -4.96129349e-01,  1.11155749e+00,\n",
       "        -2.04208706e+00, -1.61924274e+00, -2.56903646e+00,\n",
       "        -6.32026429e-01],\n",
       "       [-7.48709125e-01,  4.62069075e-01,  3.38931125e-01,\n",
       "         8.45737563e-01,  8.14029372e-01,  5.12466034e-01,\n",
       "         3.69965250e-01],\n",
       "       [ 9.19639328e-01,  6.81457667e-01, -2.64993924e-01,\n",
       "         8.77807838e-01, -1.67772232e+00,  8.15785948e-01,\n",
       "         2.63313495e-01],\n",
       "       [ 3.26797968e-01, -1.65654564e+00,  1.15233218e-01,\n",
       "        -8.96354387e-01, -7.44182576e-01,  1.23824764e+00,\n",
       "        -8.34016379e-01],\n",
       "       [-4.03612662e-01, -1.42563172e+00, -2.87776670e-01,\n",
       "        -1.58721300e-01, -3.25832503e-01, -1.56091164e+00,\n",
       "         6.20963433e-01],\n",
       "       [ 1.08622941e+00,  1.26504209e+00,  1.27874364e+00,\n",
       "         1.17734279e+00,  1.51754477e+00,  2.00840806e+00,\n",
       "        -3.10355118e-01],\n",
       "       [ 8.20789902e-01,  8.06567115e-01,  8.91496852e-01,\n",
       "         1.65390034e-01, -1.34738563e+00, -1.13163512e+00,\n",
       "         1.05702389e+00],\n",
       "       [-1.60525969e+00, -1.51819292e+00, -9.33656434e-01,\n",
       "        -3.86654054e-02,  4.45442412e-01,  2.27571172e-01,\n",
       "         6.11324377e-01],\n",
       "       [-1.05218241e+00, -1.46036234e+00, -2.80902985e-01,\n",
       "         1.73522207e+00, -5.19687848e-01,  1.37934391e+00,\n",
       "        -2.16126311e+00],\n",
       "       [-3.76520858e-01, -1.31202468e-02, -1.35303009e-01,\n",
       "         1.02445343e+00, -1.96785320e-01,  4.86762130e-01,\n",
       "         1.18349823e+00],\n",
       "       [-7.35905932e-01, -5.10792638e-01, -6.30788647e-02,\n",
       "        -1.21213565e+00,  2.23338460e-01, -1.06608445e+00,\n",
       "        -1.69039979e-01],\n",
       "       [ 4.24902867e-01, -6.61570808e-01,  4.72508611e-01,\n",
       "        -5.90008188e-01, -1.79223882e+00, -7.87071622e-01,\n",
       "        -3.84120706e-01],\n",
       "       [-1.25816756e+00, -2.11105228e-01, -1.02028217e+00,\n",
       "        -1.23201307e-01, -7.48249770e-01,  1.20352233e+00,\n",
       "        -6.61367486e-01],\n",
       "       [-1.18869783e+00, -1.88434419e+00, -3.21498471e-01,\n",
       "        -2.17306172e-01,  1.85912249e-01, -4.49184207e-02,\n",
       "         7.45097862e-01],\n",
       "       [ 7.39674442e-01,  9.27051343e-01,  4.97394247e-01,\n",
       "         6.12228353e-02,  4.58624390e-01, -1.37200077e+00,\n",
       "        -1.03513244e+00],\n",
       "       [-1.60953098e+00, -4.07847561e-01, -9.39785923e-01,\n",
       "         1.80916503e-01,  1.77044682e+00,  1.92948440e+00,\n",
       "        -4.16127511e-02],\n",
       "       [-1.23557230e+00, -2.46038668e-02, -1.85797506e+00,\n",
       "        -7.92921945e-01,  1.78585866e-01, -5.09880241e-01,\n",
       "         1.29264588e+00],\n",
       "       [ 1.79154005e-01,  9.84001341e-01,  9.81429116e-01,\n",
       "         1.48900546e+00, -5.12441486e-02,  3.25682875e-01,\n",
       "         2.03855591e+00],\n",
       "       [-1.03004227e+00, -5.47457642e-01, -1.36138133e+00,\n",
       "         3.42937921e-01,  1.74516034e-01, -1.96014099e-01,\n",
       "         9.72119125e-01],\n",
       "       [ 1.09971051e+00,  1.09576552e+00,  1.81080279e+00,\n",
       "         4.00731181e-01,  7.14603302e-01, -1.12941577e+00,\n",
       "        -8.53016029e-01],\n",
       "       [-1.63569965e-01,  1.90220474e-01, -1.63593024e-01,\n",
       "         1.82984698e-01, -1.94943116e+00,  1.98994823e+00,\n",
       "        -5.12327966e-01],\n",
       "       [-1.46990795e+00, -5.06569131e-02, -1.59400319e+00,\n",
       "        -3.47258151e-01,  1.61342954e-01, -2.71551424e-01,\n",
       "        -6.47363287e-01],\n",
       "       [-1.45805556e+00, -1.14015737e+00, -1.10249513e+00,\n",
       "        -1.21621212e+00,  6.40255217e-01,  1.71380790e+00,\n",
       "         2.11087605e-01],\n",
       "       [ 8.25482153e-02,  6.87609203e-01, -1.42052019e+00,\n",
       "        -7.05378147e-01, -2.77880548e-01, -9.83643336e-01,\n",
       "        -7.86419292e-01],\n",
       "       [ 7.90713158e-01,  1.17190992e+00,  5.79822655e-01,\n",
       "        -7.93886231e-01, -1.18945570e+00, -4.58816101e-01,\n",
       "         2.20068287e-01],\n",
       "       [-1.41833371e+00, -2.01503268e+00, -1.30696688e+00,\n",
       "         3.15458199e-01, -4.03944109e-01, -3.23595560e-01,\n",
       "        -9.49451383e-01],\n",
       "       [ 7.74392354e-02,  9.97232418e-01,  8.03019957e-02,\n",
       "         6.90133586e-01, -8.72994522e-01, -3.09892662e-01,\n",
       "         1.40839189e+00],\n",
       "       [-8.57792160e-01, -1.31907882e+00, -1.06424542e+00,\n",
       "        -5.58391087e-01, -4.27166670e-01, -1.31689738e+00,\n",
       "        -3.99681809e-01],\n",
       "       [ 7.71675876e-02, -1.95783984e-01,  2.99876202e-01,\n",
       "        -6.90026437e-01, -8.36498011e-01,  5.71409340e-02,\n",
       "        -7.48987190e-01],\n",
       "       [ 6.48892524e-01,  7.82918057e-01,  4.20928829e-01,\n",
       "        -7.72084566e-01, -1.32542523e+00, -8.90996095e-01,\n",
       "        -1.68402558e+00],\n",
       "       [-1.51244902e+00, -9.84561254e-01, -1.17977133e+00,\n",
       "        -1.29845310e+00,  8.57824228e-01, -4.04087803e-01,\n",
       "        -3.32924719e-01],\n",
       "       [-3.18893781e-01, -1.03467079e+00,  2.71922185e-01,\n",
       "        -1.46102074e+00, -1.09812713e+00, -1.47444800e+00,\n",
       "        -7.12228720e-01],\n",
       "       [-1.82264403e+00, -9.94434657e-01, -1.24194646e+00,\n",
       "        -9.84207232e-01, -6.82415394e-01,  2.30707576e-01,\n",
       "         1.25146859e+00],\n",
       "       [ 7.63921793e-01,  4.49311753e-01,  1.06988691e+00,\n",
       "         5.38611119e-01, -1.69197890e+00, -7.90215357e-01,\n",
       "        -1.63969234e+00],\n",
       "       [ 3.36255382e-01,  2.82787674e-01,  4.59830735e-01,\n",
       "        -8.63543353e-01, -1.73976807e+00, -9.89531947e-01,\n",
       "        -2.31126270e+00],\n",
       "       [ 1.26484036e+00,  8.61219711e-01,  3.59496920e-01,\n",
       "         1.03648229e-01,  1.45840901e+00, -4.11934012e-01,\n",
       "        -7.51563074e-01],\n",
       "       [ 1.27791887e+00,  1.34994905e+00,  1.17054499e+00,\n",
       "         1.32979446e+00,  9.93990126e-01,  5.43680707e-01,\n",
       "        -3.13074005e-02],\n",
       "       [ 1.27024567e+00,  1.74015288e+00,  1.06659878e+00,\n",
       "         1.62217010e+00,  1.95457488e+00,  9.77423590e-01,\n",
       "         6.95311253e-01],\n",
       "       [ 9.70443214e-01,  9.04499628e-01,  1.30643067e+00,\n",
       "        -1.83812348e-01, -4.37509724e-01,  9.10253559e-01,\n",
       "         1.86324168e+00],\n",
       "       [-1.25760117e+00, -3.06616194e-01, -9.50957339e-01,\n",
       "        -4.82148401e-01, -3.48435400e-02, -7.95278345e-02,\n",
       "        -1.30526513e+00],\n",
       "       [-1.26809698e+00, -7.39492158e-01, -4.58093301e-01,\n",
       "        -3.84779799e-01, -7.36741981e-01,  8.48232755e-01,\n",
       "        -3.36265458e-01],\n",
       "       [ 1.30324590e+00,  1.79910767e+00,  1.19174176e+00,\n",
       "         1.35475113e+00,  1.37507077e+00,  1.69825025e+00,\n",
       "        -2.99353396e-01],\n",
       "       [ 4.75020178e-01, -4.28769218e-01,  2.81067657e-01,\n",
       "        -1.30395878e+00,  5.12012523e-01, -9.52064645e-01,\n",
       "        -8.96418942e-02],\n",
       "       [-1.91827055e+00, -1.91154627e+00, -1.55177307e+00,\n",
       "        -1.85450203e+00, -1.18277836e-01, -1.83197844e-01,\n",
       "        -5.71222971e-01],\n",
       "       [ 9.08449525e-01, -6.34450948e-01,  1.36734205e+00,\n",
       "        -2.27204294e-01, -6.96683402e-01,  7.27694094e-01,\n",
       "        -4.64128911e-01],\n",
       "       [ 6.62417092e-01,  1.22877395e+00,  5.26209422e-01,\n",
       "         6.63809185e-01, -1.03887483e+00, -4.72306445e-01,\n",
       "        -5.09169329e-01],\n",
       "       [ 2.84024585e-01,  2.75423983e-01, -1.90729257e+00,\n",
       "         3.91899090e-01,  1.75194942e-01, -1.15799709e+00,\n",
       "        -1.27181751e+00],\n",
       "       [-1.32977667e+00, -3.90884707e-01, -1.98402733e+00,\n",
       "        -2.15967328e-01, -2.91681763e-01, -2.08055582e-02,\n",
       "         7.30369730e-01],\n",
       "       [ 3.24120145e-02,  3.42870754e-02,  1.07239422e-01,\n",
       "        -2.27939310e-01,  3.70342356e-01, -1.08895154e+00,\n",
       "        -4.81932595e-01],\n",
       "       [-9.16055258e-01, -1.44846318e-01, -1.16285523e+00,\n",
       "        -1.93581259e+00,  4.07259264e-01, -2.46249965e-01,\n",
       "         1.47220444e-01],\n",
       "       [ 3.92116519e-01,  9.55415886e-01,  3.03061663e-01,\n",
       "        -4.07110209e-01,  7.96588421e-01, -1.08976203e+00,\n",
       "        -2.10863388e-03],\n",
       "       [-1.57195819e+00, -1.35423688e+00, -8.41925744e-01,\n",
       "        -1.49528034e+00, -3.87114473e-01, -3.48385618e-02,\n",
       "        -5.37038765e-01],\n",
       "       [-7.54815599e-01, -1.15515946e+00, -5.36765122e-01,\n",
       "         1.17456991e+00,  1.14376685e+00,  1.48862083e+00,\n",
       "        -7.51525194e-01],\n",
       "       [-1.82578372e+00, -1.04877202e+00, -1.36721863e+00,\n",
       "         2.60539559e-01,  5.01980718e-01, -2.15314014e-01,\n",
       "        -4.84198094e-01],\n",
       "       [ 1.27279224e+00,  1.49499552e+00,  1.25515834e+00,\n",
       "         1.48232355e+00,  1.55134373e+00,  1.69333707e+00,\n",
       "         6.17142551e-01],\n",
       "       [ 6.08569306e-01,  3.73869019e-01,  9.71447376e-01,\n",
       "         8.51263750e-03,  2.19363929e-01,  9.23627358e-01,\n",
       "         1.05317831e+00],\n",
       "       [-2.39577192e-01,  7.86391687e-01,  6.02835465e-04,\n",
       "        -1.17760888e+00, -1.28378760e+00, -6.24608183e-01,\n",
       "        -1.06604240e+00],\n",
       "       [ 4.53624128e-01,  1.04381755e+00,  5.70168286e-01,\n",
       "         6.72465429e-02, -3.34736756e-01, -1.04310004e+00,\n",
       "         1.36648269e+00],\n",
       "       [-1.20374738e+00, -7.71101069e-01, -4.37525588e-01,\n",
       "         2.26278838e-01,  4.47776186e-01,  1.11262756e-01,\n",
       "        -3.45699990e-02],\n",
       "       [ 1.86572555e-01,  9.20070749e-01, -5.76874105e-01,\n",
       "         2.54625061e-01,  1.46855265e+00, -4.50180564e-01,\n",
       "        -5.01195792e-01],\n",
       "       [ 5.37104095e-01, -9.73145060e-01,  5.74588352e-01,\n",
       "        -1.13518864e+00, -1.39387053e+00, -1.78659678e+00,\n",
       "         1.20616743e+00],\n",
       "       [ 1.01939521e+00, -3.82632681e-01,  1.63796132e+00,\n",
       "        -7.05316830e-01, -4.26717971e-01, -2.94784352e-01,\n",
       "         1.68803710e-01],\n",
       "       [-1.94376359e+00, -2.00611726e-01, -1.81783288e+00,\n",
       "        -1.31527130e+00, -4.61663994e-01,  2.70493201e-01,\n",
       "         1.42752076e+00],\n",
       "       [-1.45289957e-01, -1.22837414e-01,  1.63797679e-01,\n",
       "         7.10091804e-01, -2.36831518e-01,  1.40767772e+00,\n",
       "        -2.72606274e+00],\n",
       "       [ 1.28984959e+00,  1.28686016e+00,  1.28770791e+00,\n",
       "         1.71211722e+00,  1.86493165e+00,  1.12030333e+00,\n",
       "         4.61067005e-01],\n",
       "       [-1.53190670e-01, -5.35725938e-01,  5.89498031e-01,\n",
       "        -1.97352922e+00, -1.89367832e+00,  2.68312414e-01,\n",
       "        -1.31059883e-01],\n",
       "       [ 1.03645643e+00,  1.47643822e+00,  1.27215431e+00,\n",
       "         1.53668730e+00,  1.84421903e+00,  1.78421967e+00,\n",
       "         2.54500028e-01],\n",
       "       [ 1.30725262e+00,  1.33561357e+00,  1.16177339e+00,\n",
       "         1.40957788e+00,  7.64203860e-01,  9.04355125e-01,\n",
       "         7.75283194e-01],\n",
       "       [ 4.72897992e-01, -5.88901681e-01, -9.56572045e-01,\n",
       "        -7.84053918e-01,  1.21228509e-02, -1.60581126e+00,\n",
       "        -2.13010025e+00],\n",
       "       [ 6.26001623e-01,  2.31427993e-01,  2.44262009e-01,\n",
       "        -9.17675327e-01, -6.65921105e-01, -3.26906550e-01,\n",
       "        -9.70442842e-01],\n",
       "       [ 1.69907052e+00,  1.54796797e+00,  1.13015834e+00,\n",
       "         1.79866759e+00,  1.67208267e+00,  1.01571563e+00,\n",
       "         6.43427752e-01],\n",
       "       [ 2.09871133e-01,  1.14249156e+00,  3.15321249e-01,\n",
       "         8.60540805e-01, -1.23807087e+00,  2.27360466e+00,\n",
       "         3.61040037e-01],\n",
       "       [ 4.27154440e-01,  1.08895717e+00,  2.25118353e-01,\n",
       "        -7.59073653e-02,  9.41845831e-03, -1.73384662e+00,\n",
       "         2.06630866e+00],\n",
       "       [ 1.16013759e+00,  1.46755976e+00,  1.15380628e+00,\n",
       "         1.55636101e+00,  1.80732609e+00,  1.44072498e-01,\n",
       "         9.43366374e-01],\n",
       "       [ 1.19771755e+00,  2.02101055e+00,  1.52291872e+00,\n",
       "         1.44688503e+00,  3.55230248e-01,  1.57166845e+00,\n",
       "         1.10426166e+00]])"
      ]
     },
     "execution_count": 56,
     "metadata": {},
     "output_type": "execute_result"
    }
   ],
   "source": [
    "x_train"
   ]
  },
  {
   "cell_type": "code",
   "execution_count": 57,
   "metadata": {},
   "outputs": [
    {
     "data": {
      "text/plain": [
       "array([[ 0.08265696, -0.16405951,  0.36565592, -1.44750368, -1.35466992,\n",
       "        -0.23013425, -0.20510047],\n",
       "       [-0.53657293, -0.29734529, -0.57555032,  0.99895844, -0.28970509,\n",
       "        -0.1077826 ,  1.34166614],\n",
       "       [-0.7458065 , -0.13941212, -0.25013483, -0.72917518, -1.57040541,\n",
       "        -0.06963505,  1.89991624],\n",
       "       [-0.03020044, -0.94657978,  0.71258415, -0.54816875, -0.65263624,\n",
       "        -0.73064617, -0.4457859 ],\n",
       "       [-0.46053033,  0.1224688 , -1.85879794, -0.85932241, -1.26367906,\n",
       "        -0.3236929 ,  0.68505942],\n",
       "       [-1.13500678, -0.65494584, -1.52774615,  0.37823144, -0.75725327,\n",
       "        -0.10021631, -0.34706897],\n",
       "       [ 0.6979919 ,  0.974187  , -0.02101447, -0.48809021, -1.27483458,\n",
       "        -2.53835806,  0.27318916],\n",
       "       [-0.31324827,  0.27204122, -0.436381  ,  0.67022864,  0.4836338 ,\n",
       "         1.81040336, -0.9406598 ],\n",
       "       [ 0.48233755,  0.76284339,  0.62099302,  0.74738685, -0.22431735,\n",
       "         0.23680348,  1.39095461],\n",
       "       [ 1.48968046,  1.03731034,  0.99037076,  0.77788353,  0.52541618,\n",
       "         1.36388967,  0.73040859],\n",
       "       [-1.35114937, -2.09149028, -1.35026722, -1.27152318, -0.16357633,\n",
       "         1.13659521, -0.34441601],\n",
       "       [ 0.83876076,  1.19496529,  1.05901418,  1.27828358, -1.11988084,\n",
       "         0.31169135, -0.98235846],\n",
       "       [-0.47729819, -0.05110677, -0.40733317,  1.41897355,  0.15300646,\n",
       "         0.28363522, -0.72195146],\n",
       "       [-1.06609378, -0.72296396, -1.1929162 , -1.22682601,  0.66469058,\n",
       "         0.01625609, -0.02739204],\n",
       "       [ 0.02758317, -0.31328131,  0.27327761, -0.17188684, -0.72293022,\n",
       "        -0.65532077,  0.89456295],\n",
       "       [ 0.2306077 , -0.58780081,  0.24845117, -1.5425277 ,  0.37064734,\n",
       "        -0.53518171, -0.06108623],\n",
       "       [ 0.72631932,  1.09770403,  0.27885475, -1.38266522, -1.70282517,\n",
       "        -2.17516513,  0.6069223 ],\n",
       "       [ 0.24967796,  0.95530165,  0.11027121,  0.35917108,  0.66976677,\n",
       "        -0.69844901,  2.20234105],\n",
       "       [-0.02362036, -1.51763252,  0.31243032, -1.11354462, -0.66164949,\n",
       "        -1.65645271, -0.01408938],\n",
       "       [-1.91703011, -1.91951441, -1.54783779, -0.06589728, -0.56197486,\n",
       "         0.90716518,  1.31143112],\n",
       "       [-1.63641434, -1.82130283, -1.51304139, -0.42089293,  0.1369173 ,\n",
       "         0.57802526, -0.26874339],\n",
       "       [-0.02182709, -1.12811218, -0.25508102, -1.59160485, -0.66723685,\n",
       "        -1.06147846, -1.01356639],\n",
       "       [-0.54313055, -1.36795009, -1.33072279, -0.17390977,  0.08393041,\n",
       "        -0.93691668, -0.85868616],\n",
       "       [-0.74382324, -0.39992434,  0.1010391 , -0.26211713, -0.58609529,\n",
       "         0.11589202, -0.55019793],\n",
       "       [ 1.49611066,  1.66761863,  1.48143363,  1.76230969,  1.82206989,\n",
       "         0.65595135,  0.74453432],\n",
       "       [-0.23333918, -0.92123997, -0.19292853, -1.1983355 , -0.94107024,\n",
       "         0.55115108,  1.2289612 ],\n",
       "       [ 0.66039139,  0.11018011,  0.24211927,  0.65632684, -0.06165536,\n",
       "         0.90344135, -0.47155577],\n",
       "       [-0.65606476, -0.56228487,  0.35744596,  1.16259197, -0.06930598,\n",
       "        -0.46213439,  0.13405479],\n",
       "       [-0.60247245, -0.59254285, -1.69461047, -0.63581307, -1.07329481,\n",
       "         0.46645005,  1.47869265],\n",
       "       [ 0.36936589, -0.46222317, -0.1523412 , -0.46563129,  0.54155678,\n",
       "        -1.48148044, -0.25152027],\n",
       "       [ 0.90624349,  1.36636069,  1.14227223,  1.2379249 ,  0.2969583 ,\n",
       "         2.0005891 , -0.9201651 ]])"
      ]
     },
     "execution_count": 57,
     "metadata": {},
     "output_type": "execute_result"
    }
   ],
   "source": [
    "x_test"
   ]
  },
  {
   "cell_type": "code",
   "execution_count": 58,
   "metadata": {},
   "outputs": [
    {
     "data": {
      "text/plain": [
       "67    5.605\n",
       "9     7.284\n",
       "37    6.298\n",
       "21    6.853\n",
       "99    4.874\n",
       "      ...  \n",
       "3     7.522\n",
       "33    6.455\n",
       "22    6.810\n",
       "5     7.406\n",
       "1     7.561\n",
       "Name: Happiness Score, Length: 121, dtype: float64"
      ]
     },
     "execution_count": 58,
     "metadata": {},
     "output_type": "execute_result"
    }
   ],
   "source": [
    "y_train"
   ]
  },
  {
   "cell_type": "code",
   "execution_count": 59,
   "metadata": {},
   "outputs": [
    {
     "data": {
      "text/plain": [
       "86     5.123\n",
       "50     5.890\n",
       "51     5.889\n",
       "94     4.959\n",
       "100    4.867\n",
       "132    4.252\n",
       "63     5.716\n",
       "78     5.253\n",
       "24     6.786\n",
       "14     7.119\n",
       "152    3.575\n",
       "54     5.848\n",
       "89     5.073\n",
       "123    4.436\n",
       "57     5.824\n",
       "82     5.192\n",
       "55     5.833\n",
       "15     6.983\n",
       "106    4.739\n",
       "130    4.292\n",
       "149    3.656\n",
       "134    4.194\n",
       "138    3.989\n",
       "104    4.788\n",
       "0      7.587\n",
       "68     5.589\n",
       "60     5.770\n",
       "74     5.360\n",
       "77     5.268\n",
       "79     5.212\n",
       "36     6.302\n",
       "Name: Happiness Score, dtype: float64"
      ]
     },
     "execution_count": 59,
     "metadata": {},
     "output_type": "execute_result"
    }
   ],
   "source": [
    "y_test"
   ]
  },
  {
   "cell_type": "markdown",
   "metadata": {},
   "source": [
    "# Finding best method"
   ]
  },
  {
   "cell_type": "markdown",
   "metadata": {},
   "source": [
    "1) Linear Regression"
   ]
  },
  {
   "cell_type": "code",
   "execution_count": 60,
   "metadata": {},
   "outputs": [
    {
     "name": "stdout",
     "output_type": "stream",
     "text": [
      "Accuracy=99.0722519066642,\n",
      "cross_value_score=99.30570301631876 and \n",
      "difference=-0.23345110965455262\n"
     ]
    }
   ],
   "source": [
    "from sklearn.linear_model import LinearRegression\n",
    "lr=LinearRegression()\n",
    "lr.fit(x_train,y_train)\n",
    "y_pred=lr.predict(x_test)\n",
    "r2score=r2_score(y_test,y_pred)\n",
    "cvscore=cross_val_score(LinearRegression(),x_train,y_train,cv=5).mean()\n",
    "print( f\"Accuracy={r2score*100},\\ncross_value_score={cvscore*100} and \\ndifference={(r2score*100)-(cvscore*100)}\")\n"
   ]
  },
  {
   "cell_type": "markdown",
   "metadata": {},
   "source": [
    "2)Lasso Regression"
   ]
  },
  {
   "cell_type": "code",
   "execution_count": 61,
   "metadata": {},
   "outputs": [
    {
     "name": "stdout",
     "output_type": "stream",
     "text": [
      "{'alpha': 0.0001, 'random_state': 0}\n"
     ]
    }
   ],
   "source": [
    "#finding best parameters\n",
    "from sklearn.model_selection import GridSearchCV\n",
    "from sklearn.linear_model import Lasso\n",
    "parameters={\"alpha\":[.0001,.001,.01,.1,1,10],\"random_state\":list(range(0,10))}\n",
    "ls=Lasso()\n",
    "clf=GridSearchCV(ls,parameters)\n",
    "clf.fit(x_train,y_train)\n",
    "print(clf.best_params_)"
   ]
  },
  {
   "cell_type": "code",
   "execution_count": 62,
   "metadata": {},
   "outputs": [
    {
     "name": "stdout",
     "output_type": "stream",
     "text": [
      "At cv: 2\n",
      "r2_score is : 99.07269679001266\n",
      "cross validation score is :  82.78093670176987\n",
      "\n",
      "\n",
      "At cv: 3\n",
      "r2_score is : 99.07269679001266\n",
      "cross validation score is :  89.55567416044565\n",
      "\n",
      "\n",
      "At cv: 4\n",
      "r2_score is : 99.07269679001266\n",
      "cross validation score is :  83.03942164925418\n",
      "\n",
      "\n",
      "At cv: 5\n",
      "r2_score is : 99.07269679001266\n",
      "cross validation score is :  80.48308489265435\n",
      "\n",
      "\n",
      "At cv: 6\n",
      "r2_score is : 99.07269679001266\n",
      "cross validation score is :  73.10295682529218\n",
      "\n",
      "\n",
      "At cv: 7\n",
      "r2_score is : 99.07269679001266\n",
      "cross validation score is :  59.78760157009992\n",
      "\n",
      "\n",
      "At cv: 8\n",
      "r2_score is : 99.07269679001266\n",
      "cross validation score is :  54.12027850131679\n",
      "\n",
      "\n",
      "At cv: 9\n",
      "r2_score is : 99.07269679001266\n",
      "cross validation score is :  50.30594231271505\n",
      "\n",
      "\n"
     ]
    }
   ],
   "source": [
    "ls=Lasso(alpha=0.0001,random_state=0)\n",
    "ls.fit(x_train,y_train)\n",
    "ls.score(x_train,y_train)\n",
    "ls_pred=ls.predict(x_test)\n",
    "lss=r2_score(y_test,ls_pred)\n",
    "for j in range(2,10):\n",
    "    lsscore=cross_val_score(ls,x_t,y,cv=j)\n",
    "    lsc=lsscore.mean()\n",
    "    print(\"At cv:\",j)\n",
    "    print(\"r2_score is :\",lss*100)\n",
    "    print(\"cross validation score is : \",lsc*100)\n",
    "    print(\"\\n\")\n"
   ]
  },
  {
   "cell_type": "markdown",
   "metadata": {},
   "source": [
    "we take cv:3 since cross validatin score is higher"
   ]
  },
  {
   "cell_type": "code",
   "execution_count": 63,
   "metadata": {},
   "outputs": [
    {
     "name": "stdout",
     "output_type": "stream",
     "text": [
      "At cv: 3\n",
      "r2_score is : 99.45599693283408\n",
      "cross validation score is :  63.027492730290334\n"
     ]
    }
   ],
   "source": [
    "print(\"At cv:\",3)\n",
    "print(\"r2_score is :\",99.45599693283408)\n",
    "print(\"cross validation score is : \",63.027492730290334)\n",
    "    "
   ]
  },
  {
   "cell_type": "markdown",
   "metadata": {},
   "source": [
    "3)Random forest regressor"
   ]
  },
  {
   "cell_type": "code",
   "execution_count": 64,
   "metadata": {},
   "outputs": [
    {
     "name": "stdout",
     "output_type": "stream",
     "text": [
      "{'criterion': 'mae', 'n_estimators': 400}\n"
     ]
    }
   ],
   "source": [
    "#finding best parameters\n",
    "from sklearn.model_selection import GridSearchCV\n",
    "from sklearn.ensemble import RandomForestRegressor\n",
    "parameters={\"criterion\":[ \"mse\" ,\"mae\"],\"n_estimators\":[100,200,300,400,500]}\n",
    "rf=RandomForestRegressor()\n",
    "clf=GridSearchCV(rf,parameters)\n",
    "clf.fit(x_train,y_train)\n",
    "print(clf.best_params_)"
   ]
  },
  {
   "cell_type": "code",
   "execution_count": 65,
   "metadata": {},
   "outputs": [
    {
     "name": "stdout",
     "output_type": "stream",
     "text": [
      "At cv: 2\n",
      "r2_score is : 93.3262625186239\n",
      "cross validation score is :  -420.1766689641692\n",
      "\n",
      "\n",
      "At cv: 3\n",
      "r2_score is : 93.3262625186239\n",
      "cross validation score is :  -247.10383883452215\n",
      "\n",
      "\n",
      "At cv: 4\n",
      "r2_score is : 93.3262625186239\n",
      "cross validation score is :  -366.3726721700287\n",
      "\n",
      "\n",
      "At cv: 5\n",
      "r2_score is : 93.3262625186239\n",
      "cross validation score is :  -329.4144877157918\n",
      "\n",
      "\n",
      "At cv: 6\n",
      "r2_score is : 93.3262625186239\n",
      "cross validation score is :  -438.07520783475013\n",
      "\n",
      "\n",
      "At cv: 7\n",
      "r2_score is : 93.3262625186239\n",
      "cross validation score is :  -471.3303746527168\n",
      "\n",
      "\n",
      "At cv: 8\n",
      "r2_score is : 93.3262625186239\n",
      "cross validation score is :  -700.0793945240285\n",
      "\n",
      "\n",
      "At cv: 9\n",
      "r2_score is : 93.3262625186239\n",
      "cross validation score is :  -599.1856560987369\n",
      "\n",
      "\n"
     ]
    }
   ],
   "source": [
    "rf=RandomForestRegressor(criterion=\"mse\",n_estimators=300)\n",
    "rf.fit(x_train,y_train)\n",
    "rf.score(x_train,y_train)\n",
    "rf_pred=rf.predict(x_test)\n",
    "rfs=r2_score(y_test,rf_pred)\n",
    "for j in range(2,10):\n",
    "    rfscore=cross_val_score(rf,x_t,y,cv=j)\n",
    "    rfcv=rfscore.mean()\n",
    "    print(\"At cv:\",j)\n",
    "    print(\"r2_score is :\",rfs*100)\n",
    "    print(\"cross validation score is : \",rfcv*100)\n",
    "    print(\"\\n\")\n"
   ]
  },
  {
   "cell_type": "markdown",
   "metadata": {},
   "source": [
    "here we find in the random forest regressr the cross validation score is negatively valued when compared with r2_score(accuracy)."
   ]
  },
  {
   "cell_type": "markdown",
   "metadata": {},
   "source": [
    "# selecting best algorithm"
   ]
  },
  {
   "cell_type": "markdown",
   "metadata": {},
   "source": [
    "from above three algorithms\n",
    "\n",
    "1)Linear regression\n",
    "\n",
    "2)Lasso \n",
    "\n",
    "3)random forest regressor\n",
    "\n",
    "we found that the linear regression model has the almost same value between the accuracy and the cross validation value.\n",
    "\n",
    "i.e the difference is very low between the twowhich shows we are heading with good approach\n",
    "\n",
    "so we conclude that the Linear Regression is the best model to predict the best result"
   ]
  },
  {
   "cell_type": "markdown",
   "metadata": {},
   "source": [
    "# MODEL SAVING"
   ]
  },
  {
   "cell_type": "code",
   "execution_count": 66,
   "metadata": {},
   "outputs": [],
   "source": [
    "import pickle\n",
    "filename=\"World_Happiness_Report.pkl\"\n",
    "pickle.dump(lr,open(filename,\"wb\"))"
   ]
  },
  {
   "cell_type": "markdown",
   "metadata": {},
   "source": [
    "# Predicting happiness score with sample data"
   ]
  },
  {
   "cell_type": "code",
   "execution_count": 67,
   "metadata": {},
   "outputs": [
    {
     "data": {
      "text/plain": [
       "(7,)"
      ]
     },
     "execution_count": 67,
     "metadata": {},
     "output_type": "execute_result"
    }
   ],
   "source": [
    "td=np.array([1.45900,1.33095,0.90503,0.11850,0.4,0.19,1.8330])\n",
    "td.shape"
   ]
  },
  {
   "cell_type": "code",
   "execution_count": 68,
   "metadata": {},
   "outputs": [
    {
     "data": {
      "text/plain": [
       "array([[1.459  , 1.33095, 0.90503, 0.1185 , 0.4    , 0.19   , 1.833  ]])"
      ]
     },
     "execution_count": 68,
     "metadata": {},
     "output_type": "execute_result"
    }
   ],
   "source": [
    "td=td.reshape(1,-1)\n",
    "td"
   ]
  },
  {
   "cell_type": "code",
   "execution_count": 69,
   "metadata": {},
   "outputs": [
    {
     "data": {
      "text/plain": [
       "(1, 7)"
      ]
     },
     "execution_count": 69,
     "metadata": {},
     "output_type": "execute_result"
    }
   ],
   "source": [
    "td.shape"
   ]
  },
  {
   "cell_type": "code",
   "execution_count": 70,
   "metadata": {},
   "outputs": [
    {
     "data": {
      "text/plain": [
       "array([7.5531664])"
      ]
     },
     "execution_count": 70,
     "metadata": {},
     "output_type": "execute_result"
    }
   ],
   "source": [
    "lr.predict(td)"
   ]
  },
  {
   "cell_type": "markdown",
   "metadata": {},
   "source": [
    "from the sample data we predicted that the happiness score is around accuracy"
   ]
  },
  {
   "cell_type": "markdown",
   "metadata": {},
   "source": [
    "# CONCLUSION"
   ]
  },
  {
   "cell_type": "code",
   "execution_count": 71,
   "metadata": {},
   "outputs": [],
   "source": [
    "a=np.array(y_test)\n",
    "predicted=np.array(lr.predict(x_test))\n",
    "comparision=pd.DataFrame({\"original\":a,\"prdedicted\":predicted},index=range(len(a)))"
   ]
  },
  {
   "cell_type": "code",
   "execution_count": 72,
   "metadata": {},
   "outputs": [
    {
     "data": {
      "text/html": [
       "<div>\n",
       "<style scoped>\n",
       "    .dataframe tbody tr th:only-of-type {\n",
       "        vertical-align: middle;\n",
       "    }\n",
       "\n",
       "    .dataframe tbody tr th {\n",
       "        vertical-align: top;\n",
       "    }\n",
       "\n",
       "    .dataframe thead th {\n",
       "        text-align: right;\n",
       "    }\n",
       "</style>\n",
       "<table border=\"1\" class=\"dataframe\">\n",
       "  <thead>\n",
       "    <tr style=\"text-align: right;\">\n",
       "      <th></th>\n",
       "      <th>original</th>\n",
       "      <th>prdedicted</th>\n",
       "    </tr>\n",
       "  </thead>\n",
       "  <tbody>\n",
       "    <tr>\n",
       "      <th>0</th>\n",
       "      <td>5.123</td>\n",
       "      <td>5.055386</td>\n",
       "    </tr>\n",
       "    <tr>\n",
       "      <th>1</th>\n",
       "      <td>5.890</td>\n",
       "      <td>5.812257</td>\n",
       "    </tr>\n",
       "    <tr>\n",
       "      <th>2</th>\n",
       "      <td>5.889</td>\n",
       "      <td>5.770908</td>\n",
       "    </tr>\n",
       "    <tr>\n",
       "      <th>3</th>\n",
       "      <td>4.959</td>\n",
       "      <td>4.925788</td>\n",
       "    </tr>\n",
       "    <tr>\n",
       "      <th>4</th>\n",
       "      <td>4.867</td>\n",
       "      <td>4.900848</td>\n",
       "    </tr>\n",
       "    <tr>\n",
       "      <th>5</th>\n",
       "      <td>4.252</td>\n",
       "      <td>4.260190</td>\n",
       "    </tr>\n",
       "    <tr>\n",
       "      <th>6</th>\n",
       "      <td>5.716</td>\n",
       "      <td>5.632147</td>\n",
       "    </tr>\n",
       "    <tr>\n",
       "      <th>7</th>\n",
       "      <td>5.253</td>\n",
       "      <td>5.117062</td>\n",
       "    </tr>\n",
       "    <tr>\n",
       "      <th>8</th>\n",
       "      <td>6.786</td>\n",
       "      <td>6.794180</td>\n",
       "    </tr>\n",
       "    <tr>\n",
       "      <th>9</th>\n",
       "      <td>7.119</td>\n",
       "      <td>7.191463</td>\n",
       "    </tr>\n",
       "  </tbody>\n",
       "</table>\n",
       "</div>"
      ],
      "text/plain": [
       "   original  prdedicted\n",
       "0     5.123    5.055386\n",
       "1     5.890    5.812257\n",
       "2     5.889    5.770908\n",
       "3     4.959    4.925788\n",
       "4     4.867    4.900848\n",
       "5     4.252    4.260190\n",
       "6     5.716    5.632147\n",
       "7     5.253    5.117062\n",
       "8     6.786    6.794180\n",
       "9     7.119    7.191463"
      ]
     },
     "execution_count": 72,
     "metadata": {},
     "output_type": "execute_result"
    }
   ],
   "source": [
    "comparision.head(10)"
   ]
  },
  {
   "cell_type": "code",
   "execution_count": null,
   "metadata": {},
   "outputs": [],
   "source": []
  },
  {
   "cell_type": "code",
   "execution_count": null,
   "metadata": {},
   "outputs": [],
   "source": []
  },
  {
   "cell_type": "code",
   "execution_count": null,
   "metadata": {},
   "outputs": [],
   "source": []
  }
 ],
 "metadata": {
  "kernelspec": {
   "display_name": "Python 3",
   "language": "python",
   "name": "python3"
  },
  "language_info": {
   "codemirror_mode": {
    "name": "ipython",
    "version": 3
   },
   "file_extension": ".py",
   "mimetype": "text/x-python",
   "name": "python",
   "nbconvert_exporter": "python",
   "pygments_lexer": "ipython3",
   "version": "3.8.3"
  }
 },
 "nbformat": 4,
 "nbformat_minor": 4
}
